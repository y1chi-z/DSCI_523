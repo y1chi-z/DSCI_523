{
 "cells": [
  {
   "cell_type": "markdown",
   "metadata": {
    "slideshow": {
     "slide_type": "slide"
    }
   },
   "source": [
    "# Lecture 1 -  Introduction to R via the tidyverse \n",
    "\n",
    "(or Reading data, single data frame manipulations & tidying data in R)"
   ]
  },
  {
   "cell_type": "markdown",
   "metadata": {
    "slideshow": {
     "slide_type": "slide"
    }
   },
   "source": [
    "#### Learning objectives\n",
    "By the end of this lecture and worksheet 1, students should be able to:\n",
    "* Choose and use the appropriate `readr::read_*` function and function arguments to load a given rectangular, plain text data set into R\n",
    "* Use the assignment symbol, `<-`, to assign values to objects in R\n",
    "* Write a dataframe to a .csv file using `readr::write_csv`\n",
    "* Use `readr::read_csv` to bring data from standard comma separated value (`.csv`) files into R\n",
    "* Recall and use the following `dplyr` functions and operators for their intended data wrangling tasks:\n",
    "    - `select`\n",
    "    - `filter`\n",
    "    - `mutate`\n",
    "    - `arrange`\n",
    "    - `desc`\n",
    "    - `slice`\n",
    "    - `pull`\n",
    "    - `%in%`\n",
    "* Use the pipe operator, `|>`, to combine two or more functions\n",
    "* Define the term \"tidy data\"\n",
    "* Discuss the advantages and disadvantages of the tidy data format\n",
    "* Use `tidyr::pivot_wider` & `tidyr::pivot_longer` in R to make untidy data tidy"
   ]
  },
  {
   "cell_type": "markdown",
   "metadata": {
    "slideshow": {
     "slide_type": "slide"
    }
   },
   "source": [
    "### First, a bit of history about R"
   ]
  },
  {
   "cell_type": "markdown",
   "metadata": {
    "slideshow": {
     "slide_type": "fragment"
    }
   },
   "source": [
    "- An implementation of the S programming language (created at Bell labs in 1976)"
   ]
  },
  {
   "cell_type": "markdown",
   "metadata": {
    "slideshow": {
     "slide_type": "fragment"
    }
   },
   "source": [
    "- written in C, Fortran, and R itself"
   ]
  },
  {
   "cell_type": "markdown",
   "metadata": {
    "slideshow": {
     "slide_type": "fragment"
    }
   },
   "source": [
    "- R was created by Ross Ihaka and Robert Gentleman (Statisticians from NZ)"
   ]
  },
  {
   "cell_type": "markdown",
   "metadata": {
    "slideshow": {
     "slide_type": "fragment"
    }
   },
   "source": [
    "- R is named partly after the authors and partly as a play on the name of S"
   ]
  },
  {
   "cell_type": "markdown",
   "metadata": {
    "slideshow": {
     "slide_type": "slide"
    }
   },
   "source": [
    "- First stable beta version in 2000"
   ]
  },
  {
   "cell_type": "markdown",
   "metadata": {
    "slideshow": {
     "slide_type": "fragment"
    }
   },
   "source": [
    "<img src=\"http://revolution-computing.typepad.com/.a/6a010534b1db25970b01b8d2594d25970c-pi\" width=\"600\">\n",
    "\n",
    "*Source: https://blog.revolutionanalytics.com/2016/03/16-years-of-r-history.html*"
   ]
  },
  {
   "cell_type": "markdown",
   "metadata": {
    "slideshow": {
     "slide_type": "fragment"
    }
   },
   "source": [
    "R currently has more than 15,000 additional packages (as of September 2018)!"
   ]
  },
  {
   "cell_type": "markdown",
   "metadata": {
    "slideshow": {
     "slide_type": "slide"
    }
   },
   "source": [
    "## Loading/importing data\n",
    "\n",
    "Taking our first step in data analysis:\n",
    "\n",
    "![](https://d33wubrfki0l68.cloudfront.net/795c039ba2520455d833b4034befc8cf360a70ba/558a5/diagrams/data-science-explore.png)\n",
    "\n",
    "*Source: Grolemund & Wickham, [R for Data Science](https://r4ds.had.co.nz/)*"
   ]
  },
  {
   "cell_type": "markdown",
   "metadata": {
    "slideshow": {
     "slide_type": "slide"
    }
   },
   "source": [
    "#### The four most common ways to do this in Data Science\n",
    "\n",
    "1. **read in a text file with data in a spreadsheet format**\n",
    "2. read from a database (e.g., SQLite, PostgreSQL)\n",
    "3. scrape data from the web \n",
    "4. use a web API to read data from a website "
   ]
  },
  {
   "cell_type": "markdown",
   "metadata": {
    "slideshow": {
     "slide_type": "slide"
    }
   },
   "source": [
    "#### Reading spreadsheet-like data into R\n",
    "\n",
    "- We recommend using the `readr` package (part of the tidyverse) functions for plain text files\n",
    "\n",
    "- We recommed using the `readxl` package (part of the tidyverse but needs to be explicitly loaded in addition to tidyverse) for Microsoft Excel files."
   ]
  },
  {
   "cell_type": "markdown",
   "metadata": {
    "slideshow": {
     "slide_type": "slide"
    }
   },
   "source": [
    "#### Workflow for reading in spreadsheet-like data\n",
    "\n",
    "**Step 1: LOOK AT THE FILE!** 👀\n",
    "\n",
    "**Step 2:** Match what you see with an appropriate {readr} or {readxl} package function\n",
    "\n",
    "**Step 3:** Choose the correct arguments for that file and that function\n",
    "\n",
    "**Step 1: LOOK AT THE RESULT TO MAKE SURE IT WORKED!** 👀 "
   ]
  },
  {
   "cell_type": "markdown",
   "metadata": {
    "slideshow": {
     "slide_type": "slide"
    }
   },
   "source": [
    "#### The simplest case: a comma separated value file\n",
    "\n",
    "- The simplest plain text data file you will encounter is a a comma separated value (`.csv`) file. \n",
    "\n",
    "- `read_csv`, from the {readr} package, is the function of choice here.\n",
    "\n",
    "- In its most basic use-case, `read_csv` expects that the data file:\n",
    "    - has column names (or headers),\n",
    "    - uses a comma (,) to separate the columns, and\n",
    "    - does not have row names."
   ]
  },
  {
   "cell_type": "markdown",
   "metadata": {
    "slideshow": {
     "slide_type": "slide"
    }
   },
   "source": [
    "Reading in `data/can_lang.csv` data using `read_csv`:\n",
    "\n",
    "First, load the {readr} or {tidyverse} library:\n",
    "\n",
    "> Note: {readr} is part of the {tidyverse} metapackage, so when you load {tidyverse} you get the {readr} package functions, as well as a bunch of other goodies we'll learn about shortly!"
   ]
  },
  {
   "cell_type": "code",
   "execution_count": 1,
   "metadata": {
    "scrolled": true,
    "slideshow": {
     "slide_type": "slide"
    }
   },
   "outputs": [
    {
     "name": "stderr",
     "output_type": "stream",
     "text": [
      "── \u001b[1mAttaching packages\u001b[22m ───────────────────────────────────────────────────────────────────────────────────────────────────────────────────────────────────────────────────────────── tidyverse 1.3.2 ──\n",
      "\u001b[32m✔\u001b[39m \u001b[34mggplot2\u001b[39m 3.3.6     \u001b[32m✔\u001b[39m \u001b[34mpurrr  \u001b[39m 0.3.4\n",
      "\u001b[32m✔\u001b[39m \u001b[34mtibble \u001b[39m 3.1.8     \u001b[32m✔\u001b[39m \u001b[34mdplyr  \u001b[39m 1.0.9\n",
      "\u001b[32m✔\u001b[39m \u001b[34mtidyr  \u001b[39m 1.2.0     \u001b[32m✔\u001b[39m \u001b[34mstringr\u001b[39m 1.4.1\n",
      "\u001b[32m✔\u001b[39m \u001b[34mreadr  \u001b[39m 2.1.2     \u001b[32m✔\u001b[39m \u001b[34mforcats\u001b[39m 0.5.1\n",
      "── \u001b[1mConflicts\u001b[22m ──────────────────────────────────────────────────────────────────────────────────────────────────────────────────────────────────────────────────────────────── tidyverse_conflicts() ──\n",
      "\u001b[31m✖\u001b[39m \u001b[34mdplyr\u001b[39m::\u001b[32mfilter()\u001b[39m masks \u001b[34mstats\u001b[39m::filter()\n",
      "\u001b[31m✖\u001b[39m \u001b[34mdplyr\u001b[39m::\u001b[32mlag()\u001b[39m    masks \u001b[34mstats\u001b[39m::lag()\n"
     ]
    }
   ],
   "source": [
    "library(tidyverse)"
   ]
  },
  {
   "cell_type": "markdown",
   "metadata": {
    "slideshow": {
     "slide_type": "slide"
    }
   },
   "source": [
    "Next, use the `read_csv` function to read the data into R from the `can_lang.csv` file:"
   ]
  },
  {
   "cell_type": "code",
   "execution_count": 2,
   "metadata": {
    "slideshow": {
     "slide_type": "fragment"
    }
   },
   "outputs": [
    {
     "name": "stderr",
     "output_type": "stream",
     "text": [
      "\u001b[1mRows: \u001b[22m\u001b[34m214\u001b[39m \u001b[1mColumns: \u001b[22m\u001b[34m6\u001b[39m\n",
      "\u001b[36m──\u001b[39m \u001b[1mColumn specification\u001b[22m \u001b[36m──────────────────────────────────────────────────────────────────────────────────────────────────────────────────────────────────────────────────────────────────────────────\u001b[39m\n",
      "\u001b[1mDelimiter:\u001b[22m \",\"\n",
      "\u001b[31mchr\u001b[39m (2): category, language\n",
      "\u001b[32mdbl\u001b[39m (4): mother_tongue, most_at_home, most_at_work, lang_known\n",
      "\n",
      "\u001b[36mℹ\u001b[39m Use `spec()` to retrieve the full column specification for this data.\n",
      "\u001b[36mℹ\u001b[39m Specify the column types or set `show_col_types = FALSE` to quiet this message.\n"
     ]
    },
    {
     "data": {
      "text/html": [
       "<table class=\"dataframe\">\n",
       "<caption>A tibble: 6 × 6</caption>\n",
       "<thead>\n",
       "\t<tr><th scope=col>category</th><th scope=col>language</th><th scope=col>mother_tongue</th><th scope=col>most_at_home</th><th scope=col>most_at_work</th><th scope=col>lang_known</th></tr>\n",
       "\t<tr><th scope=col>&lt;chr&gt;</th><th scope=col>&lt;chr&gt;</th><th scope=col>&lt;dbl&gt;</th><th scope=col>&lt;dbl&gt;</th><th scope=col>&lt;dbl&gt;</th><th scope=col>&lt;dbl&gt;</th></tr>\n",
       "</thead>\n",
       "<tbody>\n",
       "\t<tr><td>Aboriginal languages                   </td><td>Aboriginal languages, n.o.s.  </td><td>  590</td><td>  235</td><td> 30</td><td>  665</td></tr>\n",
       "\t<tr><td>Non-Official &amp; Non-Aboriginal languages</td><td><span style=white-space:pre-wrap>Afrikaans                     </span></td><td>10260</td><td> 4785</td><td> 85</td><td>23415</td></tr>\n",
       "\t<tr><td>Non-Official &amp; Non-Aboriginal languages</td><td>Afro-Asiatic languages, n.i.e.</td><td> 1150</td><td><span style=white-space:pre-wrap>  445</span></td><td> 10</td><td> 2775</td></tr>\n",
       "\t<tr><td>Non-Official &amp; Non-Aboriginal languages</td><td><span style=white-space:pre-wrap>Akan (Twi)                    </span></td><td>13460</td><td> 5985</td><td> 25</td><td>22150</td></tr>\n",
       "\t<tr><td>Non-Official &amp; Non-Aboriginal languages</td><td><span style=white-space:pre-wrap>Albanian                      </span></td><td>26895</td><td>13135</td><td>345</td><td>31930</td></tr>\n",
       "\t<tr><td>Aboriginal languages                   </td><td>Algonquian languages, n.i.e.  </td><td>   45</td><td>   10</td><td>  0</td><td>  120</td></tr>\n",
       "</tbody>\n",
       "</table>\n"
      ],
      "text/latex": [
       "A tibble: 6 × 6\n",
       "\\begin{tabular}{llllll}\n",
       " category & language & mother\\_tongue & most\\_at\\_home & most\\_at\\_work & lang\\_known\\\\\n",
       " <chr> & <chr> & <dbl> & <dbl> & <dbl> & <dbl>\\\\\n",
       "\\hline\n",
       "\t Aboriginal languages                    & Aboriginal languages, n.o.s.   &   590 &   235 &  30 &   665\\\\\n",
       "\t Non-Official \\& Non-Aboriginal languages & Afrikaans                      & 10260 &  4785 &  85 & 23415\\\\\n",
       "\t Non-Official \\& Non-Aboriginal languages & Afro-Asiatic languages, n.i.e. &  1150 &   445 &  10 &  2775\\\\\n",
       "\t Non-Official \\& Non-Aboriginal languages & Akan (Twi)                     & 13460 &  5985 &  25 & 22150\\\\\n",
       "\t Non-Official \\& Non-Aboriginal languages & Albanian                       & 26895 & 13135 & 345 & 31930\\\\\n",
       "\t Aboriginal languages                    & Algonquian languages, n.i.e.   &    45 &    10 &   0 &   120\\\\\n",
       "\\end{tabular}\n"
      ],
      "text/markdown": [
       "\n",
       "A tibble: 6 × 6\n",
       "\n",
       "| category &lt;chr&gt; | language &lt;chr&gt; | mother_tongue &lt;dbl&gt; | most_at_home &lt;dbl&gt; | most_at_work &lt;dbl&gt; | lang_known &lt;dbl&gt; |\n",
       "|---|---|---|---|---|---|\n",
       "| Aboriginal languages                    | Aboriginal languages, n.o.s.   |   590 |   235 |  30 |   665 |\n",
       "| Non-Official &amp; Non-Aboriginal languages | Afrikaans                      | 10260 |  4785 |  85 | 23415 |\n",
       "| Non-Official &amp; Non-Aboriginal languages | Afro-Asiatic languages, n.i.e. |  1150 |   445 |  10 |  2775 |\n",
       "| Non-Official &amp; Non-Aboriginal languages | Akan (Twi)                     | 13460 |  5985 |  25 | 22150 |\n",
       "| Non-Official &amp; Non-Aboriginal languages | Albanian                       | 26895 | 13135 | 345 | 31930 |\n",
       "| Aboriginal languages                    | Algonquian languages, n.i.e.   |    45 |    10 |   0 |   120 |\n",
       "\n"
      ],
      "text/plain": [
       "  category                                language                      \n",
       "1 Aboriginal languages                    Aboriginal languages, n.o.s.  \n",
       "2 Non-Official & Non-Aboriginal languages Afrikaans                     \n",
       "3 Non-Official & Non-Aboriginal languages Afro-Asiatic languages, n.i.e.\n",
       "4 Non-Official & Non-Aboriginal languages Akan (Twi)                    \n",
       "5 Non-Official & Non-Aboriginal languages Albanian                      \n",
       "6 Aboriginal languages                    Algonquian languages, n.i.e.  \n",
       "  mother_tongue most_at_home most_at_work lang_known\n",
       "1   590           235         30            665     \n",
       "2 10260          4785         85          23415     \n",
       "3  1150           445         10           2775     \n",
       "4 13460          5985         25          22150     \n",
       "5 26895         13135        345          31930     \n",
       "6    45            10          0            120     "
      ]
     },
     "metadata": {},
     "output_type": "display_data"
    }
   ],
   "source": [
    "can_lang1 <- read_csv(\"data/can_lang.csv\")\n",
    "head(can_lang1)"
   ]
  },
  {
   "cell_type": "markdown",
   "metadata": {
    "slideshow": {
     "slide_type": "slide"
    }
   },
   "source": [
    "#### Skipping rows when reading in data\n",
    "\n",
    "- Often times information about how data was collected, or other relevant information, is included at the top of the data file. \n",
    "\n",
    "- Referred to as \"metadata\"\n",
    "\n",
    "Reading in `data/can_lang-meta-data.csv`"
   ]
  },
  {
   "cell_type": "code",
   "execution_count": 3,
   "metadata": {
    "slideshow": {
     "slide_type": "fragment"
    }
   },
   "outputs": [
    {
     "name": "stderr",
     "output_type": "stream",
     "text": [
      "\u001b[1mRows: \u001b[22m\u001b[34m214\u001b[39m \u001b[1mColumns: \u001b[22m\u001b[34m6\u001b[39m\n",
      "\u001b[36m──\u001b[39m \u001b[1mColumn specification\u001b[22m \u001b[36m──────────────────────────────────────────────────────────────────────────────────────────────────────────────────────────────────────────────────────────────────────────────\u001b[39m\n",
      "\u001b[1mDelimiter:\u001b[22m \",\"\n",
      "\u001b[31mchr\u001b[39m (2): category, language\n",
      "\u001b[32mdbl\u001b[39m (4): mother_tongue, most_at_home, most_at_work, lang_known\n",
      "\n",
      "\u001b[36mℹ\u001b[39m Use `spec()` to retrieve the full column specification for this data.\n",
      "\u001b[36mℹ\u001b[39m Specify the column types or set `show_col_types = FALSE` to quiet this message.\n"
     ]
    },
    {
     "data": {
      "text/html": [
       "<table class=\"dataframe\">\n",
       "<caption>A tibble: 6 × 6</caption>\n",
       "<thead>\n",
       "\t<tr><th scope=col>category</th><th scope=col>language</th><th scope=col>mother_tongue</th><th scope=col>most_at_home</th><th scope=col>most_at_work</th><th scope=col>lang_known</th></tr>\n",
       "\t<tr><th scope=col>&lt;chr&gt;</th><th scope=col>&lt;chr&gt;</th><th scope=col>&lt;dbl&gt;</th><th scope=col>&lt;dbl&gt;</th><th scope=col>&lt;dbl&gt;</th><th scope=col>&lt;dbl&gt;</th></tr>\n",
       "</thead>\n",
       "<tbody>\n",
       "\t<tr><td>Aboriginal languages                   </td><td>Aboriginal languages, n.o.s.  </td><td>  590</td><td>  235</td><td> 30</td><td>  665</td></tr>\n",
       "\t<tr><td>Non-Official &amp; Non-Aboriginal languages</td><td><span style=white-space:pre-wrap>Afrikaans                     </span></td><td>10260</td><td> 4785</td><td> 85</td><td>23415</td></tr>\n",
       "\t<tr><td>Non-Official &amp; Non-Aboriginal languages</td><td>Afro-Asiatic languages, n.i.e.</td><td> 1150</td><td><span style=white-space:pre-wrap>  445</span></td><td> 10</td><td> 2775</td></tr>\n",
       "\t<tr><td>Non-Official &amp; Non-Aboriginal languages</td><td><span style=white-space:pre-wrap>Akan (Twi)                    </span></td><td>13460</td><td> 5985</td><td> 25</td><td>22150</td></tr>\n",
       "\t<tr><td>Non-Official &amp; Non-Aboriginal languages</td><td><span style=white-space:pre-wrap>Albanian                      </span></td><td>26895</td><td>13135</td><td>345</td><td>31930</td></tr>\n",
       "\t<tr><td>Aboriginal languages                   </td><td>Algonquian languages, n.i.e.  </td><td>   45</td><td>   10</td><td>  0</td><td>  120</td></tr>\n",
       "</tbody>\n",
       "</table>\n"
      ],
      "text/latex": [
       "A tibble: 6 × 6\n",
       "\\begin{tabular}{llllll}\n",
       " category & language & mother\\_tongue & most\\_at\\_home & most\\_at\\_work & lang\\_known\\\\\n",
       " <chr> & <chr> & <dbl> & <dbl> & <dbl> & <dbl>\\\\\n",
       "\\hline\n",
       "\t Aboriginal languages                    & Aboriginal languages, n.o.s.   &   590 &   235 &  30 &   665\\\\\n",
       "\t Non-Official \\& Non-Aboriginal languages & Afrikaans                      & 10260 &  4785 &  85 & 23415\\\\\n",
       "\t Non-Official \\& Non-Aboriginal languages & Afro-Asiatic languages, n.i.e. &  1150 &   445 &  10 &  2775\\\\\n",
       "\t Non-Official \\& Non-Aboriginal languages & Akan (Twi)                     & 13460 &  5985 &  25 & 22150\\\\\n",
       "\t Non-Official \\& Non-Aboriginal languages & Albanian                       & 26895 & 13135 & 345 & 31930\\\\\n",
       "\t Aboriginal languages                    & Algonquian languages, n.i.e.   &    45 &    10 &   0 &   120\\\\\n",
       "\\end{tabular}\n"
      ],
      "text/markdown": [
       "\n",
       "A tibble: 6 × 6\n",
       "\n",
       "| category &lt;chr&gt; | language &lt;chr&gt; | mother_tongue &lt;dbl&gt; | most_at_home &lt;dbl&gt; | most_at_work &lt;dbl&gt; | lang_known &lt;dbl&gt; |\n",
       "|---|---|---|---|---|---|\n",
       "| Aboriginal languages                    | Aboriginal languages, n.o.s.   |   590 |   235 |  30 |   665 |\n",
       "| Non-Official &amp; Non-Aboriginal languages | Afrikaans                      | 10260 |  4785 |  85 | 23415 |\n",
       "| Non-Official &amp; Non-Aboriginal languages | Afro-Asiatic languages, n.i.e. |  1150 |   445 |  10 |  2775 |\n",
       "| Non-Official &amp; Non-Aboriginal languages | Akan (Twi)                     | 13460 |  5985 |  25 | 22150 |\n",
       "| Non-Official &amp; Non-Aboriginal languages | Albanian                       | 26895 | 13135 | 345 | 31930 |\n",
       "| Aboriginal languages                    | Algonquian languages, n.i.e.   |    45 |    10 |   0 |   120 |\n",
       "\n"
      ],
      "text/plain": [
       "  category                                language                      \n",
       "1 Aboriginal languages                    Aboriginal languages, n.o.s.  \n",
       "2 Non-Official & Non-Aboriginal languages Afrikaans                     \n",
       "3 Non-Official & Non-Aboriginal languages Afro-Asiatic languages, n.i.e.\n",
       "4 Non-Official & Non-Aboriginal languages Akan (Twi)                    \n",
       "5 Non-Official & Non-Aboriginal languages Albanian                      \n",
       "6 Aboriginal languages                    Algonquian languages, n.i.e.  \n",
       "  mother_tongue most_at_home most_at_work lang_known\n",
       "1   590           235         30            665     \n",
       "2 10260          4785         85          23415     \n",
       "3  1150           445         10           2775     \n",
       "4 13460          5985         25          22150     \n",
       "5 26895         13135        345          31930     \n",
       "6    45            10          0            120     "
      ]
     },
     "metadata": {},
     "output_type": "display_data"
    }
   ],
   "source": [
    "can_lang2 <- read_csv(\"data/can_lang-meta-data.csv\", skip = 2)\n",
    "head(can_lang2)"
   ]
  },
  {
   "cell_type": "markdown",
   "metadata": {
    "slideshow": {
     "slide_type": "fragment"
    }
   },
   "source": [
    "If you need to skip rows at the bottom of a file, use the `n_max` argument. "
   ]
  },
  {
   "cell_type": "markdown",
   "metadata": {
    "slideshow": {
     "slide_type": "notes"
    }
   },
   "source": [
    "Note - you will need to know how many lines are in the file to succesfully use this. You can use some shell/command line tools to do this. \n",
    "\n",
    "- `wc -l FILENAME` will tell you how many lines are in the file\n",
    "\n",
    "- `tail -n 10 FILENAME` will print the last 10 lines of the file"
   ]
  },
  {
   "cell_type": "markdown",
   "metadata": {
    "slideshow": {
     "slide_type": "slide"
    }
   },
   "source": [
    "#### `read_delim` as a more flexible method to get data into R\n",
    "\n",
    "- most flexible `readr` function is `read_delim`\n",
    "- doesn't assume any delimiter, you have to specify\n",
    "\n",
    "Reading in `data/can_lang.tsv`"
   ]
  },
  {
   "cell_type": "code",
   "execution_count": 4,
   "metadata": {
    "slideshow": {
     "slide_type": "fragment"
    }
   },
   "outputs": [
    {
     "name": "stderr",
     "output_type": "stream",
     "text": [
      "\u001b[1mRows: \u001b[22m\u001b[34m214\u001b[39m \u001b[1mColumns: \u001b[22m\u001b[34m6\u001b[39m\n",
      "\u001b[36m──\u001b[39m \u001b[1mColumn specification\u001b[22m \u001b[36m──────────────────────────────────────────────────────────────────────────────────────────────────────────────────────────────────────────────────────────────────────────────\u001b[39m\n",
      "\u001b[1mDelimiter:\u001b[22m \"\\t\"\n",
      "\u001b[31mchr\u001b[39m (2): X1, X2\n",
      "\u001b[32mdbl\u001b[39m (4): X3, X4, X5, X6\n",
      "\n",
      "\u001b[36mℹ\u001b[39m Use `spec()` to retrieve the full column specification for this data.\n",
      "\u001b[36mℹ\u001b[39m Specify the column types or set `show_col_types = FALSE` to quiet this message.\n"
     ]
    },
    {
     "data": {
      "text/html": [
       "<table class=\"dataframe\">\n",
       "<caption>A tibble: 6 × 6</caption>\n",
       "<thead>\n",
       "\t<tr><th scope=col>X1</th><th scope=col>X2</th><th scope=col>X3</th><th scope=col>X4</th><th scope=col>X5</th><th scope=col>X6</th></tr>\n",
       "\t<tr><th scope=col>&lt;chr&gt;</th><th scope=col>&lt;chr&gt;</th><th scope=col>&lt;dbl&gt;</th><th scope=col>&lt;dbl&gt;</th><th scope=col>&lt;dbl&gt;</th><th scope=col>&lt;dbl&gt;</th></tr>\n",
       "</thead>\n",
       "<tbody>\n",
       "\t<tr><td>Aboriginal languages                   </td><td>Aboriginal languages, n.o.s.  </td><td>  590</td><td>  235</td><td> 30</td><td>  665</td></tr>\n",
       "\t<tr><td>Non-Official &amp; Non-Aboriginal languages</td><td><span style=white-space:pre-wrap>Afrikaans                     </span></td><td>10260</td><td> 4785</td><td> 85</td><td>23415</td></tr>\n",
       "\t<tr><td>Non-Official &amp; Non-Aboriginal languages</td><td>Afro-Asiatic languages, n.i.e.</td><td> 1150</td><td><span style=white-space:pre-wrap>  445</span></td><td> 10</td><td> 2775</td></tr>\n",
       "\t<tr><td>Non-Official &amp; Non-Aboriginal languages</td><td><span style=white-space:pre-wrap>Akan (Twi)                    </span></td><td>13460</td><td> 5985</td><td> 25</td><td>22150</td></tr>\n",
       "\t<tr><td>Non-Official &amp; Non-Aboriginal languages</td><td><span style=white-space:pre-wrap>Albanian                      </span></td><td>26895</td><td>13135</td><td>345</td><td>31930</td></tr>\n",
       "\t<tr><td>Aboriginal languages                   </td><td>Algonquian languages, n.i.e.  </td><td>   45</td><td>   10</td><td>  0</td><td>  120</td></tr>\n",
       "</tbody>\n",
       "</table>\n"
      ],
      "text/latex": [
       "A tibble: 6 × 6\n",
       "\\begin{tabular}{llllll}\n",
       " X1 & X2 & X3 & X4 & X5 & X6\\\\\n",
       " <chr> & <chr> & <dbl> & <dbl> & <dbl> & <dbl>\\\\\n",
       "\\hline\n",
       "\t Aboriginal languages                    & Aboriginal languages, n.o.s.   &   590 &   235 &  30 &   665\\\\\n",
       "\t Non-Official \\& Non-Aboriginal languages & Afrikaans                      & 10260 &  4785 &  85 & 23415\\\\\n",
       "\t Non-Official \\& Non-Aboriginal languages & Afro-Asiatic languages, n.i.e. &  1150 &   445 &  10 &  2775\\\\\n",
       "\t Non-Official \\& Non-Aboriginal languages & Akan (Twi)                     & 13460 &  5985 &  25 & 22150\\\\\n",
       "\t Non-Official \\& Non-Aboriginal languages & Albanian                       & 26895 & 13135 & 345 & 31930\\\\\n",
       "\t Aboriginal languages                    & Algonquian languages, n.i.e.   &    45 &    10 &   0 &   120\\\\\n",
       "\\end{tabular}\n"
      ],
      "text/markdown": [
       "\n",
       "A tibble: 6 × 6\n",
       "\n",
       "| X1 &lt;chr&gt; | X2 &lt;chr&gt; | X3 &lt;dbl&gt; | X4 &lt;dbl&gt; | X5 &lt;dbl&gt; | X6 &lt;dbl&gt; |\n",
       "|---|---|---|---|---|---|\n",
       "| Aboriginal languages                    | Aboriginal languages, n.o.s.   |   590 |   235 |  30 |   665 |\n",
       "| Non-Official &amp; Non-Aboriginal languages | Afrikaans                      | 10260 |  4785 |  85 | 23415 |\n",
       "| Non-Official &amp; Non-Aboriginal languages | Afro-Asiatic languages, n.i.e. |  1150 |   445 |  10 |  2775 |\n",
       "| Non-Official &amp; Non-Aboriginal languages | Akan (Twi)                     | 13460 |  5985 |  25 | 22150 |\n",
       "| Non-Official &amp; Non-Aboriginal languages | Albanian                       | 26895 | 13135 | 345 | 31930 |\n",
       "| Aboriginal languages                    | Algonquian languages, n.i.e.   |    45 |    10 |   0 |   120 |\n",
       "\n"
      ],
      "text/plain": [
       "  X1                                      X2                             X3   \n",
       "1 Aboriginal languages                    Aboriginal languages, n.o.s.     590\n",
       "2 Non-Official & Non-Aboriginal languages Afrikaans                      10260\n",
       "3 Non-Official & Non-Aboriginal languages Afro-Asiatic languages, n.i.e.  1150\n",
       "4 Non-Official & Non-Aboriginal languages Akan (Twi)                     13460\n",
       "5 Non-Official & Non-Aboriginal languages Albanian                       26895\n",
       "6 Aboriginal languages                    Algonquian languages, n.i.e.      45\n",
       "  X4    X5  X6   \n",
       "1   235  30   665\n",
       "2  4785  85 23415\n",
       "3   445  10  2775\n",
       "4  5985  25 22150\n",
       "5 13135 345 31930\n",
       "6    10   0   120"
      ]
     },
     "metadata": {},
     "output_type": "display_data"
    }
   ],
   "source": [
    "can_lang3 <- read_delim(\"data/can_lang.tsv\",  \n",
    "                     delim = \"\\t\", \n",
    "                     col_names = FALSE)\n",
    "head(can_lang3)"
   ]
  },
  {
   "cell_type": "markdown",
   "metadata": {
    "slideshow": {
     "slide_type": "slide"
    }
   },
   "source": [
    "> Note: you can see that above we also used another argument: `col_names = FALSE`. This is because this version of the data set had no column names, and if we have such a file and don't specify that, then the first observation will be taken (incorrectly) to be the column names. Another useful extension of this arguement is using it to assign column names, see the example below:\n",
    "\n",
    "> ```\n",
    "> can_lang3 <- read_delim(\"data/can_lang.tsv\",  \n",
    ">                      delim = \"\\t\", \n",
    ">                      col_names = c(\"category\", \"language\", \"mother_tongue\", \n",
    ">                                  \"most_at_home\", \"most_at_work\", \"lang_known\"))\n",
    "> ```"
   ]
  },
  {
   "cell_type": "markdown",
   "metadata": {
    "slideshow": {
     "slide_type": "slide"
    }
   },
   "source": [
    "#### Reading tabular data directly from a URL\n",
    "\n",
    "- We can also use `read_csv` or `read_delim` (and related functions) to read in tabular data directly from a url that contains tabular data\n",
    "\n",
    "- In this case, we provide the url to the `read_*` function as the path to the file instead of a path to a local file on our computer\n",
    "\n",
    "Reading in https://github.com/ttimbers/canlang/blob/master/inst/extdata/can_lang.csv"
   ]
  },
  {
   "cell_type": "code",
   "execution_count": 5,
   "metadata": {
    "slideshow": {
     "slide_type": "fragment"
    }
   },
   "outputs": [
    {
     "name": "stderr",
     "output_type": "stream",
     "text": [
      "\u001b[1mRows: \u001b[22m\u001b[34m214\u001b[39m \u001b[1mColumns: \u001b[22m\u001b[34m6\u001b[39m\n",
      "\u001b[36m──\u001b[39m \u001b[1mColumn specification\u001b[22m \u001b[36m──────────────────────────────────────────────────────────────────────────────────────────────────────────────────────────────────────────────────────────────────────────────\u001b[39m\n",
      "\u001b[1mDelimiter:\u001b[22m \",\"\n",
      "\u001b[31mchr\u001b[39m (2): category, language\n",
      "\u001b[32mdbl\u001b[39m (4): mother_tongue, most_at_home, most_at_work, lang_known\n",
      "\n",
      "\u001b[36mℹ\u001b[39m Use `spec()` to retrieve the full column specification for this data.\n",
      "\u001b[36mℹ\u001b[39m Specify the column types or set `show_col_types = FALSE` to quiet this message.\n"
     ]
    },
    {
     "data": {
      "text/html": [
       "<table class=\"dataframe\">\n",
       "<caption>A tibble: 6 × 6</caption>\n",
       "<thead>\n",
       "\t<tr><th scope=col>category</th><th scope=col>language</th><th scope=col>mother_tongue</th><th scope=col>most_at_home</th><th scope=col>most_at_work</th><th scope=col>lang_known</th></tr>\n",
       "\t<tr><th scope=col>&lt;chr&gt;</th><th scope=col>&lt;chr&gt;</th><th scope=col>&lt;dbl&gt;</th><th scope=col>&lt;dbl&gt;</th><th scope=col>&lt;dbl&gt;</th><th scope=col>&lt;dbl&gt;</th></tr>\n",
       "</thead>\n",
       "<tbody>\n",
       "\t<tr><td>Aboriginal languages                   </td><td>Aboriginal languages, n.o.s.  </td><td>  590</td><td>  235</td><td> 30</td><td>  665</td></tr>\n",
       "\t<tr><td>Non-Official &amp; Non-Aboriginal languages</td><td><span style=white-space:pre-wrap>Afrikaans                     </span></td><td>10260</td><td> 4785</td><td> 85</td><td>23415</td></tr>\n",
       "\t<tr><td>Non-Official &amp; Non-Aboriginal languages</td><td>Afro-Asiatic languages, n.i.e.</td><td> 1150</td><td><span style=white-space:pre-wrap>  445</span></td><td> 10</td><td> 2775</td></tr>\n",
       "\t<tr><td>Non-Official &amp; Non-Aboriginal languages</td><td><span style=white-space:pre-wrap>Akan (Twi)                    </span></td><td>13460</td><td> 5985</td><td> 25</td><td>22150</td></tr>\n",
       "\t<tr><td>Non-Official &amp; Non-Aboriginal languages</td><td><span style=white-space:pre-wrap>Albanian                      </span></td><td>26895</td><td>13135</td><td>345</td><td>31930</td></tr>\n",
       "\t<tr><td>Aboriginal languages                   </td><td>Algonquian languages, n.i.e.  </td><td>   45</td><td>   10</td><td>  0</td><td>  120</td></tr>\n",
       "</tbody>\n",
       "</table>\n"
      ],
      "text/latex": [
       "A tibble: 6 × 6\n",
       "\\begin{tabular}{llllll}\n",
       " category & language & mother\\_tongue & most\\_at\\_home & most\\_at\\_work & lang\\_known\\\\\n",
       " <chr> & <chr> & <dbl> & <dbl> & <dbl> & <dbl>\\\\\n",
       "\\hline\n",
       "\t Aboriginal languages                    & Aboriginal languages, n.o.s.   &   590 &   235 &  30 &   665\\\\\n",
       "\t Non-Official \\& Non-Aboriginal languages & Afrikaans                      & 10260 &  4785 &  85 & 23415\\\\\n",
       "\t Non-Official \\& Non-Aboriginal languages & Afro-Asiatic languages, n.i.e. &  1150 &   445 &  10 &  2775\\\\\n",
       "\t Non-Official \\& Non-Aboriginal languages & Akan (Twi)                     & 13460 &  5985 &  25 & 22150\\\\\n",
       "\t Non-Official \\& Non-Aboriginal languages & Albanian                       & 26895 & 13135 & 345 & 31930\\\\\n",
       "\t Aboriginal languages                    & Algonquian languages, n.i.e.   &    45 &    10 &   0 &   120\\\\\n",
       "\\end{tabular}\n"
      ],
      "text/markdown": [
       "\n",
       "A tibble: 6 × 6\n",
       "\n",
       "| category &lt;chr&gt; | language &lt;chr&gt; | mother_tongue &lt;dbl&gt; | most_at_home &lt;dbl&gt; | most_at_work &lt;dbl&gt; | lang_known &lt;dbl&gt; |\n",
       "|---|---|---|---|---|---|\n",
       "| Aboriginal languages                    | Aboriginal languages, n.o.s.   |   590 |   235 |  30 |   665 |\n",
       "| Non-Official &amp; Non-Aboriginal languages | Afrikaans                      | 10260 |  4785 |  85 | 23415 |\n",
       "| Non-Official &amp; Non-Aboriginal languages | Afro-Asiatic languages, n.i.e. |  1150 |   445 |  10 |  2775 |\n",
       "| Non-Official &amp; Non-Aboriginal languages | Akan (Twi)                     | 13460 |  5985 |  25 | 22150 |\n",
       "| Non-Official &amp; Non-Aboriginal languages | Albanian                       | 26895 | 13135 | 345 | 31930 |\n",
       "| Aboriginal languages                    | Algonquian languages, n.i.e.   |    45 |    10 |   0 |   120 |\n",
       "\n"
      ],
      "text/plain": [
       "  category                                language                      \n",
       "1 Aboriginal languages                    Aboriginal languages, n.o.s.  \n",
       "2 Non-Official & Non-Aboriginal languages Afrikaans                     \n",
       "3 Non-Official & Non-Aboriginal languages Afro-Asiatic languages, n.i.e.\n",
       "4 Non-Official & Non-Aboriginal languages Akan (Twi)                    \n",
       "5 Non-Official & Non-Aboriginal languages Albanian                      \n",
       "6 Aboriginal languages                    Algonquian languages, n.i.e.  \n",
       "  mother_tongue most_at_home most_at_work lang_known\n",
       "1   590           235         30            665     \n",
       "2 10260          4785         85          23415     \n",
       "3  1150           445         10           2775     \n",
       "4 13460          5985         25          22150     \n",
       "5 26895         13135        345          31930     \n",
       "6    45            10          0            120     "
      ]
     },
     "metadata": {},
     "output_type": "display_data"
    }
   ],
   "source": [
    "can_lang4 <- read_csv(\"https://raw.githubusercontent.com/ttimbers/canlang/master/inst/extdata/can_lang.csv\")\n",
    "head(can_lang4)"
   ]
  },
  {
   "cell_type": "markdown",
   "metadata": {
    "slideshow": {
     "slide_type": "slide"
    }
   },
   "source": [
    "#### Reading data from an Microsoft Excel file\n",
    "\n",
    "- it is very common to encounter, and need to load into R, data stored as a Microsoft Excel spreadsheet (with the filename extension `.xlsx`)\n",
    "\n",
    "- To be able to do this, a key thing to know is that even though .csv and `.xlsx` files look almost identical when loaded into Excel, the data themselves are stored completely differently."
   ]
  },
  {
   "cell_type": "markdown",
   "metadata": {
    "slideshow": {
     "slide_type": "slide"
    }
   },
   "source": [
    "Read in `data/can_lang.xlsx`:"
   ]
  },
  {
   "cell_type": "code",
   "execution_count": 6,
   "metadata": {
    "slideshow": {
     "slide_type": "fragment"
    }
   },
   "outputs": [],
   "source": [
    "library(readxl)"
   ]
  },
  {
   "cell_type": "code",
   "execution_count": 7,
   "metadata": {
    "slideshow": {
     "slide_type": "slide"
    }
   },
   "outputs": [
    {
     "data": {
      "text/html": [
       "<table class=\"dataframe\">\n",
       "<caption>A tibble: 6 × 6</caption>\n",
       "<thead>\n",
       "\t<tr><th scope=col>category</th><th scope=col>language</th><th scope=col>mother_tongue</th><th scope=col>most_at_home</th><th scope=col>most_at_work</th><th scope=col>lang_known</th></tr>\n",
       "\t<tr><th scope=col>&lt;chr&gt;</th><th scope=col>&lt;chr&gt;</th><th scope=col>&lt;dbl&gt;</th><th scope=col>&lt;dbl&gt;</th><th scope=col>&lt;dbl&gt;</th><th scope=col>&lt;dbl&gt;</th></tr>\n",
       "</thead>\n",
       "<tbody>\n",
       "\t<tr><td>Aboriginal languages                   </td><td>Aboriginal languages, n.o.s.  </td><td>  590</td><td>  235</td><td> 30</td><td>  665</td></tr>\n",
       "\t<tr><td>Non-Official &amp; Non-Aboriginal languages</td><td><span style=white-space:pre-wrap>Afrikaans                     </span></td><td>10260</td><td> 4785</td><td> 85</td><td>23415</td></tr>\n",
       "\t<tr><td>Non-Official &amp; Non-Aboriginal languages</td><td>Afro-Asiatic languages, n.i.e.</td><td> 1150</td><td><span style=white-space:pre-wrap>  445</span></td><td> 10</td><td> 2775</td></tr>\n",
       "\t<tr><td>Non-Official &amp; Non-Aboriginal languages</td><td><span style=white-space:pre-wrap>Akan (Twi)                    </span></td><td>13460</td><td> 5985</td><td> 25</td><td>22150</td></tr>\n",
       "\t<tr><td>Non-Official &amp; Non-Aboriginal languages</td><td><span style=white-space:pre-wrap>Albanian                      </span></td><td>26895</td><td>13135</td><td>345</td><td>31930</td></tr>\n",
       "\t<tr><td>Aboriginal languages                   </td><td>Algonquian languages, n.i.e.  </td><td>   45</td><td>   10</td><td>  0</td><td>  120</td></tr>\n",
       "</tbody>\n",
       "</table>\n"
      ],
      "text/latex": [
       "A tibble: 6 × 6\n",
       "\\begin{tabular}{llllll}\n",
       " category & language & mother\\_tongue & most\\_at\\_home & most\\_at\\_work & lang\\_known\\\\\n",
       " <chr> & <chr> & <dbl> & <dbl> & <dbl> & <dbl>\\\\\n",
       "\\hline\n",
       "\t Aboriginal languages                    & Aboriginal languages, n.o.s.   &   590 &   235 &  30 &   665\\\\\n",
       "\t Non-Official \\& Non-Aboriginal languages & Afrikaans                      & 10260 &  4785 &  85 & 23415\\\\\n",
       "\t Non-Official \\& Non-Aboriginal languages & Afro-Asiatic languages, n.i.e. &  1150 &   445 &  10 &  2775\\\\\n",
       "\t Non-Official \\& Non-Aboriginal languages & Akan (Twi)                     & 13460 &  5985 &  25 & 22150\\\\\n",
       "\t Non-Official \\& Non-Aboriginal languages & Albanian                       & 26895 & 13135 & 345 & 31930\\\\\n",
       "\t Aboriginal languages                    & Algonquian languages, n.i.e.   &    45 &    10 &   0 &   120\\\\\n",
       "\\end{tabular}\n"
      ],
      "text/markdown": [
       "\n",
       "A tibble: 6 × 6\n",
       "\n",
       "| category &lt;chr&gt; | language &lt;chr&gt; | mother_tongue &lt;dbl&gt; | most_at_home &lt;dbl&gt; | most_at_work &lt;dbl&gt; | lang_known &lt;dbl&gt; |\n",
       "|---|---|---|---|---|---|\n",
       "| Aboriginal languages                    | Aboriginal languages, n.o.s.   |   590 |   235 |  30 |   665 |\n",
       "| Non-Official &amp; Non-Aboriginal languages | Afrikaans                      | 10260 |  4785 |  85 | 23415 |\n",
       "| Non-Official &amp; Non-Aboriginal languages | Afro-Asiatic languages, n.i.e. |  1150 |   445 |  10 |  2775 |\n",
       "| Non-Official &amp; Non-Aboriginal languages | Akan (Twi)                     | 13460 |  5985 |  25 | 22150 |\n",
       "| Non-Official &amp; Non-Aboriginal languages | Albanian                       | 26895 | 13135 | 345 | 31930 |\n",
       "| Aboriginal languages                    | Algonquian languages, n.i.e.   |    45 |    10 |   0 |   120 |\n",
       "\n"
      ],
      "text/plain": [
       "  category                                language                      \n",
       "1 Aboriginal languages                    Aboriginal languages, n.o.s.  \n",
       "2 Non-Official & Non-Aboriginal languages Afrikaans                     \n",
       "3 Non-Official & Non-Aboriginal languages Afro-Asiatic languages, n.i.e.\n",
       "4 Non-Official & Non-Aboriginal languages Akan (Twi)                    \n",
       "5 Non-Official & Non-Aboriginal languages Albanian                      \n",
       "6 Aboriginal languages                    Algonquian languages, n.i.e.  \n",
       "  mother_tongue most_at_home most_at_work lang_known\n",
       "1   590           235         30            665     \n",
       "2 10260          4785         85          23415     \n",
       "3  1150           445         10           2775     \n",
       "4 13460          5985         25          22150     \n",
       "5 26895         13135        345          31930     \n",
       "6    45            10          0            120     "
      ]
     },
     "metadata": {},
     "output_type": "display_data"
    }
   ],
   "source": [
    "can_lang5 <- read_excel(\"data/can_lang.xlsx\")\n",
    "head(can_lang5)"
   ]
  },
  {
   "cell_type": "markdown",
   "metadata": {
    "slideshow": {
     "slide_type": "notes"
    }
   },
   "source": [
    "Note - if there are multiple sheets, use the `sheet` argument to specify the sheet number or name."
   ]
  },
  {
   "cell_type": "markdown",
   "metadata": {
    "slideshow": {
     "slide_type": "slide"
    }
   },
   "source": [
    "#### Reading a Microsoft Excel file from the web\n",
    "\n",
    "When trying to read a Microsoft Excel file from the web into R using a URL you cannot just pass the URL to `read_excel`.\n",
    "\n",
    "First you must download the file, and then read it locally from there:"
   ]
  },
  {
   "cell_type": "code",
   "execution_count": 8,
   "metadata": {
    "slideshow": {
     "slide_type": "slide"
    }
   },
   "outputs": [
    {
     "data": {
      "text/html": [
       "<table class=\"dataframe\">\n",
       "<caption>A tibble: 6 × 6</caption>\n",
       "<thead>\n",
       "\t<tr><th scope=col>category</th><th scope=col>language</th><th scope=col>mother_tongue</th><th scope=col>most_at_home</th><th scope=col>most_at_work</th><th scope=col>lang_known</th></tr>\n",
       "\t<tr><th scope=col>&lt;chr&gt;</th><th scope=col>&lt;chr&gt;</th><th scope=col>&lt;dbl&gt;</th><th scope=col>&lt;dbl&gt;</th><th scope=col>&lt;dbl&gt;</th><th scope=col>&lt;dbl&gt;</th></tr>\n",
       "</thead>\n",
       "<tbody>\n",
       "\t<tr><td>Aboriginal languages                   </td><td>Aboriginal languages, n.o.s.  </td><td>  590</td><td>  235</td><td> 30</td><td>  665</td></tr>\n",
       "\t<tr><td>Non-Official &amp; Non-Aboriginal languages</td><td><span style=white-space:pre-wrap>Afrikaans                     </span></td><td>10260</td><td> 4785</td><td> 85</td><td>23415</td></tr>\n",
       "\t<tr><td>Non-Official &amp; Non-Aboriginal languages</td><td>Afro-Asiatic languages, n.i.e.</td><td> 1150</td><td><span style=white-space:pre-wrap>  445</span></td><td> 10</td><td> 2775</td></tr>\n",
       "\t<tr><td>Non-Official &amp; Non-Aboriginal languages</td><td><span style=white-space:pre-wrap>Akan (Twi)                    </span></td><td>13460</td><td> 5985</td><td> 25</td><td>22150</td></tr>\n",
       "\t<tr><td>Non-Official &amp; Non-Aboriginal languages</td><td><span style=white-space:pre-wrap>Albanian                      </span></td><td>26895</td><td>13135</td><td>345</td><td>31930</td></tr>\n",
       "\t<tr><td>Aboriginal languages                   </td><td>Algonquian languages, n.i.e.  </td><td>   45</td><td>   10</td><td>  0</td><td>  120</td></tr>\n",
       "</tbody>\n",
       "</table>\n"
      ],
      "text/latex": [
       "A tibble: 6 × 6\n",
       "\\begin{tabular}{llllll}\n",
       " category & language & mother\\_tongue & most\\_at\\_home & most\\_at\\_work & lang\\_known\\\\\n",
       " <chr> & <chr> & <dbl> & <dbl> & <dbl> & <dbl>\\\\\n",
       "\\hline\n",
       "\t Aboriginal languages                    & Aboriginal languages, n.o.s.   &   590 &   235 &  30 &   665\\\\\n",
       "\t Non-Official \\& Non-Aboriginal languages & Afrikaans                      & 10260 &  4785 &  85 & 23415\\\\\n",
       "\t Non-Official \\& Non-Aboriginal languages & Afro-Asiatic languages, n.i.e. &  1150 &   445 &  10 &  2775\\\\\n",
       "\t Non-Official \\& Non-Aboriginal languages & Akan (Twi)                     & 13460 &  5985 &  25 & 22150\\\\\n",
       "\t Non-Official \\& Non-Aboriginal languages & Albanian                       & 26895 & 13135 & 345 & 31930\\\\\n",
       "\t Aboriginal languages                    & Algonquian languages, n.i.e.   &    45 &    10 &   0 &   120\\\\\n",
       "\\end{tabular}\n"
      ],
      "text/markdown": [
       "\n",
       "A tibble: 6 × 6\n",
       "\n",
       "| category &lt;chr&gt; | language &lt;chr&gt; | mother_tongue &lt;dbl&gt; | most_at_home &lt;dbl&gt; | most_at_work &lt;dbl&gt; | lang_known &lt;dbl&gt; |\n",
       "|---|---|---|---|---|---|\n",
       "| Aboriginal languages                    | Aboriginal languages, n.o.s.   |   590 |   235 |  30 |   665 |\n",
       "| Non-Official &amp; Non-Aboriginal languages | Afrikaans                      | 10260 |  4785 |  85 | 23415 |\n",
       "| Non-Official &amp; Non-Aboriginal languages | Afro-Asiatic languages, n.i.e. |  1150 |   445 |  10 |  2775 |\n",
       "| Non-Official &amp; Non-Aboriginal languages | Akan (Twi)                     | 13460 |  5985 |  25 | 22150 |\n",
       "| Non-Official &amp; Non-Aboriginal languages | Albanian                       | 26895 | 13135 | 345 | 31930 |\n",
       "| Aboriginal languages                    | Algonquian languages, n.i.e.   |    45 |    10 |   0 |   120 |\n",
       "\n"
      ],
      "text/plain": [
       "  category                                language                      \n",
       "1 Aboriginal languages                    Aboriginal languages, n.o.s.  \n",
       "2 Non-Official & Non-Aboriginal languages Afrikaans                     \n",
       "3 Non-Official & Non-Aboriginal languages Afro-Asiatic languages, n.i.e.\n",
       "4 Non-Official & Non-Aboriginal languages Akan (Twi)                    \n",
       "5 Non-Official & Non-Aboriginal languages Albanian                      \n",
       "6 Aboriginal languages                    Algonquian languages, n.i.e.  \n",
       "  mother_tongue most_at_home most_at_work lang_known\n",
       "1   590           235         30            665     \n",
       "2 10260          4785         85          23415     \n",
       "3  1150           445         10           2775     \n",
       "4 13460          5985         25          22150     \n",
       "5 26895         13135        345          31930     \n",
       "6    45            10          0            120     "
      ]
     },
     "metadata": {},
     "output_type": "display_data"
    }
   ],
   "source": [
    "url <- \"https://github.com/ttimbers/canlang/blob/master/inst/extdata/can_lang.xlsx?raw=true\"\n",
    "download.file(url, \"temp.xlsx\")\n",
    "can_lang6 <- read_excel(\"temp.xlsx\")\n",
    "head(can_lang6)"
   ]
  },
  {
   "cell_type": "markdown",
   "metadata": {},
   "source": [
    "> Note: When using `download.file` on Windows for Excel files (e.g., `.xlsx`) you need to specify an additional argument: `mode = \"wb\"`. For example:\n",
    "```\n",
    "download.file(url, \"temp.xlsx\", mode = \"wb\")\n",
    "```"
   ]
  },
  {
   "cell_type": "markdown",
   "metadata": {
    "slideshow": {
     "slide_type": "slide"
    }
   },
   "source": [
    "#### Note about loading data\n",
    "\n",
    "- It's important to do it carefully + check results after!\n",
    "  - will help reduce bugs and speed up your analyses down the road\n",
    "- Think of it as tying your shoes before you run; not exciting, but if done wrong it will trip you up later!\n",
    "\n",
    "<center><img src=\"https://media.giphy.com/media/Se449o7yNjziw/giphy.gif\"/></center>\n"
   ]
  },
  {
   "cell_type": "markdown",
   "metadata": {
    "slideshow": {
     "slide_type": "slide"
    }
   },
   "source": [
    "#### Writing files from R to a `.csv` file\n",
    "\n",
    "- Once you have modified or summarized some data, you often want to save that data to a file for use later, or sharing with others.\n",
    "\n",
    "- One of the most common formats for this is `.csv`\n",
    "\n",
    "- To write to `.csv` in R we recommend using `readr::write_csv` as it uses sensible choices for a `.csv` file (e.g., includes column, but not row names, does not write quotes around the data, uses a comma as the delimiter, etc)"
   ]
  },
  {
   "cell_type": "code",
   "execution_count": 1,
   "metadata": {
    "scrolled": true,
    "slideshow": {
     "slide_type": "fragment"
    }
   },
   "outputs": [
    {
     "ename": "ERROR",
     "evalue": "Error in write_csv(can_lang6, \"data/can_lang7.csv\"): could not find function \"write_csv\"\n",
     "output_type": "error",
     "traceback": [
      "Error in write_csv(can_lang6, \"data/can_lang7.csv\"): could not find function \"write_csv\"\nTraceback:\n"
     ]
    }
   ],
   "source": [
    "write_csv(can_lang6, \"data/can_lang7.csv\")"
   ]
  },
  {
   "cell_type": "markdown",
   "metadata": {
    "slideshow": {
     "slide_type": "slide"
    }
   },
   "source": [
    "### Cleaning up column names\n",
    "\n",
    "Column names from wild data can be wild! For example, column names with symbols or white space require special syntax (surround the column names with back ticks) to program with them in R. One of the first things you want to do when you read in data can be to clean these up!\n",
    "\n",
    "If things are not too bad, and there are not too many, `rename` can be a friend. Let's use `rename` to change the column names that have white space to using underscores. Let's look at the `can_lang-colnames.csv` file for example:"
   ]
  },
  {
   "cell_type": "code",
   "execution_count": 10,
   "metadata": {
    "slideshow": {
     "slide_type": "slide"
    }
   },
   "outputs": [
    {
     "name": "stderr",
     "output_type": "stream",
     "text": [
      "\u001b[1mRows: \u001b[22m\u001b[34m214\u001b[39m \u001b[1mColumns: \u001b[22m\u001b[34m6\u001b[39m\n",
      "\u001b[36m──\u001b[39m \u001b[1mColumn specification\u001b[22m \u001b[36m──────────────────────────────────────────────────────────────────────────────────────────────────────────────────────────────────────────────────────────────────────────────\u001b[39m\n",
      "\u001b[1mDelimiter:\u001b[22m \",\"\n",
      "\u001b[31mchr\u001b[39m (2): Category, Language\n",
      "\u001b[32mdbl\u001b[39m (4): Mother tongue, Spoken most at home, Spoken most at work, Language k...\n",
      "\n",
      "\u001b[36mℹ\u001b[39m Use `spec()` to retrieve the full column specification for this data.\n",
      "\u001b[36mℹ\u001b[39m Specify the column types or set `show_col_types = FALSE` to quiet this message.\n"
     ]
    },
    {
     "data": {
      "text/html": [
       "<table class=\"dataframe\">\n",
       "<caption>A tibble: 6 × 6</caption>\n",
       "<thead>\n",
       "\t<tr><th scope=col>Category</th><th scope=col>Language</th><th scope=col>Mother tongue</th><th scope=col>Spoken most at home</th><th scope=col>Spoken most at work</th><th scope=col>Language known</th></tr>\n",
       "\t<tr><th scope=col>&lt;chr&gt;</th><th scope=col>&lt;chr&gt;</th><th scope=col>&lt;dbl&gt;</th><th scope=col>&lt;dbl&gt;</th><th scope=col>&lt;dbl&gt;</th><th scope=col>&lt;dbl&gt;</th></tr>\n",
       "</thead>\n",
       "<tbody>\n",
       "\t<tr><td>Aboriginal languages                   </td><td>Aboriginal languages, n.o.s.  </td><td>  590</td><td>  235</td><td> 30</td><td>  665</td></tr>\n",
       "\t<tr><td>Non-Official &amp; Non-Aboriginal languages</td><td><span style=white-space:pre-wrap>Afrikaans                     </span></td><td>10260</td><td> 4785</td><td> 85</td><td>23415</td></tr>\n",
       "\t<tr><td>Non-Official &amp; Non-Aboriginal languages</td><td>Afro-Asiatic languages, n.i.e.</td><td> 1150</td><td><span style=white-space:pre-wrap>  445</span></td><td> 10</td><td> 2775</td></tr>\n",
       "\t<tr><td>Non-Official &amp; Non-Aboriginal languages</td><td><span style=white-space:pre-wrap>Akan (Twi)                    </span></td><td>13460</td><td> 5985</td><td> 25</td><td>22150</td></tr>\n",
       "\t<tr><td>Non-Official &amp; Non-Aboriginal languages</td><td><span style=white-space:pre-wrap>Albanian                      </span></td><td>26895</td><td>13135</td><td>345</td><td>31930</td></tr>\n",
       "\t<tr><td>Aboriginal languages                   </td><td>Algonquian languages, n.i.e.  </td><td>   45</td><td>   10</td><td>  0</td><td>  120</td></tr>\n",
       "</tbody>\n",
       "</table>\n"
      ],
      "text/latex": [
       "A tibble: 6 × 6\n",
       "\\begin{tabular}{llllll}\n",
       " Category & Language & Mother tongue & Spoken most at home & Spoken most at work & Language known\\\\\n",
       " <chr> & <chr> & <dbl> & <dbl> & <dbl> & <dbl>\\\\\n",
       "\\hline\n",
       "\t Aboriginal languages                    & Aboriginal languages, n.o.s.   &   590 &   235 &  30 &   665\\\\\n",
       "\t Non-Official \\& Non-Aboriginal languages & Afrikaans                      & 10260 &  4785 &  85 & 23415\\\\\n",
       "\t Non-Official \\& Non-Aboriginal languages & Afro-Asiatic languages, n.i.e. &  1150 &   445 &  10 &  2775\\\\\n",
       "\t Non-Official \\& Non-Aboriginal languages & Akan (Twi)                     & 13460 &  5985 &  25 & 22150\\\\\n",
       "\t Non-Official \\& Non-Aboriginal languages & Albanian                       & 26895 & 13135 & 345 & 31930\\\\\n",
       "\t Aboriginal languages                    & Algonquian languages, n.i.e.   &    45 &    10 &   0 &   120\\\\\n",
       "\\end{tabular}\n"
      ],
      "text/markdown": [
       "\n",
       "A tibble: 6 × 6\n",
       "\n",
       "| Category &lt;chr&gt; | Language &lt;chr&gt; | Mother tongue &lt;dbl&gt; | Spoken most at home &lt;dbl&gt; | Spoken most at work &lt;dbl&gt; | Language known &lt;dbl&gt; |\n",
       "|---|---|---|---|---|---|\n",
       "| Aboriginal languages                    | Aboriginal languages, n.o.s.   |   590 |   235 |  30 |   665 |\n",
       "| Non-Official &amp; Non-Aboriginal languages | Afrikaans                      | 10260 |  4785 |  85 | 23415 |\n",
       "| Non-Official &amp; Non-Aboriginal languages | Afro-Asiatic languages, n.i.e. |  1150 |   445 |  10 |  2775 |\n",
       "| Non-Official &amp; Non-Aboriginal languages | Akan (Twi)                     | 13460 |  5985 |  25 | 22150 |\n",
       "| Non-Official &amp; Non-Aboriginal languages | Albanian                       | 26895 | 13135 | 345 | 31930 |\n",
       "| Aboriginal languages                    | Algonquian languages, n.i.e.   |    45 |    10 |   0 |   120 |\n",
       "\n"
      ],
      "text/plain": [
       "  Category                                Language                      \n",
       "1 Aboriginal languages                    Aboriginal languages, n.o.s.  \n",
       "2 Non-Official & Non-Aboriginal languages Afrikaans                     \n",
       "3 Non-Official & Non-Aboriginal languages Afro-Asiatic languages, n.i.e.\n",
       "4 Non-Official & Non-Aboriginal languages Akan (Twi)                    \n",
       "5 Non-Official & Non-Aboriginal languages Albanian                      \n",
       "6 Aboriginal languages                    Algonquian languages, n.i.e.  \n",
       "  Mother tongue Spoken most at home Spoken most at work Language known\n",
       "1   590           235                30                   665         \n",
       "2 10260          4785                85                 23415         \n",
       "3  1150           445                10                  2775         \n",
       "4 13460          5985                25                 22150         \n",
       "5 26895         13135               345                 31930         \n",
       "6    45            10                 0                   120         "
      ]
     },
     "metadata": {},
     "output_type": "display_data"
    }
   ],
   "source": [
    "can_lang8 <- read_csv(\"data/can_lang-colnames.csv\")\n",
    "head(can_lang8)"
   ]
  },
  {
   "cell_type": "code",
   "execution_count": 11,
   "metadata": {
    "slideshow": {
     "slide_type": "slide"
    }
   },
   "outputs": [
    {
     "data": {
      "text/html": [
       "<table class=\"dataframe\">\n",
       "<caption>A tibble: 6 × 6</caption>\n",
       "<thead>\n",
       "\t<tr><th scope=col>Category</th><th scope=col>Language</th><th scope=col>Mother_tongue</th><th scope=col>Spoken_most_at_home</th><th scope=col>Spoken_most_at_work</th><th scope=col>Language_known</th></tr>\n",
       "\t<tr><th scope=col>&lt;chr&gt;</th><th scope=col>&lt;chr&gt;</th><th scope=col>&lt;dbl&gt;</th><th scope=col>&lt;dbl&gt;</th><th scope=col>&lt;dbl&gt;</th><th scope=col>&lt;dbl&gt;</th></tr>\n",
       "</thead>\n",
       "<tbody>\n",
       "\t<tr><td>Aboriginal languages                   </td><td>Aboriginal languages, n.o.s.  </td><td>  590</td><td>  235</td><td> 30</td><td>  665</td></tr>\n",
       "\t<tr><td>Non-Official &amp; Non-Aboriginal languages</td><td><span style=white-space:pre-wrap>Afrikaans                     </span></td><td>10260</td><td> 4785</td><td> 85</td><td>23415</td></tr>\n",
       "\t<tr><td>Non-Official &amp; Non-Aboriginal languages</td><td>Afro-Asiatic languages, n.i.e.</td><td> 1150</td><td><span style=white-space:pre-wrap>  445</span></td><td> 10</td><td> 2775</td></tr>\n",
       "\t<tr><td>Non-Official &amp; Non-Aboriginal languages</td><td><span style=white-space:pre-wrap>Akan (Twi)                    </span></td><td>13460</td><td> 5985</td><td> 25</td><td>22150</td></tr>\n",
       "\t<tr><td>Non-Official &amp; Non-Aboriginal languages</td><td><span style=white-space:pre-wrap>Albanian                      </span></td><td>26895</td><td>13135</td><td>345</td><td>31930</td></tr>\n",
       "\t<tr><td>Aboriginal languages                   </td><td>Algonquian languages, n.i.e.  </td><td>   45</td><td>   10</td><td>  0</td><td>  120</td></tr>\n",
       "</tbody>\n",
       "</table>\n"
      ],
      "text/latex": [
       "A tibble: 6 × 6\n",
       "\\begin{tabular}{llllll}\n",
       " Category & Language & Mother\\_tongue & Spoken\\_most\\_at\\_home & Spoken\\_most\\_at\\_work & Language\\_known\\\\\n",
       " <chr> & <chr> & <dbl> & <dbl> & <dbl> & <dbl>\\\\\n",
       "\\hline\n",
       "\t Aboriginal languages                    & Aboriginal languages, n.o.s.   &   590 &   235 &  30 &   665\\\\\n",
       "\t Non-Official \\& Non-Aboriginal languages & Afrikaans                      & 10260 &  4785 &  85 & 23415\\\\\n",
       "\t Non-Official \\& Non-Aboriginal languages & Afro-Asiatic languages, n.i.e. &  1150 &   445 &  10 &  2775\\\\\n",
       "\t Non-Official \\& Non-Aboriginal languages & Akan (Twi)                     & 13460 &  5985 &  25 & 22150\\\\\n",
       "\t Non-Official \\& Non-Aboriginal languages & Albanian                       & 26895 & 13135 & 345 & 31930\\\\\n",
       "\t Aboriginal languages                    & Algonquian languages, n.i.e.   &    45 &    10 &   0 &   120\\\\\n",
       "\\end{tabular}\n"
      ],
      "text/markdown": [
       "\n",
       "A tibble: 6 × 6\n",
       "\n",
       "| Category &lt;chr&gt; | Language &lt;chr&gt; | Mother_tongue &lt;dbl&gt; | Spoken_most_at_home &lt;dbl&gt; | Spoken_most_at_work &lt;dbl&gt; | Language_known &lt;dbl&gt; |\n",
       "|---|---|---|---|---|---|\n",
       "| Aboriginal languages                    | Aboriginal languages, n.o.s.   |   590 |   235 |  30 |   665 |\n",
       "| Non-Official &amp; Non-Aboriginal languages | Afrikaans                      | 10260 |  4785 |  85 | 23415 |\n",
       "| Non-Official &amp; Non-Aboriginal languages | Afro-Asiatic languages, n.i.e. |  1150 |   445 |  10 |  2775 |\n",
       "| Non-Official &amp; Non-Aboriginal languages | Akan (Twi)                     | 13460 |  5985 |  25 | 22150 |\n",
       "| Non-Official &amp; Non-Aboriginal languages | Albanian                       | 26895 | 13135 | 345 | 31930 |\n",
       "| Aboriginal languages                    | Algonquian languages, n.i.e.   |    45 |    10 |   0 |   120 |\n",
       "\n"
      ],
      "text/plain": [
       "  Category                                Language                      \n",
       "1 Aboriginal languages                    Aboriginal languages, n.o.s.  \n",
       "2 Non-Official & Non-Aboriginal languages Afrikaans                     \n",
       "3 Non-Official & Non-Aboriginal languages Afro-Asiatic languages, n.i.e.\n",
       "4 Non-Official & Non-Aboriginal languages Akan (Twi)                    \n",
       "5 Non-Official & Non-Aboriginal languages Albanian                      \n",
       "6 Aboriginal languages                    Algonquian languages, n.i.e.  \n",
       "  Mother_tongue Spoken_most_at_home Spoken_most_at_work Language_known\n",
       "1   590           235                30                   665         \n",
       "2 10260          4785                85                 23415         \n",
       "3  1150           445                10                  2775         \n",
       "4 13460          5985                25                 22150         \n",
       "5 26895         13135               345                 31930         \n",
       "6    45            10                 0                   120         "
      ]
     },
     "metadata": {},
     "output_type": "display_data"
    }
   ],
   "source": [
    "can_lang9 <- rename(can_lang8, Mother_tongue = `Mother tongue`,\n",
    "                   Spoken_most_at_home = `Spoken most at home`,\n",
    "                   Spoken_most_at_work = `Spoken most at work`,\n",
    "                   Language_known = `Language known`)\n",
    "head(can_lang9)"
   ]
  },
  {
   "cell_type": "markdown",
   "metadata": {
    "slideshow": {
     "slide_type": "slide"
    }
   },
   "source": [
    "#### Cleaning up a lot of column names\n",
    "\n",
    "Sometimes there are A LOT of column names with non-syntactic names. `rename` is not the best choice here. Instead we'll use the `clean_names` from the {janitor} package to transform all column names to syntactic ones."
   ]
  },
  {
   "cell_type": "code",
   "execution_count": 12,
   "metadata": {
    "slideshow": {
     "slide_type": "fragment"
    }
   },
   "outputs": [
    {
     "name": "stderr",
     "output_type": "stream",
     "text": [
      "\n",
      "Attaching package: ‘janitor’\n",
      "\n",
      "\n",
      "The following objects are masked from ‘package:stats’:\n",
      "\n",
      "    chisq.test, fisher.test\n",
      "\n",
      "\n"
     ]
    }
   ],
   "source": [
    "library(janitor)"
   ]
  },
  {
   "cell_type": "code",
   "execution_count": 13,
   "metadata": {
    "slideshow": {
     "slide_type": "slide"
    }
   },
   "outputs": [
    {
     "name": "stderr",
     "output_type": "stream",
     "text": [
      "\u001b[1mRows: \u001b[22m\u001b[34m12\u001b[39m \u001b[1mColumns: \u001b[22m\u001b[34m16\u001b[39m\n",
      "\u001b[36m──\u001b[39m \u001b[1mColumn specification\u001b[22m \u001b[36m──────────────────────────────────────────────────────────────────────────────────────────────────────────────────────────────────────────────────────────────────────────────\u001b[39m\n",
      "\u001b[1mDelimiter:\u001b[22m \",\"\n",
      "\u001b[31mchr\u001b[39m  (4): Geographic name, Geographic type, Geographic name, Province or ter...\n",
      "\u001b[32mdbl\u001b[39m (12): Geographic code, Geographic code, Province or territory, Global no...\n",
      "\n",
      "\u001b[36mℹ\u001b[39m Use `spec()` to retrieve the full column specification for this data.\n",
      "\u001b[36mℹ\u001b[39m Specify the column types or set `show_col_types = FALSE` to quiet this message.\n"
     ]
    },
    {
     "data": {
      "text/html": [
       "<table class=\"dataframe\">\n",
       "<caption>A tibble: 3 × 16</caption>\n",
       "<thead>\n",
       "\t<tr><th scope=col>Geographic code</th><th scope=col>Geographic name</th><th scope=col>Geographic type</th><th scope=col>Geographic name, Province or territory</th><th scope=col>Geographic code, Province or territory</th><th scope=col>Global non-response rate</th><th scope=col>Data quality flag</th><th scope=col>Household type</th><th scope=col>Number of households, 2006</th><th scope=col>Number of households, 2016</th><th scope=col>Median household total income (2015 constant dollars), 2005</th><th scope=col>Median household total income (2015 constant dollars), 2015</th><th scope=col>Median household total income (2015 constant dollars), % change</th><th scope=col>Median household after-tax income (2015 constant dollars), 2005</th><th scope=col>Median household after-tax income (2015 constant dollars), 2015</th><th scope=col>Median household after-tax income (2015 constant dollars), % change</th></tr>\n",
       "\t<tr><th scope=col>&lt;dbl&gt;</th><th scope=col>&lt;chr&gt;</th><th scope=col>&lt;chr&gt;</th><th scope=col>&lt;chr&gt;</th><th scope=col>&lt;dbl&gt;</th><th scope=col>&lt;dbl&gt;</th><th scope=col>&lt;dbl&gt;</th><th scope=col>&lt;chr&gt;</th><th scope=col>&lt;dbl&gt;</th><th scope=col>&lt;dbl&gt;</th><th scope=col>&lt;dbl&gt;</th><th scope=col>&lt;dbl&gt;</th><th scope=col>&lt;dbl&gt;</th><th scope=col>&lt;dbl&gt;</th><th scope=col>&lt;dbl&gt;</th><th scope=col>&lt;dbl&gt;</th></tr>\n",
       "</thead>\n",
       "<tbody>\n",
       "\t<tr><td>1001</td><td>Division No.  1</td><td>Census division</td><td>Newfoundland and Labrador</td><td>10</td><td>3.7</td><td>0</td><td>Total – Household type including census family structure                  </td><td>97015</td><td>112620</td><td>57667</td><td>74676</td><td>29.5</td><td>49750</td><td>64504</td><td>29.7</td></tr>\n",
       "\t<tr><td>1001</td><td>Division No.  1</td><td>Census division</td><td>Newfoundland and Labrador</td><td>10</td><td>3.7</td><td>0</td><td>Census-family households                                                  </td><td>71960</td><td> 78825</td><td>69720</td><td>96124</td><td>37.9</td><td>59713</td><td>81486</td><td>36.5</td></tr>\n",
       "\t<tr><td>1001</td><td>Division No.  1</td><td>Census division</td><td>Newfoundland and Labrador</td><td>10</td><td>3.7</td><td>0</td><td>Households consisting of only one census family without additional persons</td><td>66250</td><td> 73020</td><td>68837</td><td>94566</td><td>37.4</td><td>58715</td><td>80012</td><td>36.3</td></tr>\n",
       "</tbody>\n",
       "</table>\n"
      ],
      "text/latex": [
       "A tibble: 3 × 16\n",
       "\\begin{tabular}{llllllllllllllll}\n",
       " Geographic code & Geographic name & Geographic type & Geographic name, Province or territory & Geographic code, Province or territory & Global non-response rate & Data quality flag & Household type & Number of households, 2006 & Number of households, 2016 & Median household total income (2015 constant dollars), 2005 & Median household total income (2015 constant dollars), 2015 & Median household total income (2015 constant dollars), \\% change & Median household after-tax income (2015 constant dollars), 2005 & Median household after-tax income (2015 constant dollars), 2015 & Median household after-tax income (2015 constant dollars), \\% change\\\\\n",
       " <dbl> & <chr> & <chr> & <chr> & <dbl> & <dbl> & <dbl> & <chr> & <dbl> & <dbl> & <dbl> & <dbl> & <dbl> & <dbl> & <dbl> & <dbl>\\\\\n",
       "\\hline\n",
       "\t 1001 & Division No.  1 & Census division & Newfoundland and Labrador & 10 & 3.7 & 0 & Total – Household type including census family structure                   & 97015 & 112620 & 57667 & 74676 & 29.5 & 49750 & 64504 & 29.7\\\\\n",
       "\t 1001 & Division No.  1 & Census division & Newfoundland and Labrador & 10 & 3.7 & 0 & Census-family households                                                   & 71960 &  78825 & 69720 & 96124 & 37.9 & 59713 & 81486 & 36.5\\\\\n",
       "\t 1001 & Division No.  1 & Census division & Newfoundland and Labrador & 10 & 3.7 & 0 & Households consisting of only one census family without additional persons & 66250 &  73020 & 68837 & 94566 & 37.4 & 58715 & 80012 & 36.3\\\\\n",
       "\\end{tabular}\n"
      ],
      "text/markdown": [
       "\n",
       "A tibble: 3 × 16\n",
       "\n",
       "| Geographic code &lt;dbl&gt; | Geographic name &lt;chr&gt; | Geographic type &lt;chr&gt; | Geographic name, Province or territory &lt;chr&gt; | Geographic code, Province or territory &lt;dbl&gt; | Global non-response rate &lt;dbl&gt; | Data quality flag &lt;dbl&gt; | Household type &lt;chr&gt; | Number of households, 2006 &lt;dbl&gt; | Number of households, 2016 &lt;dbl&gt; | Median household total income (2015 constant dollars), 2005 &lt;dbl&gt; | Median household total income (2015 constant dollars), 2015 &lt;dbl&gt; | Median household total income (2015 constant dollars), % change &lt;dbl&gt; | Median household after-tax income (2015 constant dollars), 2005 &lt;dbl&gt; | Median household after-tax income (2015 constant dollars), 2015 &lt;dbl&gt; | Median household after-tax income (2015 constant dollars), % change &lt;dbl&gt; |\n",
       "|---|---|---|---|---|---|---|---|---|---|---|---|---|---|---|---|\n",
       "| 1001 | Division No.  1 | Census division | Newfoundland and Labrador | 10 | 3.7 | 0 | Total – Household type including census family structure                   | 97015 | 112620 | 57667 | 74676 | 29.5 | 49750 | 64504 | 29.7 |\n",
       "| 1001 | Division No.  1 | Census division | Newfoundland and Labrador | 10 | 3.7 | 0 | Census-family households                                                   | 71960 |  78825 | 69720 | 96124 | 37.9 | 59713 | 81486 | 36.5 |\n",
       "| 1001 | Division No.  1 | Census division | Newfoundland and Labrador | 10 | 3.7 | 0 | Households consisting of only one census family without additional persons | 66250 |  73020 | 68837 | 94566 | 37.4 | 58715 | 80012 | 36.3 |\n",
       "\n"
      ],
      "text/plain": [
       "  Geographic code Geographic name Geographic type\n",
       "1 1001            Division No.  1 Census division\n",
       "2 1001            Division No.  1 Census division\n",
       "3 1001            Division No.  1 Census division\n",
       "  Geographic name, Province or territory Geographic code, Province or territory\n",
       "1 Newfoundland and Labrador              10                                    \n",
       "2 Newfoundland and Labrador              10                                    \n",
       "3 Newfoundland and Labrador              10                                    \n",
       "  Global non-response rate Data quality flag\n",
       "1 3.7                      0                \n",
       "2 3.7                      0                \n",
       "3 3.7                      0                \n",
       "  Household type                                                            \n",
       "1 Total – Household type including census family structure                  \n",
       "2 Census-family households                                                  \n",
       "3 Households consisting of only one census family without additional persons\n",
       "  Number of households, 2006 Number of households, 2016\n",
       "1 97015                      112620                    \n",
       "2 71960                       78825                    \n",
       "3 66250                       73020                    \n",
       "  Median household total income (2015 constant dollars), 2005\n",
       "1 57667                                                      \n",
       "2 69720                                                      \n",
       "3 68837                                                      \n",
       "  Median household total income (2015 constant dollars), 2015\n",
       "1 74676                                                      \n",
       "2 96124                                                      \n",
       "3 94566                                                      \n",
       "  Median household total income (2015 constant dollars), % change\n",
       "1 29.5                                                           \n",
       "2 37.9                                                           \n",
       "3 37.4                                                           \n",
       "  Median household after-tax income (2015 constant dollars), 2005\n",
       "1 49750                                                          \n",
       "2 59713                                                          \n",
       "3 58715                                                          \n",
       "  Median household after-tax income (2015 constant dollars), 2015\n",
       "1 64504                                                          \n",
       "2 81486                                                          \n",
       "3 80012                                                          \n",
       "  Median household after-tax income (2015 constant dollars), % change\n",
       "1 29.7                                                               \n",
       "2 36.5                                                               \n",
       "3 36.3                                                               "
      ]
     },
     "metadata": {},
     "output_type": "display_data"
    }
   ],
   "source": [
    "census <- read_csv(\"data/census_snippet.csv\")\n",
    "head(census, 3)"
   ]
  },
  {
   "cell_type": "code",
   "execution_count": 14,
   "metadata": {
    "scrolled": true,
    "slideshow": {
     "slide_type": "slide"
    }
   },
   "outputs": [
    {
     "data": {
      "text/html": [
       "<table class=\"dataframe\">\n",
       "<caption>A tibble: 3 × 16</caption>\n",
       "<thead>\n",
       "\t<tr><th scope=col>geographic_code</th><th scope=col>geographic_name</th><th scope=col>geographic_type</th><th scope=col>geographic_name_province_or_territory</th><th scope=col>geographic_code_province_or_territory</th><th scope=col>global_non_response_rate</th><th scope=col>data_quality_flag</th><th scope=col>household_type</th><th scope=col>number_of_households_2006</th><th scope=col>number_of_households_2016</th><th scope=col>median_household_total_income_2015_constant_dollars_2005</th><th scope=col>median_household_total_income_2015_constant_dollars_2015</th><th scope=col>median_household_total_income_2015_constant_dollars_percent_change</th><th scope=col>median_household_after_tax_income_2015_constant_dollars_2005</th><th scope=col>median_household_after_tax_income_2015_constant_dollars_2015</th><th scope=col>median_household_after_tax_income_2015_constant_dollars_percent_change</th></tr>\n",
       "\t<tr><th scope=col>&lt;dbl&gt;</th><th scope=col>&lt;chr&gt;</th><th scope=col>&lt;chr&gt;</th><th scope=col>&lt;chr&gt;</th><th scope=col>&lt;dbl&gt;</th><th scope=col>&lt;dbl&gt;</th><th scope=col>&lt;dbl&gt;</th><th scope=col>&lt;chr&gt;</th><th scope=col>&lt;dbl&gt;</th><th scope=col>&lt;dbl&gt;</th><th scope=col>&lt;dbl&gt;</th><th scope=col>&lt;dbl&gt;</th><th scope=col>&lt;dbl&gt;</th><th scope=col>&lt;dbl&gt;</th><th scope=col>&lt;dbl&gt;</th><th scope=col>&lt;dbl&gt;</th></tr>\n",
       "</thead>\n",
       "<tbody>\n",
       "\t<tr><td>1001</td><td>Division No.  1</td><td>Census division</td><td>Newfoundland and Labrador</td><td>10</td><td>3.7</td><td>0</td><td>Total – Household type including census family structure                  </td><td>97015</td><td>112620</td><td>57667</td><td>74676</td><td>29.5</td><td>49750</td><td>64504</td><td>29.7</td></tr>\n",
       "\t<tr><td>1001</td><td>Division No.  1</td><td>Census division</td><td>Newfoundland and Labrador</td><td>10</td><td>3.7</td><td>0</td><td>Census-family households                                                  </td><td>71960</td><td> 78825</td><td>69720</td><td>96124</td><td>37.9</td><td>59713</td><td>81486</td><td>36.5</td></tr>\n",
       "\t<tr><td>1001</td><td>Division No.  1</td><td>Census division</td><td>Newfoundland and Labrador</td><td>10</td><td>3.7</td><td>0</td><td>Households consisting of only one census family without additional persons</td><td>66250</td><td> 73020</td><td>68837</td><td>94566</td><td>37.4</td><td>58715</td><td>80012</td><td>36.3</td></tr>\n",
       "</tbody>\n",
       "</table>\n"
      ],
      "text/latex": [
       "A tibble: 3 × 16\n",
       "\\begin{tabular}{llllllllllllllll}\n",
       " geographic\\_code & geographic\\_name & geographic\\_type & geographic\\_name\\_province\\_or\\_territory & geographic\\_code\\_province\\_or\\_territory & global\\_non\\_response\\_rate & data\\_quality\\_flag & household\\_type & number\\_of\\_households\\_2006 & number\\_of\\_households\\_2016 & median\\_household\\_total\\_income\\_2015\\_constant\\_dollars\\_2005 & median\\_household\\_total\\_income\\_2015\\_constant\\_dollars\\_2015 & median\\_household\\_total\\_income\\_2015\\_constant\\_dollars\\_percent\\_change & median\\_household\\_after\\_tax\\_income\\_2015\\_constant\\_dollars\\_2005 & median\\_household\\_after\\_tax\\_income\\_2015\\_constant\\_dollars\\_2015 & median\\_household\\_after\\_tax\\_income\\_2015\\_constant\\_dollars\\_percent\\_change\\\\\n",
       " <dbl> & <chr> & <chr> & <chr> & <dbl> & <dbl> & <dbl> & <chr> & <dbl> & <dbl> & <dbl> & <dbl> & <dbl> & <dbl> & <dbl> & <dbl>\\\\\n",
       "\\hline\n",
       "\t 1001 & Division No.  1 & Census division & Newfoundland and Labrador & 10 & 3.7 & 0 & Total – Household type including census family structure                   & 97015 & 112620 & 57667 & 74676 & 29.5 & 49750 & 64504 & 29.7\\\\\n",
       "\t 1001 & Division No.  1 & Census division & Newfoundland and Labrador & 10 & 3.7 & 0 & Census-family households                                                   & 71960 &  78825 & 69720 & 96124 & 37.9 & 59713 & 81486 & 36.5\\\\\n",
       "\t 1001 & Division No.  1 & Census division & Newfoundland and Labrador & 10 & 3.7 & 0 & Households consisting of only one census family without additional persons & 66250 &  73020 & 68837 & 94566 & 37.4 & 58715 & 80012 & 36.3\\\\\n",
       "\\end{tabular}\n"
      ],
      "text/markdown": [
       "\n",
       "A tibble: 3 × 16\n",
       "\n",
       "| geographic_code &lt;dbl&gt; | geographic_name &lt;chr&gt; | geographic_type &lt;chr&gt; | geographic_name_province_or_territory &lt;chr&gt; | geographic_code_province_or_territory &lt;dbl&gt; | global_non_response_rate &lt;dbl&gt; | data_quality_flag &lt;dbl&gt; | household_type &lt;chr&gt; | number_of_households_2006 &lt;dbl&gt; | number_of_households_2016 &lt;dbl&gt; | median_household_total_income_2015_constant_dollars_2005 &lt;dbl&gt; | median_household_total_income_2015_constant_dollars_2015 &lt;dbl&gt; | median_household_total_income_2015_constant_dollars_percent_change &lt;dbl&gt; | median_household_after_tax_income_2015_constant_dollars_2005 &lt;dbl&gt; | median_household_after_tax_income_2015_constant_dollars_2015 &lt;dbl&gt; | median_household_after_tax_income_2015_constant_dollars_percent_change &lt;dbl&gt; |\n",
       "|---|---|---|---|---|---|---|---|---|---|---|---|---|---|---|---|\n",
       "| 1001 | Division No.  1 | Census division | Newfoundland and Labrador | 10 | 3.7 | 0 | Total – Household type including census family structure                   | 97015 | 112620 | 57667 | 74676 | 29.5 | 49750 | 64504 | 29.7 |\n",
       "| 1001 | Division No.  1 | Census division | Newfoundland and Labrador | 10 | 3.7 | 0 | Census-family households                                                   | 71960 |  78825 | 69720 | 96124 | 37.9 | 59713 | 81486 | 36.5 |\n",
       "| 1001 | Division No.  1 | Census division | Newfoundland and Labrador | 10 | 3.7 | 0 | Households consisting of only one census family without additional persons | 66250 |  73020 | 68837 | 94566 | 37.4 | 58715 | 80012 | 36.3 |\n",
       "\n"
      ],
      "text/plain": [
       "  geographic_code geographic_name geographic_type\n",
       "1 1001            Division No.  1 Census division\n",
       "2 1001            Division No.  1 Census division\n",
       "3 1001            Division No.  1 Census division\n",
       "  geographic_name_province_or_territory geographic_code_province_or_territory\n",
       "1 Newfoundland and Labrador             10                                   \n",
       "2 Newfoundland and Labrador             10                                   \n",
       "3 Newfoundland and Labrador             10                                   \n",
       "  global_non_response_rate data_quality_flag\n",
       "1 3.7                      0                \n",
       "2 3.7                      0                \n",
       "3 3.7                      0                \n",
       "  household_type                                                            \n",
       "1 Total – Household type including census family structure                  \n",
       "2 Census-family households                                                  \n",
       "3 Households consisting of only one census family without additional persons\n",
       "  number_of_households_2006 number_of_households_2016\n",
       "1 97015                     112620                   \n",
       "2 71960                      78825                   \n",
       "3 66250                      73020                   \n",
       "  median_household_total_income_2015_constant_dollars_2005\n",
       "1 57667                                                   \n",
       "2 69720                                                   \n",
       "3 68837                                                   \n",
       "  median_household_total_income_2015_constant_dollars_2015\n",
       "1 74676                                                   \n",
       "2 96124                                                   \n",
       "3 94566                                                   \n",
       "  median_household_total_income_2015_constant_dollars_percent_change\n",
       "1 29.5                                                              \n",
       "2 37.9                                                              \n",
       "3 37.4                                                              \n",
       "  median_household_after_tax_income_2015_constant_dollars_2005\n",
       "1 49750                                                       \n",
       "2 59713                                                       \n",
       "3 58715                                                       \n",
       "  median_household_after_tax_income_2015_constant_dollars_2015\n",
       "1 64504                                                       \n",
       "2 81486                                                       \n",
       "3 80012                                                       \n",
       "  median_household_after_tax_income_2015_constant_dollars_percent_change\n",
       "1 29.7                                                                  \n",
       "2 36.5                                                                  \n",
       "3 36.3                                                                  "
      ]
     },
     "metadata": {},
     "output_type": "display_data"
    }
   ],
   "source": [
    "clean_census <- clean_names(census)\n",
    "head(clean_census, 3)"
   ]
  },
  {
   "cell_type": "markdown",
   "metadata": {
    "slideshow": {
     "slide_type": "fragment"
    }
   },
   "source": [
    "`clean_names` is a thing of great beauty!!!"
   ]
  },
  {
   "cell_type": "markdown",
   "metadata": {
    "slideshow": {
     "slide_type": "slide"
    }
   },
   "source": [
    "## Single data frame manipulations\n",
    "\n",
    "Here we are going to learn how to use some of the most essential single data frame manipulation functions from the {dplyr} tidyverse package. To explore these, we will work with some of the data from the [Gapminder project](https://www.gapminder.org/). Jenny Bryan (MDS Founder and Software Developer at RStudio) released this as an R package called {[gapminder](https://github.com/jennybc/gapminder)}. We can load the data by loading the {gapminder} library:"
   ]
  },
  {
   "cell_type": "code",
   "execution_count": 15,
   "metadata": {
    "slideshow": {
     "slide_type": "fragment"
    }
   },
   "outputs": [],
   "source": [
    "library(gapminder)"
   ]
  },
  {
   "cell_type": "markdown",
   "metadata": {
    "slideshow": {
     "slide_type": "slide"
    }
   },
   "source": [
    "Let's take a quick look at the first 6 rows using `head`:"
   ]
  },
  {
   "cell_type": "code",
   "execution_count": 16,
   "metadata": {
    "slideshow": {
     "slide_type": "fragment"
    }
   },
   "outputs": [
    {
     "data": {
      "text/html": [
       "<table class=\"dataframe\">\n",
       "<caption>A tibble: 6 × 6</caption>\n",
       "<thead>\n",
       "\t<tr><th scope=col>country</th><th scope=col>continent</th><th scope=col>year</th><th scope=col>lifeExp</th><th scope=col>pop</th><th scope=col>gdpPercap</th></tr>\n",
       "\t<tr><th scope=col>&lt;fct&gt;</th><th scope=col>&lt;fct&gt;</th><th scope=col>&lt;int&gt;</th><th scope=col>&lt;dbl&gt;</th><th scope=col>&lt;int&gt;</th><th scope=col>&lt;dbl&gt;</th></tr>\n",
       "</thead>\n",
       "<tbody>\n",
       "\t<tr><td>Afghanistan</td><td>Asia</td><td>1952</td><td>28.801</td><td> 8425333</td><td>779.4453</td></tr>\n",
       "\t<tr><td>Afghanistan</td><td>Asia</td><td>1957</td><td>30.332</td><td> 9240934</td><td>820.8530</td></tr>\n",
       "\t<tr><td>Afghanistan</td><td>Asia</td><td>1962</td><td>31.997</td><td>10267083</td><td>853.1007</td></tr>\n",
       "\t<tr><td>Afghanistan</td><td>Asia</td><td>1967</td><td>34.020</td><td>11537966</td><td>836.1971</td></tr>\n",
       "\t<tr><td>Afghanistan</td><td>Asia</td><td>1972</td><td>36.088</td><td>13079460</td><td>739.9811</td></tr>\n",
       "\t<tr><td>Afghanistan</td><td>Asia</td><td>1977</td><td>38.438</td><td>14880372</td><td>786.1134</td></tr>\n",
       "</tbody>\n",
       "</table>\n"
      ],
      "text/latex": [
       "A tibble: 6 × 6\n",
       "\\begin{tabular}{llllll}\n",
       " country & continent & year & lifeExp & pop & gdpPercap\\\\\n",
       " <fct> & <fct> & <int> & <dbl> & <int> & <dbl>\\\\\n",
       "\\hline\n",
       "\t Afghanistan & Asia & 1952 & 28.801 &  8425333 & 779.4453\\\\\n",
       "\t Afghanistan & Asia & 1957 & 30.332 &  9240934 & 820.8530\\\\\n",
       "\t Afghanistan & Asia & 1962 & 31.997 & 10267083 & 853.1007\\\\\n",
       "\t Afghanistan & Asia & 1967 & 34.020 & 11537966 & 836.1971\\\\\n",
       "\t Afghanistan & Asia & 1972 & 36.088 & 13079460 & 739.9811\\\\\n",
       "\t Afghanistan & Asia & 1977 & 38.438 & 14880372 & 786.1134\\\\\n",
       "\\end{tabular}\n"
      ],
      "text/markdown": [
       "\n",
       "A tibble: 6 × 6\n",
       "\n",
       "| country &lt;fct&gt; | continent &lt;fct&gt; | year &lt;int&gt; | lifeExp &lt;dbl&gt; | pop &lt;int&gt; | gdpPercap &lt;dbl&gt; |\n",
       "|---|---|---|---|---|---|\n",
       "| Afghanistan | Asia | 1952 | 28.801 |  8425333 | 779.4453 |\n",
       "| Afghanistan | Asia | 1957 | 30.332 |  9240934 | 820.8530 |\n",
       "| Afghanistan | Asia | 1962 | 31.997 | 10267083 | 853.1007 |\n",
       "| Afghanistan | Asia | 1967 | 34.020 | 11537966 | 836.1971 |\n",
       "| Afghanistan | Asia | 1972 | 36.088 | 13079460 | 739.9811 |\n",
       "| Afghanistan | Asia | 1977 | 38.438 | 14880372 | 786.1134 |\n",
       "\n"
      ],
      "text/plain": [
       "  country     continent year lifeExp pop      gdpPercap\n",
       "1 Afghanistan Asia      1952 28.801   8425333 779.4453 \n",
       "2 Afghanistan Asia      1957 30.332   9240934 820.8530 \n",
       "3 Afghanistan Asia      1962 31.997  10267083 853.1007 \n",
       "4 Afghanistan Asia      1967 34.020  11537966 836.1971 \n",
       "5 Afghanistan Asia      1972 36.088  13079460 739.9811 \n",
       "6 Afghanistan Asia      1977 38.438  14880372 786.1134 "
      ]
     },
     "metadata": {},
     "output_type": "display_data"
    }
   ],
   "source": [
    "head(gapminder)"
   ]
  },
  {
   "cell_type": "markdown",
   "metadata": {
    "slideshow": {
     "slide_type": "slide"
    }
   },
   "source": [
    "### Use `select` to subset columns\n",
    "\n",
    "`select` from the [dplyr] package is used to subset the data on variables or columns. Here’s a conventional call to select two columns, `year` and `lifeExp`:"
   ]
  },
  {
   "cell_type": "code",
   "execution_count": 17,
   "metadata": {
    "slideshow": {
     "slide_type": "fragment"
    }
   },
   "outputs": [
    {
     "data": {
      "text/html": [
       "<table class=\"dataframe\">\n",
       "<caption>A tibble: 1704 × 2</caption>\n",
       "<thead>\n",
       "\t<tr><th scope=col>year</th><th scope=col>lifeExp</th></tr>\n",
       "\t<tr><th scope=col>&lt;int&gt;</th><th scope=col>&lt;dbl&gt;</th></tr>\n",
       "</thead>\n",
       "<tbody>\n",
       "\t<tr><td>1952</td><td>28.801</td></tr>\n",
       "\t<tr><td>1957</td><td>30.332</td></tr>\n",
       "\t<tr><td>1962</td><td>31.997</td></tr>\n",
       "\t<tr><td>1967</td><td>34.020</td></tr>\n",
       "\t<tr><td>1972</td><td>36.088</td></tr>\n",
       "\t<tr><td>1977</td><td>38.438</td></tr>\n",
       "\t<tr><td>1982</td><td>39.854</td></tr>\n",
       "\t<tr><td>1987</td><td>40.822</td></tr>\n",
       "\t<tr><td>1992</td><td>41.674</td></tr>\n",
       "\t<tr><td>1997</td><td>41.763</td></tr>\n",
       "\t<tr><td>2002</td><td>42.129</td></tr>\n",
       "\t<tr><td>2007</td><td>43.828</td></tr>\n",
       "\t<tr><td>1952</td><td>55.230</td></tr>\n",
       "\t<tr><td>1957</td><td>59.280</td></tr>\n",
       "\t<tr><td>1962</td><td>64.820</td></tr>\n",
       "\t<tr><td>1967</td><td>66.220</td></tr>\n",
       "\t<tr><td>1972</td><td>67.690</td></tr>\n",
       "\t<tr><td>1977</td><td>68.930</td></tr>\n",
       "\t<tr><td>1982</td><td>70.420</td></tr>\n",
       "\t<tr><td>1987</td><td>72.000</td></tr>\n",
       "\t<tr><td>1992</td><td>71.581</td></tr>\n",
       "\t<tr><td>1997</td><td>72.950</td></tr>\n",
       "\t<tr><td>2002</td><td>75.651</td></tr>\n",
       "\t<tr><td>2007</td><td>76.423</td></tr>\n",
       "\t<tr><td>1952</td><td>43.077</td></tr>\n",
       "\t<tr><td>1957</td><td>45.685</td></tr>\n",
       "\t<tr><td>1962</td><td>48.303</td></tr>\n",
       "\t<tr><td>1967</td><td>51.407</td></tr>\n",
       "\t<tr><td>1972</td><td>54.518</td></tr>\n",
       "\t<tr><td>1977</td><td>58.014</td></tr>\n",
       "\t<tr><td>⋮</td><td>⋮</td></tr>\n",
       "\t<tr><td>1982</td><td>49.113</td></tr>\n",
       "\t<tr><td>1987</td><td>52.922</td></tr>\n",
       "\t<tr><td>1992</td><td>55.599</td></tr>\n",
       "\t<tr><td>1997</td><td>58.020</td></tr>\n",
       "\t<tr><td>2002</td><td>60.308</td></tr>\n",
       "\t<tr><td>2007</td><td>62.698</td></tr>\n",
       "\t<tr><td>1952</td><td>42.038</td></tr>\n",
       "\t<tr><td>1957</td><td>44.077</td></tr>\n",
       "\t<tr><td>1962</td><td>46.023</td></tr>\n",
       "\t<tr><td>1967</td><td>47.768</td></tr>\n",
       "\t<tr><td>1972</td><td>50.107</td></tr>\n",
       "\t<tr><td>1977</td><td>51.386</td></tr>\n",
       "\t<tr><td>1982</td><td>51.821</td></tr>\n",
       "\t<tr><td>1987</td><td>50.821</td></tr>\n",
       "\t<tr><td>1992</td><td>46.100</td></tr>\n",
       "\t<tr><td>1997</td><td>40.238</td></tr>\n",
       "\t<tr><td>2002</td><td>39.193</td></tr>\n",
       "\t<tr><td>2007</td><td>42.384</td></tr>\n",
       "\t<tr><td>1952</td><td>48.451</td></tr>\n",
       "\t<tr><td>1957</td><td>50.469</td></tr>\n",
       "\t<tr><td>1962</td><td>52.358</td></tr>\n",
       "\t<tr><td>1967</td><td>53.995</td></tr>\n",
       "\t<tr><td>1972</td><td>55.635</td></tr>\n",
       "\t<tr><td>1977</td><td>57.674</td></tr>\n",
       "\t<tr><td>1982</td><td>60.363</td></tr>\n",
       "\t<tr><td>1987</td><td>62.351</td></tr>\n",
       "\t<tr><td>1992</td><td>60.377</td></tr>\n",
       "\t<tr><td>1997</td><td>46.809</td></tr>\n",
       "\t<tr><td>2002</td><td>39.989</td></tr>\n",
       "\t<tr><td>2007</td><td>43.487</td></tr>\n",
       "</tbody>\n",
       "</table>\n"
      ],
      "text/latex": [
       "A tibble: 1704 × 2\n",
       "\\begin{tabular}{ll}\n",
       " year & lifeExp\\\\\n",
       " <int> & <dbl>\\\\\n",
       "\\hline\n",
       "\t 1952 & 28.801\\\\\n",
       "\t 1957 & 30.332\\\\\n",
       "\t 1962 & 31.997\\\\\n",
       "\t 1967 & 34.020\\\\\n",
       "\t 1972 & 36.088\\\\\n",
       "\t 1977 & 38.438\\\\\n",
       "\t 1982 & 39.854\\\\\n",
       "\t 1987 & 40.822\\\\\n",
       "\t 1992 & 41.674\\\\\n",
       "\t 1997 & 41.763\\\\\n",
       "\t 2002 & 42.129\\\\\n",
       "\t 2007 & 43.828\\\\\n",
       "\t 1952 & 55.230\\\\\n",
       "\t 1957 & 59.280\\\\\n",
       "\t 1962 & 64.820\\\\\n",
       "\t 1967 & 66.220\\\\\n",
       "\t 1972 & 67.690\\\\\n",
       "\t 1977 & 68.930\\\\\n",
       "\t 1982 & 70.420\\\\\n",
       "\t 1987 & 72.000\\\\\n",
       "\t 1992 & 71.581\\\\\n",
       "\t 1997 & 72.950\\\\\n",
       "\t 2002 & 75.651\\\\\n",
       "\t 2007 & 76.423\\\\\n",
       "\t 1952 & 43.077\\\\\n",
       "\t 1957 & 45.685\\\\\n",
       "\t 1962 & 48.303\\\\\n",
       "\t 1967 & 51.407\\\\\n",
       "\t 1972 & 54.518\\\\\n",
       "\t 1977 & 58.014\\\\\n",
       "\t ⋮ & ⋮\\\\\n",
       "\t 1982 & 49.113\\\\\n",
       "\t 1987 & 52.922\\\\\n",
       "\t 1992 & 55.599\\\\\n",
       "\t 1997 & 58.020\\\\\n",
       "\t 2002 & 60.308\\\\\n",
       "\t 2007 & 62.698\\\\\n",
       "\t 1952 & 42.038\\\\\n",
       "\t 1957 & 44.077\\\\\n",
       "\t 1962 & 46.023\\\\\n",
       "\t 1967 & 47.768\\\\\n",
       "\t 1972 & 50.107\\\\\n",
       "\t 1977 & 51.386\\\\\n",
       "\t 1982 & 51.821\\\\\n",
       "\t 1987 & 50.821\\\\\n",
       "\t 1992 & 46.100\\\\\n",
       "\t 1997 & 40.238\\\\\n",
       "\t 2002 & 39.193\\\\\n",
       "\t 2007 & 42.384\\\\\n",
       "\t 1952 & 48.451\\\\\n",
       "\t 1957 & 50.469\\\\\n",
       "\t 1962 & 52.358\\\\\n",
       "\t 1967 & 53.995\\\\\n",
       "\t 1972 & 55.635\\\\\n",
       "\t 1977 & 57.674\\\\\n",
       "\t 1982 & 60.363\\\\\n",
       "\t 1987 & 62.351\\\\\n",
       "\t 1992 & 60.377\\\\\n",
       "\t 1997 & 46.809\\\\\n",
       "\t 2002 & 39.989\\\\\n",
       "\t 2007 & 43.487\\\\\n",
       "\\end{tabular}\n"
      ],
      "text/markdown": [
       "\n",
       "A tibble: 1704 × 2\n",
       "\n",
       "| year &lt;int&gt; | lifeExp &lt;dbl&gt; |\n",
       "|---|---|\n",
       "| 1952 | 28.801 |\n",
       "| 1957 | 30.332 |\n",
       "| 1962 | 31.997 |\n",
       "| 1967 | 34.020 |\n",
       "| 1972 | 36.088 |\n",
       "| 1977 | 38.438 |\n",
       "| 1982 | 39.854 |\n",
       "| 1987 | 40.822 |\n",
       "| 1992 | 41.674 |\n",
       "| 1997 | 41.763 |\n",
       "| 2002 | 42.129 |\n",
       "| 2007 | 43.828 |\n",
       "| 1952 | 55.230 |\n",
       "| 1957 | 59.280 |\n",
       "| 1962 | 64.820 |\n",
       "| 1967 | 66.220 |\n",
       "| 1972 | 67.690 |\n",
       "| 1977 | 68.930 |\n",
       "| 1982 | 70.420 |\n",
       "| 1987 | 72.000 |\n",
       "| 1992 | 71.581 |\n",
       "| 1997 | 72.950 |\n",
       "| 2002 | 75.651 |\n",
       "| 2007 | 76.423 |\n",
       "| 1952 | 43.077 |\n",
       "| 1957 | 45.685 |\n",
       "| 1962 | 48.303 |\n",
       "| 1967 | 51.407 |\n",
       "| 1972 | 54.518 |\n",
       "| 1977 | 58.014 |\n",
       "| ⋮ | ⋮ |\n",
       "| 1982 | 49.113 |\n",
       "| 1987 | 52.922 |\n",
       "| 1992 | 55.599 |\n",
       "| 1997 | 58.020 |\n",
       "| 2002 | 60.308 |\n",
       "| 2007 | 62.698 |\n",
       "| 1952 | 42.038 |\n",
       "| 1957 | 44.077 |\n",
       "| 1962 | 46.023 |\n",
       "| 1967 | 47.768 |\n",
       "| 1972 | 50.107 |\n",
       "| 1977 | 51.386 |\n",
       "| 1982 | 51.821 |\n",
       "| 1987 | 50.821 |\n",
       "| 1992 | 46.100 |\n",
       "| 1997 | 40.238 |\n",
       "| 2002 | 39.193 |\n",
       "| 2007 | 42.384 |\n",
       "| 1952 | 48.451 |\n",
       "| 1957 | 50.469 |\n",
       "| 1962 | 52.358 |\n",
       "| 1967 | 53.995 |\n",
       "| 1972 | 55.635 |\n",
       "| 1977 | 57.674 |\n",
       "| 1982 | 60.363 |\n",
       "| 1987 | 62.351 |\n",
       "| 1992 | 60.377 |\n",
       "| 1997 | 46.809 |\n",
       "| 2002 | 39.989 |\n",
       "| 2007 | 43.487 |\n",
       "\n"
      ],
      "text/plain": [
       "     year lifeExp\n",
       "1    1952 28.801 \n",
       "2    1957 30.332 \n",
       "3    1962 31.997 \n",
       "4    1967 34.020 \n",
       "5    1972 36.088 \n",
       "6    1977 38.438 \n",
       "7    1982 39.854 \n",
       "8    1987 40.822 \n",
       "9    1992 41.674 \n",
       "10   1997 41.763 \n",
       "11   2002 42.129 \n",
       "12   2007 43.828 \n",
       "13   1952 55.230 \n",
       "14   1957 59.280 \n",
       "15   1962 64.820 \n",
       "16   1967 66.220 \n",
       "17   1972 67.690 \n",
       "18   1977 68.930 \n",
       "19   1982 70.420 \n",
       "20   1987 72.000 \n",
       "21   1992 71.581 \n",
       "22   1997 72.950 \n",
       "23   2002 75.651 \n",
       "24   2007 76.423 \n",
       "25   1952 43.077 \n",
       "26   1957 45.685 \n",
       "27   1962 48.303 \n",
       "28   1967 51.407 \n",
       "29   1972 54.518 \n",
       "30   1977 58.014 \n",
       "⋮    ⋮    ⋮      \n",
       "1675 1982 49.113 \n",
       "1676 1987 52.922 \n",
       "1677 1992 55.599 \n",
       "1678 1997 58.020 \n",
       "1679 2002 60.308 \n",
       "1680 2007 62.698 \n",
       "1681 1952 42.038 \n",
       "1682 1957 44.077 \n",
       "1683 1962 46.023 \n",
       "1684 1967 47.768 \n",
       "1685 1972 50.107 \n",
       "1686 1977 51.386 \n",
       "1687 1982 51.821 \n",
       "1688 1987 50.821 \n",
       "1689 1992 46.100 \n",
       "1690 1997 40.238 \n",
       "1691 2002 39.193 \n",
       "1692 2007 42.384 \n",
       "1693 1952 48.451 \n",
       "1694 1957 50.469 \n",
       "1695 1962 52.358 \n",
       "1696 1967 53.995 \n",
       "1697 1972 55.635 \n",
       "1698 1977 57.674 \n",
       "1699 1982 60.363 \n",
       "1700 1987 62.351 \n",
       "1701 1992 60.377 \n",
       "1702 1997 46.809 \n",
       "1703 2002 39.989 \n",
       "1704 2007 43.487 "
      ]
     },
     "metadata": {},
     "output_type": "display_data"
    }
   ],
   "source": [
    "select(gapminder, year, lifeExp)"
   ]
  },
  {
   "cell_type": "markdown",
   "metadata": {
    "slideshow": {
     "slide_type": "slide"
    }
   },
   "source": [
    "Wow! That's a lot of rows... For teaching purposes I am intentionally not binding a name to the output of these commands, as they are for demonstration only, however, that means we don't have an object to call `head` on... In Jupyter we can use this `options` function call to limit the number of rows output when we call an entire data frame."
   ]
  },
  {
   "cell_type": "code",
   "execution_count": 18,
   "metadata": {
    "slideshow": {
     "slide_type": "skip"
    }
   },
   "outputs": [],
   "source": [
    "# run this command to limit data frame output to 10 rows\n",
    "options(repr.matrix.max.rows = 10)"
   ]
  },
  {
   "cell_type": "code",
   "execution_count": 19,
   "metadata": {
    "slideshow": {
     "slide_type": "slide"
    }
   },
   "outputs": [
    {
     "data": {
      "text/html": [
       "<table class=\"dataframe\">\n",
       "<caption>A tibble: 1704 × 2</caption>\n",
       "<thead>\n",
       "\t<tr><th scope=col>year</th><th scope=col>lifeExp</th></tr>\n",
       "\t<tr><th scope=col>&lt;int&gt;</th><th scope=col>&lt;dbl&gt;</th></tr>\n",
       "</thead>\n",
       "<tbody>\n",
       "\t<tr><td>1952</td><td>28.801</td></tr>\n",
       "\t<tr><td>1957</td><td>30.332</td></tr>\n",
       "\t<tr><td>1962</td><td>31.997</td></tr>\n",
       "\t<tr><td>1967</td><td>34.020</td></tr>\n",
       "\t<tr><td>1972</td><td>36.088</td></tr>\n",
       "\t<tr><td>⋮</td><td>⋮</td></tr>\n",
       "\t<tr><td>1987</td><td>62.351</td></tr>\n",
       "\t<tr><td>1992</td><td>60.377</td></tr>\n",
       "\t<tr><td>1997</td><td>46.809</td></tr>\n",
       "\t<tr><td>2002</td><td>39.989</td></tr>\n",
       "\t<tr><td>2007</td><td>43.487</td></tr>\n",
       "</tbody>\n",
       "</table>\n"
      ],
      "text/latex": [
       "A tibble: 1704 × 2\n",
       "\\begin{tabular}{ll}\n",
       " year & lifeExp\\\\\n",
       " <int> & <dbl>\\\\\n",
       "\\hline\n",
       "\t 1952 & 28.801\\\\\n",
       "\t 1957 & 30.332\\\\\n",
       "\t 1962 & 31.997\\\\\n",
       "\t 1967 & 34.020\\\\\n",
       "\t 1972 & 36.088\\\\\n",
       "\t ⋮ & ⋮\\\\\n",
       "\t 1987 & 62.351\\\\\n",
       "\t 1992 & 60.377\\\\\n",
       "\t 1997 & 46.809\\\\\n",
       "\t 2002 & 39.989\\\\\n",
       "\t 2007 & 43.487\\\\\n",
       "\\end{tabular}\n"
      ],
      "text/markdown": [
       "\n",
       "A tibble: 1704 × 2\n",
       "\n",
       "| year &lt;int&gt; | lifeExp &lt;dbl&gt; |\n",
       "|---|---|\n",
       "| 1952 | 28.801 |\n",
       "| 1957 | 30.332 |\n",
       "| 1962 | 31.997 |\n",
       "| 1967 | 34.020 |\n",
       "| 1972 | 36.088 |\n",
       "| ⋮ | ⋮ |\n",
       "| 1987 | 62.351 |\n",
       "| 1992 | 60.377 |\n",
       "| 1997 | 46.809 |\n",
       "| 2002 | 39.989 |\n",
       "| 2007 | 43.487 |\n",
       "\n"
      ],
      "text/plain": [
       "     year lifeExp\n",
       "1    1952 28.801 \n",
       "2    1957 30.332 \n",
       "3    1962 31.997 \n",
       "4    1967 34.020 \n",
       "5    1972 36.088 \n",
       "⋮    ⋮    ⋮      \n",
       "1700 1987 62.351 \n",
       "1701 1992 60.377 \n",
       "1702 1997 46.809 \n",
       "1703 2002 39.989 \n",
       "1704 2007 43.487 "
      ]
     },
     "metadata": {},
     "output_type": "display_data"
    }
   ],
   "source": [
    "select(gapminder, year, lifeExp)"
   ]
  },
  {
   "cell_type": "markdown",
   "metadata": {
    "slideshow": {
     "slide_type": "slide"
    }
   },
   "source": [
    "You can also use `select` to get a range of columns using names:"
   ]
  },
  {
   "cell_type": "code",
   "execution_count": 20,
   "metadata": {
    "slideshow": {
     "slide_type": "fragment"
    }
   },
   "outputs": [
    {
     "data": {
      "text/html": [
       "<table class=\"dataframe\">\n",
       "<caption>A tibble: 1704 × 4</caption>\n",
       "<thead>\n",
       "\t<tr><th scope=col>country</th><th scope=col>continent</th><th scope=col>year</th><th scope=col>lifeExp</th></tr>\n",
       "\t<tr><th scope=col>&lt;fct&gt;</th><th scope=col>&lt;fct&gt;</th><th scope=col>&lt;int&gt;</th><th scope=col>&lt;dbl&gt;</th></tr>\n",
       "</thead>\n",
       "<tbody>\n",
       "\t<tr><td>Afghanistan</td><td>Asia</td><td>1952</td><td>28.801</td></tr>\n",
       "\t<tr><td>Afghanistan</td><td>Asia</td><td>1957</td><td>30.332</td></tr>\n",
       "\t<tr><td>Afghanistan</td><td>Asia</td><td>1962</td><td>31.997</td></tr>\n",
       "\t<tr><td>Afghanistan</td><td>Asia</td><td>1967</td><td>34.020</td></tr>\n",
       "\t<tr><td>Afghanistan</td><td>Asia</td><td>1972</td><td>36.088</td></tr>\n",
       "\t<tr><td>⋮</td><td>⋮</td><td>⋮</td><td>⋮</td></tr>\n",
       "\t<tr><td>Zimbabwe</td><td>Africa</td><td>1987</td><td>62.351</td></tr>\n",
       "\t<tr><td>Zimbabwe</td><td>Africa</td><td>1992</td><td>60.377</td></tr>\n",
       "\t<tr><td>Zimbabwe</td><td>Africa</td><td>1997</td><td>46.809</td></tr>\n",
       "\t<tr><td>Zimbabwe</td><td>Africa</td><td>2002</td><td>39.989</td></tr>\n",
       "\t<tr><td>Zimbabwe</td><td>Africa</td><td>2007</td><td>43.487</td></tr>\n",
       "</tbody>\n",
       "</table>\n"
      ],
      "text/latex": [
       "A tibble: 1704 × 4\n",
       "\\begin{tabular}{llll}\n",
       " country & continent & year & lifeExp\\\\\n",
       " <fct> & <fct> & <int> & <dbl>\\\\\n",
       "\\hline\n",
       "\t Afghanistan & Asia & 1952 & 28.801\\\\\n",
       "\t Afghanistan & Asia & 1957 & 30.332\\\\\n",
       "\t Afghanistan & Asia & 1962 & 31.997\\\\\n",
       "\t Afghanistan & Asia & 1967 & 34.020\\\\\n",
       "\t Afghanistan & Asia & 1972 & 36.088\\\\\n",
       "\t ⋮ & ⋮ & ⋮ & ⋮\\\\\n",
       "\t Zimbabwe & Africa & 1987 & 62.351\\\\\n",
       "\t Zimbabwe & Africa & 1992 & 60.377\\\\\n",
       "\t Zimbabwe & Africa & 1997 & 46.809\\\\\n",
       "\t Zimbabwe & Africa & 2002 & 39.989\\\\\n",
       "\t Zimbabwe & Africa & 2007 & 43.487\\\\\n",
       "\\end{tabular}\n"
      ],
      "text/markdown": [
       "\n",
       "A tibble: 1704 × 4\n",
       "\n",
       "| country &lt;fct&gt; | continent &lt;fct&gt; | year &lt;int&gt; | lifeExp &lt;dbl&gt; |\n",
       "|---|---|---|---|\n",
       "| Afghanistan | Asia | 1952 | 28.801 |\n",
       "| Afghanistan | Asia | 1957 | 30.332 |\n",
       "| Afghanistan | Asia | 1962 | 31.997 |\n",
       "| Afghanistan | Asia | 1967 | 34.020 |\n",
       "| Afghanistan | Asia | 1972 | 36.088 |\n",
       "| ⋮ | ⋮ | ⋮ | ⋮ |\n",
       "| Zimbabwe | Africa | 1987 | 62.351 |\n",
       "| Zimbabwe | Africa | 1992 | 60.377 |\n",
       "| Zimbabwe | Africa | 1997 | 46.809 |\n",
       "| Zimbabwe | Africa | 2002 | 39.989 |\n",
       "| Zimbabwe | Africa | 2007 | 43.487 |\n",
       "\n"
      ],
      "text/plain": [
       "     country     continent year lifeExp\n",
       "1    Afghanistan Asia      1952 28.801 \n",
       "2    Afghanistan Asia      1957 30.332 \n",
       "3    Afghanistan Asia      1962 31.997 \n",
       "4    Afghanistan Asia      1967 34.020 \n",
       "5    Afghanistan Asia      1972 36.088 \n",
       "⋮    ⋮           ⋮         ⋮    ⋮      \n",
       "1700 Zimbabwe    Africa    1987 62.351 \n",
       "1701 Zimbabwe    Africa    1992 60.377 \n",
       "1702 Zimbabwe    Africa    1997 46.809 \n",
       "1703 Zimbabwe    Africa    2002 39.989 \n",
       "1704 Zimbabwe    Africa    2007 43.487 "
      ]
     },
     "metadata": {},
     "output_type": "display_data"
    }
   ],
   "source": [
    "select(gapminder, country:lifeExp)"
   ]
  },
  {
   "cell_type": "markdown",
   "metadata": {
    "slideshow": {
     "slide_type": "slide"
    }
   },
   "source": [
    "### Use `filter` to subset rows that meet a specific condition\n",
    "\n",
    "`filter` from the {dplyr package, takes logical expressions and returns the rows for which all are `TRUE`, for example we can subset rows which have a life expectancy > 29:"
   ]
  },
  {
   "cell_type": "code",
   "execution_count": 21,
   "metadata": {
    "slideshow": {
     "slide_type": "fragment"
    }
   },
   "outputs": [
    {
     "data": {
      "text/html": [
       "<table class=\"dataframe\">\n",
       "<caption>A tibble: 2 × 6</caption>\n",
       "<thead>\n",
       "\t<tr><th scope=col>country</th><th scope=col>continent</th><th scope=col>year</th><th scope=col>lifeExp</th><th scope=col>pop</th><th scope=col>gdpPercap</th></tr>\n",
       "\t<tr><th scope=col>&lt;fct&gt;</th><th scope=col>&lt;fct&gt;</th><th scope=col>&lt;int&gt;</th><th scope=col>&lt;dbl&gt;</th><th scope=col>&lt;int&gt;</th><th scope=col>&lt;dbl&gt;</th></tr>\n",
       "</thead>\n",
       "<tbody>\n",
       "\t<tr><td>Afghanistan</td><td>Asia  </td><td>1952</td><td>28.801</td><td>8425333</td><td>779.4453</td></tr>\n",
       "\t<tr><td>Rwanda     </td><td>Africa</td><td>1992</td><td>23.599</td><td>7290203</td><td>737.0686</td></tr>\n",
       "</tbody>\n",
       "</table>\n"
      ],
      "text/latex": [
       "A tibble: 2 × 6\n",
       "\\begin{tabular}{llllll}\n",
       " country & continent & year & lifeExp & pop & gdpPercap\\\\\n",
       " <fct> & <fct> & <int> & <dbl> & <int> & <dbl>\\\\\n",
       "\\hline\n",
       "\t Afghanistan & Asia   & 1952 & 28.801 & 8425333 & 779.4453\\\\\n",
       "\t Rwanda      & Africa & 1992 & 23.599 & 7290203 & 737.0686\\\\\n",
       "\\end{tabular}\n"
      ],
      "text/markdown": [
       "\n",
       "A tibble: 2 × 6\n",
       "\n",
       "| country &lt;fct&gt; | continent &lt;fct&gt; | year &lt;int&gt; | lifeExp &lt;dbl&gt; | pop &lt;int&gt; | gdpPercap &lt;dbl&gt; |\n",
       "|---|---|---|---|---|---|\n",
       "| Afghanistan | Asia   | 1952 | 28.801 | 8425333 | 779.4453 |\n",
       "| Rwanda      | Africa | 1992 | 23.599 | 7290203 | 737.0686 |\n",
       "\n"
      ],
      "text/plain": [
       "  country     continent year lifeExp pop     gdpPercap\n",
       "1 Afghanistan Asia      1952 28.801  8425333 779.4453 \n",
       "2 Rwanda      Africa    1992 23.599  7290203 737.0686 "
      ]
     },
     "metadata": {},
     "output_type": "display_data"
    }
   ],
   "source": [
    "filter(gapminder, lifeExp < 29)"
   ]
  },
  {
   "cell_type": "markdown",
   "metadata": {
    "slideshow": {
     "slide_type": "slide"
    }
   },
   "source": [
    "We can susbet rows that meet two conditions, for example we can subset rows which are from the country Rwanda and whose year is > 1979. Note we use the comma `,` to separate the two conditions:"
   ]
  },
  {
   "cell_type": "code",
   "execution_count": 22,
   "metadata": {
    "slideshow": {
     "slide_type": "fragment"
    }
   },
   "outputs": [
    {
     "data": {
      "text/html": [
       "<table class=\"dataframe\">\n",
       "<caption>A tibble: 6 × 6</caption>\n",
       "<thead>\n",
       "\t<tr><th scope=col>country</th><th scope=col>continent</th><th scope=col>year</th><th scope=col>lifeExp</th><th scope=col>pop</th><th scope=col>gdpPercap</th></tr>\n",
       "\t<tr><th scope=col>&lt;fct&gt;</th><th scope=col>&lt;fct&gt;</th><th scope=col>&lt;int&gt;</th><th scope=col>&lt;dbl&gt;</th><th scope=col>&lt;int&gt;</th><th scope=col>&lt;dbl&gt;</th></tr>\n",
       "</thead>\n",
       "<tbody>\n",
       "\t<tr><td>Rwanda</td><td>Africa</td><td>1982</td><td>46.218</td><td>5507565</td><td>881.5706</td></tr>\n",
       "\t<tr><td>Rwanda</td><td>Africa</td><td>1987</td><td>44.020</td><td>6349365</td><td>847.9912</td></tr>\n",
       "\t<tr><td>Rwanda</td><td>Africa</td><td>1992</td><td>23.599</td><td>7290203</td><td>737.0686</td></tr>\n",
       "\t<tr><td>Rwanda</td><td>Africa</td><td>1997</td><td>36.087</td><td>7212583</td><td>589.9445</td></tr>\n",
       "\t<tr><td>Rwanda</td><td>Africa</td><td>2002</td><td>43.413</td><td>7852401</td><td>785.6538</td></tr>\n",
       "\t<tr><td>Rwanda</td><td>Africa</td><td>2007</td><td>46.242</td><td>8860588</td><td>863.0885</td></tr>\n",
       "</tbody>\n",
       "</table>\n"
      ],
      "text/latex": [
       "A tibble: 6 × 6\n",
       "\\begin{tabular}{llllll}\n",
       " country & continent & year & lifeExp & pop & gdpPercap\\\\\n",
       " <fct> & <fct> & <int> & <dbl> & <int> & <dbl>\\\\\n",
       "\\hline\n",
       "\t Rwanda & Africa & 1982 & 46.218 & 5507565 & 881.5706\\\\\n",
       "\t Rwanda & Africa & 1987 & 44.020 & 6349365 & 847.9912\\\\\n",
       "\t Rwanda & Africa & 1992 & 23.599 & 7290203 & 737.0686\\\\\n",
       "\t Rwanda & Africa & 1997 & 36.087 & 7212583 & 589.9445\\\\\n",
       "\t Rwanda & Africa & 2002 & 43.413 & 7852401 & 785.6538\\\\\n",
       "\t Rwanda & Africa & 2007 & 46.242 & 8860588 & 863.0885\\\\\n",
       "\\end{tabular}\n"
      ],
      "text/markdown": [
       "\n",
       "A tibble: 6 × 6\n",
       "\n",
       "| country &lt;fct&gt; | continent &lt;fct&gt; | year &lt;int&gt; | lifeExp &lt;dbl&gt; | pop &lt;int&gt; | gdpPercap &lt;dbl&gt; |\n",
       "|---|---|---|---|---|---|\n",
       "| Rwanda | Africa | 1982 | 46.218 | 5507565 | 881.5706 |\n",
       "| Rwanda | Africa | 1987 | 44.020 | 6349365 | 847.9912 |\n",
       "| Rwanda | Africa | 1992 | 23.599 | 7290203 | 737.0686 |\n",
       "| Rwanda | Africa | 1997 | 36.087 | 7212583 | 589.9445 |\n",
       "| Rwanda | Africa | 2002 | 43.413 | 7852401 | 785.6538 |\n",
       "| Rwanda | Africa | 2007 | 46.242 | 8860588 | 863.0885 |\n",
       "\n"
      ],
      "text/plain": [
       "  country continent year lifeExp pop     gdpPercap\n",
       "1 Rwanda  Africa    1982 46.218  5507565 881.5706 \n",
       "2 Rwanda  Africa    1987 44.020  6349365 847.9912 \n",
       "3 Rwanda  Africa    1992 23.599  7290203 737.0686 \n",
       "4 Rwanda  Africa    1997 36.087  7212583 589.9445 \n",
       "5 Rwanda  Africa    2002 43.413  7852401 785.6538 \n",
       "6 Rwanda  Africa    2007 46.242  8860588 863.0885 "
      ]
     },
     "metadata": {},
     "output_type": "display_data"
    }
   ],
   "source": [
    "filter(gapminder, country == \"Rwanda\", year > 1979)"
   ]
  },
  {
   "cell_type": "markdown",
   "metadata": {
    "slideshow": {
     "slide_type": "slide"
    }
   },
   "source": [
    "to filter for multiple conditions that **need not** co-occur, use `|`:"
   ]
  },
  {
   "cell_type": "code",
   "execution_count": 23,
   "metadata": {
    "slideshow": {
     "slide_type": "fragment"
    }
   },
   "outputs": [
    {
     "data": {
      "text/html": [
       "<table class=\"dataframe\">\n",
       "<caption>A tibble: 150 × 6</caption>\n",
       "<thead>\n",
       "\t<tr><th scope=col>country</th><th scope=col>continent</th><th scope=col>year</th><th scope=col>lifeExp</th><th scope=col>pop</th><th scope=col>gdpPercap</th></tr>\n",
       "\t<tr><th scope=col>&lt;fct&gt;</th><th scope=col>&lt;fct&gt;</th><th scope=col>&lt;int&gt;</th><th scope=col>&lt;dbl&gt;</th><th scope=col>&lt;int&gt;</th><th scope=col>&lt;dbl&gt;</th></tr>\n",
       "</thead>\n",
       "<tbody>\n",
       "\t<tr><td>Afghanistan</td><td>Asia    </td><td>2007</td><td>43.828</td><td>31889923</td><td>  974.5803</td></tr>\n",
       "\t<tr><td>Albania    </td><td>Europe  </td><td>2007</td><td>76.423</td><td> 3600523</td><td> 5937.0295</td></tr>\n",
       "\t<tr><td>Algeria    </td><td>Africa  </td><td>2007</td><td>72.301</td><td>33333216</td><td> 6223.3675</td></tr>\n",
       "\t<tr><td>Angola     </td><td>Africa  </td><td>2007</td><td>42.731</td><td>12420476</td><td> 4797.2313</td></tr>\n",
       "\t<tr><td>Argentina  </td><td>Americas</td><td>2007</td><td>75.320</td><td>40301927</td><td>12779.3796</td></tr>\n",
       "\t<tr><td>⋮</td><td>⋮</td><td>⋮</td><td>⋮</td><td>⋮</td><td>⋮</td></tr>\n",
       "\t<tr><td>Vietnam           </td><td>Asia  </td><td>2007</td><td>74.249</td><td>85262356</td><td>2441.5764</td></tr>\n",
       "\t<tr><td>West Bank and Gaza</td><td>Asia  </td><td>2007</td><td>73.422</td><td> 4018332</td><td>3025.3498</td></tr>\n",
       "\t<tr><td>Yemen, Rep.       </td><td>Asia  </td><td>2007</td><td>62.698</td><td>22211743</td><td>2280.7699</td></tr>\n",
       "\t<tr><td>Zambia            </td><td>Africa</td><td>2007</td><td>42.384</td><td>11746035</td><td>1271.2116</td></tr>\n",
       "\t<tr><td>Zimbabwe          </td><td>Africa</td><td>2007</td><td>43.487</td><td>12311143</td><td> 469.7093</td></tr>\n",
       "</tbody>\n",
       "</table>\n"
      ],
      "text/latex": [
       "A tibble: 150 × 6\n",
       "\\begin{tabular}{llllll}\n",
       " country & continent & year & lifeExp & pop & gdpPercap\\\\\n",
       " <fct> & <fct> & <int> & <dbl> & <int> & <dbl>\\\\\n",
       "\\hline\n",
       "\t Afghanistan & Asia     & 2007 & 43.828 & 31889923 &   974.5803\\\\\n",
       "\t Albania     & Europe   & 2007 & 76.423 &  3600523 &  5937.0295\\\\\n",
       "\t Algeria     & Africa   & 2007 & 72.301 & 33333216 &  6223.3675\\\\\n",
       "\t Angola      & Africa   & 2007 & 42.731 & 12420476 &  4797.2313\\\\\n",
       "\t Argentina   & Americas & 2007 & 75.320 & 40301927 & 12779.3796\\\\\n",
       "\t ⋮ & ⋮ & ⋮ & ⋮ & ⋮ & ⋮\\\\\n",
       "\t Vietnam            & Asia   & 2007 & 74.249 & 85262356 & 2441.5764\\\\\n",
       "\t West Bank and Gaza & Asia   & 2007 & 73.422 &  4018332 & 3025.3498\\\\\n",
       "\t Yemen, Rep.        & Asia   & 2007 & 62.698 & 22211743 & 2280.7699\\\\\n",
       "\t Zambia             & Africa & 2007 & 42.384 & 11746035 & 1271.2116\\\\\n",
       "\t Zimbabwe           & Africa & 2007 & 43.487 & 12311143 &  469.7093\\\\\n",
       "\\end{tabular}\n"
      ],
      "text/markdown": [
       "\n",
       "A tibble: 150 × 6\n",
       "\n",
       "| country &lt;fct&gt; | continent &lt;fct&gt; | year &lt;int&gt; | lifeExp &lt;dbl&gt; | pop &lt;int&gt; | gdpPercap &lt;dbl&gt; |\n",
       "|---|---|---|---|---|---|\n",
       "| Afghanistan | Asia     | 2007 | 43.828 | 31889923 |   974.5803 |\n",
       "| Albania     | Europe   | 2007 | 76.423 |  3600523 |  5937.0295 |\n",
       "| Algeria     | Africa   | 2007 | 72.301 | 33333216 |  6223.3675 |\n",
       "| Angola      | Africa   | 2007 | 42.731 | 12420476 |  4797.2313 |\n",
       "| Argentina   | Americas | 2007 | 75.320 | 40301927 | 12779.3796 |\n",
       "| ⋮ | ⋮ | ⋮ | ⋮ | ⋮ | ⋮ |\n",
       "| Vietnam            | Asia   | 2007 | 74.249 | 85262356 | 2441.5764 |\n",
       "| West Bank and Gaza | Asia   | 2007 | 73.422 |  4018332 | 3025.3498 |\n",
       "| Yemen, Rep.        | Asia   | 2007 | 62.698 | 22211743 | 2280.7699 |\n",
       "| Zambia             | Africa | 2007 | 42.384 | 11746035 | 1271.2116 |\n",
       "| Zimbabwe           | Africa | 2007 | 43.487 | 12311143 |  469.7093 |\n",
       "\n"
      ],
      "text/plain": [
       "    country            continent year lifeExp pop      gdpPercap \n",
       "1   Afghanistan        Asia      2007 43.828  31889923   974.5803\n",
       "2   Albania            Europe    2007 76.423   3600523  5937.0295\n",
       "3   Algeria            Africa    2007 72.301  33333216  6223.3675\n",
       "4   Angola             Africa    2007 42.731  12420476  4797.2313\n",
       "5   Argentina          Americas  2007 75.320  40301927 12779.3796\n",
       "⋮   ⋮                  ⋮         ⋮    ⋮       ⋮        ⋮         \n",
       "146 Vietnam            Asia      2007 74.249  85262356 2441.5764 \n",
       "147 West Bank and Gaza Asia      2007 73.422   4018332 3025.3498 \n",
       "148 Yemen, Rep.        Asia      2007 62.698  22211743 2280.7699 \n",
       "149 Zambia             Africa    2007 42.384  11746035 1271.2116 \n",
       "150 Zimbabwe           Africa    2007 43.487  12311143  469.7093 "
      ]
     },
     "metadata": {},
     "output_type": "display_data"
    }
   ],
   "source": [
    "filter(gapminder, lifeExp > 80 | year == 2007)"
   ]
  },
  {
   "cell_type": "markdown",
   "metadata": {
    "slideshow": {
     "slide_type": "slide"
    }
   },
   "source": [
    "Finally, we can use the `%in%` operator to subset rows which have values that match a value from several possible values:"
   ]
  },
  {
   "cell_type": "code",
   "execution_count": 24,
   "metadata": {
    "slideshow": {
     "slide_type": "fragment"
    }
   },
   "outputs": [
    {
     "data": {
      "text/html": [
       "<table class=\"dataframe\">\n",
       "<caption>A tibble: 36 × 6</caption>\n",
       "<thead>\n",
       "\t<tr><th scope=col>country</th><th scope=col>continent</th><th scope=col>year</th><th scope=col>lifeExp</th><th scope=col>pop</th><th scope=col>gdpPercap</th></tr>\n",
       "\t<tr><th scope=col>&lt;fct&gt;</th><th scope=col>&lt;fct&gt;</th><th scope=col>&lt;int&gt;</th><th scope=col>&lt;dbl&gt;</th><th scope=col>&lt;int&gt;</th><th scope=col>&lt;dbl&gt;</th></tr>\n",
       "</thead>\n",
       "<tbody>\n",
       "\t<tr><td>Canada</td><td>Americas</td><td>1952</td><td>68.75</td><td>14785584</td><td>11367.16</td></tr>\n",
       "\t<tr><td>Canada</td><td>Americas</td><td>1957</td><td>69.96</td><td>17010154</td><td>12489.95</td></tr>\n",
       "\t<tr><td>Canada</td><td>Americas</td><td>1962</td><td>71.30</td><td>18985849</td><td>13462.49</td></tr>\n",
       "\t<tr><td>Canada</td><td>Americas</td><td>1967</td><td>72.13</td><td>20819767</td><td>16076.59</td></tr>\n",
       "\t<tr><td>Canada</td><td>Americas</td><td>1972</td><td>72.88</td><td>22284500</td><td>18970.57</td></tr>\n",
       "\t<tr><td>⋮</td><td>⋮</td><td>⋮</td><td>⋮</td><td>⋮</td><td>⋮</td></tr>\n",
       "\t<tr><td>United States</td><td>Americas</td><td>1987</td><td>75.020</td><td>242803533</td><td>29884.35</td></tr>\n",
       "\t<tr><td>United States</td><td>Americas</td><td>1992</td><td>76.090</td><td>256894189</td><td>32003.93</td></tr>\n",
       "\t<tr><td>United States</td><td>Americas</td><td>1997</td><td>76.810</td><td>272911760</td><td>35767.43</td></tr>\n",
       "\t<tr><td>United States</td><td>Americas</td><td>2002</td><td>77.310</td><td>287675526</td><td>39097.10</td></tr>\n",
       "\t<tr><td>United States</td><td>Americas</td><td>2007</td><td>78.242</td><td>301139947</td><td>42951.65</td></tr>\n",
       "</tbody>\n",
       "</table>\n"
      ],
      "text/latex": [
       "A tibble: 36 × 6\n",
       "\\begin{tabular}{llllll}\n",
       " country & continent & year & lifeExp & pop & gdpPercap\\\\\n",
       " <fct> & <fct> & <int> & <dbl> & <int> & <dbl>\\\\\n",
       "\\hline\n",
       "\t Canada & Americas & 1952 & 68.75 & 14785584 & 11367.16\\\\\n",
       "\t Canada & Americas & 1957 & 69.96 & 17010154 & 12489.95\\\\\n",
       "\t Canada & Americas & 1962 & 71.30 & 18985849 & 13462.49\\\\\n",
       "\t Canada & Americas & 1967 & 72.13 & 20819767 & 16076.59\\\\\n",
       "\t Canada & Americas & 1972 & 72.88 & 22284500 & 18970.57\\\\\n",
       "\t ⋮ & ⋮ & ⋮ & ⋮ & ⋮ & ⋮\\\\\n",
       "\t United States & Americas & 1987 & 75.020 & 242803533 & 29884.35\\\\\n",
       "\t United States & Americas & 1992 & 76.090 & 256894189 & 32003.93\\\\\n",
       "\t United States & Americas & 1997 & 76.810 & 272911760 & 35767.43\\\\\n",
       "\t United States & Americas & 2002 & 77.310 & 287675526 & 39097.10\\\\\n",
       "\t United States & Americas & 2007 & 78.242 & 301139947 & 42951.65\\\\\n",
       "\\end{tabular}\n"
      ],
      "text/markdown": [
       "\n",
       "A tibble: 36 × 6\n",
       "\n",
       "| country &lt;fct&gt; | continent &lt;fct&gt; | year &lt;int&gt; | lifeExp &lt;dbl&gt; | pop &lt;int&gt; | gdpPercap &lt;dbl&gt; |\n",
       "|---|---|---|---|---|---|\n",
       "| Canada | Americas | 1952 | 68.75 | 14785584 | 11367.16 |\n",
       "| Canada | Americas | 1957 | 69.96 | 17010154 | 12489.95 |\n",
       "| Canada | Americas | 1962 | 71.30 | 18985849 | 13462.49 |\n",
       "| Canada | Americas | 1967 | 72.13 | 20819767 | 16076.59 |\n",
       "| Canada | Americas | 1972 | 72.88 | 22284500 | 18970.57 |\n",
       "| ⋮ | ⋮ | ⋮ | ⋮ | ⋮ | ⋮ |\n",
       "| United States | Americas | 1987 | 75.020 | 242803533 | 29884.35 |\n",
       "| United States | Americas | 1992 | 76.090 | 256894189 | 32003.93 |\n",
       "| United States | Americas | 1997 | 76.810 | 272911760 | 35767.43 |\n",
       "| United States | Americas | 2002 | 77.310 | 287675526 | 39097.10 |\n",
       "| United States | Americas | 2007 | 78.242 | 301139947 | 42951.65 |\n",
       "\n"
      ],
      "text/plain": [
       "   country       continent year lifeExp pop       gdpPercap\n",
       "1  Canada        Americas  1952 68.75   14785584  11367.16 \n",
       "2  Canada        Americas  1957 69.96   17010154  12489.95 \n",
       "3  Canada        Americas  1962 71.30   18985849  13462.49 \n",
       "4  Canada        Americas  1967 72.13   20819767  16076.59 \n",
       "5  Canada        Americas  1972 72.88   22284500  18970.57 \n",
       "⋮  ⋮             ⋮         ⋮    ⋮       ⋮         ⋮        \n",
       "32 United States Americas  1987 75.020  242803533 29884.35 \n",
       "33 United States Americas  1992 76.090  256894189 32003.93 \n",
       "34 United States Americas  1997 76.810  272911760 35767.43 \n",
       "35 United States Americas  2002 77.310  287675526 39097.10 \n",
       "36 United States Americas  2007 78.242  301139947 42951.65 "
      ]
     },
     "metadata": {},
     "output_type": "display_data"
    }
   ],
   "source": [
    "filter(gapminder, country %in% c(\"Mexico\", \"United States\", \"Canada\"))"
   ]
  },
  {
   "cell_type": "markdown",
   "metadata": {
    "tags": []
   },
   "source": [
    "### Combining functions with the pipe `|>` operator\n",
    "\n",
    "In R, we often have to call multiple functions in a sequence to process a data frame. The basic ways of doing this can become quickly unreadable if there are many steps. For example, suppose we need to perform three operations on a data frame `data`:\n",
    "\n",
    "1. add a new column `new_col` that is double another `old_col`\n",
    "2. filter for rows where another column, `other_col`, is more than 5, and\n",
    "3. select only the new column `new_col` for those rows."
   ]
  },
  {
   "cell_type": "markdown",
   "metadata": {},
   "source": [
    "One way of doing is to just write multiple lines of code, storing temporary objects as you go:\n",
    "\n",
    "```\n",
    "output_1 <- mutate(data, new_col = old_col * 2)\n",
    "output_2 <- filter(output_1, other_col > 5)\n",
    "output <- select(output_2, new_col)\n",
    "```"
   ]
  },
  {
   "cell_type": "markdown",
   "metadata": {},
   "source": [
    "This is difficult to understand for multiple reasons. The reader may be tricked into thinking the named `output_1` and `output_2` objects are important for some reason, while they are just temporary intermediate computations. Further, the reader has to look through and find where `output_1` and `output_2` are used in each subsequent line."
   ]
  },
  {
   "cell_type": "markdown",
   "metadata": {},
   "source": [
    "Another option for doing this would be to compose the functions:\n",
    "\n",
    "```\n",
    "output <- select(filter(mutate(data, new_col = old_col * 2), other_col > 5), new_col)\n",
    "```"
   ]
  },
  {
   "cell_type": "markdown",
   "metadata": {},
   "source": [
    "Code like this can also be difficult to understand. Functions compose (reading from left to right) in the opposite order in which they are computed by R (above, `mutate` happens first, then `filter`, then `select`). It is also just a really long line of code to read in one go.\n"
   ]
  },
  {
   "cell_type": "markdown",
   "metadata": {},
   "source": [
    "The pipe operator `|>` solves this problem, resulting in cleaner and easier-to-follow code. |> in built into R so you don’t need to load any packages to use it. The code below accomplishes the same thing as the previous two code blocks:\n",
    "\n",
    "\n",
    "```\n",
    "output <- data |>\n",
    "mutate(new_col = old_col * 2) |>\n",
    "filter(other_col > 5) |>\n",
    "select(new_col)\n",
    "```"
   ]
  },
  {
   "cell_type": "markdown",
   "metadata": {
    "slideshow": {
     "slide_type": "slide"
    }
   },
   "source": [
    "\n",
    "\n",
    "The pipe operator takes the thing on the left-hand-side and pipes it into the function call on the right-hand-side – ***literally, drops it in as the first argument.*** \n",
    "\n",
    "- this year (2021) R created `|>` as a built-in pipe operator!!!\n",
    "- it was inspired from the pipe from the `magrittr` package `%>%`; which is imported by the `tidyverse` (and `dplyr`) package\n",
    "\n",
    "![](http://hexb.in/hexagons/magrittr.png)\n",
    "*Referring to the [1948 painting La Trahison des images](https://www.wikiart.org/en/rene-magritte/the-treachery-of-images-this-is-not-a-pipe-1948) by Rene Magritte*"
   ]
  },
  {
   "cell_type": "markdown",
   "metadata": {},
   "source": [
    "So now we also have:\n",
    "\n",
    "![base R pipe hex](img/base-pipe-hex.jpg)\n",
    "\n",
    "Logo by [@LuisDVerde](https://twitter.com/LuisDVerde)\n",
    "\n",
    "*Source: https://twitter.com/LuisDVerde/status/1430905603405144065*"
   ]
  },
  {
   "cell_type": "markdown",
   "metadata": {
    "slideshow": {
     "slide_type": "notes"
    }
   },
   "source": [
    "Which to use? Most of the time there will be no difference. I will be adopting `|>` in my notes, homeworks, etc however, some from past times will use `%>%` and you will still see `|>` in other people's code.\n",
    "\n",
    "I am choosing `|>` because I can then use piping in R packages without depending upon the `magrittr` package. More on this in DSCI 524: Collaborative Software Developement."
   ]
  },
  {
   "cell_type": "markdown",
   "metadata": {
    "slideshow": {
     "slide_type": "slide"
    }
   },
   "source": [
    "So instead of using intermediate objects to combine two functions (*e.g.*, `select` & `filter`) like this:"
   ]
  },
  {
   "cell_type": "code",
   "execution_count": 25,
   "metadata": {
    "slideshow": {
     "slide_type": "fragment"
    }
   },
   "outputs": [
    {
     "data": {
      "text/html": [
       "<table class=\"dataframe\">\n",
       "<caption>A tibble: 2 × 2</caption>\n",
       "<thead>\n",
       "\t<tr><th scope=col>country</th><th scope=col>year</th></tr>\n",
       "\t<tr><th scope=col>&lt;fct&gt;</th><th scope=col>&lt;int&gt;</th></tr>\n",
       "</thead>\n",
       "<tbody>\n",
       "\t<tr><td>Afghanistan</td><td>1952</td></tr>\n",
       "\t<tr><td>Rwanda     </td><td>1992</td></tr>\n",
       "</tbody>\n",
       "</table>\n"
      ],
      "text/latex": [
       "A tibble: 2 × 2\n",
       "\\begin{tabular}{ll}\n",
       " country & year\\\\\n",
       " <fct> & <int>\\\\\n",
       "\\hline\n",
       "\t Afghanistan & 1952\\\\\n",
       "\t Rwanda      & 1992\\\\\n",
       "\\end{tabular}\n"
      ],
      "text/markdown": [
       "\n",
       "A tibble: 2 × 2\n",
       "\n",
       "| country &lt;fct&gt; | year &lt;int&gt; |\n",
       "|---|---|\n",
       "| Afghanistan | 1952 |\n",
       "| Rwanda      | 1992 |\n",
       "\n"
      ],
      "text/plain": [
       "  country     year\n",
       "1 Afghanistan 1952\n",
       "2 Rwanda      1992"
      ]
     },
     "metadata": {},
     "output_type": "display_data"
    }
   ],
   "source": [
    "gap_under_29 <- filter(gapminder, lifeExp < 29)\n",
    "select(gap_under_29, country, year)"
   ]
  },
  {
   "cell_type": "markdown",
   "metadata": {
    "slideshow": {
     "slide_type": "slide"
    }
   },
   "source": [
    "And instead of composing functions in a hard to read manner:"
   ]
  },
  {
   "cell_type": "code",
   "execution_count": 26,
   "metadata": {
    "slideshow": {
     "slide_type": "fragment"
    }
   },
   "outputs": [
    {
     "data": {
      "text/html": [
       "<table class=\"dataframe\">\n",
       "<caption>A tibble: 2 × 2</caption>\n",
       "<thead>\n",
       "\t<tr><th scope=col>country</th><th scope=col>year</th></tr>\n",
       "\t<tr><th scope=col>&lt;fct&gt;</th><th scope=col>&lt;int&gt;</th></tr>\n",
       "</thead>\n",
       "<tbody>\n",
       "\t<tr><td>Afghanistan</td><td>1952</td></tr>\n",
       "\t<tr><td>Rwanda     </td><td>1992</td></tr>\n",
       "</tbody>\n",
       "</table>\n"
      ],
      "text/latex": [
       "A tibble: 2 × 2\n",
       "\\begin{tabular}{ll}\n",
       " country & year\\\\\n",
       " <fct> & <int>\\\\\n",
       "\\hline\n",
       "\t Afghanistan & 1952\\\\\n",
       "\t Rwanda      & 1992\\\\\n",
       "\\end{tabular}\n"
      ],
      "text/markdown": [
       "\n",
       "A tibble: 2 × 2\n",
       "\n",
       "| country &lt;fct&gt; | year &lt;int&gt; |\n",
       "|---|---|\n",
       "| Afghanistan | 1952 |\n",
       "| Rwanda      | 1992 |\n",
       "\n"
      ],
      "text/plain": [
       "  country     year\n",
       "1 Afghanistan 1952\n",
       "2 Rwanda      1992"
      ]
     },
     "metadata": {},
     "output_type": "display_data"
    }
   ],
   "source": [
    "select(filter(gapminder, lifeExp < 29), country, year)"
   ]
  },
  {
   "cell_type": "markdown",
   "metadata": {
    "slideshow": {
     "slide_type": "slide"
    }
   },
   "source": [
    "We can use the pipe `|>` to create easy to read piplines to connect our function calls:"
   ]
  },
  {
   "cell_type": "code",
   "execution_count": 27,
   "metadata": {
    "slideshow": {
     "slide_type": "fragment"
    }
   },
   "outputs": [
    {
     "data": {
      "text/html": [
       "<table class=\"dataframe\">\n",
       "<caption>A tibble: 2 × 2</caption>\n",
       "<thead>\n",
       "\t<tr><th scope=col>country</th><th scope=col>year</th></tr>\n",
       "\t<tr><th scope=col>&lt;fct&gt;</th><th scope=col>&lt;int&gt;</th></tr>\n",
       "</thead>\n",
       "<tbody>\n",
       "\t<tr><td>Afghanistan</td><td>1952</td></tr>\n",
       "\t<tr><td>Rwanda     </td><td>1992</td></tr>\n",
       "</tbody>\n",
       "</table>\n"
      ],
      "text/latex": [
       "A tibble: 2 × 2\n",
       "\\begin{tabular}{ll}\n",
       " country & year\\\\\n",
       " <fct> & <int>\\\\\n",
       "\\hline\n",
       "\t Afghanistan & 1952\\\\\n",
       "\t Rwanda      & 1992\\\\\n",
       "\\end{tabular}\n"
      ],
      "text/markdown": [
       "\n",
       "A tibble: 2 × 2\n",
       "\n",
       "| country &lt;fct&gt; | year &lt;int&gt; |\n",
       "|---|---|\n",
       "| Afghanistan | 1952 |\n",
       "| Rwanda      | 1992 |\n",
       "\n"
      ],
      "text/plain": [
       "  country     year\n",
       "1 Afghanistan 1952\n",
       "2 Rwanda      1992"
      ]
     },
     "metadata": {},
     "output_type": "display_data"
    }
   ],
   "source": [
    "filter(gapminder, lifeExp < 29) |>\n",
    "    select(country, year)"
   ]
  },
  {
   "cell_type": "markdown",
   "metadata": {
    "slideshow": {
     "slide_type": "slide"
    }
   },
   "source": [
    "We can even start out our pipelines with an R data frame!"
   ]
  },
  {
   "cell_type": "code",
   "execution_count": 28,
   "metadata": {
    "slideshow": {
     "slide_type": "fragment"
    }
   },
   "outputs": [
    {
     "data": {
      "text/html": [
       "<table class=\"dataframe\">\n",
       "<caption>A tibble: 2 × 2</caption>\n",
       "<thead>\n",
       "\t<tr><th scope=col>country</th><th scope=col>year</th></tr>\n",
       "\t<tr><th scope=col>&lt;fct&gt;</th><th scope=col>&lt;int&gt;</th></tr>\n",
       "</thead>\n",
       "<tbody>\n",
       "\t<tr><td>Afghanistan</td><td>1952</td></tr>\n",
       "\t<tr><td>Rwanda     </td><td>1992</td></tr>\n",
       "</tbody>\n",
       "</table>\n"
      ],
      "text/latex": [
       "A tibble: 2 × 2\n",
       "\\begin{tabular}{ll}\n",
       " country & year\\\\\n",
       " <fct> & <int>\\\\\n",
       "\\hline\n",
       "\t Afghanistan & 1952\\\\\n",
       "\t Rwanda      & 1992\\\\\n",
       "\\end{tabular}\n"
      ],
      "text/markdown": [
       "\n",
       "A tibble: 2 × 2\n",
       "\n",
       "| country &lt;fct&gt; | year &lt;int&gt; |\n",
       "|---|---|\n",
       "| Afghanistan | 1952 |\n",
       "| Rwanda      | 1992 |\n",
       "\n"
      ],
      "text/plain": [
       "  country     year\n",
       "1 Afghanistan 1952\n",
       "2 Rwanda      1992"
      ]
     },
     "metadata": {},
     "output_type": "display_data"
    }
   ],
   "source": [
    "gapminder |>\n",
    "    filter(lifeExp < 29) |>\n",
    "    select(country, year)"
   ]
  },
  {
   "cell_type": "markdown",
   "metadata": {
    "slideshow": {
     "slide_type": "fragment"
    }
   },
   "source": [
    "We will embrace the pipe going forward in MDS!"
   ]
  },
  {
   "cell_type": "markdown",
   "metadata": {
    "slideshow": {
     "slide_type": "slide"
    }
   },
   "source": [
    "#### Pro-tip for creating objects using the pipe\n",
    "\n",
    "Don't start writing your code by assigning to an object - it's hard to debug and find the errors:"
   ]
  },
  {
   "cell_type": "markdown",
   "metadata": {
    "slideshow": {
     "slide_type": "fragment"
    }
   },
   "source": [
    "```\n",
    "new_df <- gapminder |> \n",
    "    filter(country == \"Cabodia\") |>\n",
    "    select(Year, lifeExp) \n",
    "```\n",
    "\n",
    "```\n",
    "Error in .f(.x[[i]], ...): object 'Year' not found\n",
    "Traceback:\n",
    "\n",
    "1. gapminder |> filter(country == \"Cabodia\") |> select(Year, lifeExp)\n",
    "2. withVisible(eval(quote(`_fseq`(`_lhs`)), env, env))\n",
    "3. eval(quote(`_fseq`(`_lhs`)), env, env)\n",
    "4. eval(quote(`_fseq`(`_lhs`)), env, env)\n",
    "5. `_fseq`(`_lhs`)\n",
    "6. freduce(value, `_function_list`)\n",
    "7. withVisible(function_list[[k]](value))\n",
    "8. function_list[[k]](value)\n",
    "9. select(., Year, lifeExp)\n",
    "10. select.data.frame(., Year, lifeExp)\n",
    "11. tidyselect::vars_select(tbl_vars(.data), !!!enquos(...))\n",
    "12. vars_select_eval(.vars, quos)\n",
    "13. map_if(quos, !is_helper, eval_tidy, mask)\n",
    "14. map(.x[sel], .f, ...)\n",
    "15. .f(.x[[i]], ...)\n",
    "```"
   ]
  },
  {
   "cell_type": "markdown",
   "metadata": {
    "slideshow": {
     "slide_type": "slide"
    }
   },
   "source": [
    "Instead, create your pipeline, just dumping it to the screen:"
   ]
  },
  {
   "cell_type": "code",
   "execution_count": 29,
   "metadata": {
    "slideshow": {
     "slide_type": "fragment"
    }
   },
   "outputs": [
    {
     "data": {
      "text/html": [
       "<table class=\"dataframe\">\n",
       "<caption>A tibble: 12 × 2</caption>\n",
       "<thead>\n",
       "\t<tr><th scope=col>year</th><th scope=col>lifeExp</th></tr>\n",
       "\t<tr><th scope=col>&lt;int&gt;</th><th scope=col>&lt;dbl&gt;</th></tr>\n",
       "</thead>\n",
       "<tbody>\n",
       "\t<tr><td>1952</td><td>39.417</td></tr>\n",
       "\t<tr><td>1957</td><td>41.366</td></tr>\n",
       "\t<tr><td>1962</td><td>43.415</td></tr>\n",
       "\t<tr><td>1967</td><td>45.415</td></tr>\n",
       "\t<tr><td>1972</td><td>40.317</td></tr>\n",
       "\t<tr><td>⋮</td><td>⋮</td></tr>\n",
       "\t<tr><td>1987</td><td>53.914</td></tr>\n",
       "\t<tr><td>1992</td><td>55.803</td></tr>\n",
       "\t<tr><td>1997</td><td>56.534</td></tr>\n",
       "\t<tr><td>2002</td><td>56.752</td></tr>\n",
       "\t<tr><td>2007</td><td>59.723</td></tr>\n",
       "</tbody>\n",
       "</table>\n"
      ],
      "text/latex": [
       "A tibble: 12 × 2\n",
       "\\begin{tabular}{ll}\n",
       " year & lifeExp\\\\\n",
       " <int> & <dbl>\\\\\n",
       "\\hline\n",
       "\t 1952 & 39.417\\\\\n",
       "\t 1957 & 41.366\\\\\n",
       "\t 1962 & 43.415\\\\\n",
       "\t 1967 & 45.415\\\\\n",
       "\t 1972 & 40.317\\\\\n",
       "\t ⋮ & ⋮\\\\\n",
       "\t 1987 & 53.914\\\\\n",
       "\t 1992 & 55.803\\\\\n",
       "\t 1997 & 56.534\\\\\n",
       "\t 2002 & 56.752\\\\\n",
       "\t 2007 & 59.723\\\\\n",
       "\\end{tabular}\n"
      ],
      "text/markdown": [
       "\n",
       "A tibble: 12 × 2\n",
       "\n",
       "| year &lt;int&gt; | lifeExp &lt;dbl&gt; |\n",
       "|---|---|\n",
       "| 1952 | 39.417 |\n",
       "| 1957 | 41.366 |\n",
       "| 1962 | 43.415 |\n",
       "| 1967 | 45.415 |\n",
       "| 1972 | 40.317 |\n",
       "| ⋮ | ⋮ |\n",
       "| 1987 | 53.914 |\n",
       "| 1992 | 55.803 |\n",
       "| 1997 | 56.534 |\n",
       "| 2002 | 56.752 |\n",
       "| 2007 | 59.723 |\n",
       "\n"
      ],
      "text/plain": [
       "   year lifeExp\n",
       "1  1952 39.417 \n",
       "2  1957 41.366 \n",
       "3  1962 43.415 \n",
       "4  1967 45.415 \n",
       "5  1972 40.317 \n",
       "⋮  ⋮    ⋮      \n",
       "8  1987 53.914 \n",
       "9  1992 55.803 \n",
       "10 1997 56.534 \n",
       "11 2002 56.752 \n",
       "12 2007 59.723 "
      ]
     },
     "metadata": {},
     "output_type": "display_data"
    }
   ],
   "source": [
    "gapminder |> \n",
    "    filter(country == \"Cambodia\") |>\n",
    "    select(year, lifeExp)"
   ]
  },
  {
   "cell_type": "markdown",
   "metadata": {
    "slideshow": {
     "slide_type": "slide"
    }
   },
   "source": [
    "Then, once you know it works, assign it to an object:"
   ]
  },
  {
   "cell_type": "code",
   "execution_count": 30,
   "metadata": {
    "slideshow": {
     "slide_type": "fragment"
    }
   },
   "outputs": [],
   "source": [
    "new_df <- gapminder |>\n",
    "    filter(country == \"Cambodia\") |>\n",
    "    select(year, lifeExp) "
   ]
  },
  {
   "cell_type": "markdown",
   "metadata": {
    "slideshow": {
     "slide_type": "slide"
    }
   },
   "source": [
    "### Use `mutate` to add new variables\n",
    "\n",
    "Imagine we wanted to recover each country’s GDP. After all, the Gapminder data has a variable for population and GDP per capita. Let’s multiply them together.\n",
    "\n",
    "`mutate` is a function that defines and inserts new variables into a tibble. You can refer to existing variables by name."
   ]
  },
  {
   "cell_type": "code",
   "execution_count": 31,
   "metadata": {
    "slideshow": {
     "slide_type": "fragment"
    }
   },
   "outputs": [
    {
     "data": {
      "text/html": [
       "<table class=\"dataframe\">\n",
       "<caption>A tibble: 1704 × 7</caption>\n",
       "<thead>\n",
       "\t<tr><th scope=col>country</th><th scope=col>continent</th><th scope=col>year</th><th scope=col>lifeExp</th><th scope=col>pop</th><th scope=col>gdpPercap</th><th scope=col>tot_gdp</th></tr>\n",
       "\t<tr><th scope=col>&lt;fct&gt;</th><th scope=col>&lt;fct&gt;</th><th scope=col>&lt;int&gt;</th><th scope=col>&lt;dbl&gt;</th><th scope=col>&lt;int&gt;</th><th scope=col>&lt;dbl&gt;</th><th scope=col>&lt;dbl&gt;</th></tr>\n",
       "</thead>\n",
       "<tbody>\n",
       "\t<tr><td>Afghanistan</td><td>Asia</td><td>1952</td><td>28.801</td><td> 8425333</td><td>779.4453</td><td>6567086330</td></tr>\n",
       "\t<tr><td>Afghanistan</td><td>Asia</td><td>1957</td><td>30.332</td><td> 9240934</td><td>820.8530</td><td>7585448670</td></tr>\n",
       "\t<tr><td>Afghanistan</td><td>Asia</td><td>1962</td><td>31.997</td><td>10267083</td><td>853.1007</td><td>8758855797</td></tr>\n",
       "\t<tr><td>Afghanistan</td><td>Asia</td><td>1967</td><td>34.020</td><td>11537966</td><td>836.1971</td><td>9648014150</td></tr>\n",
       "\t<tr><td>Afghanistan</td><td>Asia</td><td>1972</td><td>36.088</td><td>13079460</td><td>739.9811</td><td>9678553274</td></tr>\n",
       "\t<tr><td>⋮</td><td>⋮</td><td>⋮</td><td>⋮</td><td>⋮</td><td>⋮</td><td>⋮</td></tr>\n",
       "\t<tr><td>Zimbabwe</td><td>Africa</td><td>1987</td><td>62.351</td><td> 9216418</td><td>706.1573</td><td>6508240905</td></tr>\n",
       "\t<tr><td>Zimbabwe</td><td>Africa</td><td>1992</td><td>60.377</td><td>10704340</td><td>693.4208</td><td>7422611852</td></tr>\n",
       "\t<tr><td>Zimbabwe</td><td>Africa</td><td>1997</td><td>46.809</td><td>11404948</td><td>792.4500</td><td>9037850590</td></tr>\n",
       "\t<tr><td>Zimbabwe</td><td>Africa</td><td>2002</td><td>39.989</td><td>11926563</td><td>672.0386</td><td>8015110972</td></tr>\n",
       "\t<tr><td>Zimbabwe</td><td>Africa</td><td>2007</td><td>43.487</td><td>12311143</td><td>469.7093</td><td>5782658337</td></tr>\n",
       "</tbody>\n",
       "</table>\n"
      ],
      "text/latex": [
       "A tibble: 1704 × 7\n",
       "\\begin{tabular}{lllllll}\n",
       " country & continent & year & lifeExp & pop & gdpPercap & tot\\_gdp\\\\\n",
       " <fct> & <fct> & <int> & <dbl> & <int> & <dbl> & <dbl>\\\\\n",
       "\\hline\n",
       "\t Afghanistan & Asia & 1952 & 28.801 &  8425333 & 779.4453 & 6567086330\\\\\n",
       "\t Afghanistan & Asia & 1957 & 30.332 &  9240934 & 820.8530 & 7585448670\\\\\n",
       "\t Afghanistan & Asia & 1962 & 31.997 & 10267083 & 853.1007 & 8758855797\\\\\n",
       "\t Afghanistan & Asia & 1967 & 34.020 & 11537966 & 836.1971 & 9648014150\\\\\n",
       "\t Afghanistan & Asia & 1972 & 36.088 & 13079460 & 739.9811 & 9678553274\\\\\n",
       "\t ⋮ & ⋮ & ⋮ & ⋮ & ⋮ & ⋮ & ⋮\\\\\n",
       "\t Zimbabwe & Africa & 1987 & 62.351 &  9216418 & 706.1573 & 6508240905\\\\\n",
       "\t Zimbabwe & Africa & 1992 & 60.377 & 10704340 & 693.4208 & 7422611852\\\\\n",
       "\t Zimbabwe & Africa & 1997 & 46.809 & 11404948 & 792.4500 & 9037850590\\\\\n",
       "\t Zimbabwe & Africa & 2002 & 39.989 & 11926563 & 672.0386 & 8015110972\\\\\n",
       "\t Zimbabwe & Africa & 2007 & 43.487 & 12311143 & 469.7093 & 5782658337\\\\\n",
       "\\end{tabular}\n"
      ],
      "text/markdown": [
       "\n",
       "A tibble: 1704 × 7\n",
       "\n",
       "| country &lt;fct&gt; | continent &lt;fct&gt; | year &lt;int&gt; | lifeExp &lt;dbl&gt; | pop &lt;int&gt; | gdpPercap &lt;dbl&gt; | tot_gdp &lt;dbl&gt; |\n",
       "|---|---|---|---|---|---|---|\n",
       "| Afghanistan | Asia | 1952 | 28.801 |  8425333 | 779.4453 | 6567086330 |\n",
       "| Afghanistan | Asia | 1957 | 30.332 |  9240934 | 820.8530 | 7585448670 |\n",
       "| Afghanistan | Asia | 1962 | 31.997 | 10267083 | 853.1007 | 8758855797 |\n",
       "| Afghanistan | Asia | 1967 | 34.020 | 11537966 | 836.1971 | 9648014150 |\n",
       "| Afghanistan | Asia | 1972 | 36.088 | 13079460 | 739.9811 | 9678553274 |\n",
       "| ⋮ | ⋮ | ⋮ | ⋮ | ⋮ | ⋮ | ⋮ |\n",
       "| Zimbabwe | Africa | 1987 | 62.351 |  9216418 | 706.1573 | 6508240905 |\n",
       "| Zimbabwe | Africa | 1992 | 60.377 | 10704340 | 693.4208 | 7422611852 |\n",
       "| Zimbabwe | Africa | 1997 | 46.809 | 11404948 | 792.4500 | 9037850590 |\n",
       "| Zimbabwe | Africa | 2002 | 39.989 | 11926563 | 672.0386 | 8015110972 |\n",
       "| Zimbabwe | Africa | 2007 | 43.487 | 12311143 | 469.7093 | 5782658337 |\n",
       "\n"
      ],
      "text/plain": [
       "     country     continent year lifeExp pop      gdpPercap tot_gdp   \n",
       "1    Afghanistan Asia      1952 28.801   8425333 779.4453  6567086330\n",
       "2    Afghanistan Asia      1957 30.332   9240934 820.8530  7585448670\n",
       "3    Afghanistan Asia      1962 31.997  10267083 853.1007  8758855797\n",
       "4    Afghanistan Asia      1967 34.020  11537966 836.1971  9648014150\n",
       "5    Afghanistan Asia      1972 36.088  13079460 739.9811  9678553274\n",
       "⋮    ⋮           ⋮         ⋮    ⋮       ⋮        ⋮         ⋮         \n",
       "1700 Zimbabwe    Africa    1987 62.351   9216418 706.1573  6508240905\n",
       "1701 Zimbabwe    Africa    1992 60.377  10704340 693.4208  7422611852\n",
       "1702 Zimbabwe    Africa    1997 46.809  11404948 792.4500  9037850590\n",
       "1703 Zimbabwe    Africa    2002 39.989  11926563 672.0386  8015110972\n",
       "1704 Zimbabwe    Africa    2007 43.487  12311143 469.7093  5782658337"
      ]
     },
     "metadata": {},
     "output_type": "display_data"
    }
   ],
   "source": [
    "gapminder |> \n",
    "    mutate(tot_gdp = pop * gdpPercap)"
   ]
  },
  {
   "cell_type": "markdown",
   "metadata": {
    "slideshow": {
     "slide_type": "slide"
    }
   },
   "source": [
    "To `mutate` more than one column, use commas to separate the mutation for each column:"
   ]
  },
  {
   "cell_type": "code",
   "execution_count": 32,
   "metadata": {
    "slideshow": {
     "slide_type": "fragment"
    }
   },
   "outputs": [
    {
     "data": {
      "text/html": [
       "<table class=\"dataframe\">\n",
       "<caption>A tibble: 1704 × 8</caption>\n",
       "<thead>\n",
       "\t<tr><th scope=col>country</th><th scope=col>continent</th><th scope=col>year</th><th scope=col>lifeExp</th><th scope=col>pop</th><th scope=col>gdpPercap</th><th scope=col>tot_gdp</th><th scope=col>pop_thousands</th></tr>\n",
       "\t<tr><th scope=col>&lt;fct&gt;</th><th scope=col>&lt;fct&gt;</th><th scope=col>&lt;int&gt;</th><th scope=col>&lt;dbl&gt;</th><th scope=col>&lt;int&gt;</th><th scope=col>&lt;dbl&gt;</th><th scope=col>&lt;dbl&gt;</th><th scope=col>&lt;dbl&gt;</th></tr>\n",
       "</thead>\n",
       "<tbody>\n",
       "\t<tr><td>Afghanistan</td><td>Asia</td><td>1952</td><td>28.801</td><td> 8425333</td><td>779.4453</td><td>6567086330</td><td> 8425.333</td></tr>\n",
       "\t<tr><td>Afghanistan</td><td>Asia</td><td>1957</td><td>30.332</td><td> 9240934</td><td>820.8530</td><td>7585448670</td><td> 9240.934</td></tr>\n",
       "\t<tr><td>Afghanistan</td><td>Asia</td><td>1962</td><td>31.997</td><td>10267083</td><td>853.1007</td><td>8758855797</td><td>10267.083</td></tr>\n",
       "\t<tr><td>Afghanistan</td><td>Asia</td><td>1967</td><td>34.020</td><td>11537966</td><td>836.1971</td><td>9648014150</td><td>11537.966</td></tr>\n",
       "\t<tr><td>Afghanistan</td><td>Asia</td><td>1972</td><td>36.088</td><td>13079460</td><td>739.9811</td><td>9678553274</td><td>13079.460</td></tr>\n",
       "\t<tr><td>⋮</td><td>⋮</td><td>⋮</td><td>⋮</td><td>⋮</td><td>⋮</td><td>⋮</td><td>⋮</td></tr>\n",
       "\t<tr><td>Zimbabwe</td><td>Africa</td><td>1987</td><td>62.351</td><td> 9216418</td><td>706.1573</td><td>6508240905</td><td> 9216.418</td></tr>\n",
       "\t<tr><td>Zimbabwe</td><td>Africa</td><td>1992</td><td>60.377</td><td>10704340</td><td>693.4208</td><td>7422611852</td><td>10704.340</td></tr>\n",
       "\t<tr><td>Zimbabwe</td><td>Africa</td><td>1997</td><td>46.809</td><td>11404948</td><td>792.4500</td><td>9037850590</td><td>11404.948</td></tr>\n",
       "\t<tr><td>Zimbabwe</td><td>Africa</td><td>2002</td><td>39.989</td><td>11926563</td><td>672.0386</td><td>8015110972</td><td>11926.563</td></tr>\n",
       "\t<tr><td>Zimbabwe</td><td>Africa</td><td>2007</td><td>43.487</td><td>12311143</td><td>469.7093</td><td>5782658337</td><td>12311.143</td></tr>\n",
       "</tbody>\n",
       "</table>\n"
      ],
      "text/latex": [
       "A tibble: 1704 × 8\n",
       "\\begin{tabular}{llllllll}\n",
       " country & continent & year & lifeExp & pop & gdpPercap & tot\\_gdp & pop\\_thousands\\\\\n",
       " <fct> & <fct> & <int> & <dbl> & <int> & <dbl> & <dbl> & <dbl>\\\\\n",
       "\\hline\n",
       "\t Afghanistan & Asia & 1952 & 28.801 &  8425333 & 779.4453 & 6567086330 &  8425.333\\\\\n",
       "\t Afghanistan & Asia & 1957 & 30.332 &  9240934 & 820.8530 & 7585448670 &  9240.934\\\\\n",
       "\t Afghanistan & Asia & 1962 & 31.997 & 10267083 & 853.1007 & 8758855797 & 10267.083\\\\\n",
       "\t Afghanistan & Asia & 1967 & 34.020 & 11537966 & 836.1971 & 9648014150 & 11537.966\\\\\n",
       "\t Afghanistan & Asia & 1972 & 36.088 & 13079460 & 739.9811 & 9678553274 & 13079.460\\\\\n",
       "\t ⋮ & ⋮ & ⋮ & ⋮ & ⋮ & ⋮ & ⋮ & ⋮\\\\\n",
       "\t Zimbabwe & Africa & 1987 & 62.351 &  9216418 & 706.1573 & 6508240905 &  9216.418\\\\\n",
       "\t Zimbabwe & Africa & 1992 & 60.377 & 10704340 & 693.4208 & 7422611852 & 10704.340\\\\\n",
       "\t Zimbabwe & Africa & 1997 & 46.809 & 11404948 & 792.4500 & 9037850590 & 11404.948\\\\\n",
       "\t Zimbabwe & Africa & 2002 & 39.989 & 11926563 & 672.0386 & 8015110972 & 11926.563\\\\\n",
       "\t Zimbabwe & Africa & 2007 & 43.487 & 12311143 & 469.7093 & 5782658337 & 12311.143\\\\\n",
       "\\end{tabular}\n"
      ],
      "text/markdown": [
       "\n",
       "A tibble: 1704 × 8\n",
       "\n",
       "| country &lt;fct&gt; | continent &lt;fct&gt; | year &lt;int&gt; | lifeExp &lt;dbl&gt; | pop &lt;int&gt; | gdpPercap &lt;dbl&gt; | tot_gdp &lt;dbl&gt; | pop_thousands &lt;dbl&gt; |\n",
       "|---|---|---|---|---|---|---|---|\n",
       "| Afghanistan | Asia | 1952 | 28.801 |  8425333 | 779.4453 | 6567086330 |  8425.333 |\n",
       "| Afghanistan | Asia | 1957 | 30.332 |  9240934 | 820.8530 | 7585448670 |  9240.934 |\n",
       "| Afghanistan | Asia | 1962 | 31.997 | 10267083 | 853.1007 | 8758855797 | 10267.083 |\n",
       "| Afghanistan | Asia | 1967 | 34.020 | 11537966 | 836.1971 | 9648014150 | 11537.966 |\n",
       "| Afghanistan | Asia | 1972 | 36.088 | 13079460 | 739.9811 | 9678553274 | 13079.460 |\n",
       "| ⋮ | ⋮ | ⋮ | ⋮ | ⋮ | ⋮ | ⋮ | ⋮ |\n",
       "| Zimbabwe | Africa | 1987 | 62.351 |  9216418 | 706.1573 | 6508240905 |  9216.418 |\n",
       "| Zimbabwe | Africa | 1992 | 60.377 | 10704340 | 693.4208 | 7422611852 | 10704.340 |\n",
       "| Zimbabwe | Africa | 1997 | 46.809 | 11404948 | 792.4500 | 9037850590 | 11404.948 |\n",
       "| Zimbabwe | Africa | 2002 | 39.989 | 11926563 | 672.0386 | 8015110972 | 11926.563 |\n",
       "| Zimbabwe | Africa | 2007 | 43.487 | 12311143 | 469.7093 | 5782658337 | 12311.143 |\n",
       "\n"
      ],
      "text/plain": [
       "     country     continent year lifeExp pop      gdpPercap tot_gdp   \n",
       "1    Afghanistan Asia      1952 28.801   8425333 779.4453  6567086330\n",
       "2    Afghanistan Asia      1957 30.332   9240934 820.8530  7585448670\n",
       "3    Afghanistan Asia      1962 31.997  10267083 853.1007  8758855797\n",
       "4    Afghanistan Asia      1967 34.020  11537966 836.1971  9648014150\n",
       "5    Afghanistan Asia      1972 36.088  13079460 739.9811  9678553274\n",
       "⋮    ⋮           ⋮         ⋮    ⋮       ⋮        ⋮         ⋮         \n",
       "1700 Zimbabwe    Africa    1987 62.351   9216418 706.1573  6508240905\n",
       "1701 Zimbabwe    Africa    1992 60.377  10704340 693.4208  7422611852\n",
       "1702 Zimbabwe    Africa    1997 46.809  11404948 792.4500  9037850590\n",
       "1703 Zimbabwe    Africa    2002 39.989  11926563 672.0386  8015110972\n",
       "1704 Zimbabwe    Africa    2007 43.487  12311143 469.7093  5782658337\n",
       "     pop_thousands\n",
       "1     8425.333    \n",
       "2     9240.934    \n",
       "3    10267.083    \n",
       "4    11537.966    \n",
       "5    13079.460    \n",
       "⋮    ⋮            \n",
       "1700  9216.418    \n",
       "1701 10704.340    \n",
       "1702 11404.948    \n",
       "1703 11926.563    \n",
       "1704 12311.143    "
      ]
     },
     "metadata": {},
     "output_type": "display_data"
    }
   ],
   "source": [
    "gapminder |>\n",
    "    mutate(tot_gdp = pop * gdpPercap,\n",
    "          pop_thousands = pop / 1000)"
   ]
  },
  {
   "cell_type": "markdown",
   "metadata": {
    "slideshow": {
     "slide_type": "slide"
    }
   },
   "source": [
    "We can even change a column in place:"
   ]
  },
  {
   "cell_type": "code",
   "execution_count": 33,
   "metadata": {
    "slideshow": {
     "slide_type": "fragment"
    }
   },
   "outputs": [
    {
     "data": {
      "text/html": [
       "<table class=\"dataframe\">\n",
       "<caption>A tibble: 1704 × 6</caption>\n",
       "<thead>\n",
       "\t<tr><th scope=col>country</th><th scope=col>continent</th><th scope=col>year</th><th scope=col>lifeExp</th><th scope=col>pop</th><th scope=col>gdpPercap</th></tr>\n",
       "\t<tr><th scope=col>&lt;fct&gt;</th><th scope=col>&lt;fct&gt;</th><th scope=col>&lt;int&gt;</th><th scope=col>&lt;dbl&gt;</th><th scope=col>&lt;int&gt;</th><th scope=col>&lt;dbl&gt;</th></tr>\n",
       "</thead>\n",
       "<tbody>\n",
       "\t<tr><td>Afghanistan</td><td>Asia</td><td>1952</td><td>29</td><td> 8425333</td><td>779.4453</td></tr>\n",
       "\t<tr><td>Afghanistan</td><td>Asia</td><td>1957</td><td>30</td><td> 9240934</td><td>820.8530</td></tr>\n",
       "\t<tr><td>Afghanistan</td><td>Asia</td><td>1962</td><td>32</td><td>10267083</td><td>853.1007</td></tr>\n",
       "\t<tr><td>Afghanistan</td><td>Asia</td><td>1967</td><td>34</td><td>11537966</td><td>836.1971</td></tr>\n",
       "\t<tr><td>Afghanistan</td><td>Asia</td><td>1972</td><td>36</td><td>13079460</td><td>739.9811</td></tr>\n",
       "\t<tr><td>⋮</td><td>⋮</td><td>⋮</td><td>⋮</td><td>⋮</td><td>⋮</td></tr>\n",
       "\t<tr><td>Zimbabwe</td><td>Africa</td><td>1987</td><td>62</td><td> 9216418</td><td>706.1573</td></tr>\n",
       "\t<tr><td>Zimbabwe</td><td>Africa</td><td>1992</td><td>60</td><td>10704340</td><td>693.4208</td></tr>\n",
       "\t<tr><td>Zimbabwe</td><td>Africa</td><td>1997</td><td>47</td><td>11404948</td><td>792.4500</td></tr>\n",
       "\t<tr><td>Zimbabwe</td><td>Africa</td><td>2002</td><td>40</td><td>11926563</td><td>672.0386</td></tr>\n",
       "\t<tr><td>Zimbabwe</td><td>Africa</td><td>2007</td><td>43</td><td>12311143</td><td>469.7093</td></tr>\n",
       "</tbody>\n",
       "</table>\n"
      ],
      "text/latex": [
       "A tibble: 1704 × 6\n",
       "\\begin{tabular}{llllll}\n",
       " country & continent & year & lifeExp & pop & gdpPercap\\\\\n",
       " <fct> & <fct> & <int> & <dbl> & <int> & <dbl>\\\\\n",
       "\\hline\n",
       "\t Afghanistan & Asia & 1952 & 29 &  8425333 & 779.4453\\\\\n",
       "\t Afghanistan & Asia & 1957 & 30 &  9240934 & 820.8530\\\\\n",
       "\t Afghanistan & Asia & 1962 & 32 & 10267083 & 853.1007\\\\\n",
       "\t Afghanistan & Asia & 1967 & 34 & 11537966 & 836.1971\\\\\n",
       "\t Afghanistan & Asia & 1972 & 36 & 13079460 & 739.9811\\\\\n",
       "\t ⋮ & ⋮ & ⋮ & ⋮ & ⋮ & ⋮\\\\\n",
       "\t Zimbabwe & Africa & 1987 & 62 &  9216418 & 706.1573\\\\\n",
       "\t Zimbabwe & Africa & 1992 & 60 & 10704340 & 693.4208\\\\\n",
       "\t Zimbabwe & Africa & 1997 & 47 & 11404948 & 792.4500\\\\\n",
       "\t Zimbabwe & Africa & 2002 & 40 & 11926563 & 672.0386\\\\\n",
       "\t Zimbabwe & Africa & 2007 & 43 & 12311143 & 469.7093\\\\\n",
       "\\end{tabular}\n"
      ],
      "text/markdown": [
       "\n",
       "A tibble: 1704 × 6\n",
       "\n",
       "| country &lt;fct&gt; | continent &lt;fct&gt; | year &lt;int&gt; | lifeExp &lt;dbl&gt; | pop &lt;int&gt; | gdpPercap &lt;dbl&gt; |\n",
       "|---|---|---|---|---|---|\n",
       "| Afghanistan | Asia | 1952 | 29 |  8425333 | 779.4453 |\n",
       "| Afghanistan | Asia | 1957 | 30 |  9240934 | 820.8530 |\n",
       "| Afghanistan | Asia | 1962 | 32 | 10267083 | 853.1007 |\n",
       "| Afghanistan | Asia | 1967 | 34 | 11537966 | 836.1971 |\n",
       "| Afghanistan | Asia | 1972 | 36 | 13079460 | 739.9811 |\n",
       "| ⋮ | ⋮ | ⋮ | ⋮ | ⋮ | ⋮ |\n",
       "| Zimbabwe | Africa | 1987 | 62 |  9216418 | 706.1573 |\n",
       "| Zimbabwe | Africa | 1992 | 60 | 10704340 | 693.4208 |\n",
       "| Zimbabwe | Africa | 1997 | 47 | 11404948 | 792.4500 |\n",
       "| Zimbabwe | Africa | 2002 | 40 | 11926563 | 672.0386 |\n",
       "| Zimbabwe | Africa | 2007 | 43 | 12311143 | 469.7093 |\n",
       "\n"
      ],
      "text/plain": [
       "     country     continent year lifeExp pop      gdpPercap\n",
       "1    Afghanistan Asia      1952 29       8425333 779.4453 \n",
       "2    Afghanistan Asia      1957 30       9240934 820.8530 \n",
       "3    Afghanistan Asia      1962 32      10267083 853.1007 \n",
       "4    Afghanistan Asia      1967 34      11537966 836.1971 \n",
       "5    Afghanistan Asia      1972 36      13079460 739.9811 \n",
       "⋮    ⋮           ⋮         ⋮    ⋮       ⋮        ⋮        \n",
       "1700 Zimbabwe    Africa    1987 62       9216418 706.1573 \n",
       "1701 Zimbabwe    Africa    1992 60      10704340 693.4208 \n",
       "1702 Zimbabwe    Africa    1997 47      11404948 792.4500 \n",
       "1703 Zimbabwe    Africa    2002 40      11926563 672.0386 \n",
       "1704 Zimbabwe    Africa    2007 43      12311143 469.7093 "
      ]
     },
     "metadata": {},
     "output_type": "display_data"
    }
   ],
   "source": [
    "gapminder |>\n",
    "    mutate(lifeExp = round(lifeExp, 0))"
   ]
  },
  {
   "cell_type": "markdown",
   "metadata": {
    "slideshow": {
     "slide_type": "slide"
    }
   },
   "source": [
    "### Use `arrange` to sort a data frame\n",
    "\n",
    "Imagine we wanted to know the country (and year) with the shortest life expectancy? How can we do this?\n",
    "\n",
    "`arrange` is a function that sorts data frames based on a column, or columns. Let's use it below to answer the questiom we just posed above!"
   ]
  },
  {
   "cell_type": "code",
   "execution_count": 34,
   "metadata": {
    "slideshow": {
     "slide_type": "fragment"
    }
   },
   "outputs": [
    {
     "data": {
      "text/html": [
       "<table class=\"dataframe\">\n",
       "<caption>A tibble: 1704 × 6</caption>\n",
       "<thead>\n",
       "\t<tr><th scope=col>country</th><th scope=col>continent</th><th scope=col>year</th><th scope=col>lifeExp</th><th scope=col>pop</th><th scope=col>gdpPercap</th></tr>\n",
       "\t<tr><th scope=col>&lt;fct&gt;</th><th scope=col>&lt;fct&gt;</th><th scope=col>&lt;int&gt;</th><th scope=col>&lt;dbl&gt;</th><th scope=col>&lt;int&gt;</th><th scope=col>&lt;dbl&gt;</th></tr>\n",
       "</thead>\n",
       "<tbody>\n",
       "\t<tr><td>Rwanda      </td><td>Africa</td><td>1992</td><td>23.599</td><td>7290203</td><td> 737.0686</td></tr>\n",
       "\t<tr><td>Afghanistan </td><td>Asia  </td><td>1952</td><td>28.801</td><td>8425333</td><td> 779.4453</td></tr>\n",
       "\t<tr><td>Gambia      </td><td>Africa</td><td>1952</td><td>30.000</td><td> 284320</td><td> 485.2307</td></tr>\n",
       "\t<tr><td>Angola      </td><td>Africa</td><td>1952</td><td>30.015</td><td>4232095</td><td>3520.6103</td></tr>\n",
       "\t<tr><td>Sierra Leone</td><td>Africa</td><td>1952</td><td>30.331</td><td>2143249</td><td> 879.7877</td></tr>\n",
       "\t<tr><td>⋮</td><td>⋮</td><td>⋮</td><td>⋮</td><td>⋮</td><td>⋮</td></tr>\n",
       "\t<tr><td>Switzerland     </td><td>Europe</td><td>2007</td><td>81.701</td><td>  7554661</td><td>37506.42</td></tr>\n",
       "\t<tr><td>Iceland         </td><td>Europe</td><td>2007</td><td>81.757</td><td>   301931</td><td>36180.79</td></tr>\n",
       "\t<tr><td>Japan           </td><td>Asia  </td><td>2002</td><td>82.000</td><td>127065841</td><td>28604.59</td></tr>\n",
       "\t<tr><td>Hong Kong, China</td><td>Asia  </td><td>2007</td><td>82.208</td><td>  6980412</td><td>39724.98</td></tr>\n",
       "\t<tr><td>Japan           </td><td>Asia  </td><td>2007</td><td>82.603</td><td>127467972</td><td>31656.07</td></tr>\n",
       "</tbody>\n",
       "</table>\n"
      ],
      "text/latex": [
       "A tibble: 1704 × 6\n",
       "\\begin{tabular}{llllll}\n",
       " country & continent & year & lifeExp & pop & gdpPercap\\\\\n",
       " <fct> & <fct> & <int> & <dbl> & <int> & <dbl>\\\\\n",
       "\\hline\n",
       "\t Rwanda       & Africa & 1992 & 23.599 & 7290203 &  737.0686\\\\\n",
       "\t Afghanistan  & Asia   & 1952 & 28.801 & 8425333 &  779.4453\\\\\n",
       "\t Gambia       & Africa & 1952 & 30.000 &  284320 &  485.2307\\\\\n",
       "\t Angola       & Africa & 1952 & 30.015 & 4232095 & 3520.6103\\\\\n",
       "\t Sierra Leone & Africa & 1952 & 30.331 & 2143249 &  879.7877\\\\\n",
       "\t ⋮ & ⋮ & ⋮ & ⋮ & ⋮ & ⋮\\\\\n",
       "\t Switzerland      & Europe & 2007 & 81.701 &   7554661 & 37506.42\\\\\n",
       "\t Iceland          & Europe & 2007 & 81.757 &    301931 & 36180.79\\\\\n",
       "\t Japan            & Asia   & 2002 & 82.000 & 127065841 & 28604.59\\\\\n",
       "\t Hong Kong, China & Asia   & 2007 & 82.208 &   6980412 & 39724.98\\\\\n",
       "\t Japan            & Asia   & 2007 & 82.603 & 127467972 & 31656.07\\\\\n",
       "\\end{tabular}\n"
      ],
      "text/markdown": [
       "\n",
       "A tibble: 1704 × 6\n",
       "\n",
       "| country &lt;fct&gt; | continent &lt;fct&gt; | year &lt;int&gt; | lifeExp &lt;dbl&gt; | pop &lt;int&gt; | gdpPercap &lt;dbl&gt; |\n",
       "|---|---|---|---|---|---|\n",
       "| Rwanda       | Africa | 1992 | 23.599 | 7290203 |  737.0686 |\n",
       "| Afghanistan  | Asia   | 1952 | 28.801 | 8425333 |  779.4453 |\n",
       "| Gambia       | Africa | 1952 | 30.000 |  284320 |  485.2307 |\n",
       "| Angola       | Africa | 1952 | 30.015 | 4232095 | 3520.6103 |\n",
       "| Sierra Leone | Africa | 1952 | 30.331 | 2143249 |  879.7877 |\n",
       "| ⋮ | ⋮ | ⋮ | ⋮ | ⋮ | ⋮ |\n",
       "| Switzerland      | Europe | 2007 | 81.701 |   7554661 | 37506.42 |\n",
       "| Iceland          | Europe | 2007 | 81.757 |    301931 | 36180.79 |\n",
       "| Japan            | Asia   | 2002 | 82.000 | 127065841 | 28604.59 |\n",
       "| Hong Kong, China | Asia   | 2007 | 82.208 |   6980412 | 39724.98 |\n",
       "| Japan            | Asia   | 2007 | 82.603 | 127467972 | 31656.07 |\n",
       "\n"
      ],
      "text/plain": [
       "     country          continent year lifeExp pop       gdpPercap\n",
       "1    Rwanda           Africa    1992 23.599  7290203    737.0686\n",
       "2    Afghanistan      Asia      1952 28.801  8425333    779.4453\n",
       "3    Gambia           Africa    1952 30.000   284320    485.2307\n",
       "4    Angola           Africa    1952 30.015  4232095   3520.6103\n",
       "5    Sierra Leone     Africa    1952 30.331  2143249    879.7877\n",
       "⋮    ⋮                ⋮         ⋮    ⋮       ⋮         ⋮        \n",
       "1700 Switzerland      Europe    2007 81.701    7554661 37506.42 \n",
       "1701 Iceland          Europe    2007 81.757     301931 36180.79 \n",
       "1702 Japan            Asia      2002 82.000  127065841 28604.59 \n",
       "1703 Hong Kong, China Asia      2007 82.208    6980412 39724.98 \n",
       "1704 Japan            Asia      2007 82.603  127467972 31656.07 "
      ]
     },
     "metadata": {},
     "output_type": "display_data"
    }
   ],
   "source": [
    "gapminder |>\n",
    "    arrange(lifeExp)"
   ]
  },
  {
   "cell_type": "markdown",
   "metadata": {
    "slideshow": {
     "slide_type": "slide"
    }
   },
   "source": [
    "What about the hightest life expectancy? We can pair the `arrange` function, with another function, called `desc` to sort the data frame in descending order:"
   ]
  },
  {
   "cell_type": "code",
   "execution_count": 35,
   "metadata": {
    "slideshow": {
     "slide_type": "fragment"
    }
   },
   "outputs": [
    {
     "data": {
      "text/html": [
       "<table class=\"dataframe\">\n",
       "<caption>A tibble: 1704 × 6</caption>\n",
       "<thead>\n",
       "\t<tr><th scope=col>country</th><th scope=col>continent</th><th scope=col>year</th><th scope=col>lifeExp</th><th scope=col>pop</th><th scope=col>gdpPercap</th></tr>\n",
       "\t<tr><th scope=col>&lt;fct&gt;</th><th scope=col>&lt;fct&gt;</th><th scope=col>&lt;int&gt;</th><th scope=col>&lt;dbl&gt;</th><th scope=col>&lt;int&gt;</th><th scope=col>&lt;dbl&gt;</th></tr>\n",
       "</thead>\n",
       "<tbody>\n",
       "\t<tr><td>Japan           </td><td>Asia  </td><td>2007</td><td>82.603</td><td>127467972</td><td>31656.07</td></tr>\n",
       "\t<tr><td>Hong Kong, China</td><td>Asia  </td><td>2007</td><td>82.208</td><td>  6980412</td><td>39724.98</td></tr>\n",
       "\t<tr><td>Japan           </td><td>Asia  </td><td>2002</td><td>82.000</td><td>127065841</td><td>28604.59</td></tr>\n",
       "\t<tr><td>Iceland         </td><td>Europe</td><td>2007</td><td>81.757</td><td>   301931</td><td>36180.79</td></tr>\n",
       "\t<tr><td>Switzerland     </td><td>Europe</td><td>2007</td><td>81.701</td><td>  7554661</td><td>37506.42</td></tr>\n",
       "\t<tr><td>⋮</td><td>⋮</td><td>⋮</td><td>⋮</td><td>⋮</td><td>⋮</td></tr>\n",
       "\t<tr><td>Sierra Leone</td><td>Africa</td><td>1952</td><td>30.331</td><td>2143249</td><td> 879.7877</td></tr>\n",
       "\t<tr><td>Angola      </td><td>Africa</td><td>1952</td><td>30.015</td><td>4232095</td><td>3520.6103</td></tr>\n",
       "\t<tr><td>Gambia      </td><td>Africa</td><td>1952</td><td>30.000</td><td> 284320</td><td> 485.2307</td></tr>\n",
       "\t<tr><td>Afghanistan </td><td>Asia  </td><td>1952</td><td>28.801</td><td>8425333</td><td> 779.4453</td></tr>\n",
       "\t<tr><td>Rwanda      </td><td>Africa</td><td>1992</td><td>23.599</td><td>7290203</td><td> 737.0686</td></tr>\n",
       "</tbody>\n",
       "</table>\n"
      ],
      "text/latex": [
       "A tibble: 1704 × 6\n",
       "\\begin{tabular}{llllll}\n",
       " country & continent & year & lifeExp & pop & gdpPercap\\\\\n",
       " <fct> & <fct> & <int> & <dbl> & <int> & <dbl>\\\\\n",
       "\\hline\n",
       "\t Japan            & Asia   & 2007 & 82.603 & 127467972 & 31656.07\\\\\n",
       "\t Hong Kong, China & Asia   & 2007 & 82.208 &   6980412 & 39724.98\\\\\n",
       "\t Japan            & Asia   & 2002 & 82.000 & 127065841 & 28604.59\\\\\n",
       "\t Iceland          & Europe & 2007 & 81.757 &    301931 & 36180.79\\\\\n",
       "\t Switzerland      & Europe & 2007 & 81.701 &   7554661 & 37506.42\\\\\n",
       "\t ⋮ & ⋮ & ⋮ & ⋮ & ⋮ & ⋮\\\\\n",
       "\t Sierra Leone & Africa & 1952 & 30.331 & 2143249 &  879.7877\\\\\n",
       "\t Angola       & Africa & 1952 & 30.015 & 4232095 & 3520.6103\\\\\n",
       "\t Gambia       & Africa & 1952 & 30.000 &  284320 &  485.2307\\\\\n",
       "\t Afghanistan  & Asia   & 1952 & 28.801 & 8425333 &  779.4453\\\\\n",
       "\t Rwanda       & Africa & 1992 & 23.599 & 7290203 &  737.0686\\\\\n",
       "\\end{tabular}\n"
      ],
      "text/markdown": [
       "\n",
       "A tibble: 1704 × 6\n",
       "\n",
       "| country &lt;fct&gt; | continent &lt;fct&gt; | year &lt;int&gt; | lifeExp &lt;dbl&gt; | pop &lt;int&gt; | gdpPercap &lt;dbl&gt; |\n",
       "|---|---|---|---|---|---|\n",
       "| Japan            | Asia   | 2007 | 82.603 | 127467972 | 31656.07 |\n",
       "| Hong Kong, China | Asia   | 2007 | 82.208 |   6980412 | 39724.98 |\n",
       "| Japan            | Asia   | 2002 | 82.000 | 127065841 | 28604.59 |\n",
       "| Iceland          | Europe | 2007 | 81.757 |    301931 | 36180.79 |\n",
       "| Switzerland      | Europe | 2007 | 81.701 |   7554661 | 37506.42 |\n",
       "| ⋮ | ⋮ | ⋮ | ⋮ | ⋮ | ⋮ |\n",
       "| Sierra Leone | Africa | 1952 | 30.331 | 2143249 |  879.7877 |\n",
       "| Angola       | Africa | 1952 | 30.015 | 4232095 | 3520.6103 |\n",
       "| Gambia       | Africa | 1952 | 30.000 |  284320 |  485.2307 |\n",
       "| Afghanistan  | Asia   | 1952 | 28.801 | 8425333 |  779.4453 |\n",
       "| Rwanda       | Africa | 1992 | 23.599 | 7290203 |  737.0686 |\n",
       "\n"
      ],
      "text/plain": [
       "     country          continent year lifeExp pop       gdpPercap\n",
       "1    Japan            Asia      2007 82.603  127467972 31656.07 \n",
       "2    Hong Kong, China Asia      2007 82.208    6980412 39724.98 \n",
       "3    Japan            Asia      2002 82.000  127065841 28604.59 \n",
       "4    Iceland          Europe    2007 81.757     301931 36180.79 \n",
       "5    Switzerland      Europe    2007 81.701    7554661 37506.42 \n",
       "⋮    ⋮                ⋮         ⋮    ⋮       ⋮         ⋮        \n",
       "1700 Sierra Leone     Africa    1952 30.331  2143249    879.7877\n",
       "1701 Angola           Africa    1952 30.015  4232095   3520.6103\n",
       "1702 Gambia           Africa    1952 30.000   284320    485.2307\n",
       "1703 Afghanistan      Asia      1952 28.801  8425333    779.4453\n",
       "1704 Rwanda           Africa    1992 23.599  7290203    737.0686"
      ]
     },
     "metadata": {},
     "output_type": "display_data"
    }
   ],
   "source": [
    "gapminder |>\n",
    "    arrange(desc(lifeExp))"
   ]
  },
  {
   "cell_type": "markdown",
   "metadata": {
    "slideshow": {
     "slide_type": "slide"
    }
   },
   "source": [
    "### Getting a single value from a data frame\n",
    "\n",
    "What if you want the name of the country with the longest life expectancy back as just a single character vector, and not a data frame? How do we do this?\n",
    "\n",
    "We need two additional {dplyr} functions to get this job done using the tidyverse, `slice` and `pull`. `slice` allows you to numerically index rows in R, returning the row number(s) specified. `pull` removes the data frame structure, returning the data as the next simpler data structure in R, a vector. \n",
    "\n",
    "Let's use `slice` and `pull` to now extract the name of the country with the longest life expectancy:"
   ]
  },
  {
   "cell_type": "code",
   "execution_count": 36,
   "metadata": {
    "slideshow": {
     "slide_type": "fragment"
    }
   },
   "outputs": [
    {
     "data": {
      "text/html": [
       "82.603"
      ],
      "text/latex": [
       "82.603"
      ],
      "text/markdown": [
       "82.603"
      ],
      "text/plain": [
       "[1] 82.603"
      ]
     },
     "metadata": {},
     "output_type": "display_data"
    }
   ],
   "source": [
    "gapminder |> \n",
    "    arrange(desc(lifeExp)) |>\n",
    "    slice(1) |>\n",
    "    pull(lifeExp)"
   ]
  },
  {
   "cell_type": "markdown",
   "metadata": {
    "slideshow": {
     "slide_type": "slide"
    }
   },
   "source": [
    "We just learned A LOT of new functions and operators:\n",
    "\n",
    "- `select`\n",
    "- `filter`\n",
    "- `mutate`\n",
    "- `arrange`\n",
    "- `desc`\n",
    "- `slice`\n",
    "- `pull`\n",
    "- ` |>`\n",
    "- `%in%`\n",
    "\n",
    "Trust that with practice (and you will get a lot of practice by completing the worksheet and lab homeworks) you will learn these. Also, when needed, you can refer to the data transformation cheat sheet: https://github.com/rstudio/cheatsheets/raw/main/data-transformation.pdf"
   ]
  },
  {
   "cell_type": "markdown",
   "metadata": {
    "slideshow": {
     "slide_type": "slide"
    }
   },
   "source": [
    "## Tidy data"
   ]
  },
  {
   "cell_type": "markdown",
   "metadata": {
    "slideshow": {
     "slide_type": "slide"
    }
   },
   "source": [
    "#### Shameless borrowing of slides from Jenny Bryan\n",
    "\n",
    "https://www.slideshare.net/Plotly/plotcon-nyc-behind-every-great-plot-theres-a-great-deal-of-wrangling"
   ]
  },
  {
   "cell_type": "markdown",
   "metadata": {
    "slideshow": {
     "slide_type": "slide"
    }
   },
   "source": [
    "<img src=\"img/whisperer.png\" width=500>"
   ]
  },
  {
   "cell_type": "markdown",
   "metadata": {
    "slideshow": {
     "slide_type": "slide"
    }
   },
   "source": [
    "<img src=\"img/on_balcony.png\" width=500>"
   ]
  },
  {
   "cell_type": "markdown",
   "metadata": {
    "slideshow": {
     "slide_type": "slide"
    }
   },
   "source": [
    "<img src=\"img/tame.png\" width=500>"
   ]
  },
  {
   "cell_type": "markdown",
   "metadata": {
    "slideshow": {
     "slide_type": "slide"
    }
   },
   "source": [
    "#### How should you wrangle your data? "
   ]
  },
  {
   "cell_type": "markdown",
   "metadata": {
    "slideshow": {
     "slide_type": "fragment"
    }
   },
   "source": [
    "#### We make it \"tidy\"!"
   ]
  },
  {
   "cell_type": "markdown",
   "metadata": {
    "slideshow": {
     "slide_type": "slide"
    }
   },
   "source": [
    "### What is tidy data?\n",
    "\n",
    "A tidy data is one that is satified by these three criteria:\n",
    "\n",
    "- each row is a single observation,\n",
    "- each variable is a single column, and\n",
    "- each value is a single cell (i.e., its row, column position in the data frame is not shared with another value)\n",
    "\n",
    "![](https://d33wubrfki0l68.cloudfront.net/6f1ddb544fc5c69a2478e444ab8112fb0eea23f8/91adc/images/tidy-1.png)\n",
    "\n",
    "What is a variable and an observation may depend on your immediate goal.\n",
    "\n",
    "*Source: [R for Data Science](https://r4ds.had.co.nz/) by Garrett Grolemund & Hadley Wickham*"
   ]
  },
  {
   "cell_type": "markdown",
   "metadata": {
    "slideshow": {
     "slide_type": "slide"
    }
   },
   "source": [
    "### A tale of 4 data tables...\n",
    "\n",
    "...here is the same data represented in 4 different ways, let's vote on which are tidy\n",
    "\n"
   ]
  },
  {
   "cell_type": "markdown",
   "metadata": {
    "slideshow": {
     "slide_type": "notes"
    }
   },
   "source": [
    "*Example source: https://garrettgman.github.io/tidying/*"
   ]
  },
  {
   "cell_type": "markdown",
   "metadata": {
    "slideshow": {
     "slide_type": "slide"
    }
   },
   "source": [
    "Statistical question: What variables are associated with the number of TB cases?\n",
    "\n",
    "| country | year  | cases_per_capita |\n",
    "|---------|-------|---|\n",
    "| Afghanistan | 1999|      745/19987071\n",
    "|Afghanistan |2000    | 2666/20595360\n",
    "|      Brazil |1999|   37737/172006362\n",
    "|      Brazil |2000  | 80488/174504898\n",
    "|      China |1999| 212258/1272915272\n",
    "|      China |2000 |213766/1280428583\n"
   ]
  },
  {
   "cell_type": "markdown",
   "metadata": {
    "slideshow": {
     "slide_type": "slide"
    }
   },
   "source": [
    "Statistical question: What variables are associated with the number of TB cases?\n",
    "\n",
    "| country | cases (year=1999) | cases (year=2000)|\n",
    "|---------|-------|-------|\n",
    "| Afghanistan |   745 |  2666\n",
    "|  Brazil | 37737 | 80488\n",
    "|  China | 212258 | 213766\n",
    "\n",
    "| country | population (year=1999) | population (year=2000)|\n",
    "|---------|-------|-------|\n",
    "| Afghanistan |  19987071 |  20595360 |\n",
    "| Brazil | 172006362 | 174504898 |\n",
    "| China | 1272915272 | 1280428583 |"
   ]
  },
  {
   "cell_type": "markdown",
   "metadata": {
    "slideshow": {
     "slide_type": "slide"
    }
   },
   "source": [
    "Statistical question: What variables are associated with the number of TB cases?\n",
    "\n",
    "| country | year  | cases | population |\n",
    "|---------|-------|-------|------------|\n",
    "| Afghanistan | 1999  |  745  | 19987071|\n",
    "| Afghanistan | 2000 |  2666 |  20595360|\n",
    "|Brazil |1999 | 37737  |172006362|\n",
    "| Brazil| 2000 | 80488 | 174504898|\n",
    "| China | 1999 | 212258 |1272915272|\n",
    "|  China |2000 | 213766 | 1280428583|\n",
    "\n"
   ]
  },
  {
   "cell_type": "markdown",
   "metadata": {
    "slideshow": {
     "slide_type": "slide"
    }
   },
   "source": [
    "Statistical question: What variables are associated with the number of TB cases?\n",
    "\n",
    "| country | year  | key | value |\n",
    "|---------|-------|-------|------------|\n",
    "|Afghanistan |1999 |     cases   |     745\n",
    "| Afghanistan |1999| population  | 19987071\n",
    "|  Afghanistan |2000|      cases |      2666\n",
    "|  Afghanistan| 2000| population |  20595360\n",
    "|       Brazil| 1999|      cases |     37737\n",
    "|       Brazil |1999| population | 172006362\n",
    "|       Brazil| 2000|      cases  |    80488\n",
    "|       Brazil |2000| population | 174504898\n",
    "|        China |1999|      cases  |   212258\n",
    "|       China |1999| population |1272915272\n",
    "|       China |2000|      cases |    213766\n",
    "|       China |2000| population| 1280428583\n",
    "\n"
   ]
  },
  {
   "cell_type": "markdown",
   "metadata": {
    "slideshow": {
     "slide_type": "slide"
    }
   },
   "source": [
    "### Pivoting longer\n",
    "\n",
    "`pivot_longer` from the {tidyr} package takes a wide data frame and making it longer! {tidyr} is another package in the {tidyverse} metapackage."
   ]
  },
  {
   "cell_type": "markdown",
   "metadata": {
    "slideshow": {
     "slide_type": "fragment"
    }
   },
   "source": [
    "![ ](https://github.com/apreshill/teachthat/blob/master/pivot/pivot_longer_smaller.gif?raw=true)\n",
    "\n",
    "*Source: April Hill's [teachthat](https://github.com/apreshill/teachthat/) GitHub repository*"
   ]
  },
  {
   "cell_type": "markdown",
   "metadata": {
    "slideshow": {
     "slide_type": "slide"
    }
   },
   "source": [
    "Consider the data frame below and that we are interested in finding what variables are associated with the number of TB cases?"
   ]
  },
  {
   "cell_type": "code",
   "execution_count": 37,
   "metadata": {
    "slideshow": {
     "slide_type": "fragment"
    }
   },
   "outputs": [
    {
     "data": {
      "text/html": [
       "<table class=\"dataframe\">\n",
       "<caption>A tibble: 3 × 3</caption>\n",
       "<thead>\n",
       "\t<tr><th></th><th scope=col>country</th><th scope=col>1999</th><th scope=col>2000</th></tr>\n",
       "\t<tr><th></th><th scope=col>&lt;chr&gt;</th><th scope=col>&lt;int&gt;</th><th scope=col>&lt;int&gt;</th></tr>\n",
       "</thead>\n",
       "<tbody>\n",
       "\t<tr><th scope=row>1</th><td>Afghanistan</td><td>   745</td><td>  2666</td></tr>\n",
       "\t<tr><th scope=row>2</th><td>Brazil     </td><td> 37737</td><td> 80488</td></tr>\n",
       "\t<tr><th scope=row>3</th><td>China      </td><td>212258</td><td>213766</td></tr>\n",
       "</tbody>\n",
       "</table>\n"
      ],
      "text/latex": [
       "A tibble: 3 × 3\n",
       "\\begin{tabular}{r|lll}\n",
       "  & country & 1999 & 2000\\\\\n",
       "  & <chr> & <int> & <int>\\\\\n",
       "\\hline\n",
       "\t1 & Afghanistan &    745 &   2666\\\\\n",
       "\t2 & Brazil      &  37737 &  80488\\\\\n",
       "\t3 & China       & 212258 & 213766\\\\\n",
       "\\end{tabular}\n"
      ],
      "text/markdown": [
       "\n",
       "A tibble: 3 × 3\n",
       "\n",
       "| <!--/--> | country &lt;chr&gt; | 1999 &lt;int&gt; | 2000 &lt;int&gt; |\n",
       "|---|---|---|---|\n",
       "| 1 | Afghanistan |    745 |   2666 |\n",
       "| 2 | Brazil      |  37737 |  80488 |\n",
       "| 3 | China       | 212258 | 213766 |\n",
       "\n"
      ],
      "text/plain": [
       "  country     1999   2000  \n",
       "1 Afghanistan    745   2666\n",
       "2 Brazil       37737  80488\n",
       "3 China       212258 213766"
      ]
     },
     "metadata": {},
     "output_type": "display_data"
    }
   ],
   "source": [
    "table4a"
   ]
  },
  {
   "cell_type": "markdown",
   "metadata": {
    "slideshow": {
     "slide_type": "fragment"
    }
   },
   "source": [
    "This is currently difficult as the values for the variable year are stuck in column names. We can use the `pivot_longer` function to tidy this data:"
   ]
  },
  {
   "cell_type": "code",
   "execution_count": 38,
   "metadata": {
    "slideshow": {
     "slide_type": "slide"
    }
   },
   "outputs": [
    {
     "data": {
      "text/html": [
       "<table class=\"dataframe\">\n",
       "<caption>A tibble: 6 × 3</caption>\n",
       "<thead>\n",
       "\t<tr><th scope=col>country</th><th scope=col>year</th><th scope=col>cases</th></tr>\n",
       "\t<tr><th scope=col>&lt;chr&gt;</th><th scope=col>&lt;chr&gt;</th><th scope=col>&lt;int&gt;</th></tr>\n",
       "</thead>\n",
       "<tbody>\n",
       "\t<tr><td>Afghanistan</td><td>1999</td><td>   745</td></tr>\n",
       "\t<tr><td>Afghanistan</td><td>2000</td><td>  2666</td></tr>\n",
       "\t<tr><td>Brazil     </td><td>1999</td><td> 37737</td></tr>\n",
       "\t<tr><td>Brazil     </td><td>2000</td><td> 80488</td></tr>\n",
       "\t<tr><td>China      </td><td>1999</td><td>212258</td></tr>\n",
       "\t<tr><td>China      </td><td>2000</td><td>213766</td></tr>\n",
       "</tbody>\n",
       "</table>\n"
      ],
      "text/latex": [
       "A tibble: 6 × 3\n",
       "\\begin{tabular}{lll}\n",
       " country & year & cases\\\\\n",
       " <chr> & <chr> & <int>\\\\\n",
       "\\hline\n",
       "\t Afghanistan & 1999 &    745\\\\\n",
       "\t Afghanistan & 2000 &   2666\\\\\n",
       "\t Brazil      & 1999 &  37737\\\\\n",
       "\t Brazil      & 2000 &  80488\\\\\n",
       "\t China       & 1999 & 212258\\\\\n",
       "\t China       & 2000 & 213766\\\\\n",
       "\\end{tabular}\n"
      ],
      "text/markdown": [
       "\n",
       "A tibble: 6 × 3\n",
       "\n",
       "| country &lt;chr&gt; | year &lt;chr&gt; | cases &lt;int&gt; |\n",
       "|---|---|---|\n",
       "| Afghanistan | 1999 |    745 |\n",
       "| Afghanistan | 2000 |   2666 |\n",
       "| Brazil      | 1999 |  37737 |\n",
       "| Brazil      | 2000 |  80488 |\n",
       "| China       | 1999 | 212258 |\n",
       "| China       | 2000 | 213766 |\n",
       "\n"
      ],
      "text/plain": [
       "  country     year cases \n",
       "1 Afghanistan 1999    745\n",
       "2 Afghanistan 2000   2666\n",
       "3 Brazil      1999  37737\n",
       "4 Brazil      2000  80488\n",
       "5 China       1999 212258\n",
       "6 China       2000 213766"
      ]
     },
     "metadata": {},
     "output_type": "display_data"
    }
   ],
   "source": [
    "table4a |>\n",
    "    pivot_longer(`1999`:`2000`, names_to = \"year\", values_to = \"cases\")"
   ]
  },
  {
   "cell_type": "code",
   "execution_count": 39,
   "metadata": {
    "slideshow": {
     "slide_type": "slide"
    }
   },
   "outputs": [
    {
     "data": {
      "text/html": [
       "<table class=\"dataframe\">\n",
       "<caption>A tibble: 6 × 3</caption>\n",
       "<thead>\n",
       "\t<tr><th scope=col>country</th><th scope=col>year</th><th scope=col>cases</th></tr>\n",
       "\t<tr><th scope=col>&lt;chr&gt;</th><th scope=col>&lt;chr&gt;</th><th scope=col>&lt;int&gt;</th></tr>\n",
       "</thead>\n",
       "<tbody>\n",
       "\t<tr><td>Afghanistan</td><td>1999</td><td>   745</td></tr>\n",
       "\t<tr><td>Afghanistan</td><td>2000</td><td>  2666</td></tr>\n",
       "\t<tr><td>Brazil     </td><td>1999</td><td> 37737</td></tr>\n",
       "\t<tr><td>Brazil     </td><td>2000</td><td> 80488</td></tr>\n",
       "\t<tr><td>China      </td><td>1999</td><td>212258</td></tr>\n",
       "\t<tr><td>China      </td><td>2000</td><td>213766</td></tr>\n",
       "</tbody>\n",
       "</table>\n"
      ],
      "text/latex": [
       "A tibble: 6 × 3\n",
       "\\begin{tabular}{lll}\n",
       " country & year & cases\\\\\n",
       " <chr> & <chr> & <int>\\\\\n",
       "\\hline\n",
       "\t Afghanistan & 1999 &    745\\\\\n",
       "\t Afghanistan & 2000 &   2666\\\\\n",
       "\t Brazil      & 1999 &  37737\\\\\n",
       "\t Brazil      & 2000 &  80488\\\\\n",
       "\t China       & 1999 & 212258\\\\\n",
       "\t China       & 2000 & 213766\\\\\n",
       "\\end{tabular}\n"
      ],
      "text/markdown": [
       "\n",
       "A tibble: 6 × 3\n",
       "\n",
       "| country &lt;chr&gt; | year &lt;chr&gt; | cases &lt;int&gt; |\n",
       "|---|---|---|\n",
       "| Afghanistan | 1999 |    745 |\n",
       "| Afghanistan | 2000 |   2666 |\n",
       "| Brazil      | 1999 |  37737 |\n",
       "| Brazil      | 2000 |  80488 |\n",
       "| China       | 1999 | 212258 |\n",
       "| China       | 2000 | 213766 |\n",
       "\n"
      ],
      "text/plain": [
       "  country     year cases \n",
       "1 Afghanistan 1999    745\n",
       "2 Afghanistan 2000   2666\n",
       "3 Brazil      1999  37737\n",
       "4 Brazil      2000  80488\n",
       "5 China       1999 212258\n",
       "6 China       2000 213766"
      ]
     },
     "metadata": {},
     "output_type": "display_data"
    }
   ],
   "source": [
    "# or a less verbose and efficient way to specify this:\n",
    "table4a |>\n",
    "    pivot_longer(-country, names_to = \"year\", values_to = \"cases\")"
   ]
  },
  {
   "cell_type": "markdown",
   "metadata": {
    "slideshow": {
     "slide_type": "notes"
    }
   },
   "source": [
    "To use `pivot_longer` we need to specify:\n",
    "\n",
    "1. the dataset\n",
    "\n",
    "2. The columns we want to apply our pivot operation to (we use `select`-like syntax for this, and if you want to operate on all columns in a data frame, you can provide the function `everything()` here.\n",
    "\n",
    "2. the name of a new column that will be created, whose values will come from the names of the columns that we want to combine (the result argument)\n",
    "\n",
    "3. the name of a new column that will be created, whose values will come from the values of the columns we want to combine (the value argument)"
   ]
  },
  {
   "cell_type": "markdown",
   "metadata": {
    "slideshow": {
     "slide_type": "slide"
    }
   },
   "source": [
    "### Pivoting wider\n",
    "\n",
    "`pivot_wider` from the {tidyr} package takes a narrow data frame and making it wider! It is the opposite of `pivot_longer`!"
   ]
  },
  {
   "cell_type": "markdown",
   "metadata": {
    "slideshow": {
     "slide_type": "slide"
    }
   },
   "source": [
    "Consider the data frame below and that we are interested in finding what variables are associated with the number of TB cases?"
   ]
  },
  {
   "cell_type": "code",
   "execution_count": 40,
   "metadata": {
    "scrolled": true,
    "slideshow": {
     "slide_type": "fragment"
    }
   },
   "outputs": [
    {
     "data": {
      "text/html": [
       "<table class=\"dataframe\">\n",
       "<caption>A tibble: 12 × 4</caption>\n",
       "<thead>\n",
       "\t<tr><th scope=col>country</th><th scope=col>year</th><th scope=col>type</th><th scope=col>count</th></tr>\n",
       "\t<tr><th scope=col>&lt;chr&gt;</th><th scope=col>&lt;int&gt;</th><th scope=col>&lt;chr&gt;</th><th scope=col>&lt;int&gt;</th></tr>\n",
       "</thead>\n",
       "<tbody>\n",
       "\t<tr><td>Afghanistan</td><td>1999</td><td>cases     </td><td>     745</td></tr>\n",
       "\t<tr><td>Afghanistan</td><td>1999</td><td>population</td><td>19987071</td></tr>\n",
       "\t<tr><td>Afghanistan</td><td>2000</td><td>cases     </td><td>    2666</td></tr>\n",
       "\t<tr><td>Afghanistan</td><td>2000</td><td>population</td><td>20595360</td></tr>\n",
       "\t<tr><td>Brazil     </td><td>1999</td><td>cases     </td><td>   37737</td></tr>\n",
       "\t<tr><td>⋮</td><td>⋮</td><td>⋮</td><td>⋮</td></tr>\n",
       "\t<tr><td>Brazil</td><td>2000</td><td>population</td><td> 174504898</td></tr>\n",
       "\t<tr><td>China </td><td>1999</td><td>cases     </td><td>    212258</td></tr>\n",
       "\t<tr><td>China </td><td>1999</td><td>population</td><td>1272915272</td></tr>\n",
       "\t<tr><td>China </td><td>2000</td><td>cases     </td><td>    213766</td></tr>\n",
       "\t<tr><td>China </td><td>2000</td><td>population</td><td>1280428583</td></tr>\n",
       "</tbody>\n",
       "</table>\n"
      ],
      "text/latex": [
       "A tibble: 12 × 4\n",
       "\\begin{tabular}{llll}\n",
       " country & year & type & count\\\\\n",
       " <chr> & <int> & <chr> & <int>\\\\\n",
       "\\hline\n",
       "\t Afghanistan & 1999 & cases      &      745\\\\\n",
       "\t Afghanistan & 1999 & population & 19987071\\\\\n",
       "\t Afghanistan & 2000 & cases      &     2666\\\\\n",
       "\t Afghanistan & 2000 & population & 20595360\\\\\n",
       "\t Brazil      & 1999 & cases      &    37737\\\\\n",
       "\t ⋮ & ⋮ & ⋮ & ⋮\\\\\n",
       "\t Brazil & 2000 & population &  174504898\\\\\n",
       "\t China  & 1999 & cases      &     212258\\\\\n",
       "\t China  & 1999 & population & 1272915272\\\\\n",
       "\t China  & 2000 & cases      &     213766\\\\\n",
       "\t China  & 2000 & population & 1280428583\\\\\n",
       "\\end{tabular}\n"
      ],
      "text/markdown": [
       "\n",
       "A tibble: 12 × 4\n",
       "\n",
       "| country &lt;chr&gt; | year &lt;int&gt; | type &lt;chr&gt; | count &lt;int&gt; |\n",
       "|---|---|---|---|\n",
       "| Afghanistan | 1999 | cases      |      745 |\n",
       "| Afghanistan | 1999 | population | 19987071 |\n",
       "| Afghanistan | 2000 | cases      |     2666 |\n",
       "| Afghanistan | 2000 | population | 20595360 |\n",
       "| Brazil      | 1999 | cases      |    37737 |\n",
       "| ⋮ | ⋮ | ⋮ | ⋮ |\n",
       "| Brazil | 2000 | population |  174504898 |\n",
       "| China  | 1999 | cases      |     212258 |\n",
       "| China  | 1999 | population | 1272915272 |\n",
       "| China  | 2000 | cases      |     213766 |\n",
       "| China  | 2000 | population | 1280428583 |\n",
       "\n"
      ],
      "text/plain": [
       "   country     year type       count     \n",
       "1  Afghanistan 1999 cases           745  \n",
       "2  Afghanistan 1999 population 19987071  \n",
       "3  Afghanistan 2000 cases          2666  \n",
       "4  Afghanistan 2000 population 20595360  \n",
       "5  Brazil      1999 cases         37737  \n",
       "⋮  ⋮           ⋮    ⋮          ⋮         \n",
       "8  Brazil      2000 population  174504898\n",
       "9  China       1999 cases          212258\n",
       "10 China       1999 population 1272915272\n",
       "11 China       2000 cases          213766\n",
       "12 China       2000 population 1280428583"
      ]
     },
     "metadata": {},
     "output_type": "display_data"
    }
   ],
   "source": [
    "table2"
   ]
  },
  {
   "cell_type": "markdown",
   "metadata": {
    "slideshow": {
     "slide_type": "fragment"
    }
   },
   "source": [
    "This is currently difficult as observation is scattered across multiple rows. We can tidy this data frame with the function `pivot_wider`."
   ]
  },
  {
   "cell_type": "code",
   "execution_count": 41,
   "metadata": {
    "slideshow": {
     "slide_type": "slide"
    }
   },
   "outputs": [
    {
     "data": {
      "text/html": [
       "<table class=\"dataframe\">\n",
       "<caption>A tibble: 6 × 4</caption>\n",
       "<thead>\n",
       "\t<tr><th scope=col>country</th><th scope=col>year</th><th scope=col>cases</th><th scope=col>population</th></tr>\n",
       "\t<tr><th scope=col>&lt;chr&gt;</th><th scope=col>&lt;int&gt;</th><th scope=col>&lt;int&gt;</th><th scope=col>&lt;int&gt;</th></tr>\n",
       "</thead>\n",
       "<tbody>\n",
       "\t<tr><td>Afghanistan</td><td>1999</td><td>   745</td><td>  19987071</td></tr>\n",
       "\t<tr><td>Afghanistan</td><td>2000</td><td>  2666</td><td>  20595360</td></tr>\n",
       "\t<tr><td>Brazil     </td><td>1999</td><td> 37737</td><td> 172006362</td></tr>\n",
       "\t<tr><td>Brazil     </td><td>2000</td><td> 80488</td><td> 174504898</td></tr>\n",
       "\t<tr><td>China      </td><td>1999</td><td>212258</td><td>1272915272</td></tr>\n",
       "\t<tr><td>China      </td><td>2000</td><td>213766</td><td>1280428583</td></tr>\n",
       "</tbody>\n",
       "</table>\n"
      ],
      "text/latex": [
       "A tibble: 6 × 4\n",
       "\\begin{tabular}{llll}\n",
       " country & year & cases & population\\\\\n",
       " <chr> & <int> & <int> & <int>\\\\\n",
       "\\hline\n",
       "\t Afghanistan & 1999 &    745 &   19987071\\\\\n",
       "\t Afghanistan & 2000 &   2666 &   20595360\\\\\n",
       "\t Brazil      & 1999 &  37737 &  172006362\\\\\n",
       "\t Brazil      & 2000 &  80488 &  174504898\\\\\n",
       "\t China       & 1999 & 212258 & 1272915272\\\\\n",
       "\t China       & 2000 & 213766 & 1280428583\\\\\n",
       "\\end{tabular}\n"
      ],
      "text/markdown": [
       "\n",
       "A tibble: 6 × 4\n",
       "\n",
       "| country &lt;chr&gt; | year &lt;int&gt; | cases &lt;int&gt; | population &lt;int&gt; |\n",
       "|---|---|---|---|\n",
       "| Afghanistan | 1999 |    745 |   19987071 |\n",
       "| Afghanistan | 2000 |   2666 |   20595360 |\n",
       "| Brazil      | 1999 |  37737 |  172006362 |\n",
       "| Brazil      | 2000 |  80488 |  174504898 |\n",
       "| China       | 1999 | 212258 | 1272915272 |\n",
       "| China       | 2000 | 213766 | 1280428583 |\n",
       "\n"
      ],
      "text/plain": [
       "  country     year cases  population\n",
       "1 Afghanistan 1999    745   19987071\n",
       "2 Afghanistan 2000   2666   20595360\n",
       "3 Brazil      1999  37737  172006362\n",
       "4 Brazil      2000  80488  174504898\n",
       "5 China       1999 212258 1272915272\n",
       "6 China       2000 213766 1280428583"
      ]
     },
     "metadata": {},
     "output_type": "display_data"
    }
   ],
   "source": [
    "table2 |>\n",
    "    pivot_wider(names_from = type, values_from = count)"
   ]
  },
  {
   "cell_type": "markdown",
   "metadata": {
    "slideshow": {
     "slide_type": "notes"
    }
   },
   "source": [
    "To use `pivot_wider` we need to specify:\n",
    "\n",
    "1. the dataset\n",
    "\n",
    "2. the name of the column whose values we would like to use as column names when we widen the data\n",
    "\n",
    "3. the name of the column whose values you would like to spread into separate columns based on the value they had in the column specified as the key"
   ]
  },
  {
   "cell_type": "markdown",
   "metadata": {
    "slideshow": {
     "slide_type": "slide"
    }
   },
   "source": [
    "![](img/tidyverse.png)\n",
    "\n",
    "https://www.tidyverse.org/"
   ]
  },
  {
   "cell_type": "markdown",
   "metadata": {
    "slideshow": {
     "slide_type": "slide"
    }
   },
   "source": [
    "### The tidy tools manifesto\n",
    "\n",
    "\"*The goal of these principles is to provide a uniform interface so that tidyverse packages work together naturally, and once you’ve mastered one, you have a head start on mastering the others.*\"\n",
    "\n",
    "https://cran.r-project.org/web/packages/tidyverse/vignettes/manifesto.html\n",
    "\n"
   ]
  },
  {
   "cell_type": "markdown",
   "metadata": {
    "slideshow": {
     "slide_type": "slide"
    }
   },
   "source": [
    "### The tidy tools manifesto\n",
    "\n",
    "There are four basic principles to a tidy API:\n",
    "\n",
    "1. Reuse existing data structures.\n",
    "\n",
    "2. Compose simple functions with the pipe (`|>`).\n",
    "\n",
    "3. Embrace functional programming.\n",
    "\n",
    "4. Design for humans."
   ]
  },
  {
   "cell_type": "markdown",
   "metadata": {
    "slideshow": {
     "slide_type": "notes"
    }
   },
   "source": [
    "### Reuse existing data structures.\n",
    "\n",
    "- Where possible, re-use existing data structures, rather than creating custom data structures for your own package\n",
    "- When it is not possible to use an existing data structure, use S3 class (simplest OO system in R) built on top of an atomic vector or list\n",
    "- When working on data.frames/tibbles, assume the data is tidy"
   ]
  },
  {
   "cell_type": "markdown",
   "metadata": {
    "slideshow": {
     "slide_type": "notes"
    }
   },
   "source": [
    "### Compose simple functions with the pipe (|>)\n",
    "\n",
    "- A powerful strategy for solving complex problems is to combine many simple pieces. Each piece should be easily understood in isolation, and have a standard way to combine with other pieces.  \n",
    "\n",
    "- In R, this strategy plays out by composing single functions with the pipe, `|>`.\n",
    "\n",
    "- The pipe is a common composition tool that works across all packages."
   ]
  },
  {
   "cell_type": "markdown",
   "metadata": {
    "slideshow": {
     "slide_type": "notes"
    }
   },
   "source": [
    "### Embrace functional programming\n",
    "\n",
    "R is a functional programming language; embrace it, don’t fight it. If you’re familiar with an object-oriented language like Python or C#, this is going to take some adjustment. But in the long run you will be much better off working with the language rather than fighting it.\n",
    "\n",
    "Generally, this means you should favour:\n",
    "\n",
    "- Immutable objects and copy-on-modify semantics. This makes your code easier to reason about.\n",
    "- The generic functions provided by S3 and S4. These work very naturally inside a pipe. If you do need mutable state, try to make it an internal implementation detail, rather than exposing it to the user.\n",
    "- Tools that abstract over for-loops, like the `apply` family of functions or the map functions in `purrr`."
   ]
  },
  {
   "cell_type": "markdown",
   "metadata": {
    "slideshow": {
     "slide_type": "notes"
    }
   },
   "source": [
    "### Design for humans\n",
    "\n",
    "Design your API primarily so that it is easy to use by humans. Computer efficiency is a secondary concern because the bottleneck in most data analysis is thinking time, not computing time.\n",
    "\n",
    "- Invest time in naming your functions. Evocative function names make your API easier to use and remember.\n",
    "\n",
    "- Favour explicit, lengthy names, over short, implicit, names. Save the shortest names for the most important operations.\n",
    "\n",
    "- Think about how autocomplete can also make an API that’s easy to write. Make sure that function families are identified by a common prefix, not a common suffix. This makes autocomplete more helpful, as you can jog your memory with the prompts. For smaller packages, this may mean that every function has a common prefix (e.g. stringr, xml2, rvest)."
   ]
  },
  {
   "cell_type": "markdown",
   "metadata": {
    "slideshow": {
     "slide_type": "slide"
    }
   },
   "source": [
    "## What did we learn today?\n",
    "\n",
    "- How to read and write data using R\n",
    "\n",
    "- Single table functions from {dplyr} to manipulate data frames\n",
    "\n",
    "- A new operator, the pipe `|>` for combining function calls\n",
    "\n",
    "- What tidy data is, and how to use the {tidyr} functions to get our data tidy\n",
    "\n",
    "- *That R is awesome for manipulating data!*"
   ]
  },
  {
   "cell_type": "markdown",
   "metadata": {
    "slideshow": {
     "slide_type": "slide"
    }
   },
   "source": [
    "## Attributions\n",
    "- MUCH of these notes were derived from [Stat 545](https://stat545.com/) created by Jenny Bryan\n",
    "- [R for Data Science](https://r4ds.had.co.nz/index.html) by Garrett Grolemund & Hadley Wickham"
   ]
  },
  {
   "cell_type": "code",
   "execution_count": null,
   "metadata": {},
   "outputs": [],
   "source": []
  }
 ],
 "metadata": {
  "celltoolbar": "Slideshow",
  "jupytext": {
   "formats": "ipynb,Rmd"
  },
  "kernelspec": {
   "display_name": "R",
   "language": "R",
   "name": "ir"
  },
  "language_info": {
   "codemirror_mode": "r",
   "file_extension": ".r",
   "mimetype": "text/x-r-source",
   "name": "R",
   "pygments_lexer": "r",
   "version": "4.3.2"
  }
 },
 "nbformat": 4,
 "nbformat_minor": 4
}
