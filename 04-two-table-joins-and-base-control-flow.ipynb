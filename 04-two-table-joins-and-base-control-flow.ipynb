{
 "cells": [
  {
   "cell_type": "markdown",
   "metadata": {
    "slideshow": {
     "slide_type": "slide"
    }
   },
   "source": [
    "# Lecture 4 -  Combining data frames (binds and joins) & base R control flow"
   ]
  },
  {
   "cell_type": "markdown",
   "metadata": {
    "slideshow": {
     "slide_type": "notes"
    }
   },
   "source": [
    "### Lecture learning objectives:\n",
    "By the end of this lecture and worksheet 4, students should be able to:\n",
    "\n",
    "* Compare and contrast mutating joins, filtering joins and set operations\n",
    "* Choose the appropriate two table `dplyr` function based on the type of join desired between two data frames, and use it in R to obtained the desired data frame from joining two tables\n",
    "* Write conditional statements in R with `if`, `else if` and `else` to run different code depending on the input\n",
    "* Write for loops in R to repeatedly run code"
   ]
  },
  {
   "cell_type": "code",
   "execution_count": 1,
   "metadata": {
    "scrolled": true,
    "slideshow": {
     "slide_type": "slide"
    }
   },
   "outputs": [
    {
     "name": "stderr",
     "output_type": "stream",
     "text": [
      "── \u001b[1mAttaching packages\u001b[22m ───────────────────────────────────────────────────────────────────────────────────────────────────────────────────────────────────────────────────────────── tidyverse 1.3.2 ──\n",
      "\u001b[32m✔\u001b[39m \u001b[34mggplot2\u001b[39m 3.3.6     \u001b[32m✔\u001b[39m \u001b[34mpurrr  \u001b[39m 0.3.4\n",
      "\u001b[32m✔\u001b[39m \u001b[34mtibble \u001b[39m 3.1.8     \u001b[32m✔\u001b[39m \u001b[34mdplyr  \u001b[39m 1.0.9\n",
      "\u001b[32m✔\u001b[39m \u001b[34mtidyr  \u001b[39m 1.2.0     \u001b[32m✔\u001b[39m \u001b[34mstringr\u001b[39m 1.4.1\n",
      "\u001b[32m✔\u001b[39m \u001b[34mreadr  \u001b[39m 2.1.2     \u001b[32m✔\u001b[39m \u001b[34mforcats\u001b[39m 0.5.1\n",
      "── \u001b[1mConflicts\u001b[22m ──────────────────────────────────────────────────────────────────────────────────────────────────────────────────────────────────────────────────────────────── tidyverse_conflicts() ──\n",
      "\u001b[31m✖\u001b[39m \u001b[34mdplyr\u001b[39m::\u001b[32mfilter()\u001b[39m masks \u001b[34mstats\u001b[39m::filter()\n",
      "\u001b[31m✖\u001b[39m \u001b[34mdplyr\u001b[39m::\u001b[32mlag()\u001b[39m    masks \u001b[34mstats\u001b[39m::lag()\n"
     ]
    }
   ],
   "source": [
    "library(tidyverse)\n",
    "library(gapminder)\n",
    "options(repr.matrix.max.rows = 10)"
   ]
  },
  {
   "cell_type": "markdown",
   "metadata": {},
   "source": [
    "## Combining two data tables\n",
    "\n",
    "We will talk about two different ways of combining data tables in R:\n",
    "\n",
    "- binds\n",
    "\n",
    "- joins"
   ]
  },
  {
   "cell_type": "markdown",
   "metadata": {},
   "source": [
    "### Binds\n",
    "\n",
    "This is basically smashing rocks tibbles together. You can smash things together row-wise (“row binding”) or column-wise (“column binding”). \n",
    "\n",
    "Why do I characterize this as rock-smashing? They’re often fairly crude operations, with lots of responsibility falling on the analyst for making sure that the whole enterprise even makes sense."
   ]
  },
  {
   "cell_type": "markdown",
   "metadata": {},
   "source": [
    "#### Row binding\n",
    "\n",
    "When row binding, you need to consider the variables in the two tibbles. Do the same variables exist in each? Are they of the same type? Different approaches for row binding have different combinations of flexibility vs rigidity around these matters."
   ]
  },
  {
   "cell_type": "markdown",
   "metadata": {},
   "source": [
    "Let's bind 3 data frames together vertically (row binding):"
   ]
  },
  {
   "cell_type": "code",
   "execution_count": 2,
   "metadata": {},
   "outputs": [
    {
     "data": {
      "text/html": [
       "<table class=\"dataframe\">\n",
       "<caption>A tibble: 3 × 4</caption>\n",
       "<thead>\n",
       "\t<tr><th scope=col>Film</th><th scope=col>Race</th><th scope=col>Female</th><th scope=col>Male</th></tr>\n",
       "\t<tr><th scope=col>&lt;chr&gt;</th><th scope=col>&lt;chr&gt;</th><th scope=col>&lt;dbl&gt;</th><th scope=col>&lt;dbl&gt;</th></tr>\n",
       "</thead>\n",
       "<tbody>\n",
       "\t<tr><td>The Fellowship Of The Ring</td><td>Elf   </td><td>1229</td><td> 971</td></tr>\n",
       "\t<tr><td>The Fellowship Of The Ring</td><td>Hobbit</td><td>  14</td><td>3644</td></tr>\n",
       "\t<tr><td>The Fellowship Of The Ring</td><td>Man   </td><td>   0</td><td>1995</td></tr>\n",
       "</tbody>\n",
       "</table>\n"
      ],
      "text/latex": [
       "A tibble: 3 × 4\n",
       "\\begin{tabular}{llll}\n",
       " Film & Race & Female & Male\\\\\n",
       " <chr> & <chr> & <dbl> & <dbl>\\\\\n",
       "\\hline\n",
       "\t The Fellowship Of The Ring & Elf    & 1229 &  971\\\\\n",
       "\t The Fellowship Of The Ring & Hobbit &   14 & 3644\\\\\n",
       "\t The Fellowship Of The Ring & Man    &    0 & 1995\\\\\n",
       "\\end{tabular}\n"
      ],
      "text/markdown": [
       "\n",
       "A tibble: 3 × 4\n",
       "\n",
       "| Film &lt;chr&gt; | Race &lt;chr&gt; | Female &lt;dbl&gt; | Male &lt;dbl&gt; |\n",
       "|---|---|---|---|\n",
       "| The Fellowship Of The Ring | Elf    | 1229 |  971 |\n",
       "| The Fellowship Of The Ring | Hobbit |   14 | 3644 |\n",
       "| The Fellowship Of The Ring | Man    |    0 | 1995 |\n",
       "\n"
      ],
      "text/plain": [
       "  Film                       Race   Female Male\n",
       "1 The Fellowship Of The Ring Elf    1229    971\n",
       "2 The Fellowship Of The Ring Hobbit   14   3644\n",
       "3 The Fellowship Of The Ring Man       0   1995"
      ]
     },
     "metadata": {},
     "output_type": "display_data"
    },
    {
     "data": {
      "text/html": [
       "<table class=\"dataframe\">\n",
       "<caption>A tibble: 3 × 4</caption>\n",
       "<thead>\n",
       "\t<tr><th scope=col>Film</th><th scope=col>Race</th><th scope=col>Female</th><th scope=col>Male</th></tr>\n",
       "\t<tr><th scope=col>&lt;chr&gt;</th><th scope=col>&lt;chr&gt;</th><th scope=col>&lt;dbl&gt;</th><th scope=col>&lt;dbl&gt;</th></tr>\n",
       "</thead>\n",
       "<tbody>\n",
       "\t<tr><td>The Return Of The King</td><td>Elf   </td><td>183</td><td> 510</td></tr>\n",
       "\t<tr><td>The Return Of The King</td><td>Hobbit</td><td>  2</td><td>2673</td></tr>\n",
       "\t<tr><td>The Return Of The King</td><td>Man   </td><td>268</td><td>2459</td></tr>\n",
       "</tbody>\n",
       "</table>\n"
      ],
      "text/latex": [
       "A tibble: 3 × 4\n",
       "\\begin{tabular}{llll}\n",
       " Film & Race & Female & Male\\\\\n",
       " <chr> & <chr> & <dbl> & <dbl>\\\\\n",
       "\\hline\n",
       "\t The Return Of The King & Elf    & 183 &  510\\\\\n",
       "\t The Return Of The King & Hobbit &   2 & 2673\\\\\n",
       "\t The Return Of The King & Man    & 268 & 2459\\\\\n",
       "\\end{tabular}\n"
      ],
      "text/markdown": [
       "\n",
       "A tibble: 3 × 4\n",
       "\n",
       "| Film &lt;chr&gt; | Race &lt;chr&gt; | Female &lt;dbl&gt; | Male &lt;dbl&gt; |\n",
       "|---|---|---|---|\n",
       "| The Return Of The King | Elf    | 183 |  510 |\n",
       "| The Return Of The King | Hobbit |   2 | 2673 |\n",
       "| The Return Of The King | Man    | 268 | 2459 |\n",
       "\n"
      ],
      "text/plain": [
       "  Film                   Race   Female Male\n",
       "1 The Return Of The King Elf    183     510\n",
       "2 The Return Of The King Hobbit   2    2673\n",
       "3 The Return Of The King Man    268    2459"
      ]
     },
     "metadata": {},
     "output_type": "display_data"
    },
    {
     "data": {
      "text/html": [
       "<table class=\"dataframe\">\n",
       "<caption>A tibble: 3 × 4</caption>\n",
       "<thead>\n",
       "\t<tr><th scope=col>Film</th><th scope=col>Race</th><th scope=col>Female</th><th scope=col>Male</th></tr>\n",
       "\t<tr><th scope=col>&lt;chr&gt;</th><th scope=col>&lt;chr&gt;</th><th scope=col>&lt;dbl&gt;</th><th scope=col>&lt;dbl&gt;</th></tr>\n",
       "</thead>\n",
       "<tbody>\n",
       "\t<tr><td>The Two Towers</td><td>Elf   </td><td>331</td><td> 513</td></tr>\n",
       "\t<tr><td>The Two Towers</td><td>Hobbit</td><td>  0</td><td>2463</td></tr>\n",
       "\t<tr><td>The Two Towers</td><td>Man   </td><td>401</td><td>3589</td></tr>\n",
       "</tbody>\n",
       "</table>\n"
      ],
      "text/latex": [
       "A tibble: 3 × 4\n",
       "\\begin{tabular}{llll}\n",
       " Film & Race & Female & Male\\\\\n",
       " <chr> & <chr> & <dbl> & <dbl>\\\\\n",
       "\\hline\n",
       "\t The Two Towers & Elf    & 331 &  513\\\\\n",
       "\t The Two Towers & Hobbit &   0 & 2463\\\\\n",
       "\t The Two Towers & Man    & 401 & 3589\\\\\n",
       "\\end{tabular}\n"
      ],
      "text/markdown": [
       "\n",
       "A tibble: 3 × 4\n",
       "\n",
       "| Film &lt;chr&gt; | Race &lt;chr&gt; | Female &lt;dbl&gt; | Male &lt;dbl&gt; |\n",
       "|---|---|---|---|\n",
       "| The Two Towers | Elf    | 331 |  513 |\n",
       "| The Two Towers | Hobbit |   0 | 2463 |\n",
       "| The Two Towers | Man    | 401 | 3589 |\n",
       "\n"
      ],
      "text/plain": [
       "  Film           Race   Female Male\n",
       "1 The Two Towers Elf    331     513\n",
       "2 The Two Towers Hobbit   0    2463\n",
       "3 The Two Towers Man    401    3589"
      ]
     },
     "metadata": {},
     "output_type": "display_data"
    }
   ],
   "source": [
    "fship <- tribble(\n",
    "                         ~Film,    ~Race, ~Female, ~Male,\n",
    "  \"The Fellowship Of The Ring\",    \"Elf\",    1229,   971,\n",
    "  \"The Fellowship Of The Ring\", \"Hobbit\",      14,  3644,\n",
    "  \"The Fellowship Of The Ring\",    \"Man\",       0,  1995\n",
    ")\n",
    "rking <- tribble(\n",
    "                         ~Film,    ~Race, ~Female, ~Male,\n",
    "      \"The Return Of The King\",    \"Elf\",     183,   510,\n",
    "      \"The Return Of The King\", \"Hobbit\",       2,  2673,\n",
    "      \"The Return Of The King\",    \"Man\",     268,  2459\n",
    ")\n",
    "ttow <- tribble(\n",
    "                         ~Film,    ~Race, ~Female, ~Male,\n",
    "              \"The Two Towers\",    \"Elf\",     331,   513,\n",
    "              \"The Two Towers\", \"Hobbit\",       0,  2463,\n",
    "              \"The Two Towers\",    \"Man\",     401,  3589\n",
    ")\n",
    "fship\n",
    "rking\n",
    "ttow"
   ]
  },
  {
   "cell_type": "markdown",
   "metadata": {},
   "source": [
    "> `tribble` is another function that you can use to make tibbles, but let's you write the data in a more human readable form."
   ]
  },
  {
   "cell_type": "code",
   "execution_count": 3,
   "metadata": {},
   "outputs": [
    {
     "data": {
      "text/html": [
       "<table class=\"dataframe\">\n",
       "<caption>A tibble: 9 × 4</caption>\n",
       "<thead>\n",
       "\t<tr><th scope=col>Film</th><th scope=col>Race</th><th scope=col>Female</th><th scope=col>Male</th></tr>\n",
       "\t<tr><th scope=col>&lt;chr&gt;</th><th scope=col>&lt;chr&gt;</th><th scope=col>&lt;dbl&gt;</th><th scope=col>&lt;dbl&gt;</th></tr>\n",
       "</thead>\n",
       "<tbody>\n",
       "\t<tr><td>The Fellowship Of The Ring</td><td>Elf   </td><td>1229</td><td> 971</td></tr>\n",
       "\t<tr><td>The Fellowship Of The Ring</td><td>Hobbit</td><td>  14</td><td>3644</td></tr>\n",
       "\t<tr><td>The Fellowship Of The Ring</td><td>Man   </td><td>   0</td><td>1995</td></tr>\n",
       "\t<tr><td>The Two Towers            </td><td>Elf   </td><td> 331</td><td> 513</td></tr>\n",
       "\t<tr><td>The Two Towers            </td><td>Hobbit</td><td>   0</td><td>2463</td></tr>\n",
       "\t<tr><td>The Two Towers            </td><td>Man   </td><td> 401</td><td>3589</td></tr>\n",
       "\t<tr><td>The Return Of The King    </td><td>Elf   </td><td> 183</td><td> 510</td></tr>\n",
       "\t<tr><td>The Return Of The King    </td><td>Hobbit</td><td>   2</td><td>2673</td></tr>\n",
       "\t<tr><td>The Return Of The King    </td><td>Man   </td><td> 268</td><td>2459</td></tr>\n",
       "</tbody>\n",
       "</table>\n"
      ],
      "text/latex": [
       "A tibble: 9 × 4\n",
       "\\begin{tabular}{llll}\n",
       " Film & Race & Female & Male\\\\\n",
       " <chr> & <chr> & <dbl> & <dbl>\\\\\n",
       "\\hline\n",
       "\t The Fellowship Of The Ring & Elf    & 1229 &  971\\\\\n",
       "\t The Fellowship Of The Ring & Hobbit &   14 & 3644\\\\\n",
       "\t The Fellowship Of The Ring & Man    &    0 & 1995\\\\\n",
       "\t The Two Towers             & Elf    &  331 &  513\\\\\n",
       "\t The Two Towers             & Hobbit &    0 & 2463\\\\\n",
       "\t The Two Towers             & Man    &  401 & 3589\\\\\n",
       "\t The Return Of The King     & Elf    &  183 &  510\\\\\n",
       "\t The Return Of The King     & Hobbit &    2 & 2673\\\\\n",
       "\t The Return Of The King     & Man    &  268 & 2459\\\\\n",
       "\\end{tabular}\n"
      ],
      "text/markdown": [
       "\n",
       "A tibble: 9 × 4\n",
       "\n",
       "| Film &lt;chr&gt; | Race &lt;chr&gt; | Female &lt;dbl&gt; | Male &lt;dbl&gt; |\n",
       "|---|---|---|---|\n",
       "| The Fellowship Of The Ring | Elf    | 1229 |  971 |\n",
       "| The Fellowship Of The Ring | Hobbit |   14 | 3644 |\n",
       "| The Fellowship Of The Ring | Man    |    0 | 1995 |\n",
       "| The Two Towers             | Elf    |  331 |  513 |\n",
       "| The Two Towers             | Hobbit |    0 | 2463 |\n",
       "| The Two Towers             | Man    |  401 | 3589 |\n",
       "| The Return Of The King     | Elf    |  183 |  510 |\n",
       "| The Return Of The King     | Hobbit |    2 | 2673 |\n",
       "| The Return Of The King     | Man    |  268 | 2459 |\n",
       "\n"
      ],
      "text/plain": [
       "  Film                       Race   Female Male\n",
       "1 The Fellowship Of The Ring Elf    1229    971\n",
       "2 The Fellowship Of The Ring Hobbit   14   3644\n",
       "3 The Fellowship Of The Ring Man       0   1995\n",
       "4 The Two Towers             Elf     331    513\n",
       "5 The Two Towers             Hobbit    0   2463\n",
       "6 The Two Towers             Man     401   3589\n",
       "7 The Return Of The King     Elf     183    510\n",
       "8 The Return Of The King     Hobbit    2   2673\n",
       "9 The Return Of The King     Man     268   2459"
      ]
     },
     "metadata": {},
     "output_type": "display_data"
    }
   ],
   "source": [
    "# bind the rows\n",
    "bind_rows(fship, ttow, rking)"
   ]
  },
  {
   "cell_type": "markdown",
   "metadata": {},
   "source": [
    "#### Column binding\n",
    "\n",
    "When column binding, the onus is entirely on the analyst to make sure that the rows are aligned. I would avoid column binding whenever possible. If you can introduce new variables through any other, safer means, do so! By safer, I mean: use a mechanism where the row alignment is correct by definition. A proper join is the gold standard. In addition to joins, functions like dplyr::mutate() and tidyr::separate() can be very useful for forcing yourself to work inside the constraint of a tibble.\n",
    "\n",
    "Let's bind 3 columns onto a data frame:"
   ]
  },
  {
   "cell_type": "code",
   "execution_count": 4,
   "metadata": {},
   "outputs": [
    {
     "data": {
      "text/html": [
       "<table class=\"dataframe\">\n",
       "<caption>A tibble: 3 × 1</caption>\n",
       "<thead>\n",
       "\t<tr><th scope=col>Film</th></tr>\n",
       "\t<tr><th scope=col>&lt;chr&gt;</th></tr>\n",
       "</thead>\n",
       "<tbody>\n",
       "\t<tr><td>The Fellowship Of The Ring</td></tr>\n",
       "\t<tr><td>The Fellowship Of The Ring</td></tr>\n",
       "\t<tr><td>The Fellowship Of The Ring</td></tr>\n",
       "</tbody>\n",
       "</table>\n"
      ],
      "text/latex": [
       "A tibble: 3 × 1\n",
       "\\begin{tabular}{l}\n",
       " Film\\\\\n",
       " <chr>\\\\\n",
       "\\hline\n",
       "\t The Fellowship Of The Ring\\\\\n",
       "\t The Fellowship Of The Ring\\\\\n",
       "\t The Fellowship Of The Ring\\\\\n",
       "\\end{tabular}\n"
      ],
      "text/markdown": [
       "\n",
       "A tibble: 3 × 1\n",
       "\n",
       "| Film &lt;chr&gt; |\n",
       "|---|\n",
       "| The Fellowship Of The Ring |\n",
       "| The Fellowship Of The Ring |\n",
       "| The Fellowship Of The Ring |\n",
       "\n"
      ],
      "text/plain": [
       "  Film                      \n",
       "1 The Fellowship Of The Ring\n",
       "2 The Fellowship Of The Ring\n",
       "3 The Fellowship Of The Ring"
      ]
     },
     "metadata": {},
     "output_type": "display_data"
    },
    {
     "data": {
      "text/html": [
       "<table class=\"dataframe\">\n",
       "<caption>A tibble: 3 × 3</caption>\n",
       "<thead>\n",
       "\t<tr><th scope=col>Race</th><th scope=col>Female</th><th scope=col>Male</th></tr>\n",
       "\t<tr><th scope=col>&lt;chr&gt;</th><th scope=col>&lt;dbl&gt;</th><th scope=col>&lt;dbl&gt;</th></tr>\n",
       "</thead>\n",
       "<tbody>\n",
       "\t<tr><td>Elf   </td><td>1229</td><td> 971</td></tr>\n",
       "\t<tr><td>Hobbit</td><td>  14</td><td>3644</td></tr>\n",
       "\t<tr><td>Man   </td><td>   0</td><td>1995</td></tr>\n",
       "</tbody>\n",
       "</table>\n"
      ],
      "text/latex": [
       "A tibble: 3 × 3\n",
       "\\begin{tabular}{lll}\n",
       " Race & Female & Male\\\\\n",
       " <chr> & <dbl> & <dbl>\\\\\n",
       "\\hline\n",
       "\t Elf    & 1229 &  971\\\\\n",
       "\t Hobbit &   14 & 3644\\\\\n",
       "\t Man    &    0 & 1995\\\\\n",
       "\\end{tabular}\n"
      ],
      "text/markdown": [
       "\n",
       "A tibble: 3 × 3\n",
       "\n",
       "| Race &lt;chr&gt; | Female &lt;dbl&gt; | Male &lt;dbl&gt; |\n",
       "|---|---|---|\n",
       "| Elf    | 1229 |  971 |\n",
       "| Hobbit |   14 | 3644 |\n",
       "| Man    |    0 | 1995 |\n",
       "\n"
      ],
      "text/plain": [
       "  Race   Female Male\n",
       "1 Elf    1229    971\n",
       "2 Hobbit   14   3644\n",
       "3 Man       0   1995"
      ]
     },
     "metadata": {},
     "output_type": "display_data"
    }
   ],
   "source": [
    "fship <- tribble(\n",
    "                         ~Film,    \n",
    "  \"The Fellowship Of The Ring\",\n",
    "  \"The Fellowship Of The Ring\", \n",
    "  \"The Fellowship Of The Ring\"\n",
    ")\n",
    "\n",
    "fship_data <- tribble(\n",
    "  ~Race, ~Female, ~Male,\n",
    "  \"Elf\",    1229,   971,\n",
    "  \"Hobbit\",      14,  3644,\n",
    "  \"Man\",       0,  1995\n",
    ")\n",
    "\n",
    "fship\n",
    "fship_data"
   ]
  },
  {
   "cell_type": "code",
   "execution_count": 5,
   "metadata": {},
   "outputs": [
    {
     "data": {
      "text/html": [
       "<table class=\"dataframe\">\n",
       "<caption>A tibble: 3 × 4</caption>\n",
       "<thead>\n",
       "\t<tr><th scope=col>Film</th><th scope=col>Race</th><th scope=col>Female</th><th scope=col>Male</th></tr>\n",
       "\t<tr><th scope=col>&lt;chr&gt;</th><th scope=col>&lt;chr&gt;</th><th scope=col>&lt;dbl&gt;</th><th scope=col>&lt;dbl&gt;</th></tr>\n",
       "</thead>\n",
       "<tbody>\n",
       "\t<tr><td>The Fellowship Of The Ring</td><td>Elf   </td><td>1229</td><td> 971</td></tr>\n",
       "\t<tr><td>The Fellowship Of The Ring</td><td>Hobbit</td><td>  14</td><td>3644</td></tr>\n",
       "\t<tr><td>The Fellowship Of The Ring</td><td>Man   </td><td>   0</td><td>1995</td></tr>\n",
       "</tbody>\n",
       "</table>\n"
      ],
      "text/latex": [
       "A tibble: 3 × 4\n",
       "\\begin{tabular}{llll}\n",
       " Film & Race & Female & Male\\\\\n",
       " <chr> & <chr> & <dbl> & <dbl>\\\\\n",
       "\\hline\n",
       "\t The Fellowship Of The Ring & Elf    & 1229 &  971\\\\\n",
       "\t The Fellowship Of The Ring & Hobbit &   14 & 3644\\\\\n",
       "\t The Fellowship Of The Ring & Man    &    0 & 1995\\\\\n",
       "\\end{tabular}\n"
      ],
      "text/markdown": [
       "\n",
       "A tibble: 3 × 4\n",
       "\n",
       "| Film &lt;chr&gt; | Race &lt;chr&gt; | Female &lt;dbl&gt; | Male &lt;dbl&gt; |\n",
       "|---|---|---|---|\n",
       "| The Fellowship Of The Ring | Elf    | 1229 |  971 |\n",
       "| The Fellowship Of The Ring | Hobbit |   14 | 3644 |\n",
       "| The Fellowship Of The Ring | Man    |    0 | 1995 |\n",
       "\n"
      ],
      "text/plain": [
       "  Film                       Race   Female Male\n",
       "1 The Fellowship Of The Ring Elf    1229    971\n",
       "2 The Fellowship Of The Ring Hobbit   14   3644\n",
       "3 The Fellowship Of The Ring Man       0   1995"
      ]
     },
     "metadata": {},
     "output_type": "display_data"
    }
   ],
   "source": [
    "# bind the columns\n",
    "bind_cols(fship, fship_data)"
   ]
  },
  {
   "cell_type": "markdown",
   "metadata": {},
   "source": [
    "### Joins\n",
    "\n",
    "Here you designate a variable (or a combination of variables) as a key. A row in one data frame gets matched with a row in another data frame because they have the same key. You can then bring information from variables in a secondary data frame into a primary data frame based on this key-based lookup. That description is incredibly oversimplified, but that’s the basic idea.\n",
    "\n",
    "A variety of row- and column-wise operations fit into this framework, which implies there are many different flavors of join. The concepts and vocabulary around joins come from the database world. The relevant functions in `dplyr` follow this convention and all mention `join`. "
   ]
  },
  {
   "cell_type": "markdown",
   "metadata": {},
   "source": [
    "Your best cheatsheet: https://stat545.com/join-cheatsheet.html\n",
    "\n",
    "Compliments of Jenny Bryan!"
   ]
  },
  {
   "cell_type": "markdown",
   "metadata": {},
   "source": [
    "#### Left join\n",
    "\n",
    "`left_join(x, y)`: Return all rows from `x`, and all columns from `x` and `y`. If there are multiple matches between `x` and `y`, all combination of the matches are returned. This is a mutating join.\n",
    "\n",
    "```{figure} img/left_join.png\n",
    "    ---\n",
    "    height: 400px\n",
    "    name: left_join\n",
    "    align: left\n",
    "    ---\n",
    "```\n",
    "\n",
    "*Source: https://stat545.com/join-cheatsheet.html*"
   ]
  },
  {
   "cell_type": "markdown",
   "metadata": {},
   "source": [
    "Let's work through an example. We will create a data frame called `am_af_countries` from American and African countries from the gapminder data set, that contains the country and continent rows:"
   ]
  },
  {
   "cell_type": "code",
   "execution_count": 6,
   "metadata": {},
   "outputs": [
    {
     "data": {
      "text/html": [
       "<table class=\"dataframe\">\n",
       "<caption>A grouped_df: 77 × 2</caption>\n",
       "<thead>\n",
       "\t<tr><th scope=col>country</th><th scope=col>continent</th></tr>\n",
       "\t<tr><th scope=col>&lt;fct&gt;</th><th scope=col>&lt;fct&gt;</th></tr>\n",
       "</thead>\n",
       "<tbody>\n",
       "\t<tr><td>Algeria  </td><td>Africa  </td></tr>\n",
       "\t<tr><td>Angola   </td><td>Africa  </td></tr>\n",
       "\t<tr><td>Argentina</td><td>Americas</td></tr>\n",
       "\t<tr><td>Benin    </td><td>Africa  </td></tr>\n",
       "\t<tr><td>Bolivia  </td><td>Americas</td></tr>\n",
       "\t<tr><td>⋮</td><td>⋮</td></tr>\n",
       "\t<tr><td>United States</td><td>Americas</td></tr>\n",
       "\t<tr><td>Uruguay      </td><td>Americas</td></tr>\n",
       "\t<tr><td>Venezuela    </td><td>Americas</td></tr>\n",
       "\t<tr><td>Zambia       </td><td>Africa  </td></tr>\n",
       "\t<tr><td>Zimbabwe     </td><td>Africa  </td></tr>\n",
       "</tbody>\n",
       "</table>\n"
      ],
      "text/latex": [
       "A grouped\\_df: 77 × 2\n",
       "\\begin{tabular}{ll}\n",
       " country & continent\\\\\n",
       " <fct> & <fct>\\\\\n",
       "\\hline\n",
       "\t Algeria   & Africa  \\\\\n",
       "\t Angola    & Africa  \\\\\n",
       "\t Argentina & Americas\\\\\n",
       "\t Benin     & Africa  \\\\\n",
       "\t Bolivia   & Americas\\\\\n",
       "\t ⋮ & ⋮\\\\\n",
       "\t United States & Americas\\\\\n",
       "\t Uruguay       & Americas\\\\\n",
       "\t Venezuela     & Americas\\\\\n",
       "\t Zambia        & Africa  \\\\\n",
       "\t Zimbabwe      & Africa  \\\\\n",
       "\\end{tabular}\n"
      ],
      "text/markdown": [
       "\n",
       "A grouped_df: 77 × 2\n",
       "\n",
       "| country &lt;fct&gt; | continent &lt;fct&gt; |\n",
       "|---|---|\n",
       "| Algeria   | Africa   |\n",
       "| Angola    | Africa   |\n",
       "| Argentina | Americas |\n",
       "| Benin     | Africa   |\n",
       "| Bolivia   | Americas |\n",
       "| ⋮ | ⋮ |\n",
       "| United States | Americas |\n",
       "| Uruguay       | Americas |\n",
       "| Venezuela     | Americas |\n",
       "| Zambia        | Africa   |\n",
       "| Zimbabwe      | Africa   |\n",
       "\n"
      ],
      "text/plain": [
       "   country       continent\n",
       "1  Algeria       Africa   \n",
       "2  Angola        Africa   \n",
       "3  Argentina     Americas \n",
       "4  Benin         Africa   \n",
       "5  Bolivia       Americas \n",
       "⋮  ⋮             ⋮        \n",
       "73 United States Americas \n",
       "74 Uruguay       Americas \n",
       "75 Venezuela     Americas \n",
       "76 Zambia        Africa   \n",
       "77 Zimbabwe      Africa   "
      ]
     },
     "metadata": {},
     "output_type": "display_data"
    }
   ],
   "source": [
    "am_af_countries <- gapminder %>% \n",
    "    filter(continent == \"Americas\" | continent == \"Africa\") %>% \n",
    "    select(country, continent) %>% \n",
    "    group_by(country) %>% \n",
    "    slice(1)\n",
    "am_af_countries"
   ]
  },
  {
   "cell_type": "code",
   "execution_count": 7,
   "metadata": {},
   "outputs": [
    {
     "data": {
      "text/html": [
       "<table class=\"dataframe\">\n",
       "<caption>A tibble: 187 × 3</caption>\n",
       "<thead>\n",
       "\t<tr><th scope=col>country</th><th scope=col>iso_alpha</th><th scope=col>iso_num</th></tr>\n",
       "\t<tr><th scope=col>&lt;chr&gt;</th><th scope=col>&lt;chr&gt;</th><th scope=col>&lt;int&gt;</th></tr>\n",
       "</thead>\n",
       "<tbody>\n",
       "\t<tr><td>Afghanistan</td><td>AFG</td><td> 4</td></tr>\n",
       "\t<tr><td>Albania    </td><td>ALB</td><td> 8</td></tr>\n",
       "\t<tr><td>Algeria    </td><td>DZA</td><td>12</td></tr>\n",
       "\t<tr><td>Angola     </td><td>AGO</td><td>24</td></tr>\n",
       "\t<tr><td>Argentina  </td><td>ARG</td><td>32</td></tr>\n",
       "\t<tr><td>⋮</td><td>⋮</td><td>⋮</td></tr>\n",
       "\t<tr><td>Vietnam           </td><td>VNM</td><td>704</td></tr>\n",
       "\t<tr><td>West Bank and Gaza</td><td>PSE</td><td>275</td></tr>\n",
       "\t<tr><td>Yemen, Rep.       </td><td>YEM</td><td>887</td></tr>\n",
       "\t<tr><td>Zambia            </td><td>ZMB</td><td>894</td></tr>\n",
       "\t<tr><td>Zimbabwe          </td><td>ZWE</td><td>716</td></tr>\n",
       "</tbody>\n",
       "</table>\n"
      ],
      "text/latex": [
       "A tibble: 187 × 3\n",
       "\\begin{tabular}{lll}\n",
       " country & iso\\_alpha & iso\\_num\\\\\n",
       " <chr> & <chr> & <int>\\\\\n",
       "\\hline\n",
       "\t Afghanistan & AFG &  4\\\\\n",
       "\t Albania     & ALB &  8\\\\\n",
       "\t Algeria     & DZA & 12\\\\\n",
       "\t Angola      & AGO & 24\\\\\n",
       "\t Argentina   & ARG & 32\\\\\n",
       "\t ⋮ & ⋮ & ⋮\\\\\n",
       "\t Vietnam            & VNM & 704\\\\\n",
       "\t West Bank and Gaza & PSE & 275\\\\\n",
       "\t Yemen, Rep.        & YEM & 887\\\\\n",
       "\t Zambia             & ZMB & 894\\\\\n",
       "\t Zimbabwe           & ZWE & 716\\\\\n",
       "\\end{tabular}\n"
      ],
      "text/markdown": [
       "\n",
       "A tibble: 187 × 3\n",
       "\n",
       "| country &lt;chr&gt; | iso_alpha &lt;chr&gt; | iso_num &lt;int&gt; |\n",
       "|---|---|---|\n",
       "| Afghanistan | AFG |  4 |\n",
       "| Albania     | ALB |  8 |\n",
       "| Algeria     | DZA | 12 |\n",
       "| Angola      | AGO | 24 |\n",
       "| Argentina   | ARG | 32 |\n",
       "| ⋮ | ⋮ | ⋮ |\n",
       "| Vietnam            | VNM | 704 |\n",
       "| West Bank and Gaza | PSE | 275 |\n",
       "| Yemen, Rep.        | YEM | 887 |\n",
       "| Zambia             | ZMB | 894 |\n",
       "| Zimbabwe           | ZWE | 716 |\n",
       "\n"
      ],
      "text/plain": [
       "    country            iso_alpha iso_num\n",
       "1   Afghanistan        AFG        4     \n",
       "2   Albania            ALB        8     \n",
       "3   Algeria            DZA       12     \n",
       "4   Angola             AGO       24     \n",
       "5   Argentina          ARG       32     \n",
       "⋮   ⋮                  ⋮         ⋮      \n",
       "183 Vietnam            VNM       704    \n",
       "184 West Bank and Gaza PSE       275    \n",
       "185 Yemen, Rep.        YEM       887    \n",
       "186 Zambia             ZMB       894    \n",
       "187 Zimbabwe           ZWE       716    "
      ]
     },
     "metadata": {},
     "output_type": "display_data"
    }
   ],
   "source": [
    "country_codes"
   ]
  },
  {
   "cell_type": "code",
   "execution_count": 8,
   "metadata": {},
   "outputs": [
    {
     "name": "stderr",
     "output_type": "stream",
     "text": [
      "\u001b[1m\u001b[22mJoining, by = \"country\"\n"
     ]
    },
    {
     "data": {
      "text/html": [
       "<table class=\"dataframe\">\n",
       "<caption>A grouped_df: 77 × 4</caption>\n",
       "<thead>\n",
       "\t<tr><th scope=col>country</th><th scope=col>continent</th><th scope=col>iso_alpha</th><th scope=col>iso_num</th></tr>\n",
       "\t<tr><th scope=col>&lt;chr&gt;</th><th scope=col>&lt;fct&gt;</th><th scope=col>&lt;chr&gt;</th><th scope=col>&lt;int&gt;</th></tr>\n",
       "</thead>\n",
       "<tbody>\n",
       "\t<tr><td>Algeria  </td><td>Africa  </td><td>DZA</td><td> 12</td></tr>\n",
       "\t<tr><td>Angola   </td><td>Africa  </td><td>AGO</td><td> 24</td></tr>\n",
       "\t<tr><td>Argentina</td><td>Americas</td><td>ARG</td><td> 32</td></tr>\n",
       "\t<tr><td>Benin    </td><td>Africa  </td><td>BEN</td><td>204</td></tr>\n",
       "\t<tr><td>Bolivia  </td><td>Americas</td><td>BOL</td><td> 68</td></tr>\n",
       "\t<tr><td>⋮</td><td>⋮</td><td>⋮</td><td>⋮</td></tr>\n",
       "\t<tr><td>United States</td><td>Americas</td><td>USA</td><td>840</td></tr>\n",
       "\t<tr><td>Uruguay      </td><td>Americas</td><td>URY</td><td>858</td></tr>\n",
       "\t<tr><td>Venezuela    </td><td>Americas</td><td>VEN</td><td>862</td></tr>\n",
       "\t<tr><td>Zambia       </td><td>Africa  </td><td>ZMB</td><td>894</td></tr>\n",
       "\t<tr><td>Zimbabwe     </td><td>Africa  </td><td>ZWE</td><td>716</td></tr>\n",
       "</tbody>\n",
       "</table>\n"
      ],
      "text/latex": [
       "A grouped\\_df: 77 × 4\n",
       "\\begin{tabular}{llll}\n",
       " country & continent & iso\\_alpha & iso\\_num\\\\\n",
       " <chr> & <fct> & <chr> & <int>\\\\\n",
       "\\hline\n",
       "\t Algeria   & Africa   & DZA &  12\\\\\n",
       "\t Angola    & Africa   & AGO &  24\\\\\n",
       "\t Argentina & Americas & ARG &  32\\\\\n",
       "\t Benin     & Africa   & BEN & 204\\\\\n",
       "\t Bolivia   & Americas & BOL &  68\\\\\n",
       "\t ⋮ & ⋮ & ⋮ & ⋮\\\\\n",
       "\t United States & Americas & USA & 840\\\\\n",
       "\t Uruguay       & Americas & URY & 858\\\\\n",
       "\t Venezuela     & Americas & VEN & 862\\\\\n",
       "\t Zambia        & Africa   & ZMB & 894\\\\\n",
       "\t Zimbabwe      & Africa   & ZWE & 716\\\\\n",
       "\\end{tabular}\n"
      ],
      "text/markdown": [
       "\n",
       "A grouped_df: 77 × 4\n",
       "\n",
       "| country &lt;chr&gt; | continent &lt;fct&gt; | iso_alpha &lt;chr&gt; | iso_num &lt;int&gt; |\n",
       "|---|---|---|---|\n",
       "| Algeria   | Africa   | DZA |  12 |\n",
       "| Angola    | Africa   | AGO |  24 |\n",
       "| Argentina | Americas | ARG |  32 |\n",
       "| Benin     | Africa   | BEN | 204 |\n",
       "| Bolivia   | Americas | BOL |  68 |\n",
       "| ⋮ | ⋮ | ⋮ | ⋮ |\n",
       "| United States | Americas | USA | 840 |\n",
       "| Uruguay       | Americas | URY | 858 |\n",
       "| Venezuela     | Americas | VEN | 862 |\n",
       "| Zambia        | Africa   | ZMB | 894 |\n",
       "| Zimbabwe      | Africa   | ZWE | 716 |\n",
       "\n"
      ],
      "text/plain": [
       "   country       continent iso_alpha iso_num\n",
       "1  Algeria       Africa    DZA        12    \n",
       "2  Angola        Africa    AGO        24    \n",
       "3  Argentina     Americas  ARG        32    \n",
       "4  Benin         Africa    BEN       204    \n",
       "5  Bolivia       Americas  BOL        68    \n",
       "⋮  ⋮             ⋮         ⋮         ⋮      \n",
       "73 United States Americas  USA       840    \n",
       "74 Uruguay       Americas  URY       858    \n",
       "75 Venezuela     Americas  VEN       862    \n",
       "76 Zambia        Africa    ZMB       894    \n",
       "77 Zimbabwe      Africa    ZWE       716    "
      ]
     },
     "metadata": {},
     "output_type": "display_data"
    }
   ],
   "source": [
    "# join data frames\n",
    "left_join(am_af_countries, country_codes) "
   ]
  },
  {
   "cell_type": "markdown",
   "metadata": {},
   "source": [
    "#### What if your column names don't match?\n",
    "\n",
    "You can specify which columns to join by! "
   ]
  },
  {
   "cell_type": "code",
   "execution_count": 9,
   "metadata": {},
   "outputs": [
    {
     "data": {
      "text/html": [
       "<table class=\"dataframe\">\n",
       "<caption>A grouped_df: 77 × 2</caption>\n",
       "<thead>\n",
       "\t<tr><th scope=col>countries</th><th scope=col>continent</th></tr>\n",
       "\t<tr><th scope=col>&lt;fct&gt;</th><th scope=col>&lt;fct&gt;</th></tr>\n",
       "</thead>\n",
       "<tbody>\n",
       "\t<tr><td>Algeria  </td><td>Africa  </td></tr>\n",
       "\t<tr><td>Angola   </td><td>Africa  </td></tr>\n",
       "\t<tr><td>Argentina</td><td>Americas</td></tr>\n",
       "\t<tr><td>Benin    </td><td>Africa  </td></tr>\n",
       "\t<tr><td>Bolivia  </td><td>Americas</td></tr>\n",
       "\t<tr><td>⋮</td><td>⋮</td></tr>\n",
       "\t<tr><td>United States</td><td>Americas</td></tr>\n",
       "\t<tr><td>Uruguay      </td><td>Americas</td></tr>\n",
       "\t<tr><td>Venezuela    </td><td>Americas</td></tr>\n",
       "\t<tr><td>Zambia       </td><td>Africa  </td></tr>\n",
       "\t<tr><td>Zimbabwe     </td><td>Africa  </td></tr>\n",
       "</tbody>\n",
       "</table>\n"
      ],
      "text/latex": [
       "A grouped\\_df: 77 × 2\n",
       "\\begin{tabular}{ll}\n",
       " countries & continent\\\\\n",
       " <fct> & <fct>\\\\\n",
       "\\hline\n",
       "\t Algeria   & Africa  \\\\\n",
       "\t Angola    & Africa  \\\\\n",
       "\t Argentina & Americas\\\\\n",
       "\t Benin     & Africa  \\\\\n",
       "\t Bolivia   & Americas\\\\\n",
       "\t ⋮ & ⋮\\\\\n",
       "\t United States & Americas\\\\\n",
       "\t Uruguay       & Americas\\\\\n",
       "\t Venezuela     & Americas\\\\\n",
       "\t Zambia        & Africa  \\\\\n",
       "\t Zimbabwe      & Africa  \\\\\n",
       "\\end{tabular}\n"
      ],
      "text/markdown": [
       "\n",
       "A grouped_df: 77 × 2\n",
       "\n",
       "| countries &lt;fct&gt; | continent &lt;fct&gt; |\n",
       "|---|---|\n",
       "| Algeria   | Africa   |\n",
       "| Angola    | Africa   |\n",
       "| Argentina | Americas |\n",
       "| Benin     | Africa   |\n",
       "| Bolivia   | Americas |\n",
       "| ⋮ | ⋮ |\n",
       "| United States | Americas |\n",
       "| Uruguay       | Americas |\n",
       "| Venezuela     | Americas |\n",
       "| Zambia        | Africa   |\n",
       "| Zimbabwe      | Africa   |\n",
       "\n"
      ],
      "text/plain": [
       "   countries     continent\n",
       "1  Algeria       Africa   \n",
       "2  Angola        Africa   \n",
       "3  Argentina     Americas \n",
       "4  Benin         Africa   \n",
       "5  Bolivia       Americas \n",
       "⋮  ⋮             ⋮        \n",
       "73 United States Americas \n",
       "74 Uruguay       Americas \n",
       "75 Venezuela     Americas \n",
       "76 Zambia        Africa   \n",
       "77 Zimbabwe      Africa   "
      ]
     },
     "metadata": {},
     "output_type": "display_data"
    }
   ],
   "source": [
    "#rename country column _renamed <- am_af_countries %>% \n",
    "am_af_countries <- am_af_countries %>% \n",
    "    rename(countries = country)\n",
    "am_af_countries"
   ]
  },
  {
   "cell_type": "code",
   "execution_count": 10,
   "metadata": {},
   "outputs": [
    {
     "data": {
      "text/html": [
       "<table class=\"dataframe\">\n",
       "<caption>A grouped_df: 77 × 4</caption>\n",
       "<thead>\n",
       "\t<tr><th scope=col>countries</th><th scope=col>continent</th><th scope=col>iso_alpha</th><th scope=col>iso_num</th></tr>\n",
       "\t<tr><th scope=col>&lt;chr&gt;</th><th scope=col>&lt;fct&gt;</th><th scope=col>&lt;chr&gt;</th><th scope=col>&lt;int&gt;</th></tr>\n",
       "</thead>\n",
       "<tbody>\n",
       "\t<tr><td>Algeria  </td><td>Africa  </td><td>DZA</td><td> 12</td></tr>\n",
       "\t<tr><td>Angola   </td><td>Africa  </td><td>AGO</td><td> 24</td></tr>\n",
       "\t<tr><td>Argentina</td><td>Americas</td><td>ARG</td><td> 32</td></tr>\n",
       "\t<tr><td>Benin    </td><td>Africa  </td><td>BEN</td><td>204</td></tr>\n",
       "\t<tr><td>Bolivia  </td><td>Americas</td><td>BOL</td><td> 68</td></tr>\n",
       "\t<tr><td>⋮</td><td>⋮</td><td>⋮</td><td>⋮</td></tr>\n",
       "\t<tr><td>United States</td><td>Americas</td><td>USA</td><td>840</td></tr>\n",
       "\t<tr><td>Uruguay      </td><td>Americas</td><td>URY</td><td>858</td></tr>\n",
       "\t<tr><td>Venezuela    </td><td>Americas</td><td>VEN</td><td>862</td></tr>\n",
       "\t<tr><td>Zambia       </td><td>Africa  </td><td>ZMB</td><td>894</td></tr>\n",
       "\t<tr><td>Zimbabwe     </td><td>Africa  </td><td>ZWE</td><td>716</td></tr>\n",
       "</tbody>\n",
       "</table>\n"
      ],
      "text/latex": [
       "A grouped\\_df: 77 × 4\n",
       "\\begin{tabular}{llll}\n",
       " countries & continent & iso\\_alpha & iso\\_num\\\\\n",
       " <chr> & <fct> & <chr> & <int>\\\\\n",
       "\\hline\n",
       "\t Algeria   & Africa   & DZA &  12\\\\\n",
       "\t Angola    & Africa   & AGO &  24\\\\\n",
       "\t Argentina & Americas & ARG &  32\\\\\n",
       "\t Benin     & Africa   & BEN & 204\\\\\n",
       "\t Bolivia   & Americas & BOL &  68\\\\\n",
       "\t ⋮ & ⋮ & ⋮ & ⋮\\\\\n",
       "\t United States & Americas & USA & 840\\\\\n",
       "\t Uruguay       & Americas & URY & 858\\\\\n",
       "\t Venezuela     & Americas & VEN & 862\\\\\n",
       "\t Zambia        & Africa   & ZMB & 894\\\\\n",
       "\t Zimbabwe      & Africa   & ZWE & 716\\\\\n",
       "\\end{tabular}\n"
      ],
      "text/markdown": [
       "\n",
       "A grouped_df: 77 × 4\n",
       "\n",
       "| countries &lt;chr&gt; | continent &lt;fct&gt; | iso_alpha &lt;chr&gt; | iso_num &lt;int&gt; |\n",
       "|---|---|---|---|\n",
       "| Algeria   | Africa   | DZA |  12 |\n",
       "| Angola    | Africa   | AGO |  24 |\n",
       "| Argentina | Americas | ARG |  32 |\n",
       "| Benin     | Africa   | BEN | 204 |\n",
       "| Bolivia   | Americas | BOL |  68 |\n",
       "| ⋮ | ⋮ | ⋮ | ⋮ |\n",
       "| United States | Americas | USA | 840 |\n",
       "| Uruguay       | Americas | URY | 858 |\n",
       "| Venezuela     | Americas | VEN | 862 |\n",
       "| Zambia        | Africa   | ZMB | 894 |\n",
       "| Zimbabwe      | Africa   | ZWE | 716 |\n",
       "\n"
      ],
      "text/plain": [
       "   countries     continent iso_alpha iso_num\n",
       "1  Algeria       Africa    DZA        12    \n",
       "2  Angola        Africa    AGO        24    \n",
       "3  Argentina     Americas  ARG        32    \n",
       "4  Benin         Africa    BEN       204    \n",
       "5  Bolivia       Americas  BOL        68    \n",
       "⋮  ⋮             ⋮         ⋮         ⋮      \n",
       "73 United States Americas  USA       840    \n",
       "74 Uruguay       Americas  URY       858    \n",
       "75 Venezuela     Americas  VEN       862    \n",
       "76 Zambia        Africa    ZMB       894    \n",
       "77 Zimbabwe      Africa    ZWE       716    "
      ]
     },
     "metadata": {},
     "output_type": "display_data"
    }
   ],
   "source": [
    "left_join(am_af_countries, country_codes, \n",
    "          by = c(\"countries\" = \"country\"))"
   ]
  },
  {
   "cell_type": "markdown",
   "metadata": {},
   "source": [
    "#### Other joins:\n",
    "\n",
    "There are several other joins available to you in the {dplyr} package. I give a high level overview next, and then you will get a chance to interact and explore these functions in more detail in your worksheet and lab."
   ]
  },
  {
   "cell_type": "markdown",
   "metadata": {},
   "source": [
    "#### Inner join\n",
    "\n",
    "`inner_join(x, y)`: Return all rows from `x` where there are matching values in `y`, and all columns from `x` and `y`. If there are multiple matches between `x` and `y`, all combination of the matches are returned. This is a mutating join.\n",
    "\n",
    "```{figure} img/inner_join.png\n",
    "    ---\n",
    "    height: 400px\n",
    "    name: inner_join\n",
    "    align: left\n",
    "    ---\n",
    "```\n",
    "\n",
    "*Source: https://stat545.com/join-cheatsheet.html*"
   ]
  },
  {
   "cell_type": "markdown",
   "metadata": {},
   "source": [
    "#### Semi join\n",
    "\n",
    "`semi_join(x, y)`: Return all rows from `x` where there are matching values in `y`, keeping just columns from `x`. A semi join differs from an inner join because an inner join will return one row of x for each matching row of y, where a semi join will never duplicate rows of `x`. This is a filtering join.\n",
    "\n",
    "```{figure} img/semi_join.png\n",
    "    ---\n",
    "    height: 400px\n",
    "    name: semi_join\n",
    "    align: left\n",
    "    ---\n",
    "```\n",
    "\n",
    "*Source: https://stat545.com/join-cheatsheet.html*"
   ]
  },
  {
   "cell_type": "markdown",
   "metadata": {},
   "source": [
    "#### Anti join\n",
    "\n",
    "`anti_join(x, y)`: Return all rows from `x` where there are not matching values in `y`, keeping just columns from `x`. This is a filtering join.\n",
    "\n",
    "```{figure} img/anti_join.png\n",
    "    ---\n",
    "    height: 400px\n",
    "    name: anti_join\n",
    "    align: left\n",
    "    ---\n",
    "```\n",
    "\n",
    "*Source: https://stat545.com/join-cheatsheet.html*"
   ]
  },
  {
   "cell_type": "markdown",
   "metadata": {},
   "source": [
    "#### Full join\n",
    "\n",
    "`full_join(x, y)`: Return all rows and all columns from both `x` and `y`. Where there are not matching values, returns NA for the one missing. This is a mutating join.\n",
    "\n",
    "```{figure} img/full_join.png\n",
    "    ---\n",
    "    height: 400px\n",
    "    name: full_join\n",
    "    align: left\n",
    "    ---\n",
    "```\n",
    "\n",
    "*Source: https://stat545.com/join-cheatsheet.html*"
   ]
  },
  {
   "cell_type": "markdown",
   "metadata": {},
   "source": [
    "```{admonition} Clicker 2: Given the dataframes \"X\" and \"Y\" below, what kind of join would you perform to produce \"Z\"? Provide the code to do so.\n",
    "\n",
    "<img src =\"img/clicker2.png\" width=600>\n",
    "\n",
    "A) inner_join(X, Y)\n",
    "\n",
    "B) left_join(Y, X)\n",
    "\n",
    "C) anti_join(X,Y)\n",
    "\n",
    "D) full_join(X,Y)\n",
    "```\n",
    "\n",
    "```{toggle}\n",
    "\n",
    "***Answer: A***\n",
    "\n",
    "```"
   ]
  },
  {
   "cell_type": "markdown",
   "metadata": {},
   "source": [
    "## Control flow in base R\n",
    "Similar to other programming languages, R has the now standard control flow capabilities. We will talk about two in this course:\n",
    "\n",
    "- `for` loops\n",
    "\n",
    "- `if` / `else if` / `else` statements (conditionals)"
   ]
  },
  {
   "cell_type": "markdown",
   "metadata": {
    "slideshow": {
     "slide_type": "slide"
    }
   },
   "source": [
    "### Control Flow: `for` loops\n",
    "\n",
    "- For loops in R, work like this: `for (item in vector) perform_action`\n",
    "- When code needs to be split across lines in R, we use the `{` operator to surround it"
   ]
  },
  {
   "cell_type": "markdown",
   "metadata": {
    "slideshow": {
     "slide_type": "fragment"
    }
   },
   "source": [
    "#### Iterating over an object\n",
    "\n",
    "Let's write a for loop that iterates over a vector of the numbers 1, 2, 3 and prints out the square of each. "
   ]
  },
  {
   "cell_type": "code",
   "execution_count": 11,
   "metadata": {
    "slideshow": {
     "slide_type": "fragment"
    }
   },
   "outputs": [
    {
     "data": {
      "text/html": [
       "<style>\n",
       ".list-inline {list-style: none; margin:0; padding: 0}\n",
       ".list-inline>li {display: inline-block}\n",
       ".list-inline>li:not(:last-child)::after {content: \"\\00b7\"; padding: 0 .5ex}\n",
       "</style>\n",
       "<ol class=list-inline><li>2</li><li>3</li><li>4</li></ol>\n"
      ],
      "text/latex": [
       "\\begin{enumerate*}\n",
       "\\item 2\n",
       "\\item 3\n",
       "\\item 4\n",
       "\\end{enumerate*}\n"
      ],
      "text/markdown": [
       "1. 2\n",
       "2. 3\n",
       "3. 4\n",
       "\n",
       "\n"
      ],
      "text/plain": [
       "[1] 2 3 4"
      ]
     },
     "metadata": {},
     "output_type": "display_data"
    },
    {
     "data": {
      "text/html": [
       "'double'"
      ],
      "text/latex": [
       "'double'"
      ],
      "text/markdown": [
       "'double'"
      ],
      "text/plain": [
       "[1] \"double\""
      ]
     },
     "metadata": {},
     "output_type": "display_data"
    }
   ],
   "source": [
    "sequence <- c(2, 3, 4)\n",
    "sequence\n",
    "typeof(sequence)"
   ]
  },
  {
   "cell_type": "code",
   "execution_count": 12,
   "metadata": {},
   "outputs": [
    {
     "name": "stdout",
     "output_type": "stream",
     "text": [
      "[1] 4\n",
      "[1] 9\n",
      "[1] 16\n"
     ]
    }
   ],
   "source": [
    "for (number in sequence) {\n",
    "    print(number ^ 2)\n",
    "}"
   ]
  },
  {
   "cell_type": "markdown",
   "metadata": {},
   "source": [
    "#### Using indices in a for loop"
   ]
  },
  {
   "cell_type": "code",
   "execution_count": 13,
   "metadata": {
    "slideshow": {
     "slide_type": "skip"
    }
   },
   "outputs": [
    {
     "name": "stdout",
     "output_type": "stream",
     "text": [
      "[1] 4\n",
      "[1] 9\n",
      "[1] 16\n"
     ]
    }
   ],
   "source": [
    "for (i in seq_along(sequence)) {\n",
    "    print(sequence[i] ^ 2)\n",
    "}"
   ]
  },
  {
   "cell_type": "markdown",
   "metadata": {
    "slideshow": {
     "slide_type": "slide"
    }
   },
   "source": [
    "#### Why use `seq_along`? \n",
    "\n",
    "It gives you a sequence along the item you want to iterate over."
   ]
  },
  {
   "cell_type": "code",
   "execution_count": 14,
   "metadata": {},
   "outputs": [
    {
     "data": {
      "text/html": [
       "<style>\n",
       ".list-inline {list-style: none; margin:0; padding: 0}\n",
       ".list-inline>li {display: inline-block}\n",
       ".list-inline>li:not(:last-child)::after {content: \"\\00b7\"; padding: 0 .5ex}\n",
       "</style>\n",
       "<ol class=list-inline><li>1</li><li>2</li><li>3</li></ol>\n"
      ],
      "text/latex": [
       "\\begin{enumerate*}\n",
       "\\item 1\n",
       "\\item 2\n",
       "\\item 3\n",
       "\\end{enumerate*}\n"
      ],
      "text/markdown": [
       "1. 1\n",
       "2. 2\n",
       "3. 3\n",
       "\n",
       "\n"
      ],
      "text/plain": [
       "[1] 1 2 3"
      ]
     },
     "metadata": {},
     "output_type": "display_data"
    }
   ],
   "source": [
    "seq_along(sequence)"
   ]
  },
  {
   "cell_type": "markdown",
   "metadata": {},
   "source": [
    "Beware of using `length` instead:"
   ]
  },
  {
   "cell_type": "code",
   "execution_count": 15,
   "metadata": {
    "slideshow": {
     "slide_type": "fragment"
    }
   },
   "outputs": [],
   "source": [
    "sequence <- c()\n",
    "for (i in seq_along(sequence)) {\n",
    "    print(sequence[i]^2)\n",
    "    print(i)\n",
    "}"
   ]
  },
  {
   "cell_type": "markdown",
   "metadata": {
    "slideshow": {
     "slide_type": "slide"
    }
   },
   "source": [
    "There is nothing in the vector! Nothing should be printed!"
   ]
  },
  {
   "cell_type": "markdown",
   "metadata": {
    "slideshow": {
     "slide_type": "notes"
    }
   },
   "source": [
    "*Source: [Advanced R](https://adv-r.hadley.nz/) by Hadley Wickham*"
   ]
  },
  {
   "cell_type": "markdown",
   "metadata": {
    "slideshow": {
     "slide_type": "slide"
    }
   },
   "source": [
    "### Control Flow: `if`, `if else` and `else` statements \n",
    "\n",
    "The basic form of an if statement in R is as follows:\n",
    "\n",
    "`if (condition) true_action`\n",
    "\n",
    "`if (condition) true_action else false_action`\n",
    "\n",
    "- Again, when code needs to be split across lines in R, we use the `{` operator to surround it to create code blocks"
   ]
  },
  {
   "cell_type": "markdown",
   "metadata": {
    "slideshow": {
     "slide_type": "slide"
    }
   },
   "source": [
    "#### Example \n",
    "\n",
    "Below we write a conditional which compares a threshold with a measure. It prints \"Over the limit\" if the measure is over the threshold, \"Under the limit\" if the measure is under the threshold and \"Exactly at threshold\" otherwise. "
   ]
  },
  {
   "cell_type": "code",
   "execution_count": 16,
   "metadata": {
    "slideshow": {
     "slide_type": "fragment"
    }
   },
   "outputs": [
    {
     "name": "stdout",
     "output_type": "stream",
     "text": [
      "[1] \"Under the limit\"\n"
     ]
    }
   ],
   "source": [
    "threshold <- 95.0\n",
    "measure  <- 93.5\n",
    "\n",
    "if (measure > threshold) {\n",
    "    print(\"Over the limit\")\n",
    "} else if (measure < threshold) {\n",
    "    print(\"Under the limit\")\n",
    "} else {\n",
    "    print(\"Exactly at threshold\")\n",
    "}"
   ]
  },
  {
   "cell_type": "markdown",
   "metadata": {},
   "source": [
    "> Notes - you do not have to use `else if`, or even `else` if it doesn't make sense. I just wanted to demonstrate the full control flow syntax. Additionally, you can have multiple `else if` statements if you have > 3 choices to make."
   ]
  },
  {
   "cell_type": "markdown",
   "metadata": {
    "slideshow": {
     "slide_type": "slide"
    }
   },
   "source": [
    "### Attributions\n",
    "- [Stat 545](https://stat545.com/) created by Jenny Bryan\n",
    "- [R for Data Science](https://r4ds.had.co.nz/index.html) by Garrett Grolemund & Hadley Wickham"
   ]
  }
 ],
 "metadata": {
  "celltoolbar": "Slideshow",
  "kernelspec": {
   "display_name": "R",
   "language": "R",
   "name": "ir"
  },
  "language_info": {
   "codemirror_mode": "r",
   "file_extension": ".r",
   "mimetype": "text/x-r-source",
   "name": "R",
   "pygments_lexer": "r",
   "version": "4.3.1"
  }
 },
 "nbformat": 4,
 "nbformat_minor": 4
}
