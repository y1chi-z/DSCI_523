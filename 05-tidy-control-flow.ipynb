{
 "cells": [
  {
   "cell_type": "markdown",
   "metadata": {
    "slideshow": {
     "slide_type": "slide"
    }
   },
   "source": [
    "# Lecture 5 -  Tidy control flow in R"
   ]
  },
  {
   "cell_type": "markdown",
   "metadata": {},
   "source": [
    "### Lecture learning objectives:\n",
    "By the end of this lecture and worksheet 5, students should be able to:\n",
    "\n",
    "* Explain what a grouped data frame is, and how it can be used\n",
    "* Use {dplyr}'s `group_by` + `summarize` to perform the split-apply-combine approach in R to iterate over and summarize data by groups\n",
    "* Identify missing and erroneous values and manage them by removing (via {dplyr}'s `filter`) or replacing (using {dplyr}'s `mutate` + `case_when`)\n",
    "* Identify where in R code a commonly used functional, a {purrr}'s `map*` function, could be used in place of for loops and write code to do this"
   ]
  },
  {
   "cell_type": "code",
   "execution_count": 2,
   "metadata": {
    "slideshow": {
     "slide_type": "slide"
    }
   },
   "outputs": [],
   "source": [
    "library(gapminder)\n",
    "library(tidyverse)\n",
    "options(repr.matrix.max.rows = 10)"
   ]
  },
  {
   "cell_type": "markdown",
   "metadata": {
    "slideshow": {
     "slide_type": "slide"
    }
   },
   "source": [
    "## Change or remove specific values\n",
    "\n",
    "- Sometimes we'd like to selectively change values, we can do this using control flow within `mutate`\n",
    "\n",
    "- A related task is removing rows where there are NAs, either in a specified column or across the whole data frame or tibble"
   ]
  },
  {
   "cell_type": "markdown",
   "metadata": {
    "slideshow": {
     "slide_type": "slide"
    }
   },
   "source": [
    "### Selectively change a values\n",
    "\n",
    "What if we want to programatically change certain values? For example, update the country name \"Cambodia\" to its official English name, \"Kingdom of Cambodia\"?\n",
    "\n",
    "If we want to change one or more (but not all things) in a column, one function we can use is `case_when` inside a `mutate` call:\n",
    "\n",
    "```\n",
    "gapminder %>% \n",
    "    mutate(country = case_when(country == \"Cambodia\" ~ \"Kingdom of Cambodia\",\n",
    "                            TRUE ~ country))\n",
    "```\n",
    "\n",
    "```\n",
    "Error: Problem with `mutate()` input `country`.\n",
    "✖ must be a character vector, not a `factor` object.\n",
    "ℹ Input `country` is `case_when(...)`.\n",
    "Traceback:\n",
    "\n",
    "1. gapminder %>% mutate(country = case_when(country == \"Cambodia\" ~ \n",
    " .     \"Kingdom of Cambodia\", TRUE ~ country))\n",
    "2. withVisible(eval(quote(`_fseq`(`_lhs`)), env, env))\n",
    "3. eval(quote(`_fseq`(`_lhs`)), env, env)\n",
    "4. eval(quote(`_fseq`(`_lhs`)), env\n",
    "...\n",
    "```"
   ]
  },
  {
   "cell_type": "markdown",
   "metadata": {
    "slideshow": {
     "slide_type": "notes"
    }
   },
   "source": [
    "Ah! This doesn't work? What is going on here? Let's look at the structure of `gapminder`:"
   ]
  },
  {
   "cell_type": "code",
   "execution_count": 3,
   "metadata": {},
   "outputs": [
    {
     "name": "stdout",
     "output_type": "stream",
     "text": [
      "tibble [1,704 × 6] (S3: tbl_df/tbl/data.frame)\n",
      " $ country  : Factor w/ 142 levels \"Afghanistan\",..: 1 1 1 1 1 1 1 1 1 1 ...\n",
      " $ continent: Factor w/ 5 levels \"Africa\",\"Americas\",..: 3 3 3 3 3 3 3 3 3 3 ...\n",
      " $ year     : int [1:1704] 1952 1957 1962 1967 1972 1977 1982 1987 1992 1997 ...\n",
      " $ lifeExp  : num [1:1704] 28.8 30.3 32 34 36.1 ...\n",
      " $ pop      : int [1:1704] 8425333 9240934 10267083 11537966 13079460 14880372 12881816 13867957 16317921 22227415 ...\n",
      " $ gdpPercap: num [1:1704] 779 821 853 836 740 ...\n"
     ]
    }
   ],
   "source": [
    "str(gapminder)"
   ]
  },
  {
   "cell_type": "markdown",
   "metadata": {
    "slideshow": {
     "slide_type": "fragment"
    }
   },
   "source": [
    "`country` (and `continent`) are factors! Let's change these to character vectors so we can manipulate the character values they hold. We'll make a new tibble named `gap` to do this:"
   ]
  },
  {
   "cell_type": "code",
   "execution_count": 4,
   "metadata": {
    "slideshow": {
     "slide_type": "fragment"
    }
   },
   "outputs": [],
   "source": [
    "gap <- gapminder %>% \n",
    "    mutate(country = as.character(country),\n",
    "          continent = as.character(continent))"
   ]
  },
  {
   "cell_type": "markdown",
   "metadata": {
    "slideshow": {
     "slide_type": "slide"
    }
   },
   "source": [
    "OK, now let's try that conditional `mutate` again!"
   ]
  },
  {
   "cell_type": "code",
   "execution_count": 5,
   "metadata": {
    "slideshow": {
     "slide_type": "fragment"
    }
   },
   "outputs": [
    {
     "data": {
      "text/html": [
       "<table class=\"dataframe\">\n",
       "<caption>A tibble: 1704 × 6</caption>\n",
       "<thead>\n",
       "\t<tr><th scope=col>country</th><th scope=col>continent</th><th scope=col>year</th><th scope=col>lifeExp</th><th scope=col>pop</th><th scope=col>gdpPercap</th></tr>\n",
       "\t<tr><th scope=col>&lt;chr&gt;</th><th scope=col>&lt;chr&gt;</th><th scope=col>&lt;int&gt;</th><th scope=col>&lt;dbl&gt;</th><th scope=col>&lt;int&gt;</th><th scope=col>&lt;dbl&gt;</th></tr>\n",
       "</thead>\n",
       "<tbody>\n",
       "\t<tr><td>Afghanistan</td><td>Asia</td><td>1952</td><td>28.801</td><td> 8425333</td><td>779.4453</td></tr>\n",
       "\t<tr><td>Afghanistan</td><td>Asia</td><td>1957</td><td>30.332</td><td> 9240934</td><td>820.8530</td></tr>\n",
       "\t<tr><td>Afghanistan</td><td>Asia</td><td>1962</td><td>31.997</td><td>10267083</td><td>853.1007</td></tr>\n",
       "\t<tr><td>Afghanistan</td><td>Asia</td><td>1967</td><td>34.020</td><td>11537966</td><td>836.1971</td></tr>\n",
       "\t<tr><td>Afghanistan</td><td>Asia</td><td>1972</td><td>36.088</td><td>13079460</td><td>739.9811</td></tr>\n",
       "\t<tr><td>⋮</td><td>⋮</td><td>⋮</td><td>⋮</td><td>⋮</td><td>⋮</td></tr>\n",
       "\t<tr><td>Zimbabwe</td><td>Africa</td><td>1987</td><td>62.351</td><td> 9216418</td><td>706.1573</td></tr>\n",
       "\t<tr><td>Zimbabwe</td><td>Africa</td><td>1992</td><td>60.377</td><td>10704340</td><td>693.4208</td></tr>\n",
       "\t<tr><td>Zimbabwe</td><td>Africa</td><td>1997</td><td>46.809</td><td>11404948</td><td>792.4500</td></tr>\n",
       "\t<tr><td>Zimbabwe</td><td>Africa</td><td>2002</td><td>39.989</td><td>11926563</td><td>672.0386</td></tr>\n",
       "\t<tr><td>Zimbabwe</td><td>Africa</td><td>2007</td><td>43.487</td><td>12311143</td><td>469.7093</td></tr>\n",
       "</tbody>\n",
       "</table>\n"
      ],
      "text/latex": [
       "A tibble: 1704 × 6\n",
       "\\begin{tabular}{llllll}\n",
       " country & continent & year & lifeExp & pop & gdpPercap\\\\\n",
       " <chr> & <chr> & <int> & <dbl> & <int> & <dbl>\\\\\n",
       "\\hline\n",
       "\t Afghanistan & Asia & 1952 & 28.801 &  8425333 & 779.4453\\\\\n",
       "\t Afghanistan & Asia & 1957 & 30.332 &  9240934 & 820.8530\\\\\n",
       "\t Afghanistan & Asia & 1962 & 31.997 & 10267083 & 853.1007\\\\\n",
       "\t Afghanistan & Asia & 1967 & 34.020 & 11537966 & 836.1971\\\\\n",
       "\t Afghanistan & Asia & 1972 & 36.088 & 13079460 & 739.9811\\\\\n",
       "\t ⋮ & ⋮ & ⋮ & ⋮ & ⋮ & ⋮\\\\\n",
       "\t Zimbabwe & Africa & 1987 & 62.351 &  9216418 & 706.1573\\\\\n",
       "\t Zimbabwe & Africa & 1992 & 60.377 & 10704340 & 693.4208\\\\\n",
       "\t Zimbabwe & Africa & 1997 & 46.809 & 11404948 & 792.4500\\\\\n",
       "\t Zimbabwe & Africa & 2002 & 39.989 & 11926563 & 672.0386\\\\\n",
       "\t Zimbabwe & Africa & 2007 & 43.487 & 12311143 & 469.7093\\\\\n",
       "\\end{tabular}\n"
      ],
      "text/markdown": [
       "\n",
       "A tibble: 1704 × 6\n",
       "\n",
       "| country &lt;chr&gt; | continent &lt;chr&gt; | year &lt;int&gt; | lifeExp &lt;dbl&gt; | pop &lt;int&gt; | gdpPercap &lt;dbl&gt; |\n",
       "|---|---|---|---|---|---|\n",
       "| Afghanistan | Asia | 1952 | 28.801 |  8425333 | 779.4453 |\n",
       "| Afghanistan | Asia | 1957 | 30.332 |  9240934 | 820.8530 |\n",
       "| Afghanistan | Asia | 1962 | 31.997 | 10267083 | 853.1007 |\n",
       "| Afghanistan | Asia | 1967 | 34.020 | 11537966 | 836.1971 |\n",
       "| Afghanistan | Asia | 1972 | 36.088 | 13079460 | 739.9811 |\n",
       "| ⋮ | ⋮ | ⋮ | ⋮ | ⋮ | ⋮ |\n",
       "| Zimbabwe | Africa | 1987 | 62.351 |  9216418 | 706.1573 |\n",
       "| Zimbabwe | Africa | 1992 | 60.377 | 10704340 | 693.4208 |\n",
       "| Zimbabwe | Africa | 1997 | 46.809 | 11404948 | 792.4500 |\n",
       "| Zimbabwe | Africa | 2002 | 39.989 | 11926563 | 672.0386 |\n",
       "| Zimbabwe | Africa | 2007 | 43.487 | 12311143 | 469.7093 |\n",
       "\n"
      ],
      "text/plain": [
       "     country     continent year lifeExp pop      gdpPercap\n",
       "1    Afghanistan Asia      1952 28.801   8425333 779.4453 \n",
       "2    Afghanistan Asia      1957 30.332   9240934 820.8530 \n",
       "3    Afghanistan Asia      1962 31.997  10267083 853.1007 \n",
       "4    Afghanistan Asia      1967 34.020  11537966 836.1971 \n",
       "5    Afghanistan Asia      1972 36.088  13079460 739.9811 \n",
       "⋮    ⋮           ⋮         ⋮    ⋮       ⋮        ⋮        \n",
       "1700 Zimbabwe    Africa    1987 62.351   9216418 706.1573 \n",
       "1701 Zimbabwe    Africa    1992 60.377  10704340 693.4208 \n",
       "1702 Zimbabwe    Africa    1997 46.809  11404948 792.4500 \n",
       "1703 Zimbabwe    Africa    2002 39.989  11926563 672.0386 \n",
       "1704 Zimbabwe    Africa    2007 43.487  12311143 469.7093 "
      ]
     },
     "metadata": {},
     "output_type": "display_data"
    }
   ],
   "source": [
    "gap <- gap %>% \n",
    "    mutate(country = case_when(country == \"Cambodia\" ~ \"Kingdom of Cambodia\",\n",
    "                            TRUE ~ country))\n",
    "gap"
   ]
  },
  {
   "cell_type": "markdown",
   "metadata": {},
   "source": [
    "Did it work?"
   ]
  },
  {
   "cell_type": "code",
   "execution_count": 6,
   "metadata": {},
   "outputs": [
    {
     "data": {
      "text/html": [
       "<table class=\"dataframe\">\n",
       "<caption>A tibble: 12 × 6</caption>\n",
       "<thead>\n",
       "\t<tr><th scope=col>country</th><th scope=col>continent</th><th scope=col>year</th><th scope=col>lifeExp</th><th scope=col>pop</th><th scope=col>gdpPercap</th></tr>\n",
       "\t<tr><th scope=col>&lt;chr&gt;</th><th scope=col>&lt;chr&gt;</th><th scope=col>&lt;int&gt;</th><th scope=col>&lt;dbl&gt;</th><th scope=col>&lt;int&gt;</th><th scope=col>&lt;dbl&gt;</th></tr>\n",
       "</thead>\n",
       "<tbody>\n",
       "\t<tr><td>Kingdom of Cambodia</td><td>Asia</td><td>1952</td><td>39.417</td><td>4693836</td><td>368.4693</td></tr>\n",
       "\t<tr><td>Kingdom of Cambodia</td><td>Asia</td><td>1957</td><td>41.366</td><td>5322536</td><td>434.0383</td></tr>\n",
       "\t<tr><td>Kingdom of Cambodia</td><td>Asia</td><td>1962</td><td>43.415</td><td>6083619</td><td>496.9136</td></tr>\n",
       "\t<tr><td>Kingdom of Cambodia</td><td>Asia</td><td>1967</td><td>45.415</td><td>6960067</td><td>523.4323</td></tr>\n",
       "\t<tr><td>Kingdom of Cambodia</td><td>Asia</td><td>1972</td><td>40.317</td><td>7450606</td><td>421.6240</td></tr>\n",
       "\t<tr><td>⋮</td><td>⋮</td><td>⋮</td><td>⋮</td><td>⋮</td><td>⋮</td></tr>\n",
       "\t<tr><td>Kingdom of Cambodia</td><td>Asia</td><td>1987</td><td>53.914</td><td> 8371791</td><td> 683.8956</td></tr>\n",
       "\t<tr><td>Kingdom of Cambodia</td><td>Asia</td><td>1992</td><td>55.803</td><td>10150094</td><td> 682.3032</td></tr>\n",
       "\t<tr><td>Kingdom of Cambodia</td><td>Asia</td><td>1997</td><td>56.534</td><td>11782962</td><td> 734.2852</td></tr>\n",
       "\t<tr><td>Kingdom of Cambodia</td><td>Asia</td><td>2002</td><td>56.752</td><td>12926707</td><td> 896.2260</td></tr>\n",
       "\t<tr><td>Kingdom of Cambodia</td><td>Asia</td><td>2007</td><td>59.723</td><td>14131858</td><td>1713.7787</td></tr>\n",
       "</tbody>\n",
       "</table>\n"
      ],
      "text/latex": [
       "A tibble: 12 × 6\n",
       "\\begin{tabular}{llllll}\n",
       " country & continent & year & lifeExp & pop & gdpPercap\\\\\n",
       " <chr> & <chr> & <int> & <dbl> & <int> & <dbl>\\\\\n",
       "\\hline\n",
       "\t Kingdom of Cambodia & Asia & 1952 & 39.417 & 4693836 & 368.4693\\\\\n",
       "\t Kingdom of Cambodia & Asia & 1957 & 41.366 & 5322536 & 434.0383\\\\\n",
       "\t Kingdom of Cambodia & Asia & 1962 & 43.415 & 6083619 & 496.9136\\\\\n",
       "\t Kingdom of Cambodia & Asia & 1967 & 45.415 & 6960067 & 523.4323\\\\\n",
       "\t Kingdom of Cambodia & Asia & 1972 & 40.317 & 7450606 & 421.6240\\\\\n",
       "\t ⋮ & ⋮ & ⋮ & ⋮ & ⋮ & ⋮\\\\\n",
       "\t Kingdom of Cambodia & Asia & 1987 & 53.914 &  8371791 &  683.8956\\\\\n",
       "\t Kingdom of Cambodia & Asia & 1992 & 55.803 & 10150094 &  682.3032\\\\\n",
       "\t Kingdom of Cambodia & Asia & 1997 & 56.534 & 11782962 &  734.2852\\\\\n",
       "\t Kingdom of Cambodia & Asia & 2002 & 56.752 & 12926707 &  896.2260\\\\\n",
       "\t Kingdom of Cambodia & Asia & 2007 & 59.723 & 14131858 & 1713.7787\\\\\n",
       "\\end{tabular}\n"
      ],
      "text/markdown": [
       "\n",
       "A tibble: 12 × 6\n",
       "\n",
       "| country &lt;chr&gt; | continent &lt;chr&gt; | year &lt;int&gt; | lifeExp &lt;dbl&gt; | pop &lt;int&gt; | gdpPercap &lt;dbl&gt; |\n",
       "|---|---|---|---|---|---|\n",
       "| Kingdom of Cambodia | Asia | 1952 | 39.417 | 4693836 | 368.4693 |\n",
       "| Kingdom of Cambodia | Asia | 1957 | 41.366 | 5322536 | 434.0383 |\n",
       "| Kingdom of Cambodia | Asia | 1962 | 43.415 | 6083619 | 496.9136 |\n",
       "| Kingdom of Cambodia | Asia | 1967 | 45.415 | 6960067 | 523.4323 |\n",
       "| Kingdom of Cambodia | Asia | 1972 | 40.317 | 7450606 | 421.6240 |\n",
       "| ⋮ | ⋮ | ⋮ | ⋮ | ⋮ | ⋮ |\n",
       "| Kingdom of Cambodia | Asia | 1987 | 53.914 |  8371791 |  683.8956 |\n",
       "| Kingdom of Cambodia | Asia | 1992 | 55.803 | 10150094 |  682.3032 |\n",
       "| Kingdom of Cambodia | Asia | 1997 | 56.534 | 11782962 |  734.2852 |\n",
       "| Kingdom of Cambodia | Asia | 2002 | 56.752 | 12926707 |  896.2260 |\n",
       "| Kingdom of Cambodia | Asia | 2007 | 59.723 | 14131858 | 1713.7787 |\n",
       "\n"
      ],
      "text/plain": [
       "   country             continent year lifeExp pop      gdpPercap\n",
       "1  Kingdom of Cambodia Asia      1952 39.417  4693836  368.4693 \n",
       "2  Kingdom of Cambodia Asia      1957 41.366  5322536  434.0383 \n",
       "3  Kingdom of Cambodia Asia      1962 43.415  6083619  496.9136 \n",
       "4  Kingdom of Cambodia Asia      1967 45.415  6960067  523.4323 \n",
       "5  Kingdom of Cambodia Asia      1972 40.317  7450606  421.6240 \n",
       "⋮  ⋮                   ⋮         ⋮    ⋮       ⋮        ⋮        \n",
       "8  Kingdom of Cambodia Asia      1987 53.914   8371791  683.8956\n",
       "9  Kingdom of Cambodia Asia      1992 55.803  10150094  682.3032\n",
       "10 Kingdom of Cambodia Asia      1997 56.534  11782962  734.2852\n",
       "11 Kingdom of Cambodia Asia      2002 56.752  12926707  896.2260\n",
       "12 Kingdom of Cambodia Asia      2007 59.723  14131858 1713.7787"
      ]
     },
     "metadata": {},
     "output_type": "display_data"
    }
   ],
   "source": [
    "gap %>%\n",
    "    filter(country == \"Kingdom of Cambodia\")"
   ]
  },
  {
   "cell_type": "markdown",
   "metadata": {
    "slideshow": {
     "slide_type": "slide"
    }
   },
   "source": [
    "#### Selectively change two or more values with `case_when`\n",
    "\n",
    "`case_when` will also let us easily modify > 2 cases. What if, for example, we wanted to change the continents from their English name to their French name?"
   ]
  },
  {
   "cell_type": "code",
   "execution_count": 7,
   "metadata": {
    "slideshow": {
     "slide_type": "slide"
    }
   },
   "outputs": [
    {
     "data": {
      "text/html": [
       "<table class=\"dataframe\">\n",
       "<caption>A tibble: 6 × 6</caption>\n",
       "<thead>\n",
       "\t<tr><th scope=col>country</th><th scope=col>continent</th><th scope=col>year</th><th scope=col>lifeExp</th><th scope=col>pop</th><th scope=col>gdpPercap</th></tr>\n",
       "\t<tr><th scope=col>&lt;chr&gt;</th><th scope=col>&lt;chr&gt;</th><th scope=col>&lt;int&gt;</th><th scope=col>&lt;dbl&gt;</th><th scope=col>&lt;int&gt;</th><th scope=col>&lt;dbl&gt;</th></tr>\n",
       "</thead>\n",
       "<tbody>\n",
       "\t<tr><td>Afghanistan</td><td>Asie</td><td>1952</td><td>28.801</td><td> 8425333</td><td>779.4453</td></tr>\n",
       "\t<tr><td>Afghanistan</td><td>Asie</td><td>1957</td><td>30.332</td><td> 9240934</td><td>820.8530</td></tr>\n",
       "\t<tr><td>Afghanistan</td><td>Asie</td><td>1962</td><td>31.997</td><td>10267083</td><td>853.1007</td></tr>\n",
       "\t<tr><td>Afghanistan</td><td>Asie</td><td>1967</td><td>34.020</td><td>11537966</td><td>836.1971</td></tr>\n",
       "\t<tr><td>Afghanistan</td><td>Asie</td><td>1972</td><td>36.088</td><td>13079460</td><td>739.9811</td></tr>\n",
       "\t<tr><td>Afghanistan</td><td>Asie</td><td>1977</td><td>38.438</td><td>14880372</td><td>786.1134</td></tr>\n",
       "</tbody>\n",
       "</table>\n"
      ],
      "text/latex": [
       "A tibble: 6 × 6\n",
       "\\begin{tabular}{llllll}\n",
       " country & continent & year & lifeExp & pop & gdpPercap\\\\\n",
       " <chr> & <chr> & <int> & <dbl> & <int> & <dbl>\\\\\n",
       "\\hline\n",
       "\t Afghanistan & Asie & 1952 & 28.801 &  8425333 & 779.4453\\\\\n",
       "\t Afghanistan & Asie & 1957 & 30.332 &  9240934 & 820.8530\\\\\n",
       "\t Afghanistan & Asie & 1962 & 31.997 & 10267083 & 853.1007\\\\\n",
       "\t Afghanistan & Asie & 1967 & 34.020 & 11537966 & 836.1971\\\\\n",
       "\t Afghanistan & Asie & 1972 & 36.088 & 13079460 & 739.9811\\\\\n",
       "\t Afghanistan & Asie & 1977 & 38.438 & 14880372 & 786.1134\\\\\n",
       "\\end{tabular}\n"
      ],
      "text/markdown": [
       "\n",
       "A tibble: 6 × 6\n",
       "\n",
       "| country &lt;chr&gt; | continent &lt;chr&gt; | year &lt;int&gt; | lifeExp &lt;dbl&gt; | pop &lt;int&gt; | gdpPercap &lt;dbl&gt; |\n",
       "|---|---|---|---|---|---|\n",
       "| Afghanistan | Asie | 1952 | 28.801 |  8425333 | 779.4453 |\n",
       "| Afghanistan | Asie | 1957 | 30.332 |  9240934 | 820.8530 |\n",
       "| Afghanistan | Asie | 1962 | 31.997 | 10267083 | 853.1007 |\n",
       "| Afghanistan | Asie | 1967 | 34.020 | 11537966 | 836.1971 |\n",
       "| Afghanistan | Asie | 1972 | 36.088 | 13079460 | 739.9811 |\n",
       "| Afghanistan | Asie | 1977 | 38.438 | 14880372 | 786.1134 |\n",
       "\n"
      ],
      "text/plain": [
       "  country     continent year lifeExp pop      gdpPercap\n",
       "1 Afghanistan Asie      1952 28.801   8425333 779.4453 \n",
       "2 Afghanistan Asie      1957 30.332   9240934 820.8530 \n",
       "3 Afghanistan Asie      1962 31.997  10267083 853.1007 \n",
       "4 Afghanistan Asie      1967 34.020  11537966 836.1971 \n",
       "5 Afghanistan Asie      1972 36.088  13079460 739.9811 \n",
       "6 Afghanistan Asie      1977 38.438  14880372 786.1134 "
      ]
     },
     "metadata": {},
     "output_type": "display_data"
    }
   ],
   "source": [
    "french_contients <- gap %>% \n",
    "  mutate(continent = case_when(continent == \"Asia\" ~ \"Asie\", \n",
    "                               continent == \"Europe\" ~ \"L'Europe\",\n",
    "                               continent == \"Africa\" ~ \"Afrique\", \n",
    "                               continent == \"Americas\" ~ \"les amériques\", \n",
    "                               continent == \"Oceania\" ~ \"Océanie\"))\n",
    "head(french_contients)"
   ]
  },
  {
   "cell_type": "markdown",
   "metadata": {},
   "source": [
    "What if we don't want to change Asia?"
   ]
  },
  {
   "cell_type": "code",
   "execution_count": 8,
   "metadata": {},
   "outputs": [
    {
     "data": {
      "text/html": [
       "<table class=\"dataframe\">\n",
       "<caption>A tibble: 6 × 6</caption>\n",
       "<thead>\n",
       "\t<tr><th scope=col>country</th><th scope=col>continent</th><th scope=col>year</th><th scope=col>lifeExp</th><th scope=col>pop</th><th scope=col>gdpPercap</th></tr>\n",
       "\t<tr><th scope=col>&lt;chr&gt;</th><th scope=col>&lt;chr&gt;</th><th scope=col>&lt;int&gt;</th><th scope=col>&lt;dbl&gt;</th><th scope=col>&lt;int&gt;</th><th scope=col>&lt;dbl&gt;</th></tr>\n",
       "</thead>\n",
       "<tbody>\n",
       "\t<tr><td>Afghanistan</td><td>NA</td><td>1952</td><td>28.801</td><td> 8425333</td><td>779.4453</td></tr>\n",
       "\t<tr><td>Afghanistan</td><td>NA</td><td>1957</td><td>30.332</td><td> 9240934</td><td>820.8530</td></tr>\n",
       "\t<tr><td>Afghanistan</td><td>NA</td><td>1962</td><td>31.997</td><td>10267083</td><td>853.1007</td></tr>\n",
       "\t<tr><td>Afghanistan</td><td>NA</td><td>1967</td><td>34.020</td><td>11537966</td><td>836.1971</td></tr>\n",
       "\t<tr><td>Afghanistan</td><td>NA</td><td>1972</td><td>36.088</td><td>13079460</td><td>739.9811</td></tr>\n",
       "\t<tr><td>Afghanistan</td><td>NA</td><td>1977</td><td>38.438</td><td>14880372</td><td>786.1134</td></tr>\n",
       "</tbody>\n",
       "</table>\n"
      ],
      "text/latex": [
       "A tibble: 6 × 6\n",
       "\\begin{tabular}{llllll}\n",
       " country & continent & year & lifeExp & pop & gdpPercap\\\\\n",
       " <chr> & <chr> & <int> & <dbl> & <int> & <dbl>\\\\\n",
       "\\hline\n",
       "\t Afghanistan & NA & 1952 & 28.801 &  8425333 & 779.4453\\\\\n",
       "\t Afghanistan & NA & 1957 & 30.332 &  9240934 & 820.8530\\\\\n",
       "\t Afghanistan & NA & 1962 & 31.997 & 10267083 & 853.1007\\\\\n",
       "\t Afghanistan & NA & 1967 & 34.020 & 11537966 & 836.1971\\\\\n",
       "\t Afghanistan & NA & 1972 & 36.088 & 13079460 & 739.9811\\\\\n",
       "\t Afghanistan & NA & 1977 & 38.438 & 14880372 & 786.1134\\\\\n",
       "\\end{tabular}\n"
      ],
      "text/markdown": [
       "\n",
       "A tibble: 6 × 6\n",
       "\n",
       "| country &lt;chr&gt; | continent &lt;chr&gt; | year &lt;int&gt; | lifeExp &lt;dbl&gt; | pop &lt;int&gt; | gdpPercap &lt;dbl&gt; |\n",
       "|---|---|---|---|---|---|\n",
       "| Afghanistan | NA | 1952 | 28.801 |  8425333 | 779.4453 |\n",
       "| Afghanistan | NA | 1957 | 30.332 |  9240934 | 820.8530 |\n",
       "| Afghanistan | NA | 1962 | 31.997 | 10267083 | 853.1007 |\n",
       "| Afghanistan | NA | 1967 | 34.020 | 11537966 | 836.1971 |\n",
       "| Afghanistan | NA | 1972 | 36.088 | 13079460 | 739.9811 |\n",
       "| Afghanistan | NA | 1977 | 38.438 | 14880372 | 786.1134 |\n",
       "\n"
      ],
      "text/plain": [
       "  country     continent year lifeExp pop      gdpPercap\n",
       "1 Afghanistan NA        1952 28.801   8425333 779.4453 \n",
       "2 Afghanistan NA        1957 30.332   9240934 820.8530 \n",
       "3 Afghanistan NA        1962 31.997  10267083 853.1007 \n",
       "4 Afghanistan NA        1967 34.020  11537966 836.1971 \n",
       "5 Afghanistan NA        1972 36.088  13079460 739.9811 \n",
       "6 Afghanistan NA        1977 38.438  14880372 786.1134 "
      ]
     },
     "metadata": {},
     "output_type": "display_data"
    }
   ],
   "source": [
    "french_contients <- gap %>% \n",
    "  mutate(continent = case_when(#continent == \"Asia\" ~ \"Asie\", \n",
    "                               continent == \"Europe\" ~ \"L'Europe\",\n",
    "                               continent == \"Africa\" ~ \"Afrique\", \n",
    "                               continent == \"Americas\" ~ \"les amériques\", \n",
    "                               continent == \"Oceania\" ~ \"Océanie\"))\n",
    "head(french_contients)"
   ]
  },
  {
   "cell_type": "markdown",
   "metadata": {},
   "source": [
    "Uh oh, now Asia is NA?? We need to say `TRUE ~ column_name` to tell R to not put in NA's in the non-specified class, but instead leave the values that were already there:"
   ]
  },
  {
   "cell_type": "code",
   "execution_count": 9,
   "metadata": {},
   "outputs": [
    {
     "data": {
      "text/html": [
       "<table class=\"dataframe\">\n",
       "<caption>A tibble: 6 × 6</caption>\n",
       "<thead>\n",
       "\t<tr><th scope=col>country</th><th scope=col>continent</th><th scope=col>year</th><th scope=col>lifeExp</th><th scope=col>pop</th><th scope=col>gdpPercap</th></tr>\n",
       "\t<tr><th scope=col>&lt;chr&gt;</th><th scope=col>&lt;chr&gt;</th><th scope=col>&lt;int&gt;</th><th scope=col>&lt;dbl&gt;</th><th scope=col>&lt;int&gt;</th><th scope=col>&lt;dbl&gt;</th></tr>\n",
       "</thead>\n",
       "<tbody>\n",
       "\t<tr><td>Afghanistan</td><td>Asia</td><td>1952</td><td>28.801</td><td> 8425333</td><td>779.4453</td></tr>\n",
       "\t<tr><td>Afghanistan</td><td>Asia</td><td>1957</td><td>30.332</td><td> 9240934</td><td>820.8530</td></tr>\n",
       "\t<tr><td>Afghanistan</td><td>Asia</td><td>1962</td><td>31.997</td><td>10267083</td><td>853.1007</td></tr>\n",
       "\t<tr><td>Afghanistan</td><td>Asia</td><td>1967</td><td>34.020</td><td>11537966</td><td>836.1971</td></tr>\n",
       "\t<tr><td>Afghanistan</td><td>Asia</td><td>1972</td><td>36.088</td><td>13079460</td><td>739.9811</td></tr>\n",
       "\t<tr><td>Afghanistan</td><td>Asia</td><td>1977</td><td>38.438</td><td>14880372</td><td>786.1134</td></tr>\n",
       "</tbody>\n",
       "</table>\n"
      ],
      "text/latex": [
       "A tibble: 6 × 6\n",
       "\\begin{tabular}{llllll}\n",
       " country & continent & year & lifeExp & pop & gdpPercap\\\\\n",
       " <chr> & <chr> & <int> & <dbl> & <int> & <dbl>\\\\\n",
       "\\hline\n",
       "\t Afghanistan & Asia & 1952 & 28.801 &  8425333 & 779.4453\\\\\n",
       "\t Afghanistan & Asia & 1957 & 30.332 &  9240934 & 820.8530\\\\\n",
       "\t Afghanistan & Asia & 1962 & 31.997 & 10267083 & 853.1007\\\\\n",
       "\t Afghanistan & Asia & 1967 & 34.020 & 11537966 & 836.1971\\\\\n",
       "\t Afghanistan & Asia & 1972 & 36.088 & 13079460 & 739.9811\\\\\n",
       "\t Afghanistan & Asia & 1977 & 38.438 & 14880372 & 786.1134\\\\\n",
       "\\end{tabular}\n"
      ],
      "text/markdown": [
       "\n",
       "A tibble: 6 × 6\n",
       "\n",
       "| country &lt;chr&gt; | continent &lt;chr&gt; | year &lt;int&gt; | lifeExp &lt;dbl&gt; | pop &lt;int&gt; | gdpPercap &lt;dbl&gt; |\n",
       "|---|---|---|---|---|---|\n",
       "| Afghanistan | Asia | 1952 | 28.801 |  8425333 | 779.4453 |\n",
       "| Afghanistan | Asia | 1957 | 30.332 |  9240934 | 820.8530 |\n",
       "| Afghanistan | Asia | 1962 | 31.997 | 10267083 | 853.1007 |\n",
       "| Afghanistan | Asia | 1967 | 34.020 | 11537966 | 836.1971 |\n",
       "| Afghanistan | Asia | 1972 | 36.088 | 13079460 | 739.9811 |\n",
       "| Afghanistan | Asia | 1977 | 38.438 | 14880372 | 786.1134 |\n",
       "\n"
      ],
      "text/plain": [
       "  country     continent year lifeExp pop      gdpPercap\n",
       "1 Afghanistan Asia      1952 28.801   8425333 779.4453 \n",
       "2 Afghanistan Asia      1957 30.332   9240934 820.8530 \n",
       "3 Afghanistan Asia      1962 31.997  10267083 853.1007 \n",
       "4 Afghanistan Asia      1967 34.020  11537966 836.1971 \n",
       "5 Afghanistan Asia      1972 36.088  13079460 739.9811 \n",
       "6 Afghanistan Asia      1977 38.438  14880372 786.1134 "
      ]
     },
     "metadata": {},
     "output_type": "display_data"
    }
   ],
   "source": [
    "french_contients <- gap %>% \n",
    "  mutate(continent = case_when(#continent == \"Asia\" ~ \"Asie\", \n",
    "                               continent == \"Europe\" ~ \"L'Europe\",\n",
    "                               continent == \"Africa\" ~ \"Afrique\", \n",
    "                               continent == \"Americas\" ~ \"les amériques\", \n",
    "                               continent == \"Oceania\" ~ \"Océanie\", \n",
    "                               TRUE ~ continent))\n",
    "head(french_contients)"
   ]
  },
  {
   "cell_type": "markdown",
   "metadata": {
    "slideshow": {
     "slide_type": "slide"
    }
   },
   "source": [
    "### Removing rows where a specific column holds NAs\n",
    "\n",
    "Here, we'd like to remove the rows where the column `x` is `NA`:"
   ]
  },
  {
   "cell_type": "code",
   "execution_count": 10,
   "metadata": {
    "slideshow": {
     "slide_type": "fragment"
    }
   },
   "outputs": [
    {
     "data": {
      "text/html": [
       "<table class=\"dataframe\">\n",
       "<caption>A tibble: 4 × 2</caption>\n",
       "<thead>\n",
       "\t<tr><th scope=col>x</th><th scope=col>y</th></tr>\n",
       "\t<tr><th scope=col>&lt;dbl&gt;</th><th scope=col>&lt;chr&gt;</th></tr>\n",
       "</thead>\n",
       "<tbody>\n",
       "\t<tr><td> 3</td><td>z </td></tr>\n",
       "\t<tr><td> 1</td><td>a </td></tr>\n",
       "\t<tr><td> 2</td><td>NA</td></tr>\n",
       "\t<tr><td>NA</td><td>b </td></tr>\n",
       "</tbody>\n",
       "</table>\n"
      ],
      "text/latex": [
       "A tibble: 4 × 2\n",
       "\\begin{tabular}{ll}\n",
       " x & y\\\\\n",
       " <dbl> & <chr>\\\\\n",
       "\\hline\n",
       "\t  3 & z \\\\\n",
       "\t  1 & a \\\\\n",
       "\t  2 & NA\\\\\n",
       "\t NA & b \\\\\n",
       "\\end{tabular}\n"
      ],
      "text/markdown": [
       "\n",
       "A tibble: 4 × 2\n",
       "\n",
       "| x &lt;dbl&gt; | y &lt;chr&gt; |\n",
       "|---|---|\n",
       "|  3 | z  |\n",
       "|  1 | a  |\n",
       "|  2 | NA |\n",
       "| NA | b  |\n",
       "\n"
      ],
      "text/plain": [
       "  x  y \n",
       "1  3 z \n",
       "2  1 a \n",
       "3  2 NA\n",
       "4 NA b "
      ]
     },
     "metadata": {},
     "output_type": "display_data"
    }
   ],
   "source": [
    "df <- tibble(x = c(3, 1, 2, NA), y = c(\"z\", \"a\", NA, \"b\"))\n",
    "df"
   ]
  },
  {
   "cell_type": "markdown",
   "metadata": {
    "slideshow": {
     "slide_type": "slide"
    }
   },
   "source": [
    "`drop_na` is the tidyverse function we can use to do this.\n",
    "\n",
    "In this case we pass the column for which we would like to use to drive the removal of rows (based on the presence of NAs in that row):"
   ]
  },
  {
   "cell_type": "code",
   "execution_count": 11,
   "metadata": {
    "slideshow": {
     "slide_type": "fragment"
    }
   },
   "outputs": [
    {
     "data": {
      "text/html": [
       "<table class=\"dataframe\">\n",
       "<caption>A tibble: 2 × 2</caption>\n",
       "<thead>\n",
       "\t<tr><th scope=col>x</th><th scope=col>y</th></tr>\n",
       "\t<tr><th scope=col>&lt;dbl&gt;</th><th scope=col>&lt;chr&gt;</th></tr>\n",
       "</thead>\n",
       "<tbody>\n",
       "\t<tr><td>3</td><td>z</td></tr>\n",
       "\t<tr><td>1</td><td>a</td></tr>\n",
       "</tbody>\n",
       "</table>\n"
      ],
      "text/latex": [
       "A tibble: 2 × 2\n",
       "\\begin{tabular}{ll}\n",
       " x & y\\\\\n",
       " <dbl> & <chr>\\\\\n",
       "\\hline\n",
       "\t 3 & z\\\\\n",
       "\t 1 & a\\\\\n",
       "\\end{tabular}\n"
      ],
      "text/markdown": [
       "\n",
       "A tibble: 2 × 2\n",
       "\n",
       "| x &lt;dbl&gt; | y &lt;chr&gt; |\n",
       "|---|---|\n",
       "| 3 | z |\n",
       "| 1 | a |\n",
       "\n"
      ],
      "text/plain": [
       "  x y\n",
       "1 3 z\n",
       "2 1 a"
      ]
     },
     "metadata": {},
     "output_type": "display_data"
    }
   ],
   "source": [
    "df %>% drop_na(x:y)"
   ]
  },
  {
   "cell_type": "markdown",
   "metadata": {
    "slideshow": {
     "slide_type": "slide"
    }
   },
   "source": [
    "#### Removing all rows where there is a NA in any column \n",
    "\n",
    "If no arguments are given to `drop_na`, then all rows with NAs will be dropped:"
   ]
  },
  {
   "cell_type": "code",
   "execution_count": 12,
   "metadata": {
    "slideshow": {
     "slide_type": "fragment"
    }
   },
   "outputs": [
    {
     "data": {
      "text/html": [
       "<table class=\"dataframe\">\n",
       "<caption>A tibble: 2 × 2</caption>\n",
       "<thead>\n",
       "\t<tr><th scope=col>x</th><th scope=col>y</th></tr>\n",
       "\t<tr><th scope=col>&lt;dbl&gt;</th><th scope=col>&lt;chr&gt;</th></tr>\n",
       "</thead>\n",
       "<tbody>\n",
       "\t<tr><td>3</td><td>z</td></tr>\n",
       "\t<tr><td>1</td><td>a</td></tr>\n",
       "</tbody>\n",
       "</table>\n"
      ],
      "text/latex": [
       "A tibble: 2 × 2\n",
       "\\begin{tabular}{ll}\n",
       " x & y\\\\\n",
       " <dbl> & <chr>\\\\\n",
       "\\hline\n",
       "\t 3 & z\\\\\n",
       "\t 1 & a\\\\\n",
       "\\end{tabular}\n"
      ],
      "text/markdown": [
       "\n",
       "A tibble: 2 × 2\n",
       "\n",
       "| x &lt;dbl&gt; | y &lt;chr&gt; |\n",
       "|---|---|\n",
       "| 3 | z |\n",
       "| 1 | a |\n",
       "\n"
      ],
      "text/plain": [
       "  x y\n",
       "1 3 z\n",
       "2 1 a"
      ]
     },
     "metadata": {},
     "output_type": "display_data"
    }
   ],
   "source": [
    "df %>% drop_na()"
   ]
  },
  {
   "cell_type": "markdown",
   "metadata": {},
   "source": [
    "## Iterate over groups of rows"
   ]
  },
  {
   "cell_type": "markdown",
   "metadata": {},
   "source": [
    "### `summarise` calculates summaries over rows\n",
    "\n",
    "Examples might be calculating the mean horsepower and mean miles per gallon of cars in the `mtcars` data set:"
   ]
  },
  {
   "cell_type": "code",
   "execution_count": 13,
   "metadata": {},
   "outputs": [
    {
     "data": {
      "text/html": [
       "<table class=\"dataframe\">\n",
       "<caption>A data.frame: 1 × 3</caption>\n",
       "<thead>\n",
       "\t<tr><th scope=col>mean_hp</th><th scope=col>mean_mpg</th><th scope=col>sum_hp</th></tr>\n",
       "\t<tr><th scope=col>&lt;dbl&gt;</th><th scope=col>&lt;dbl&gt;</th><th scope=col>&lt;dbl&gt;</th></tr>\n",
       "</thead>\n",
       "<tbody>\n",
       "\t<tr><td>146.6875</td><td>20.09062</td><td>4694</td></tr>\n",
       "</tbody>\n",
       "</table>\n"
      ],
      "text/latex": [
       "A data.frame: 1 × 3\n",
       "\\begin{tabular}{lll}\n",
       " mean\\_hp & mean\\_mpg & sum\\_hp\\\\\n",
       " <dbl> & <dbl> & <dbl>\\\\\n",
       "\\hline\n",
       "\t 146.6875 & 20.09062 & 4694\\\\\n",
       "\\end{tabular}\n"
      ],
      "text/markdown": [
       "\n",
       "A data.frame: 1 × 3\n",
       "\n",
       "| mean_hp &lt;dbl&gt; | mean_mpg &lt;dbl&gt; | sum_hp &lt;dbl&gt; |\n",
       "|---|---|---|\n",
       "| 146.6875 | 20.09062 | 4694 |\n",
       "\n"
      ],
      "text/plain": [
       "  mean_hp  mean_mpg sum_hp\n",
       "1 146.6875 20.09062 4694  "
      ]
     },
     "metadata": {},
     "output_type": "display_data"
    }
   ],
   "source": [
    "# calculate mean hp and mpg for all cars\n",
    "mtcars %>% \n",
    "    summarise(mean_hp = mean(hp),\n",
    "             mean_mpg = mean(mpg),\n",
    "             sum_hp = sum(hp))"
   ]
  },
  {
   "cell_type": "markdown",
   "metadata": {
    "slideshow": {
     "slide_type": "slide"
    }
   },
   "source": [
    "### Iteration with `group_by` + `summarise`\n",
    "\n",
    "- Useful when you want to do something repeatedly to a group of rows\n",
    "\n",
    "- An example, say we want to calculate the average life expectancy (`lifeExp`) for each continent from the gapminder data set"
   ]
  },
  {
   "cell_type": "code",
   "execution_count": 14,
   "metadata": {},
   "outputs": [
    {
     "data": {
      "text/html": [
       "<table class=\"dataframe\">\n",
       "<caption>A tibble: 5 × 2</caption>\n",
       "<thead>\n",
       "\t<tr><th scope=col>continent</th><th scope=col>mean_life_exp</th></tr>\n",
       "\t<tr><th scope=col>&lt;fct&gt;</th><th scope=col>&lt;dbl&gt;</th></tr>\n",
       "</thead>\n",
       "<tbody>\n",
       "\t<tr><td>Africa  </td><td>48.86533</td></tr>\n",
       "\t<tr><td>Americas</td><td>64.65874</td></tr>\n",
       "\t<tr><td>Asia    </td><td>60.06490</td></tr>\n",
       "\t<tr><td>Europe  </td><td>71.90369</td></tr>\n",
       "\t<tr><td>Oceania </td><td>74.32621</td></tr>\n",
       "</tbody>\n",
       "</table>\n"
      ],
      "text/latex": [
       "A tibble: 5 × 2\n",
       "\\begin{tabular}{ll}\n",
       " continent & mean\\_life\\_exp\\\\\n",
       " <fct> & <dbl>\\\\\n",
       "\\hline\n",
       "\t Africa   & 48.86533\\\\\n",
       "\t Americas & 64.65874\\\\\n",
       "\t Asia     & 60.06490\\\\\n",
       "\t Europe   & 71.90369\\\\\n",
       "\t Oceania  & 74.32621\\\\\n",
       "\\end{tabular}\n"
      ],
      "text/markdown": [
       "\n",
       "A tibble: 5 × 2\n",
       "\n",
       "| continent &lt;fct&gt; | mean_life_exp &lt;dbl&gt; |\n",
       "|---|---|\n",
       "| Africa   | 48.86533 |\n",
       "| Americas | 64.65874 |\n",
       "| Asia     | 60.06490 |\n",
       "| Europe   | 71.90369 |\n",
       "| Oceania  | 74.32621 |\n",
       "\n"
      ],
      "text/plain": [
       "  continent mean_life_exp\n",
       "1 Africa    48.86533     \n",
       "2 Americas  64.65874     \n",
       "3 Asia      60.06490     \n",
       "4 Europe    71.90369     \n",
       "5 Oceania   74.32621     "
      ]
     },
     "metadata": {},
     "output_type": "display_data"
    }
   ],
   "source": [
    "# calculate the average life expectancy for each continent\n",
    "gapminder %>% \n",
    "    group_by(continent) %>% \n",
    "    summarise(mean_life_exp = mean(lifeExp))"
   ]
  },
  {
   "cell_type": "markdown",
   "metadata": {},
   "source": [
    "We can also `group_by` multiple columns, for example what if we want to know the mean life expectancy for each continent and each year:"
   ]
  },
  {
   "cell_type": "code",
   "execution_count": 15,
   "metadata": {},
   "outputs": [
    {
     "name": "stderr",
     "output_type": "stream",
     "text": [
      "\u001b[1m\u001b[22m`summarise()` has grouped output by 'continent'. You can override using the `.groups` argument.\n"
     ]
    },
    {
     "data": {
      "text/html": [
       "<table class=\"dataframe\">\n",
       "<caption>A grouped_df: 60 × 3</caption>\n",
       "<thead>\n",
       "\t<tr><th scope=col>continent</th><th scope=col>year</th><th scope=col>mean_life_exp</th></tr>\n",
       "\t<tr><th scope=col>&lt;fct&gt;</th><th scope=col>&lt;int&gt;</th><th scope=col>&lt;dbl&gt;</th></tr>\n",
       "</thead>\n",
       "<tbody>\n",
       "\t<tr><td>Africa</td><td>1952</td><td>39.13550</td></tr>\n",
       "\t<tr><td>Africa</td><td>1957</td><td>41.26635</td></tr>\n",
       "\t<tr><td>Africa</td><td>1962</td><td>43.31944</td></tr>\n",
       "\t<tr><td>Africa</td><td>1967</td><td>45.33454</td></tr>\n",
       "\t<tr><td>Africa</td><td>1972</td><td>47.45094</td></tr>\n",
       "\t<tr><td>⋮</td><td>⋮</td><td>⋮</td></tr>\n",
       "\t<tr><td>Oceania</td><td>1987</td><td>75.3200</td></tr>\n",
       "\t<tr><td>Oceania</td><td>1992</td><td>76.9450</td></tr>\n",
       "\t<tr><td>Oceania</td><td>1997</td><td>78.1900</td></tr>\n",
       "\t<tr><td>Oceania</td><td>2002</td><td>79.7400</td></tr>\n",
       "\t<tr><td>Oceania</td><td>2007</td><td>80.7195</td></tr>\n",
       "</tbody>\n",
       "</table>\n"
      ],
      "text/latex": [
       "A grouped\\_df: 60 × 3\n",
       "\\begin{tabular}{lll}\n",
       " continent & year & mean\\_life\\_exp\\\\\n",
       " <fct> & <int> & <dbl>\\\\\n",
       "\\hline\n",
       "\t Africa & 1952 & 39.13550\\\\\n",
       "\t Africa & 1957 & 41.26635\\\\\n",
       "\t Africa & 1962 & 43.31944\\\\\n",
       "\t Africa & 1967 & 45.33454\\\\\n",
       "\t Africa & 1972 & 47.45094\\\\\n",
       "\t ⋮ & ⋮ & ⋮\\\\\n",
       "\t Oceania & 1987 & 75.3200\\\\\n",
       "\t Oceania & 1992 & 76.9450\\\\\n",
       "\t Oceania & 1997 & 78.1900\\\\\n",
       "\t Oceania & 2002 & 79.7400\\\\\n",
       "\t Oceania & 2007 & 80.7195\\\\\n",
       "\\end{tabular}\n"
      ],
      "text/markdown": [
       "\n",
       "A grouped_df: 60 × 3\n",
       "\n",
       "| continent &lt;fct&gt; | year &lt;int&gt; | mean_life_exp &lt;dbl&gt; |\n",
       "|---|---|---|\n",
       "| Africa | 1952 | 39.13550 |\n",
       "| Africa | 1957 | 41.26635 |\n",
       "| Africa | 1962 | 43.31944 |\n",
       "| Africa | 1967 | 45.33454 |\n",
       "| Africa | 1972 | 47.45094 |\n",
       "| ⋮ | ⋮ | ⋮ |\n",
       "| Oceania | 1987 | 75.3200 |\n",
       "| Oceania | 1992 | 76.9450 |\n",
       "| Oceania | 1997 | 78.1900 |\n",
       "| Oceania | 2002 | 79.7400 |\n",
       "| Oceania | 2007 | 80.7195 |\n",
       "\n"
      ],
      "text/plain": [
       "   continent year mean_life_exp\n",
       "1  Africa    1952 39.13550     \n",
       "2  Africa    1957 41.26635     \n",
       "3  Africa    1962 43.31944     \n",
       "4  Africa    1967 45.33454     \n",
       "5  Africa    1972 47.45094     \n",
       "⋮  ⋮         ⋮    ⋮            \n",
       "56 Oceania   1987 75.3200      \n",
       "57 Oceania   1992 76.9450      \n",
       "58 Oceania   1997 78.1900      \n",
       "59 Oceania   2002 79.7400      \n",
       "60 Oceania   2007 80.7195      "
      ]
     },
     "metadata": {},
     "output_type": "display_data"
    }
   ],
   "source": [
    "# calculate the mean life expectancy for each continent and each year\n",
    "gapminder %>% \n",
    "    group_by(continent, year) %>% \n",
    "    summarise(mean_life_exp = mean(lifeExp))"
   ]
  },
  {
   "cell_type": "markdown",
   "metadata": {},
   "source": [
    "### Watch those NA's!\n",
    "\n",
    "Calculate the maximum beak length for each of the Penguin species in the {palmerpenguins} `penguins` dataset."
   ]
  },
  {
   "cell_type": "code",
   "execution_count": 16,
   "metadata": {},
   "outputs": [
    {
     "data": {
      "text/html": [
       "<table class=\"dataframe\">\n",
       "<caption>A tibble: 344 × 8</caption>\n",
       "<thead>\n",
       "\t<tr><th scope=col>species</th><th scope=col>island</th><th scope=col>bill_length_mm</th><th scope=col>bill_depth_mm</th><th scope=col>flipper_length_mm</th><th scope=col>body_mass_g</th><th scope=col>sex</th><th scope=col>year</th></tr>\n",
       "\t<tr><th scope=col>&lt;fct&gt;</th><th scope=col>&lt;fct&gt;</th><th scope=col>&lt;dbl&gt;</th><th scope=col>&lt;dbl&gt;</th><th scope=col>&lt;int&gt;</th><th scope=col>&lt;int&gt;</th><th scope=col>&lt;fct&gt;</th><th scope=col>&lt;int&gt;</th></tr>\n",
       "</thead>\n",
       "<tbody>\n",
       "\t<tr><td>Adelie</td><td>Torgersen</td><td>39.1</td><td>18.7</td><td>181</td><td>3750</td><td>male  </td><td>2007</td></tr>\n",
       "\t<tr><td>Adelie</td><td>Torgersen</td><td>39.5</td><td>17.4</td><td>186</td><td>3800</td><td>female</td><td>2007</td></tr>\n",
       "\t<tr><td>Adelie</td><td>Torgersen</td><td>40.3</td><td>18.0</td><td>195</td><td>3250</td><td>female</td><td>2007</td></tr>\n",
       "\t<tr><td>Adelie</td><td>Torgersen</td><td>  NA</td><td>  NA</td><td> NA</td><td>  NA</td><td>NA    </td><td>2007</td></tr>\n",
       "\t<tr><td>Adelie</td><td>Torgersen</td><td>36.7</td><td>19.3</td><td>193</td><td>3450</td><td>female</td><td>2007</td></tr>\n",
       "\t<tr><td>⋮</td><td>⋮</td><td>⋮</td><td>⋮</td><td>⋮</td><td>⋮</td><td>⋮</td><td>⋮</td></tr>\n",
       "\t<tr><td>Chinstrap</td><td>Dream</td><td>55.8</td><td>19.8</td><td>207</td><td>4000</td><td>male  </td><td>2009</td></tr>\n",
       "\t<tr><td>Chinstrap</td><td>Dream</td><td>43.5</td><td>18.1</td><td>202</td><td>3400</td><td>female</td><td>2009</td></tr>\n",
       "\t<tr><td>Chinstrap</td><td>Dream</td><td>49.6</td><td>18.2</td><td>193</td><td>3775</td><td>male  </td><td>2009</td></tr>\n",
       "\t<tr><td>Chinstrap</td><td>Dream</td><td>50.8</td><td>19.0</td><td>210</td><td>4100</td><td>male  </td><td>2009</td></tr>\n",
       "\t<tr><td>Chinstrap</td><td>Dream</td><td>50.2</td><td>18.7</td><td>198</td><td>3775</td><td>female</td><td>2009</td></tr>\n",
       "</tbody>\n",
       "</table>\n"
      ],
      "text/latex": [
       "A tibble: 344 × 8\n",
       "\\begin{tabular}{llllllll}\n",
       " species & island & bill\\_length\\_mm & bill\\_depth\\_mm & flipper\\_length\\_mm & body\\_mass\\_g & sex & year\\\\\n",
       " <fct> & <fct> & <dbl> & <dbl> & <int> & <int> & <fct> & <int>\\\\\n",
       "\\hline\n",
       "\t Adelie & Torgersen & 39.1 & 18.7 & 181 & 3750 & male   & 2007\\\\\n",
       "\t Adelie & Torgersen & 39.5 & 17.4 & 186 & 3800 & female & 2007\\\\\n",
       "\t Adelie & Torgersen & 40.3 & 18.0 & 195 & 3250 & female & 2007\\\\\n",
       "\t Adelie & Torgersen &   NA &   NA &  NA &   NA & NA     & 2007\\\\\n",
       "\t Adelie & Torgersen & 36.7 & 19.3 & 193 & 3450 & female & 2007\\\\\n",
       "\t ⋮ & ⋮ & ⋮ & ⋮ & ⋮ & ⋮ & ⋮ & ⋮\\\\\n",
       "\t Chinstrap & Dream & 55.8 & 19.8 & 207 & 4000 & male   & 2009\\\\\n",
       "\t Chinstrap & Dream & 43.5 & 18.1 & 202 & 3400 & female & 2009\\\\\n",
       "\t Chinstrap & Dream & 49.6 & 18.2 & 193 & 3775 & male   & 2009\\\\\n",
       "\t Chinstrap & Dream & 50.8 & 19.0 & 210 & 4100 & male   & 2009\\\\\n",
       "\t Chinstrap & Dream & 50.2 & 18.7 & 198 & 3775 & female & 2009\\\\\n",
       "\\end{tabular}\n"
      ],
      "text/markdown": [
       "\n",
       "A tibble: 344 × 8\n",
       "\n",
       "| species &lt;fct&gt; | island &lt;fct&gt; | bill_length_mm &lt;dbl&gt; | bill_depth_mm &lt;dbl&gt; | flipper_length_mm &lt;int&gt; | body_mass_g &lt;int&gt; | sex &lt;fct&gt; | year &lt;int&gt; |\n",
       "|---|---|---|---|---|---|---|---|\n",
       "| Adelie | Torgersen | 39.1 | 18.7 | 181 | 3750 | male   | 2007 |\n",
       "| Adelie | Torgersen | 39.5 | 17.4 | 186 | 3800 | female | 2007 |\n",
       "| Adelie | Torgersen | 40.3 | 18.0 | 195 | 3250 | female | 2007 |\n",
       "| Adelie | Torgersen |   NA |   NA |  NA |   NA | NA     | 2007 |\n",
       "| Adelie | Torgersen | 36.7 | 19.3 | 193 | 3450 | female | 2007 |\n",
       "| ⋮ | ⋮ | ⋮ | ⋮ | ⋮ | ⋮ | ⋮ | ⋮ |\n",
       "| Chinstrap | Dream | 55.8 | 19.8 | 207 | 4000 | male   | 2009 |\n",
       "| Chinstrap | Dream | 43.5 | 18.1 | 202 | 3400 | female | 2009 |\n",
       "| Chinstrap | Dream | 49.6 | 18.2 | 193 | 3775 | male   | 2009 |\n",
       "| Chinstrap | Dream | 50.8 | 19.0 | 210 | 4100 | male   | 2009 |\n",
       "| Chinstrap | Dream | 50.2 | 18.7 | 198 | 3775 | female | 2009 |\n",
       "\n"
      ],
      "text/plain": [
       "    species   island    bill_length_mm bill_depth_mm flipper_length_mm\n",
       "1   Adelie    Torgersen 39.1           18.7          181              \n",
       "2   Adelie    Torgersen 39.5           17.4          186              \n",
       "3   Adelie    Torgersen 40.3           18.0          195              \n",
       "4   Adelie    Torgersen   NA             NA           NA              \n",
       "5   Adelie    Torgersen 36.7           19.3          193              \n",
       "⋮   ⋮         ⋮         ⋮              ⋮             ⋮                \n",
       "340 Chinstrap Dream     55.8           19.8          207              \n",
       "341 Chinstrap Dream     43.5           18.1          202              \n",
       "342 Chinstrap Dream     49.6           18.2          193              \n",
       "343 Chinstrap Dream     50.8           19.0          210              \n",
       "344 Chinstrap Dream     50.2           18.7          198              \n",
       "    body_mass_g sex    year\n",
       "1   3750        male   2007\n",
       "2   3800        female 2007\n",
       "3   3250        female 2007\n",
       "4     NA        NA     2007\n",
       "5   3450        female 2007\n",
       "⋮   ⋮           ⋮      ⋮   \n",
       "340 4000        male   2009\n",
       "341 3400        female 2009\n",
       "342 3775        male   2009\n",
       "343 4100        male   2009\n",
       "344 3775        female 2009"
      ]
     },
     "metadata": {},
     "output_type": "display_data"
    }
   ],
   "source": [
    "library(palmerpenguins)\n",
    "penguins"
   ]
  },
  {
   "cell_type": "code",
   "execution_count": 17,
   "metadata": {},
   "outputs": [
    {
     "data": {
      "text/html": [
       "<table class=\"dataframe\">\n",
       "<caption>A tibble: 3 × 2</caption>\n",
       "<thead>\n",
       "\t<tr><th scope=col>species</th><th scope=col>max_bill_length</th></tr>\n",
       "\t<tr><th scope=col>&lt;fct&gt;</th><th scope=col>&lt;dbl&gt;</th></tr>\n",
       "</thead>\n",
       "<tbody>\n",
       "\t<tr><td>Adelie   </td><td>NA</td></tr>\n",
       "\t<tr><td>Chinstrap</td><td>58</td></tr>\n",
       "\t<tr><td>Gentoo   </td><td>NA</td></tr>\n",
       "</tbody>\n",
       "</table>\n"
      ],
      "text/latex": [
       "A tibble: 3 × 2\n",
       "\\begin{tabular}{ll}\n",
       " species & max\\_bill\\_length\\\\\n",
       " <fct> & <dbl>\\\\\n",
       "\\hline\n",
       "\t Adelie    & NA\\\\\n",
       "\t Chinstrap & 58\\\\\n",
       "\t Gentoo    & NA\\\\\n",
       "\\end{tabular}\n"
      ],
      "text/markdown": [
       "\n",
       "A tibble: 3 × 2\n",
       "\n",
       "| species &lt;fct&gt; | max_bill_length &lt;dbl&gt; |\n",
       "|---|---|\n",
       "| Adelie    | NA |\n",
       "| Chinstrap | 58 |\n",
       "| Gentoo    | NA |\n",
       "\n"
      ],
      "text/plain": [
       "  species   max_bill_length\n",
       "1 Adelie    NA             \n",
       "2 Chinstrap 58             \n",
       "3 Gentoo    NA             "
      ]
     },
     "metadata": {},
     "output_type": "display_data"
    }
   ],
   "source": [
    "penguins %>%\n",
    "    group_by(species) %>%\n",
    "    summarise(max_bill_length = max(bill_length_mm))"
   ]
  },
  {
   "cell_type": "markdown",
   "metadata": {},
   "source": [
    "Huh???"
   ]
  },
  {
   "cell_type": "markdown",
   "metadata": {},
   "source": [
    "By default, summary statistics functions in R return `NA` if there are any `NA` observations in the data... This is often not ideal, what we'd like would be for R to just ignore the `NA`'s and kindly return us the statistic we asked for. We can specify this by setting the `na.rm` argument to `TRUE`."
   ]
  },
  {
   "cell_type": "code",
   "execution_count": 18,
   "metadata": {},
   "outputs": [
    {
     "data": {
      "text/html": [
       "<table class=\"dataframe\">\n",
       "<caption>A tibble: 3 × 2</caption>\n",
       "<thead>\n",
       "\t<tr><th scope=col>species</th><th scope=col>max_bill_length</th></tr>\n",
       "\t<tr><th scope=col>&lt;fct&gt;</th><th scope=col>&lt;dbl&gt;</th></tr>\n",
       "</thead>\n",
       "<tbody>\n",
       "\t<tr><td>Adelie   </td><td>46.0</td></tr>\n",
       "\t<tr><td>Chinstrap</td><td>58.0</td></tr>\n",
       "\t<tr><td>Gentoo   </td><td>59.6</td></tr>\n",
       "</tbody>\n",
       "</table>\n"
      ],
      "text/latex": [
       "A tibble: 3 × 2\n",
       "\\begin{tabular}{ll}\n",
       " species & max\\_bill\\_length\\\\\n",
       " <fct> & <dbl>\\\\\n",
       "\\hline\n",
       "\t Adelie    & 46.0\\\\\n",
       "\t Chinstrap & 58.0\\\\\n",
       "\t Gentoo    & 59.6\\\\\n",
       "\\end{tabular}\n"
      ],
      "text/markdown": [
       "\n",
       "A tibble: 3 × 2\n",
       "\n",
       "| species &lt;fct&gt; | max_bill_length &lt;dbl&gt; |\n",
       "|---|---|\n",
       "| Adelie    | 46.0 |\n",
       "| Chinstrap | 58.0 |\n",
       "| Gentoo    | 59.6 |\n",
       "\n"
      ],
      "text/plain": [
       "  species   max_bill_length\n",
       "1 Adelie    46.0           \n",
       "2 Chinstrap 58.0           \n",
       "3 Gentoo    59.6           "
      ]
     },
     "metadata": {},
     "output_type": "display_data"
    }
   ],
   "source": [
    "penguins %>%\n",
    "    group_by(species) %>%\n",
    "    summarise(max_bill_length = max(bill_length_mm, na.rm = TRUE))"
   ]
  },
  {
   "cell_type": "markdown",
   "metadata": {},
   "source": [
    "### Grouped mutate\n",
    "\n",
    "Sometimes you don’t want to collapse the n rows for each group into one row. You want to keep your groups, but compute within them.\n",
    "\n",
    "Let’s make a new variable that is the years of life expectancy gained (lost) relative to 1952, for each individual country. We group by `country` and use `mutate` to make a new variable. The `first` function extracts the first value from a vector. Notice that `first` is operating on the vector of life expectancies within each country group."
   ]
  },
  {
   "cell_type": "code",
   "execution_count": 19,
   "metadata": {},
   "outputs": [
    {
     "data": {
      "text/html": [
       "<table class=\"dataframe\">\n",
       "<caption>A grouped_df: 6 × 7</caption>\n",
       "<thead>\n",
       "\t<tr><th scope=col>country</th><th scope=col>continent</th><th scope=col>year</th><th scope=col>lifeExp</th><th scope=col>pop</th><th scope=col>gdpPercap</th><th scope=col>life_exp_gain</th></tr>\n",
       "\t<tr><th scope=col>&lt;fct&gt;</th><th scope=col>&lt;fct&gt;</th><th scope=col>&lt;int&gt;</th><th scope=col>&lt;dbl&gt;</th><th scope=col>&lt;int&gt;</th><th scope=col>&lt;dbl&gt;</th><th scope=col>&lt;dbl&gt;</th></tr>\n",
       "</thead>\n",
       "<tbody>\n",
       "\t<tr><td>Afghanistan</td><td>Asia</td><td>1952</td><td>28.801</td><td> 8425333</td><td>779.4453</td><td>0.000</td></tr>\n",
       "\t<tr><td>Afghanistan</td><td>Asia</td><td>1957</td><td>30.332</td><td> 9240934</td><td>820.8530</td><td>1.531</td></tr>\n",
       "\t<tr><td>Afghanistan</td><td>Asia</td><td>1962</td><td>31.997</td><td>10267083</td><td>853.1007</td><td>3.196</td></tr>\n",
       "\t<tr><td>Afghanistan</td><td>Asia</td><td>1967</td><td>34.020</td><td>11537966</td><td>836.1971</td><td>5.219</td></tr>\n",
       "\t<tr><td>Afghanistan</td><td>Asia</td><td>1972</td><td>36.088</td><td>13079460</td><td>739.9811</td><td>7.287</td></tr>\n",
       "\t<tr><td>Afghanistan</td><td>Asia</td><td>1977</td><td>38.438</td><td>14880372</td><td>786.1134</td><td>9.637</td></tr>\n",
       "</tbody>\n",
       "</table>\n"
      ],
      "text/latex": [
       "A grouped\\_df: 6 × 7\n",
       "\\begin{tabular}{lllllll}\n",
       " country & continent & year & lifeExp & pop & gdpPercap & life\\_exp\\_gain\\\\\n",
       " <fct> & <fct> & <int> & <dbl> & <int> & <dbl> & <dbl>\\\\\n",
       "\\hline\n",
       "\t Afghanistan & Asia & 1952 & 28.801 &  8425333 & 779.4453 & 0.000\\\\\n",
       "\t Afghanistan & Asia & 1957 & 30.332 &  9240934 & 820.8530 & 1.531\\\\\n",
       "\t Afghanistan & Asia & 1962 & 31.997 & 10267083 & 853.1007 & 3.196\\\\\n",
       "\t Afghanistan & Asia & 1967 & 34.020 & 11537966 & 836.1971 & 5.219\\\\\n",
       "\t Afghanistan & Asia & 1972 & 36.088 & 13079460 & 739.9811 & 7.287\\\\\n",
       "\t Afghanistan & Asia & 1977 & 38.438 & 14880372 & 786.1134 & 9.637\\\\\n",
       "\\end{tabular}\n"
      ],
      "text/markdown": [
       "\n",
       "A grouped_df: 6 × 7\n",
       "\n",
       "| country &lt;fct&gt; | continent &lt;fct&gt; | year &lt;int&gt; | lifeExp &lt;dbl&gt; | pop &lt;int&gt; | gdpPercap &lt;dbl&gt; | life_exp_gain &lt;dbl&gt; |\n",
       "|---|---|---|---|---|---|---|\n",
       "| Afghanistan | Asia | 1952 | 28.801 |  8425333 | 779.4453 | 0.000 |\n",
       "| Afghanistan | Asia | 1957 | 30.332 |  9240934 | 820.8530 | 1.531 |\n",
       "| Afghanistan | Asia | 1962 | 31.997 | 10267083 | 853.1007 | 3.196 |\n",
       "| Afghanistan | Asia | 1967 | 34.020 | 11537966 | 836.1971 | 5.219 |\n",
       "| Afghanistan | Asia | 1972 | 36.088 | 13079460 | 739.9811 | 7.287 |\n",
       "| Afghanistan | Asia | 1977 | 38.438 | 14880372 | 786.1134 | 9.637 |\n",
       "\n"
      ],
      "text/plain": [
       "  country     continent year lifeExp pop      gdpPercap life_exp_gain\n",
       "1 Afghanistan Asia      1952 28.801   8425333 779.4453  0.000        \n",
       "2 Afghanistan Asia      1957 30.332   9240934 820.8530  1.531        \n",
       "3 Afghanistan Asia      1962 31.997  10267083 853.1007  3.196        \n",
       "4 Afghanistan Asia      1967 34.020  11537966 836.1971  5.219        \n",
       "5 Afghanistan Asia      1972 36.088  13079460 739.9811  7.287        \n",
       "6 Afghanistan Asia      1977 38.438  14880372 786.1134  9.637        "
      ]
     },
     "metadata": {},
     "output_type": "display_data"
    }
   ],
   "source": [
    "# calculate life expectancy gained (or lost) relative to 1952\n",
    "gapminder %>% \n",
    "    group_by(country) %>% \n",
    "    mutate(life_exp_gain = lifeExp - first(lifeExp)) %>% \n",
    "    head()"
   ]
  },
  {
   "cell_type": "markdown",
   "metadata": {},
   "source": [
    "## Purrring instead of for loops \n",
    "\n",
    "![](https://ih1.redbubble.net/image.329884292.2339/sticker,375x360-bg,ffffff.u1.png)\n",
    "\n",
    "https://purrr.tidyverse.org/"
   ]
  },
  {
   "cell_type": "markdown",
   "metadata": {},
   "source": [
    "#### {purrr} `map_*` functions\n",
    "\n",
    "- alternative to `for` loops that help you make less syntax errors"
   ]
  },
  {
   "cell_type": "markdown",
   "metadata": {},
   "source": [
    "#### If you have programmed in R before\n",
    "\n",
    "`purrr` is an alternative to \"apply\" functions \n",
    "\n",
    "`purrr::map()` ≈ `base::lapply()`"
   ]
  },
  {
   "cell_type": "markdown",
   "metadata": {
    "slideshow": {
     "slide_type": "slide"
    }
   },
   "source": [
    "### Iterating over columns of a data frame\n",
    "\n",
    "Say, for example we wanted to calculate the median for each column in the `mtcars` data frame:"
   ]
  },
  {
   "cell_type": "code",
   "execution_count": 20,
   "metadata": {},
   "outputs": [
    {
     "data": {
      "text/html": [
       "<table class=\"dataframe\">\n",
       "<caption>A data.frame: 6 × 11</caption>\n",
       "<thead>\n",
       "\t<tr><th></th><th scope=col>mpg</th><th scope=col>cyl</th><th scope=col>disp</th><th scope=col>hp</th><th scope=col>drat</th><th scope=col>wt</th><th scope=col>qsec</th><th scope=col>vs</th><th scope=col>am</th><th scope=col>gear</th><th scope=col>carb</th></tr>\n",
       "\t<tr><th></th><th scope=col>&lt;dbl&gt;</th><th scope=col>&lt;dbl&gt;</th><th scope=col>&lt;dbl&gt;</th><th scope=col>&lt;dbl&gt;</th><th scope=col>&lt;dbl&gt;</th><th scope=col>&lt;dbl&gt;</th><th scope=col>&lt;dbl&gt;</th><th scope=col>&lt;dbl&gt;</th><th scope=col>&lt;dbl&gt;</th><th scope=col>&lt;dbl&gt;</th><th scope=col>&lt;dbl&gt;</th></tr>\n",
       "</thead>\n",
       "<tbody>\n",
       "\t<tr><th scope=row>Mazda RX4</th><td>21.0</td><td>6</td><td>160</td><td>110</td><td>3.90</td><td>2.620</td><td>16.46</td><td>0</td><td>1</td><td>4</td><td>4</td></tr>\n",
       "\t<tr><th scope=row>Mazda RX4 Wag</th><td>21.0</td><td>6</td><td>160</td><td>110</td><td>3.90</td><td>2.875</td><td>17.02</td><td>0</td><td>1</td><td>4</td><td>4</td></tr>\n",
       "\t<tr><th scope=row>Datsun 710</th><td>22.8</td><td>4</td><td>108</td><td> 93</td><td>3.85</td><td>2.320</td><td>18.61</td><td>1</td><td>1</td><td>4</td><td>1</td></tr>\n",
       "\t<tr><th scope=row>Hornet 4 Drive</th><td>21.4</td><td>6</td><td>258</td><td>110</td><td>3.08</td><td>3.215</td><td>19.44</td><td>1</td><td>0</td><td>3</td><td>1</td></tr>\n",
       "\t<tr><th scope=row>Hornet Sportabout</th><td>18.7</td><td>8</td><td>360</td><td>175</td><td>3.15</td><td>3.440</td><td>17.02</td><td>0</td><td>0</td><td>3</td><td>2</td></tr>\n",
       "\t<tr><th scope=row>Valiant</th><td>18.1</td><td>6</td><td>225</td><td>105</td><td>2.76</td><td>3.460</td><td>20.22</td><td>1</td><td>0</td><td>3</td><td>1</td></tr>\n",
       "</tbody>\n",
       "</table>\n"
      ],
      "text/latex": [
       "A data.frame: 6 × 11\n",
       "\\begin{tabular}{r|lllllllllll}\n",
       "  & mpg & cyl & disp & hp & drat & wt & qsec & vs & am & gear & carb\\\\\n",
       "  & <dbl> & <dbl> & <dbl> & <dbl> & <dbl> & <dbl> & <dbl> & <dbl> & <dbl> & <dbl> & <dbl>\\\\\n",
       "\\hline\n",
       "\tMazda RX4 & 21.0 & 6 & 160 & 110 & 3.90 & 2.620 & 16.46 & 0 & 1 & 4 & 4\\\\\n",
       "\tMazda RX4 Wag & 21.0 & 6 & 160 & 110 & 3.90 & 2.875 & 17.02 & 0 & 1 & 4 & 4\\\\\n",
       "\tDatsun 710 & 22.8 & 4 & 108 &  93 & 3.85 & 2.320 & 18.61 & 1 & 1 & 4 & 1\\\\\n",
       "\tHornet 4 Drive & 21.4 & 6 & 258 & 110 & 3.08 & 3.215 & 19.44 & 1 & 0 & 3 & 1\\\\\n",
       "\tHornet Sportabout & 18.7 & 8 & 360 & 175 & 3.15 & 3.440 & 17.02 & 0 & 0 & 3 & 2\\\\\n",
       "\tValiant & 18.1 & 6 & 225 & 105 & 2.76 & 3.460 & 20.22 & 1 & 0 & 3 & 1\\\\\n",
       "\\end{tabular}\n"
      ],
      "text/markdown": [
       "\n",
       "A data.frame: 6 × 11\n",
       "\n",
       "| <!--/--> | mpg &lt;dbl&gt; | cyl &lt;dbl&gt; | disp &lt;dbl&gt; | hp &lt;dbl&gt; | drat &lt;dbl&gt; | wt &lt;dbl&gt; | qsec &lt;dbl&gt; | vs &lt;dbl&gt; | am &lt;dbl&gt; | gear &lt;dbl&gt; | carb &lt;dbl&gt; |\n",
       "|---|---|---|---|---|---|---|---|---|---|---|---|\n",
       "| Mazda RX4 | 21.0 | 6 | 160 | 110 | 3.90 | 2.620 | 16.46 | 0 | 1 | 4 | 4 |\n",
       "| Mazda RX4 Wag | 21.0 | 6 | 160 | 110 | 3.90 | 2.875 | 17.02 | 0 | 1 | 4 | 4 |\n",
       "| Datsun 710 | 22.8 | 4 | 108 |  93 | 3.85 | 2.320 | 18.61 | 1 | 1 | 4 | 1 |\n",
       "| Hornet 4 Drive | 21.4 | 6 | 258 | 110 | 3.08 | 3.215 | 19.44 | 1 | 0 | 3 | 1 |\n",
       "| Hornet Sportabout | 18.7 | 8 | 360 | 175 | 3.15 | 3.440 | 17.02 | 0 | 0 | 3 | 2 |\n",
       "| Valiant | 18.1 | 6 | 225 | 105 | 2.76 | 3.460 | 20.22 | 1 | 0 | 3 | 1 |\n",
       "\n"
      ],
      "text/plain": [
       "                  mpg  cyl disp hp  drat wt    qsec  vs am gear carb\n",
       "Mazda RX4         21.0 6   160  110 3.90 2.620 16.46 0  1  4    4   \n",
       "Mazda RX4 Wag     21.0 6   160  110 3.90 2.875 17.02 0  1  4    4   \n",
       "Datsun 710        22.8 4   108   93 3.85 2.320 18.61 1  1  4    1   \n",
       "Hornet 4 Drive    21.4 6   258  110 3.08 3.215 19.44 1  0  3    1   \n",
       "Hornet Sportabout 18.7 8   360  175 3.15 3.440 17.02 0  0  3    2   \n",
       "Valiant           18.1 6   225  105 2.76 3.460 20.22 1  0  3    1   "
      ]
     },
     "metadata": {},
     "output_type": "display_data"
    }
   ],
   "source": [
    "head(mtcars)"
   ]
  },
  {
   "cell_type": "code",
   "execution_count": 21,
   "metadata": {
    "slideshow": {
     "slide_type": "slide"
    }
   },
   "outputs": [],
   "source": [
    "medians <- vector(\"double\", ncol(mtcars))\n",
    "for (i in seq_along(mtcars)) {\n",
    "    medians[i] <- median(mtcars[[i]], na.rm = TRUE)\n",
    "}"
   ]
  },
  {
   "cell_type": "markdown",
   "metadata": {
    "slideshow": {
     "slide_type": "fragment"
    }
   },
   "source": [
    "OK, then next we want to calculate the mean for all of the columns:"
   ]
  },
  {
   "cell_type": "code",
   "execution_count": 22,
   "metadata": {
    "slideshow": {
     "slide_type": "fragment"
    }
   },
   "outputs": [],
   "source": [
    "means <- vector(\"double\", ncol(mtcars))\n",
    "for (i in seq_along(mtcars)) {\n",
    "    means[i] <- mean(mtcars[[i]], na.rm = TRUE)\n",
    "}"
   ]
  },
  {
   "cell_type": "markdown",
   "metadata": {
    "slideshow": {
     "slide_type": "fragment"
    }
   },
   "source": [
    "OK, and then the variance..."
   ]
  },
  {
   "cell_type": "code",
   "execution_count": 23,
   "metadata": {
    "slideshow": {
     "slide_type": "fragment"
    }
   },
   "outputs": [],
   "source": [
    "variances <- vector(\"double\", ncol(mtcars))\n",
    "for (i in seq_along(mtcars)) {\n",
    "    variances[i] <- var(mtcars[[i]], na.rm = TRUE)\n",
    "}"
   ]
  },
  {
   "cell_type": "markdown",
   "metadata": {
    "slideshow": {
     "slide_type": "fragment"
    }
   },
   "source": [
    "This is getting a little repetitive... What are we repeating?"
   ]
  },
  {
   "cell_type": "markdown",
   "metadata": {
    "slideshow": {
     "slide_type": "slide"
    }
   },
   "source": [
    "#### Can we write this as a function?\n",
    "\n",
    "Given that functions are objects in R, this seems reasonable!"
   ]
  },
  {
   "cell_type": "code",
   "execution_count": 24,
   "metadata": {
    "slideshow": {
     "slide_type": "fragment"
    }
   },
   "outputs": [],
   "source": [
    "medians <- vector(\"double\", ncol(mtcars))\n",
    "for (i in seq_along(mtcars)) {\n",
    "    medians[i] <- median(mtcars[[i]], na.rm = TRUE)\n",
    "}"
   ]
  },
  {
   "cell_type": "markdown",
   "metadata": {
    "slideshow": {
     "slide_type": "fragment"
    }
   },
   "source": [
    "This is essentially the guts of `purrr::map_dbl`. The only difference is that is coded in C and the use of `...` for additional arguments."
   ]
  },
  {
   "cell_type": "code",
   "execution_count": 25,
   "metadata": {
    "slideshow": {
     "slide_type": "notes"
    }
   },
   "outputs": [
    {
     "data": {
      "text/html": [
       "<style>\n",
       ".list-inline {list-style: none; margin:0; padding: 0}\n",
       ".list-inline>li {display: inline-block}\n",
       ".list-inline>li:not(:last-child)::after {content: \"\\00b7\"; padding: 0 .5ex}\n",
       "</style>\n",
       "<ol class=list-inline><li>10.4</li><li>4</li><li>71.1</li><li>52</li><li>2.76</li><li>1.513</li><li>14.5</li><li>0</li><li>0</li><li>3</li><li>1</li></ol>\n"
      ],
      "text/latex": [
       "\\begin{enumerate*}\n",
       "\\item 10.4\n",
       "\\item 4\n",
       "\\item 71.1\n",
       "\\item 52\n",
       "\\item 2.76\n",
       "\\item 1.513\n",
       "\\item 14.5\n",
       "\\item 0\n",
       "\\item 0\n",
       "\\item 3\n",
       "\\item 1\n",
       "\\end{enumerate*}\n"
      ],
      "text/markdown": [
       "1. 10.4\n",
       "2. 4\n",
       "3. 71.1\n",
       "4. 52\n",
       "5. 2.76\n",
       "6. 1.513\n",
       "7. 14.5\n",
       "8. 0\n",
       "9. 0\n",
       "10. 3\n",
       "11. 1\n",
       "\n",
       "\n"
      ],
      "text/plain": [
       " [1] 10.400  4.000 71.100 52.000  2.760  1.513 14.500  0.000  0.000  3.000\n",
       "[11]  1.000"
      ]
     },
     "metadata": {},
     "output_type": "display_data"
    }
   ],
   "source": [
    "mds_map <- function(x, fun)  {\n",
    "    out <- vector(\"double\", ncol(x))\n",
    "    for (i in seq_along(x)) {\n",
    "        out[i] <- fun(x[[i]], na.rm = TRUE)\n",
    "    }\n",
    "    out\n",
    "}\n",
    "mds_map(mtcars, min)"
   ]
  },
  {
   "cell_type": "markdown",
   "metadata": {
    "slideshow": {
     "slide_type": "slide"
    }
   },
   "source": [
    "### Functionals\n",
    "\n",
    "We have just written what is called a functional. \n",
    "\n",
    "A functional is a function that takes a function (and other things) as an input and returns a vector as output.\n",
    "\n",
    "R has several other functionals outside of `purrr` that you might have already encountered: `lapply`, `apply`, `tapply`, `integrate` or `optim`."
   ]
  },
  {
   "cell_type": "markdown",
   "metadata": {
    "slideshow": {
     "slide_type": "slide"
    }
   },
   "source": [
    "### What can you do with functionals?\n",
    "\n",
    "- Common use is as an alternative to for loops"
   ]
  },
  {
   "cell_type": "markdown",
   "metadata": {
    "slideshow": {
     "slide_type": "fragment"
    }
   },
   "source": [
    "- For loops are actually quite effective for iteration, and efficient when used, however it is easy to make mistakes when setting them up as you have to:\n",
    "    - pre-allocate space for the output\n",
    "    - iterate over the thing the right amount of times\n",
    "    - properly use the iteration index\n",
    "   "
   ]
  },
  {
   "cell_type": "markdown",
   "metadata": {
    "slideshow": {
     "slide_type": "slide"
    }
   },
   "source": [
    "#### *Of course someone has to write for loops*\n",
    "\n",
    "#### *It doesn't have to be you*\n",
    "\n",
    "-- *Jenny Bryan, Software Engineer at RStudio and UBC MDS Founder*"
   ]
  },
  {
   "cell_type": "markdown",
   "metadata": {
    "slideshow": {
     "slide_type": "slide"
    }
   },
   "source": [
    "### The `purrr::map*` family of functions\n",
    "\n",
    "<img src=\"img/map_family.png\" width=900>\n",
    "\n",
    "*Source: [Advanced R](https://adv-r.hadley.nz/) by Hadley Wickham*"
   ]
  },
  {
   "cell_type": "markdown",
   "metadata": {
    "slideshow": {
     "slide_type": "slide"
    }
   },
   "source": [
    "### Let's start at the beginning with the most general `purrr` function: `map`\n",
    "\n",
    "```\n",
    "map(.x, .f, ...)\n",
    "```"
   ]
  },
  {
   "cell_type": "markdown",
   "metadata": {
    "slideshow": {
     "slide_type": "fragment"
    }
   },
   "source": [
    "Above reads as: `for` every element of `.x` apply `.f` "
   ]
  },
  {
   "cell_type": "markdown",
   "metadata": {
    "slideshow": {
     "slide_type": "fragment"
    }
   },
   "source": [
    "and can be pictured as:\n",
    "\n",
    "<img src=\"https://d33wubrfki0l68.cloudfront.net/12f6af8404d9723dff9cc665028a35f07759299d/d0d9a/diagrams/functionals/map-list.png\" width=500>"
   ]
  },
  {
   "cell_type": "markdown",
   "metadata": {
    "slideshow": {
     "slide_type": "slide"
    }
   },
   "source": [
    "Or picture as..."
   ]
  },
  {
   "cell_type": "markdown",
   "metadata": {
    "slideshow": {
     "slide_type": "slide"
    }
   },
   "source": [
    "<img src=\"img/minis_as_data.png\" width=800>\n",
    "\n",
    "*Source: [Row-oriented workflows in R with the tidyverse](https://speakerdeck.com/jennybc/row-oriented-workflows-in-r-with-the-tidyverse) by Jenny Bryan*"
   ]
  },
  {
   "cell_type": "markdown",
   "metadata": {
    "slideshow": {
     "slide_type": "slide"
    }
   },
   "source": [
    "<img src=\"img/minis_map.png\" width=800>\n",
    "\n",
    "*Source: [Row-oriented workflows in R with the tidyverse](https://speakerdeck.com/jennybc/row-oriented-workflows-in-r-with-the-tidyverse) by Jenny Bryan*"
   ]
  },
  {
   "cell_type": "markdown",
   "metadata": {
    "slideshow": {
     "slide_type": "slide"
    }
   },
   "source": [
    "### `purrr::map` test drive\n",
    "\n",
    "Let's calculate the median of all the columns of the `mtcars` data frame using `purrr::map`:"
   ]
  },
  {
   "cell_type": "code",
   "execution_count": 26,
   "metadata": {
    "slideshow": {
     "slide_type": "fragment"
    }
   },
   "outputs": [
    {
     "data": {
      "text/html": [
       "<dl>\n",
       "\t<dt>$mpg</dt>\n",
       "\t\t<dd>19.2</dd>\n",
       "\t<dt>$cyl</dt>\n",
       "\t\t<dd>6</dd>\n",
       "\t<dt>$disp</dt>\n",
       "\t\t<dd>196.3</dd>\n",
       "\t<dt>$hp</dt>\n",
       "\t\t<dd>123</dd>\n",
       "\t<dt>$drat</dt>\n",
       "\t\t<dd>3.695</dd>\n",
       "\t<dt>$wt</dt>\n",
       "\t\t<dd>3.325</dd>\n",
       "\t<dt>$qsec</dt>\n",
       "\t\t<dd>17.71</dd>\n",
       "\t<dt>$vs</dt>\n",
       "\t\t<dd>0</dd>\n",
       "\t<dt>$am</dt>\n",
       "\t\t<dd>0</dd>\n",
       "\t<dt>$gear</dt>\n",
       "\t\t<dd>4</dd>\n",
       "\t<dt>$carb</dt>\n",
       "\t\t<dd>2</dd>\n",
       "</dl>\n"
      ],
      "text/latex": [
       "\\begin{description}\n",
       "\\item[\\$mpg] 19.2\n",
       "\\item[\\$cyl] 6\n",
       "\\item[\\$disp] 196.3\n",
       "\\item[\\$hp] 123\n",
       "\\item[\\$drat] 3.695\n",
       "\\item[\\$wt] 3.325\n",
       "\\item[\\$qsec] 17.71\n",
       "\\item[\\$vs] 0\n",
       "\\item[\\$am] 0\n",
       "\\item[\\$gear] 4\n",
       "\\item[\\$carb] 2\n",
       "\\end{description}\n"
      ],
      "text/markdown": [
       "$mpg\n",
       ":   19.2\n",
       "$cyl\n",
       ":   6\n",
       "$disp\n",
       ":   196.3\n",
       "$hp\n",
       ":   123\n",
       "$drat\n",
       ":   3.695\n",
       "$wt\n",
       ":   3.325\n",
       "$qsec\n",
       ":   17.71\n",
       "$vs\n",
       ":   0\n",
       "$am\n",
       ":   0\n",
       "$gear\n",
       ":   4\n",
       "$carb\n",
       ":   2\n",
       "\n",
       "\n"
      ],
      "text/plain": [
       "$mpg\n",
       "[1] 19.2\n",
       "\n",
       "$cyl\n",
       "[1] 6\n",
       "\n",
       "$disp\n",
       "[1] 196.3\n",
       "\n",
       "$hp\n",
       "[1] 123\n",
       "\n",
       "$drat\n",
       "[1] 3.695\n",
       "\n",
       "$wt\n",
       "[1] 3.325\n",
       "\n",
       "$qsec\n",
       "[1] 17.71\n",
       "\n",
       "$vs\n",
       "[1] 0\n",
       "\n",
       "$am\n",
       "[1] 0\n",
       "\n",
       "$gear\n",
       "[1] 4\n",
       "\n",
       "$carb\n",
       "[1] 2\n"
      ]
     },
     "metadata": {},
     "output_type": "display_data"
    }
   ],
   "source": [
    "library(purrr)\n",
    "map(mtcars, median)"
   ]
  },
  {
   "cell_type": "markdown",
   "metadata": {
    "slideshow": {
     "slide_type": "notes"
    }
   },
   "source": [
    "That looks different from our `mds_map` function! The output is of type list. We can use `map_df` to get a vector of type double:"
   ]
  },
  {
   "cell_type": "code",
   "execution_count": 27,
   "metadata": {},
   "outputs": [
    {
     "data": {
      "text/html": [
       "<style>\n",
       ".dl-inline {width: auto; margin:0; padding: 0}\n",
       ".dl-inline>dt, .dl-inline>dd {float: none; width: auto; display: inline-block}\n",
       ".dl-inline>dt::after {content: \":\\0020\"; padding-right: .5ex}\n",
       ".dl-inline>dt:not(:first-of-type) {padding-left: .5ex}\n",
       "</style><dl class=dl-inline><dt>mpg</dt><dd>19.2</dd><dt>cyl</dt><dd>6</dd><dt>disp</dt><dd>196.3</dd><dt>hp</dt><dd>123</dd><dt>drat</dt><dd>3.695</dd><dt>wt</dt><dd>3.325</dd><dt>qsec</dt><dd>17.71</dd><dt>vs</dt><dd>0</dd><dt>am</dt><dd>0</dd><dt>gear</dt><dd>4</dd><dt>carb</dt><dd>2</dd></dl>\n"
      ],
      "text/latex": [
       "\\begin{description*}\n",
       "\\item[mpg] 19.2\n",
       "\\item[cyl] 6\n",
       "\\item[disp] 196.3\n",
       "\\item[hp] 123\n",
       "\\item[drat] 3.695\n",
       "\\item[wt] 3.325\n",
       "\\item[qsec] 17.71\n",
       "\\item[vs] 0\n",
       "\\item[am] 0\n",
       "\\item[gear] 4\n",
       "\\item[carb] 2\n",
       "\\end{description*}\n"
      ],
      "text/markdown": [
       "mpg\n",
       ":   19.2cyl\n",
       ":   6disp\n",
       ":   196.3hp\n",
       ":   123drat\n",
       ":   3.695wt\n",
       ":   3.325qsec\n",
       ":   17.71vs\n",
       ":   0am\n",
       ":   0gear\n",
       ":   4carb\n",
       ":   2\n",
       "\n"
      ],
      "text/plain": [
       "    mpg     cyl    disp      hp    drat      wt    qsec      vs      am    gear \n",
       " 19.200   6.000 196.300 123.000   3.695   3.325  17.710   0.000   0.000   4.000 \n",
       "   carb \n",
       "  2.000 "
      ]
     },
     "metadata": {},
     "output_type": "display_data"
    }
   ],
   "source": [
    "map_dbl(mtcars, median)"
   ]
  },
  {
   "cell_type": "markdown",
   "metadata": {},
   "source": [
    "And `map_df` will give us a tibble:"
   ]
  },
  {
   "cell_type": "code",
   "execution_count": 28,
   "metadata": {},
   "outputs": [
    {
     "data": {
      "text/html": [
       "<table class=\"dataframe\">\n",
       "<caption>A tibble: 1 × 11</caption>\n",
       "<thead>\n",
       "\t<tr><th scope=col>mpg</th><th scope=col>cyl</th><th scope=col>disp</th><th scope=col>hp</th><th scope=col>drat</th><th scope=col>wt</th><th scope=col>qsec</th><th scope=col>vs</th><th scope=col>am</th><th scope=col>gear</th><th scope=col>carb</th></tr>\n",
       "\t<tr><th scope=col>&lt;dbl&gt;</th><th scope=col>&lt;dbl&gt;</th><th scope=col>&lt;dbl&gt;</th><th scope=col>&lt;dbl&gt;</th><th scope=col>&lt;dbl&gt;</th><th scope=col>&lt;dbl&gt;</th><th scope=col>&lt;dbl&gt;</th><th scope=col>&lt;dbl&gt;</th><th scope=col>&lt;dbl&gt;</th><th scope=col>&lt;dbl&gt;</th><th scope=col>&lt;dbl&gt;</th></tr>\n",
       "</thead>\n",
       "<tbody>\n",
       "\t<tr><td>19.2</td><td>6</td><td>196.3</td><td>123</td><td>3.695</td><td>3.325</td><td>17.71</td><td>0</td><td>0</td><td>4</td><td>2</td></tr>\n",
       "</tbody>\n",
       "</table>\n"
      ],
      "text/latex": [
       "A tibble: 1 × 11\n",
       "\\begin{tabular}{lllllllllll}\n",
       " mpg & cyl & disp & hp & drat & wt & qsec & vs & am & gear & carb\\\\\n",
       " <dbl> & <dbl> & <dbl> & <dbl> & <dbl> & <dbl> & <dbl> & <dbl> & <dbl> & <dbl> & <dbl>\\\\\n",
       "\\hline\n",
       "\t 19.2 & 6 & 196.3 & 123 & 3.695 & 3.325 & 17.71 & 0 & 0 & 4 & 2\\\\\n",
       "\\end{tabular}\n"
      ],
      "text/markdown": [
       "\n",
       "A tibble: 1 × 11\n",
       "\n",
       "| mpg &lt;dbl&gt; | cyl &lt;dbl&gt; | disp &lt;dbl&gt; | hp &lt;dbl&gt; | drat &lt;dbl&gt; | wt &lt;dbl&gt; | qsec &lt;dbl&gt; | vs &lt;dbl&gt; | am &lt;dbl&gt; | gear &lt;dbl&gt; | carb &lt;dbl&gt; |\n",
       "|---|---|---|---|---|---|---|---|---|---|---|\n",
       "| 19.2 | 6 | 196.3 | 123 | 3.695 | 3.325 | 17.71 | 0 | 0 | 4 | 2 |\n",
       "\n"
      ],
      "text/plain": [
       "  mpg  cyl disp  hp  drat  wt    qsec  vs am gear carb\n",
       "1 19.2 6   196.3 123 3.695 3.325 17.71 0  0  4    2   "
      ]
     },
     "metadata": {},
     "output_type": "display_data"
    }
   ],
   "source": [
    "map_df(mtcars, median)"
   ]
  },
  {
   "cell_type": "markdown",
   "metadata": {},
   "source": [
    "So now it's super efficient and easy to get several summary stats across columns!"
   ]
  },
  {
   "cell_type": "code",
   "execution_count": 29,
   "metadata": {},
   "outputs": [
    {
     "data": {
      "text/html": [
       "<table class=\"dataframe\">\n",
       "<caption>A tibble: 1 × 11</caption>\n",
       "<thead>\n",
       "\t<tr><th scope=col>mpg</th><th scope=col>cyl</th><th scope=col>disp</th><th scope=col>hp</th><th scope=col>drat</th><th scope=col>wt</th><th scope=col>qsec</th><th scope=col>vs</th><th scope=col>am</th><th scope=col>gear</th><th scope=col>carb</th></tr>\n",
       "\t<tr><th scope=col>&lt;dbl&gt;</th><th scope=col>&lt;dbl&gt;</th><th scope=col>&lt;dbl&gt;</th><th scope=col>&lt;dbl&gt;</th><th scope=col>&lt;dbl&gt;</th><th scope=col>&lt;dbl&gt;</th><th scope=col>&lt;dbl&gt;</th><th scope=col>&lt;dbl&gt;</th><th scope=col>&lt;dbl&gt;</th><th scope=col>&lt;dbl&gt;</th><th scope=col>&lt;dbl&gt;</th></tr>\n",
       "</thead>\n",
       "<tbody>\n",
       "\t<tr><td>19.2</td><td>6</td><td>196.3</td><td>123</td><td>3.695</td><td>3.325</td><td>17.71</td><td>0</td><td>0</td><td>4</td><td>2</td></tr>\n",
       "</tbody>\n",
       "</table>\n"
      ],
      "text/latex": [
       "A tibble: 1 × 11\n",
       "\\begin{tabular}{lllllllllll}\n",
       " mpg & cyl & disp & hp & drat & wt & qsec & vs & am & gear & carb\\\\\n",
       " <dbl> & <dbl> & <dbl> & <dbl> & <dbl> & <dbl> & <dbl> & <dbl> & <dbl> & <dbl> & <dbl>\\\\\n",
       "\\hline\n",
       "\t 19.2 & 6 & 196.3 & 123 & 3.695 & 3.325 & 17.71 & 0 & 0 & 4 & 2\\\\\n",
       "\\end{tabular}\n"
      ],
      "text/markdown": [
       "\n",
       "A tibble: 1 × 11\n",
       "\n",
       "| mpg &lt;dbl&gt; | cyl &lt;dbl&gt; | disp &lt;dbl&gt; | hp &lt;dbl&gt; | drat &lt;dbl&gt; | wt &lt;dbl&gt; | qsec &lt;dbl&gt; | vs &lt;dbl&gt; | am &lt;dbl&gt; | gear &lt;dbl&gt; | carb &lt;dbl&gt; |\n",
       "|---|---|---|---|---|---|---|---|---|---|---|\n",
       "| 19.2 | 6 | 196.3 | 123 | 3.695 | 3.325 | 17.71 | 0 | 0 | 4 | 2 |\n",
       "\n"
      ],
      "text/plain": [
       "  mpg  cyl disp  hp  drat  wt    qsec  vs am gear carb\n",
       "1 19.2 6   196.3 123 3.695 3.325 17.71 0  0  4    2   "
      ]
     },
     "metadata": {},
     "output_type": "display_data"
    },
    {
     "data": {
      "text/html": [
       "<table class=\"dataframe\">\n",
       "<caption>A tibble: 1 × 11</caption>\n",
       "<thead>\n",
       "\t<tr><th scope=col>mpg</th><th scope=col>cyl</th><th scope=col>disp</th><th scope=col>hp</th><th scope=col>drat</th><th scope=col>wt</th><th scope=col>qsec</th><th scope=col>vs</th><th scope=col>am</th><th scope=col>gear</th><th scope=col>carb</th></tr>\n",
       "\t<tr><th scope=col>&lt;dbl&gt;</th><th scope=col>&lt;dbl&gt;</th><th scope=col>&lt;dbl&gt;</th><th scope=col>&lt;dbl&gt;</th><th scope=col>&lt;dbl&gt;</th><th scope=col>&lt;dbl&gt;</th><th scope=col>&lt;dbl&gt;</th><th scope=col>&lt;dbl&gt;</th><th scope=col>&lt;dbl&gt;</th><th scope=col>&lt;dbl&gt;</th><th scope=col>&lt;dbl&gt;</th></tr>\n",
       "</thead>\n",
       "<tbody>\n",
       "\t<tr><td>20.09062</td><td>6.1875</td><td>230.7219</td><td>146.6875</td><td>3.596563</td><td>3.21725</td><td>17.84875</td><td>0.4375</td><td>0.40625</td><td>3.6875</td><td>2.8125</td></tr>\n",
       "</tbody>\n",
       "</table>\n"
      ],
      "text/latex": [
       "A tibble: 1 × 11\n",
       "\\begin{tabular}{lllllllllll}\n",
       " mpg & cyl & disp & hp & drat & wt & qsec & vs & am & gear & carb\\\\\n",
       " <dbl> & <dbl> & <dbl> & <dbl> & <dbl> & <dbl> & <dbl> & <dbl> & <dbl> & <dbl> & <dbl>\\\\\n",
       "\\hline\n",
       "\t 20.09062 & 6.1875 & 230.7219 & 146.6875 & 3.596563 & 3.21725 & 17.84875 & 0.4375 & 0.40625 & 3.6875 & 2.8125\\\\\n",
       "\\end{tabular}\n"
      ],
      "text/markdown": [
       "\n",
       "A tibble: 1 × 11\n",
       "\n",
       "| mpg &lt;dbl&gt; | cyl &lt;dbl&gt; | disp &lt;dbl&gt; | hp &lt;dbl&gt; | drat &lt;dbl&gt; | wt &lt;dbl&gt; | qsec &lt;dbl&gt; | vs &lt;dbl&gt; | am &lt;dbl&gt; | gear &lt;dbl&gt; | carb &lt;dbl&gt; |\n",
       "|---|---|---|---|---|---|---|---|---|---|---|\n",
       "| 20.09062 | 6.1875 | 230.7219 | 146.6875 | 3.596563 | 3.21725 | 17.84875 | 0.4375 | 0.40625 | 3.6875 | 2.8125 |\n",
       "\n"
      ],
      "text/plain": [
       "  mpg      cyl    disp     hp       drat     wt      qsec     vs     am     \n",
       "1 20.09062 6.1875 230.7219 146.6875 3.596563 3.21725 17.84875 0.4375 0.40625\n",
       "  gear   carb  \n",
       "1 3.6875 2.8125"
      ]
     },
     "metadata": {},
     "output_type": "display_data"
    },
    {
     "data": {
      "text/html": [
       "<table class=\"dataframe\">\n",
       "<caption>A tibble: 1 × 11</caption>\n",
       "<thead>\n",
       "\t<tr><th scope=col>mpg</th><th scope=col>cyl</th><th scope=col>disp</th><th scope=col>hp</th><th scope=col>drat</th><th scope=col>wt</th><th scope=col>qsec</th><th scope=col>vs</th><th scope=col>am</th><th scope=col>gear</th><th scope=col>carb</th></tr>\n",
       "\t<tr><th scope=col>&lt;dbl&gt;</th><th scope=col>&lt;dbl&gt;</th><th scope=col>&lt;dbl&gt;</th><th scope=col>&lt;dbl&gt;</th><th scope=col>&lt;dbl&gt;</th><th scope=col>&lt;dbl&gt;</th><th scope=col>&lt;dbl&gt;</th><th scope=col>&lt;dbl&gt;</th><th scope=col>&lt;dbl&gt;</th><th scope=col>&lt;dbl&gt;</th><th scope=col>&lt;dbl&gt;</th></tr>\n",
       "</thead>\n",
       "<tbody>\n",
       "\t<tr><td>33.9</td><td>8</td><td>472</td><td>335</td><td>4.93</td><td>5.424</td><td>22.9</td><td>1</td><td>1</td><td>5</td><td>8</td></tr>\n",
       "</tbody>\n",
       "</table>\n"
      ],
      "text/latex": [
       "A tibble: 1 × 11\n",
       "\\begin{tabular}{lllllllllll}\n",
       " mpg & cyl & disp & hp & drat & wt & qsec & vs & am & gear & carb\\\\\n",
       " <dbl> & <dbl> & <dbl> & <dbl> & <dbl> & <dbl> & <dbl> & <dbl> & <dbl> & <dbl> & <dbl>\\\\\n",
       "\\hline\n",
       "\t 33.9 & 8 & 472 & 335 & 4.93 & 5.424 & 22.9 & 1 & 1 & 5 & 8\\\\\n",
       "\\end{tabular}\n"
      ],
      "text/markdown": [
       "\n",
       "A tibble: 1 × 11\n",
       "\n",
       "| mpg &lt;dbl&gt; | cyl &lt;dbl&gt; | disp &lt;dbl&gt; | hp &lt;dbl&gt; | drat &lt;dbl&gt; | wt &lt;dbl&gt; | qsec &lt;dbl&gt; | vs &lt;dbl&gt; | am &lt;dbl&gt; | gear &lt;dbl&gt; | carb &lt;dbl&gt; |\n",
       "|---|---|---|---|---|---|---|---|---|---|---|\n",
       "| 33.9 | 8 | 472 | 335 | 4.93 | 5.424 | 22.9 | 1 | 1 | 5 | 8 |\n",
       "\n"
      ],
      "text/plain": [
       "  mpg  cyl disp hp  drat wt    qsec vs am gear carb\n",
       "1 33.9 8   472  335 4.93 5.424 22.9 1  1  5    8   "
      ]
     },
     "metadata": {},
     "output_type": "display_data"
    },
    {
     "data": {
      "text/html": [
       "<table class=\"dataframe\">\n",
       "<caption>A tibble: 1 × 11</caption>\n",
       "<thead>\n",
       "\t<tr><th scope=col>mpg</th><th scope=col>cyl</th><th scope=col>disp</th><th scope=col>hp</th><th scope=col>drat</th><th scope=col>wt</th><th scope=col>qsec</th><th scope=col>vs</th><th scope=col>am</th><th scope=col>gear</th><th scope=col>carb</th></tr>\n",
       "\t<tr><th scope=col>&lt;dbl&gt;</th><th scope=col>&lt;dbl&gt;</th><th scope=col>&lt;dbl&gt;</th><th scope=col>&lt;dbl&gt;</th><th scope=col>&lt;dbl&gt;</th><th scope=col>&lt;dbl&gt;</th><th scope=col>&lt;dbl&gt;</th><th scope=col>&lt;dbl&gt;</th><th scope=col>&lt;dbl&gt;</th><th scope=col>&lt;dbl&gt;</th><th scope=col>&lt;dbl&gt;</th></tr>\n",
       "</thead>\n",
       "<tbody>\n",
       "\t<tr><td>10.4</td><td>4</td><td>71.1</td><td>52</td><td>2.76</td><td>1.513</td><td>14.5</td><td>0</td><td>0</td><td>3</td><td>1</td></tr>\n",
       "</tbody>\n",
       "</table>\n"
      ],
      "text/latex": [
       "A tibble: 1 × 11\n",
       "\\begin{tabular}{lllllllllll}\n",
       " mpg & cyl & disp & hp & drat & wt & qsec & vs & am & gear & carb\\\\\n",
       " <dbl> & <dbl> & <dbl> & <dbl> & <dbl> & <dbl> & <dbl> & <dbl> & <dbl> & <dbl> & <dbl>\\\\\n",
       "\\hline\n",
       "\t 10.4 & 4 & 71.1 & 52 & 2.76 & 1.513 & 14.5 & 0 & 0 & 3 & 1\\\\\n",
       "\\end{tabular}\n"
      ],
      "text/markdown": [
       "\n",
       "A tibble: 1 × 11\n",
       "\n",
       "| mpg &lt;dbl&gt; | cyl &lt;dbl&gt; | disp &lt;dbl&gt; | hp &lt;dbl&gt; | drat &lt;dbl&gt; | wt &lt;dbl&gt; | qsec &lt;dbl&gt; | vs &lt;dbl&gt; | am &lt;dbl&gt; | gear &lt;dbl&gt; | carb &lt;dbl&gt; |\n",
       "|---|---|---|---|---|---|---|---|---|---|---|\n",
       "| 10.4 | 4 | 71.1 | 52 | 2.76 | 1.513 | 14.5 | 0 | 0 | 3 | 1 |\n",
       "\n"
      ],
      "text/plain": [
       "  mpg  cyl disp hp drat wt    qsec vs am gear carb\n",
       "1 10.4 4   71.1 52 2.76 1.513 14.5 0  0  3    1   "
      ]
     },
     "metadata": {},
     "output_type": "display_data"
    }
   ],
   "source": [
    "map_df(mtcars, median)\n",
    "map_df(mtcars, mean)\n",
    "map_df(mtcars, max)\n",
    "map_df(mtcars, min)"
   ]
  },
  {
   "cell_type": "markdown",
   "metadata": {
    "slideshow": {
     "slide_type": "slide"
    }
   },
   "source": [
    "#### What if our data frame had missing values?\n",
    "\n",
    "Let's make some to see the consequences..."
   ]
  },
  {
   "cell_type": "code",
   "execution_count": 30,
   "metadata": {
    "slideshow": {
     "slide_type": "fragment"
    }
   },
   "outputs": [
    {
     "data": {
      "text/html": [
       "<style>\n",
       ".dl-inline {width: auto; margin:0; padding: 0}\n",
       ".dl-inline>dt, .dl-inline>dd {float: none; width: auto; display: inline-block}\n",
       ".dl-inline>dt::after {content: \":\\0020\"; padding-right: .5ex}\n",
       ".dl-inline>dt:not(:first-of-type) {padding-left: .5ex}\n",
       "</style><dl class=dl-inline><dt>mpg</dt><dd>&lt;NA&gt;</dd><dt>cyl</dt><dd>6</dd><dt>disp</dt><dd>196.3</dd><dt>hp</dt><dd>123</dd><dt>drat</dt><dd>3.695</dd><dt>wt</dt><dd>3.325</dd><dt>qsec</dt><dd>17.71</dd><dt>vs</dt><dd>0</dd><dt>am</dt><dd>0</dd><dt>gear</dt><dd>4</dd><dt>carb</dt><dd>2</dd></dl>\n"
      ],
      "text/latex": [
       "\\begin{description*}\n",
       "\\item[mpg] <NA>\n",
       "\\item[cyl] 6\n",
       "\\item[disp] 196.3\n",
       "\\item[hp] 123\n",
       "\\item[drat] 3.695\n",
       "\\item[wt] 3.325\n",
       "\\item[qsec] 17.71\n",
       "\\item[vs] 0\n",
       "\\item[am] 0\n",
       "\\item[gear] 4\n",
       "\\item[carb] 2\n",
       "\\end{description*}\n"
      ],
      "text/markdown": [
       "mpg\n",
       ":   &lt;NA&gt;cyl\n",
       ":   6disp\n",
       ":   196.3hp\n",
       ":   123drat\n",
       ":   3.695wt\n",
       ":   3.325qsec\n",
       ":   17.71vs\n",
       ":   0am\n",
       ":   0gear\n",
       ":   4carb\n",
       ":   2\n",
       "\n"
      ],
      "text/plain": [
       "    mpg     cyl    disp      hp    drat      wt    qsec      vs      am    gear \n",
       "     NA   6.000 196.300 123.000   3.695   3.325  17.710   0.000   0.000   4.000 \n",
       "   carb \n",
       "  2.000 "
      ]
     },
     "metadata": {},
     "output_type": "display_data"
    }
   ],
   "source": [
    "mtcars_NA <- mtcars\n",
    "mtcars_NA[1, 1] <- NA\n",
    "\n",
    "map_dbl(mtcars_NA, median)"
   ]
  },
  {
   "cell_type": "markdown",
   "metadata": {
    "slideshow": {
     "slide_type": "fragment"
    }
   },
   "source": [
    "How do we tell `median` to ignore NA's? Using `na.rm = TRUE`! But how do we add this to our `map_dbl` call?"
   ]
  },
  {
   "cell_type": "code",
   "execution_count": 31,
   "metadata": {},
   "outputs": [
    {
     "data": {
      "text/html": [
       "<style>\n",
       ".dl-inline {width: auto; margin:0; padding: 0}\n",
       ".dl-inline>dt, .dl-inline>dd {float: none; width: auto; display: inline-block}\n",
       ".dl-inline>dt::after {content: \":\\0020\"; padding-right: .5ex}\n",
       ".dl-inline>dt:not(:first-of-type) {padding-left: .5ex}\n",
       "</style><dl class=dl-inline><dt>mpg</dt><dd>19.2</dd><dt>cyl</dt><dd>6</dd><dt>disp</dt><dd>196.3</dd><dt>hp</dt><dd>123</dd><dt>drat</dt><dd>3.695</dd><dt>wt</dt><dd>3.325</dd><dt>qsec</dt><dd>17.71</dd><dt>vs</dt><dd>0</dd><dt>am</dt><dd>0</dd><dt>gear</dt><dd>4</dd><dt>carb</dt><dd>2</dd></dl>\n"
      ],
      "text/latex": [
       "\\begin{description*}\n",
       "\\item[mpg] 19.2\n",
       "\\item[cyl] 6\n",
       "\\item[disp] 196.3\n",
       "\\item[hp] 123\n",
       "\\item[drat] 3.695\n",
       "\\item[wt] 3.325\n",
       "\\item[qsec] 17.71\n",
       "\\item[vs] 0\n",
       "\\item[am] 0\n",
       "\\item[gear] 4\n",
       "\\item[carb] 2\n",
       "\\end{description*}\n"
      ],
      "text/markdown": [
       "mpg\n",
       ":   19.2cyl\n",
       ":   6disp\n",
       ":   196.3hp\n",
       ":   123drat\n",
       ":   3.695wt\n",
       ":   3.325qsec\n",
       ":   17.71vs\n",
       ":   0am\n",
       ":   0gear\n",
       ":   4carb\n",
       ":   2\n",
       "\n"
      ],
      "text/plain": [
       "    mpg     cyl    disp      hp    drat      wt    qsec      vs      am    gear \n",
       " 19.200   6.000 196.300 123.000   3.695   3.325  17.710   0.000   0.000   4.000 \n",
       "   carb \n",
       "  2.000 "
      ]
     },
     "metadata": {},
     "output_type": "display_data"
    }
   ],
   "source": [
    "map_dbl(mtcars_NA, median, na.rm = TRUE)"
   ]
  },
  {
   "cell_type": "markdown",
   "metadata": {},
   "source": [
    "That's all we will learn of the {purrr} functions for now - however we will meet them again (and learn more about them) next week when we start working with nested data frames."
   ]
  },
  {
   "cell_type": "markdown",
   "metadata": {},
   "source": [
    "### What did we learn today?\n",
    "\n",
    "- How to use `case_when` to selectively change values in a data frame (similar to base R `if` statements)\n",
    "\n",
    "- How to use `group_by` to iterate over groups of rows (similar to `for` loops in base R)\n",
    "\n",
    "- How to use {purrr} `map_*` functions to iterate over columns (similar to `apply` in base R)"
   ]
  },
  {
   "cell_type": "markdown",
   "metadata": {
    "slideshow": {
     "slide_type": "slide"
    }
   },
   "source": [
    "### Attributions\n",
    "- [Stat 545](https://stat545.com/) created by Jenny Bryan\n",
    "- [R for Data Science](https://r4ds.had.co.nz/index.html) by Garrett Grolemund & Hadley Wickham"
   ]
  },
  {
   "cell_type": "code",
   "execution_count": null,
   "metadata": {},
   "outputs": [],
   "source": []
  }
 ],
 "metadata": {
  "celltoolbar": "Slideshow",
  "kernelspec": {
   "display_name": "R",
   "language": "R",
   "name": "ir"
  },
  "language_info": {
   "codemirror_mode": "r",
   "file_extension": ".r",
   "mimetype": "text/x-r-source",
   "name": "R",
   "pygments_lexer": "r",
   "version": "4.3.1"
  }
 },
 "nbformat": 4,
 "nbformat_minor": 4
}
