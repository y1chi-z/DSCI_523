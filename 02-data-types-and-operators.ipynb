{
 "cells": [
  {
   "cell_type": "markdown",
   "metadata": {
    "slideshow": {
     "slide_type": "slide"
    }
   },
   "source": [
    "# Lecture 2 -  Key datatypes & operators in R"
   ]
  },
  {
   "cell_type": "markdown",
   "metadata": {
    "slideshow": {
     "slide_type": "slide"
    }
   },
   "source": [
    "### Lecture learning objectives:\n",
    "\n",
    "By the end of this lecture and worksheet 2, students should be able to:\n",
    "\n",
    "* Explain how the assignment symbol, `<-` differs from `=` in R\n",
    "*  Create in R, and define and differentiate in English, the below listed key datatypes in R:\n",
    "\t- logical, numeric, character and factor vectors\n",
    "\t- lists\n",
    "\t- data frames and tibbles\n",
    "* Use R to determine the type and structure of an object\n",
    "* Explain the distinction between names and values, and when R will copy an object.\n",
    "* Use the three subsetting operators, `[[`, `[`, and `$`, to subset single and multiple elements from vectors and data frames, lists and matrices\n",
    "* Compute numeric and boolean values using their respective types and operations"
   ]
  },
  {
   "cell_type": "markdown",
   "metadata": {
    "slideshow": {
     "slide_type": "slide"
    }
   },
   "source": [
    "### Getting help in R\n",
    "\n",
    "No one, even experienced, professional programmers remember what every function does, nor do they remember every possible function argument/option. So both experienced and new programmers ( like you! ) need to look things up, A LOT! \n",
    "\n",
    "One of the most efficient places to look for help on how a function works is the R help files. Let’s say we wanted to pull up the help file for the `max()` function. We can do this by typing a question mark in front of the function we want to know more about. "
   ]
  },
  {
   "cell_type": "code",
   "execution_count": 1,
   "metadata": {
    "slideshow": {
     "slide_type": "slide"
    }
   },
   "outputs": [
    {
     "data": {
      "text/html": [
       "\n",
       "<table style=\"width: 100%;\"><tr><td>Extremes {base}</td><td style=\"text-align: right;\">R Documentation</td></tr></table>\n",
       "\n",
       "<h2>Maxima and Minima</h2>\n",
       "\n",
       "<h3>Description</h3>\n",
       "\n",
       "<p>Returns the (regular or <b>p</b>arallel) maxima and minima of the\n",
       "input values.\n",
       "</p>\n",
       "<p><code>pmax*()</code> and <code>pmin*()</code> take one or more vectors as\n",
       "arguments, recycle them to common length and return a single vector\n",
       "giving the <em>&lsquo;parallel&rsquo;</em> maxima (or minima) of the argument\n",
       "vectors.\n",
       "</p>\n",
       "\n",
       "\n",
       "<h3>Usage</h3>\n",
       "\n",
       "<pre><code class='language-R'>max(..., na.rm = FALSE)\n",
       "min(..., na.rm = FALSE)\n",
       "\n",
       "pmax(..., na.rm = FALSE)\n",
       "pmin(..., na.rm = FALSE)\n",
       "\n",
       "pmax.int(..., na.rm = FALSE)\n",
       "pmin.int(..., na.rm = FALSE)\n",
       "</code></pre>\n",
       "\n",
       "\n",
       "<h3>Arguments</h3>\n",
       "\n",
       "<table>\n",
       "<tr style=\"vertical-align: top;\"><td><code>...</code></td>\n",
       "<td>\n",
       "<p>numeric or character arguments (see Note).</p>\n",
       "</td></tr>\n",
       "<tr style=\"vertical-align: top;\"><td><code>na.rm</code></td>\n",
       "<td>\n",
       "<p>a logical indicating whether missing values should be\n",
       "removed.</p>\n",
       "</td></tr>\n",
       "</table>\n",
       "\n",
       "\n",
       "<h3>Details</h3>\n",
       "\n",
       "<p><code>max</code> and <code>min</code> return the maximum or minimum of <em>all</em>\n",
       "the  values present in their arguments, as <code>integer</code> if\n",
       "all are <code>logical</code> or <code>integer</code>, as <code>double</code> if\n",
       "all are numeric, and character otherwise.\n",
       "</p>\n",
       "<p>If <code>na.rm</code> is <code>FALSE</code> an <code>NA</code> value in any of the\n",
       "arguments will cause a value of <code>NA</code> to be returned, otherwise\n",
       "<code>NA</code> values are ignored.\n",
       "</p>\n",
       "<p>The minimum and maximum of a numeric empty set are <code>+Inf</code> and\n",
       "<code>-Inf</code> (in this order!) which ensures <em>transitivity</em>, e.g.,\n",
       "<code>min(x1, min(x2)) == min(x1, x2)</code>.  For numeric <code>x</code>\n",
       "<code>max(x) == -Inf</code> and <code>min(x) == +Inf</code>\n",
       "whenever <code>length(x) == 0</code> (after removing missing values if\n",
       "requested).  However, <code>pmax</code> and <code>pmin</code> return\n",
       "<code>NA</code> if all the parallel elements are <code>NA</code> even for\n",
       "<code>na.rm = TRUE</code>.\n",
       "</p>\n",
       "<p><code>pmax</code> and <code>pmin</code> take one or more vectors (or matrices) as\n",
       "arguments and return a single vector giving the &lsquo;parallel&rsquo;\n",
       "maxima (or minima) of the vectors.  The first element of the result is\n",
       "the maximum (minimum) of the first elements of all the arguments, the\n",
       "second element of the result is the maximum (minimum) of the second\n",
       "elements of all the arguments and so on.  Shorter inputs (of non-zero\n",
       "length) are recycled if necessary.  Attributes (see\n",
       "<code>attributes</code>: such as <code>names</code> or\n",
       "<code>dim</code>) are copied from the first argument (if applicable,\n",
       "e.g., <em>not</em> for an <code>S4</code> object).\n",
       "</p>\n",
       "<p><code>pmax.int</code> and <code>pmin.int</code> are faster internal versions only\n",
       "used when all arguments are atomic vectors and there are no classes:\n",
       "they drop all attributes.  (Note that all versions fail for raw and\n",
       "complex vectors since these have no ordering.)\n",
       "</p>\n",
       "<p><code>max</code> and <code>min</code> are generic functions: methods can be\n",
       "defined for them individually or via the\n",
       "<code>Summary</code> group generic.  For this to\n",
       "work properly, the arguments <code>...</code> should be unnamed, and\n",
       "dispatch is on the first argument.\n",
       "</p>\n",
       "<p>By definition the min/max of a numeric vector containing an <code>NaN</code>\n",
       "is <code>NaN</code>, except that the min/max of any vector containing an\n",
       "<code>NA</code> is <code>NA</code> even if it also contains an <code>NaN</code>.\n",
       "Note that <code>max(NA, Inf) == NA</code> even though the maximum would be\n",
       "<code>Inf</code> whatever the missing value actually is.\n",
       "</p>\n",
       "<p>Character versions are sorted lexicographically, and this depends on\n",
       "the collating sequence of the locale in use: the help for\n",
       "&lsquo;Comparison&rsquo; gives details.  The max/min of an empty\n",
       "character vector is defined to be character <code>NA</code>.  (One could\n",
       "argue that as <code>\"\"</code> is the smallest character element, the maximum\n",
       "should be <code>\"\"</code>, but there is no obvious candidate for the\n",
       "minimum.)\n",
       "</p>\n",
       "\n",
       "\n",
       "<h3>Value</h3>\n",
       "\n",
       "<p>For <code>min</code> or <code>max</code>, a length-one vector.  For <code>pmin</code> or\n",
       "<code>pmax</code>, a vector of length the longest of the input vectors, or\n",
       "length zero if one of the inputs had zero length.\n",
       "</p>\n",
       "<p>The type of the result will be that of the highest of the inputs in\n",
       "the hierarchy integer &lt; double &lt; character.\n",
       "</p>\n",
       "<p>For <code>min</code> and <code>max</code> if there are only numeric inputs and all\n",
       "are empty (after possible removal of <code>NA</code>s), the result is double\n",
       "(<code>Inf</code> or <code>-Inf</code>).\n",
       "</p>\n",
       "\n",
       "\n",
       "<h3>S4 methods</h3>\n",
       "\n",
       "<p><code>max</code> and <code>min</code> are part of the S4\n",
       "<code>Summary</code> group generic.  Methods\n",
       "for them must use the signature <code>x, ..., na.rm</code>.\n",
       "</p>\n",
       "\n",
       "\n",
       "<h3>Note</h3>\n",
       "\n",
       "<p>&lsquo;Numeric&rsquo; arguments are vectors of type integer and numeric,\n",
       "and logical (coerced to integer).  For historical reasons, <code>NULL</code>\n",
       "is accepted as equivalent to <code>integer(0)</code>.\n",
       "</p>\n",
       "<p><code>pmax</code> and <code>pmin</code> will also work on classed S3 or S4 objects\n",
       "with appropriate methods for comparison, <code>is.na</code> and <code>rep</code>\n",
       "(if recycling of arguments is needed).\n",
       "</p>\n",
       "\n",
       "\n",
       "<h3>References</h3>\n",
       "\n",
       "<p>Becker, R. A., Chambers, J. M. and Wilks, A. R. (1988)\n",
       "<em>The New S Language</em>.\n",
       "Wadsworth &amp; Brooks/Cole.\n",
       "</p>\n",
       "\n",
       "\n",
       "<h3>See Also</h3>\n",
       "\n",
       "<p><code>range</code> (<em>both</em> min and max) and\n",
       "<code>which.min</code> (<code>which.max</code>) for the <em>arg min</em>,\n",
       "i.e., the location where an extreme value occurs.\n",
       "</p>\n",
       "<p>&lsquo;plotmath&rsquo; for the use of <code>min</code> in plot annotation.\n",
       "</p>\n",
       "\n",
       "\n",
       "<h3>Examples</h3>\n",
       "\n",
       "<pre><code class='language-R'>require(stats); require(graphics)\n",
       " min(5:1, pi) #-&gt; one number\n",
       "pmin(5:1, pi) #-&gt;  5  numbers\n",
       "\n",
       "x &lt;- sort(rnorm(100));  cH &lt;- 1.35\n",
       "pmin(cH, quantile(x)) # no names\n",
       "pmin(quantile(x), cH) # has names\n",
       "plot(x, pmin(cH, pmax(-cH, x)), type = \"b\", main =  \"Huber's function\")\n",
       "\n",
       "cut01 &lt;- function(x) pmax(pmin(x, 1), 0)\n",
       "curve(      x^2 - 1/4, -1.4, 1.5, col = 2)\n",
       "curve(cut01(x^2 - 1/4), col = \"blue\", add = TRUE, n = 500)\n",
       "## pmax(), pmin() preserve attributes of *first* argument\n",
       "D &lt;- diag(x = (3:1)/4) ; n0 &lt;- numeric()\n",
       "stopifnot(identical(D,  cut01(D) ),\n",
       "          identical(n0, cut01(n0)),\n",
       "          identical(n0, cut01(NULL)),\n",
       "          identical(n0, pmax(3:1, n0, 2)),\n",
       "          identical(n0, pmax(n0, 4)))\n",
       "</code></pre>\n",
       "\n",
       "<hr /><div style=\"text-align: center;\">[Package <em>base</em> version 4.2.1 ]</div>\n",
       "</div>"
      ],
      "text/latex": [
       "\\inputencoding{utf8}\n",
       "\\HeaderA{Extremes}{Maxima and Minima}{Extremes}\n",
       "\\aliasA{max}{Extremes}{max}\n",
       "\\aliasA{min}{Extremes}{min}\n",
       "\\aliasA{pmax}{Extremes}{pmax}\n",
       "\\methaliasA{pmax.int}{Extremes}{pmax.int}\n",
       "\\aliasA{pmin}{Extremes}{pmin}\n",
       "\\methaliasA{pmin.int}{Extremes}{pmin.int}\n",
       "\\keyword{univar}{Extremes}\n",
       "\\keyword{arith}{Extremes}\n",
       "%\n",
       "\\begin{Description}\\relax\n",
       "Returns the (regular or \\bold{p}arallel) maxima and minima of the\n",
       "input values.\n",
       "\n",
       "\\code{pmax*()} and \\code{pmin*()} take one or more vectors as\n",
       "arguments, recycle them to common length and return a single vector\n",
       "giving the \\emph{`parallel'} maxima (or minima) of the argument\n",
       "vectors.\n",
       "\\end{Description}\n",
       "%\n",
       "\\begin{Usage}\n",
       "\\begin{verbatim}\n",
       "max(..., na.rm = FALSE)\n",
       "min(..., na.rm = FALSE)\n",
       "\n",
       "pmax(..., na.rm = FALSE)\n",
       "pmin(..., na.rm = FALSE)\n",
       "\n",
       "pmax.int(..., na.rm = FALSE)\n",
       "pmin.int(..., na.rm = FALSE)\n",
       "\\end{verbatim}\n",
       "\\end{Usage}\n",
       "%\n",
       "\\begin{Arguments}\n",
       "\\begin{ldescription}\n",
       "\\item[\\code{...}] numeric or character arguments (see Note).\n",
       "\\item[\\code{na.rm}] a logical indicating whether missing values should be\n",
       "removed.\n",
       "\\end{ldescription}\n",
       "\\end{Arguments}\n",
       "%\n",
       "\\begin{Details}\\relax\n",
       "\\code{max} and \\code{min} return the maximum or minimum of \\emph{all}\n",
       "the  values present in their arguments, as \\code{\\LinkA{integer}{integer}} if\n",
       "all are \\code{logical} or \\code{integer}, as \\code{\\LinkA{double}{double}} if\n",
       "all are numeric, and character otherwise.\n",
       "\n",
       "If \\code{na.rm} is \\code{FALSE} an \\code{NA} value in any of the\n",
       "arguments will cause a value of \\code{NA} to be returned, otherwise\n",
       "\\code{NA} values are ignored.\n",
       "\n",
       "The minimum and maximum of a numeric empty set are \\code{+Inf} and\n",
       "\\code{-Inf} (in this order!) which ensures \\emph{transitivity}, e.g.,\n",
       "\\code{min(x1, min(x2)) == min(x1, x2)}.  For numeric \\code{x}\n",
       "\\code{max(x) == -Inf} and \\code{min(x) == +Inf}\n",
       "whenever \\code{length(x) == 0} (after removing missing values if\n",
       "requested).  However, \\code{pmax} and \\code{pmin} return\n",
       "\\code{NA} if all the parallel elements are \\code{NA} even for\n",
       "\\code{na.rm = TRUE}.\n",
       "\n",
       "\\code{pmax} and \\code{pmin} take one or more vectors (or matrices) as\n",
       "arguments and return a single vector giving the `parallel'\n",
       "maxima (or minima) of the vectors.  The first element of the result is\n",
       "the maximum (minimum) of the first elements of all the arguments, the\n",
       "second element of the result is the maximum (minimum) of the second\n",
       "elements of all the arguments and so on.  Shorter inputs (of non-zero\n",
       "length) are recycled if necessary.  Attributes (see\n",
       "\\code{\\LinkA{attributes}{attributes}}: such as \\code{\\LinkA{names}{names}} or\n",
       "\\code{\\LinkA{dim}{dim}}) are copied from the first argument (if applicable,\n",
       "e.g., \\emph{not} for an \\code{S4} object).\n",
       "\n",
       "\\code{pmax.int} and \\code{pmin.int} are faster internal versions only\n",
       "used when all arguments are atomic vectors and there are no classes:\n",
       "they drop all attributes.  (Note that all versions fail for raw and\n",
       "complex vectors since these have no ordering.)\n",
       "\n",
       "\\code{max} and \\code{min} are generic functions: methods can be\n",
       "defined for them individually or via the\n",
       "\\code{\\LinkA{Summary}{S3groupGeneric}} group generic.  For this to\n",
       "work properly, the arguments \\code{...} should be unnamed, and\n",
       "dispatch is on the first argument.\n",
       "\n",
       "By definition the min/max of a numeric vector containing an \\code{NaN}\n",
       "is \\code{NaN}, except that the min/max of any vector containing an\n",
       "\\code{NA} is \\code{NA} even if it also contains an \\code{NaN}.\n",
       "Note that \\code{max(NA, Inf) == NA} even though the maximum would be\n",
       "\\code{Inf} whatever the missing value actually is.\n",
       "\n",
       "Character versions are sorted lexicographically, and this depends on\n",
       "the collating sequence of the locale in use: the help for\n",
       "`\\LinkA{Comparison}{Comparison}' gives details.  The max/min of an empty\n",
       "character vector is defined to be character \\code{NA}.  (One could\n",
       "argue that as \\code{\"\"} is the smallest character element, the maximum\n",
       "should be \\code{\"\"}, but there is no obvious candidate for the\n",
       "minimum.)\n",
       "\\end{Details}\n",
       "%\n",
       "\\begin{Value}\n",
       "For \\code{min} or \\code{max}, a length-one vector.  For \\code{pmin} or\n",
       "\\code{pmax}, a vector of length the longest of the input vectors, or\n",
       "length zero if one of the inputs had zero length.\n",
       "\n",
       "The type of the result will be that of the highest of the inputs in\n",
       "the hierarchy integer < double < character.\n",
       "\n",
       "For \\code{min} and \\code{max} if there are only numeric inputs and all\n",
       "are empty (after possible removal of \\code{NA}s), the result is double\n",
       "(\\code{Inf} or \\code{-Inf}).\n",
       "\\end{Value}\n",
       "%\n",
       "\\begin{Section}{S4 methods}\n",
       "\\code{max} and \\code{min} are part of the S4\n",
       "\\code{\\LinkA{Summary}{S4groupGeneric}} group generic.  Methods\n",
       "for them must use the signature \\code{x, ..., na.rm}.\n",
       "\\end{Section}\n",
       "%\n",
       "\\begin{Note}\\relax\n",
       "`Numeric' arguments are vectors of type integer and numeric,\n",
       "and logical (coerced to integer).  For historical reasons, \\code{NULL}\n",
       "is accepted as equivalent to \\code{integer(0)}.\n",
       "\n",
       "\\code{pmax} and \\code{pmin} will also work on classed S3 or S4 objects\n",
       "with appropriate methods for comparison, \\code{is.na} and \\code{rep}\n",
       "(if recycling of arguments is needed).\n",
       "\\end{Note}\n",
       "%\n",
       "\\begin{References}\\relax\n",
       "Becker, R. A., Chambers, J. M. and Wilks, A. R. (1988)\n",
       "\\emph{The New S Language}.\n",
       "Wadsworth \\& Brooks/Cole.\n",
       "\\end{References}\n",
       "%\n",
       "\\begin{SeeAlso}\\relax\n",
       "\\code{\\LinkA{range}{range}} (\\emph{both} min and max) and\n",
       "\\code{\\LinkA{which.min}{which.min}} (\\code{which.max}) for the \\emph{arg min},\n",
       "i.e., the location where an extreme value occurs.\n",
       "\n",
       "`\\LinkA{plotmath}{plotmath}' for the use of \\code{min} in plot annotation.\n",
       "\\end{SeeAlso}\n",
       "%\n",
       "\\begin{Examples}\n",
       "\\begin{ExampleCode}\n",
       "require(stats); require(graphics)\n",
       " min(5:1, pi) #-> one number\n",
       "pmin(5:1, pi) #->  5  numbers\n",
       "\n",
       "x <- sort(rnorm(100));  cH <- 1.35\n",
       "pmin(cH, quantile(x)) # no names\n",
       "pmin(quantile(x), cH) # has names\n",
       "plot(x, pmin(cH, pmax(-cH, x)), type = \"b\", main =  \"Huber's function\")\n",
       "\n",
       "cut01 <- function(x) pmax(pmin(x, 1), 0)\n",
       "curve(      x^2 - 1/4, -1.4, 1.5, col = 2)\n",
       "curve(cut01(x^2 - 1/4), col = \"blue\", add = TRUE, n = 500)\n",
       "## pmax(), pmin() preserve attributes of *first* argument\n",
       "D <- diag(x = (3:1)/4) ; n0 <- numeric()\n",
       "stopifnot(identical(D,  cut01(D) ),\n",
       "          identical(n0, cut01(n0)),\n",
       "          identical(n0, cut01(NULL)),\n",
       "          identical(n0, pmax(3:1, n0, 2)),\n",
       "          identical(n0, pmax(n0, 4)))\n",
       "\\end{ExampleCode}\n",
       "\\end{Examples}"
      ],
      "text/plain": [
       "Extremes                 package:base                  R Documentation\n",
       "\n",
       "_\bM_\ba_\bx_\bi_\bm_\ba _\ba_\bn_\bd _\bM_\bi_\bn_\bi_\bm_\ba\n",
       "\n",
       "_\bD_\be_\bs_\bc_\br_\bi_\bp_\bt_\bi_\bo_\bn:\n",
       "\n",
       "     Returns the (regular or *p*arallel) maxima and minima of the input\n",
       "     values.\n",
       "\n",
       "     ‘pmax*()’ and ‘pmin*()’ take one or more vectors as arguments,\n",
       "     recycle them to common length and return a single vector giving\n",
       "     the _‘parallel’_ maxima (or minima) of the argument vectors.\n",
       "\n",
       "_\bU_\bs_\ba_\bg_\be:\n",
       "\n",
       "     max(..., na.rm = FALSE)\n",
       "     min(..., na.rm = FALSE)\n",
       "     \n",
       "     pmax(..., na.rm = FALSE)\n",
       "     pmin(..., na.rm = FALSE)\n",
       "     \n",
       "     pmax.int(..., na.rm = FALSE)\n",
       "     pmin.int(..., na.rm = FALSE)\n",
       "     \n",
       "_\bA_\br_\bg_\bu_\bm_\be_\bn_\bt_\bs:\n",
       "\n",
       "     ...: numeric or character arguments (see Note).\n",
       "\n",
       "   na.rm: a logical indicating whether missing values should be\n",
       "          removed.\n",
       "\n",
       "_\bD_\be_\bt_\ba_\bi_\bl_\bs:\n",
       "\n",
       "     ‘max’ and ‘min’ return the maximum or minimum of _all_ the values\n",
       "     present in their arguments, as ‘integer’ if all are ‘logical’ or\n",
       "     ‘integer’, as ‘double’ if all are numeric, and character\n",
       "     otherwise.\n",
       "\n",
       "     If ‘na.rm’ is ‘FALSE’ an ‘NA’ value in any of the arguments will\n",
       "     cause a value of ‘NA’ to be returned, otherwise ‘NA’ values are\n",
       "     ignored.\n",
       "\n",
       "     The minimum and maximum of a numeric empty set are ‘+Inf’ and\n",
       "     ‘-Inf’ (in this order!) which ensures _transitivity_, e.g.,\n",
       "     ‘min(x1, min(x2)) == min(x1, x2)’.  For numeric ‘x’ ‘max(x) ==\n",
       "     -Inf’ and ‘min(x) == +Inf’ whenever ‘length(x) == 0’ (after\n",
       "     removing missing values if requested).  However, ‘pmax’ and ‘pmin’\n",
       "     return ‘NA’ if all the parallel elements are ‘NA’ even for ‘na.rm\n",
       "     = TRUE’.\n",
       "\n",
       "     ‘pmax’ and ‘pmin’ take one or more vectors (or matrices) as\n",
       "     arguments and return a single vector giving the ‘parallel’ maxima\n",
       "     (or minima) of the vectors.  The first element of the result is\n",
       "     the maximum (minimum) of the first elements of all the arguments,\n",
       "     the second element of the result is the maximum (minimum) of the\n",
       "     second elements of all the arguments and so on.  Shorter inputs\n",
       "     (of non-zero length) are recycled if necessary.  Attributes (see\n",
       "     ‘attributes’: such as ‘names’ or ‘dim’) are copied from the first\n",
       "     argument (if applicable, e.g., _not_ for an ‘S4’ object).\n",
       "\n",
       "     ‘pmax.int’ and ‘pmin.int’ are faster internal versions only used\n",
       "     when all arguments are atomic vectors and there are no classes:\n",
       "     they drop all attributes.  (Note that all versions fail for raw\n",
       "     and complex vectors since these have no ordering.)\n",
       "\n",
       "     ‘max’ and ‘min’ are generic functions: methods can be defined for\n",
       "     them individually or via the ‘Summary’ group generic.  For this to\n",
       "     work properly, the arguments ‘...’ should be unnamed, and dispatch\n",
       "     is on the first argument.\n",
       "\n",
       "     By definition the min/max of a numeric vector containing an ‘NaN’\n",
       "     is ‘NaN’, except that the min/max of any vector containing an ‘NA’\n",
       "     is ‘NA’ even if it also contains an ‘NaN’.  Note that ‘max(NA,\n",
       "     Inf) == NA’ even though the maximum would be ‘Inf’ whatever the\n",
       "     missing value actually is.\n",
       "\n",
       "     Character versions are sorted lexicographically, and this depends\n",
       "     on the collating sequence of the locale in use: the help for\n",
       "     ‘Comparison’ gives details.  The max/min of an empty character\n",
       "     vector is defined to be character ‘NA’.  (One could argue that as\n",
       "     ‘\"\"’ is the smallest character element, the maximum should be\n",
       "     ‘\"\"’, but there is no obvious candidate for the minimum.)\n",
       "\n",
       "_\bV_\ba_\bl_\bu_\be:\n",
       "\n",
       "     For ‘min’ or ‘max’, a length-one vector.  For ‘pmin’ or ‘pmax’, a\n",
       "     vector of length the longest of the input vectors, or length zero\n",
       "     if one of the inputs had zero length.\n",
       "\n",
       "     The type of the result will be that of the highest of the inputs\n",
       "     in the hierarchy integer < double < character.\n",
       "\n",
       "     For ‘min’ and ‘max’ if there are only numeric inputs and all are\n",
       "     empty (after possible removal of ‘NA’s), the result is double\n",
       "     (‘Inf’ or ‘-Inf’).\n",
       "\n",
       "_\bS_\b4 _\bm_\be_\bt_\bh_\bo_\bd_\bs:\n",
       "\n",
       "     ‘max’ and ‘min’ are part of the S4 ‘Summary’ group generic.\n",
       "     Methods for them must use the signature ‘x, ..., na.rm’.\n",
       "\n",
       "_\bN_\bo_\bt_\be:\n",
       "\n",
       "     ‘Numeric’ arguments are vectors of type integer and numeric, and\n",
       "     logical (coerced to integer).  For historical reasons, ‘NULL’ is\n",
       "     accepted as equivalent to ‘integer(0)’.\n",
       "\n",
       "     ‘pmax’ and ‘pmin’ will also work on classed S3 or S4 objects with\n",
       "     appropriate methods for comparison, ‘is.na’ and ‘rep’ (if\n",
       "     recycling of arguments is needed).\n",
       "\n",
       "_\bR_\be_\bf_\be_\br_\be_\bn_\bc_\be_\bs:\n",
       "\n",
       "     Becker, R. A., Chambers, J. M. and Wilks, A. R. (1988) _The New S\n",
       "     Language_.  Wadsworth & Brooks/Cole.\n",
       "\n",
       "_\bS_\be_\be _\bA_\bl_\bs_\bo:\n",
       "\n",
       "     ‘range’ (_both_ min and max) and ‘which.min’ (‘which.max’) for the\n",
       "     _arg min_, i.e., the location where an extreme value occurs.\n",
       "\n",
       "     ‘plotmath’ for the use of ‘min’ in plot annotation.\n",
       "\n",
       "_\bE_\bx_\ba_\bm_\bp_\bl_\be_\bs:\n",
       "\n",
       "     require(stats); require(graphics)\n",
       "      min(5:1, pi) #-> one number\n",
       "     pmin(5:1, pi) #->  5  numbers\n",
       "     \n",
       "     x <- sort(rnorm(100));  cH <- 1.35\n",
       "     pmin(cH, quantile(x)) # no names\n",
       "     pmin(quantile(x), cH) # has names\n",
       "     plot(x, pmin(cH, pmax(-cH, x)), type = \"b\", main =  \"Huber's function\")\n",
       "     \n",
       "     cut01 <- function(x) pmax(pmin(x, 1), 0)\n",
       "     curve(      x^2 - 1/4, -1.4, 1.5, col = 2)\n",
       "     curve(cut01(x^2 - 1/4), col = \"blue\", add = TRUE, n = 500)\n",
       "     ## pmax(), pmin() preserve attributes of *first* argument\n",
       "     D <- diag(x = (3:1)/4) ; n0 <- numeric()\n",
       "     stopifnot(identical(D,  cut01(D) ),\n",
       "               identical(n0, cut01(n0)),\n",
       "               identical(n0, cut01(NULL)),\n",
       "               identical(n0, pmax(3:1, n0, 2)),\n",
       "               identical(n0, pmax(n0, 4)))\n",
       "     "
      ]
     },
     "metadata": {},
     "output_type": "display_data"
    }
   ],
   "source": [
    "?max"
   ]
  },
  {
   "cell_type": "markdown",
   "metadata": {
    "slideshow": {
     "slide_type": "notes"
    }
   },
   "source": [
    "At the very top of the file, you will see the function itself and the package it is in (in this case, it is base). Next is a description of what the function does. You’ll find that the most helpful sections on this page are “Usage”, “Arguments” and \"Examples\". \n",
    "\n",
    "- **Usage** gives you an idea of how you would use the function when coding--what the syntax would be and how the function itself is structured. \n",
    "- **Arguments** tells you the different parts that can be added to the function to make it more simple or more complicated. Often the “Usage” and “Arguments” sections don’t provide you with step by step instructions, because there are so many different ways that a person can incorporate a function into their code. Instead, they provide users with a general understanding as to what the function could do and parts that could be added. At the end of the day, the user must interpret the help file and figure out how best to use the functions and which parts are most important to include for their particular task. \n",
    "- The **Examples** section is often the most useful part of the help file as it shows how a function could be used with real data. It provides a skeleton code that the users can work off of."
   ]
  },
  {
   "cell_type": "markdown",
   "metadata": {
    "slideshow": {
     "slide_type": "notes"
    }
   },
   "source": [
    "Below is a useful graphical summary of the help docs that might be useful to start getting you oriented to them:\n",
    "\n",
    "<img src=\"https://socviz.co/assets/ch-09-read-a-help-page.png\">\n",
    "\n",
    "*Source: https://socviz.co/appendix.html#a-little-more-about-r*"
   ]
  },
  {
   "cell_type": "markdown",
   "metadata": {
    "slideshow": {
     "slide_type": "slide"
    }
   },
   "source": [
    "### The assignment symbol, `<-`\n",
    "\n",
    "- R came from S, S used `<-`\n",
    "- S was inspired from APL, which also used `<-`\n",
    "- APL was designed on a specific keyboard, which had a key for `<-`\n",
    "- At that time there was no `==` for testing equality, it was tested with `=`, so something else need to be used for assignment.\n",
    "\n",
    "<img src=\"https://upload.wikimedia.org/wikipedia/commons/thumb/9/9f/APL-keybd2.svg/410px-APL-keybd2.svg.png\">\n",
    "\n",
    "source: https://colinfay.me/r-assignment/"
   ]
  },
  {
   "cell_type": "markdown",
   "metadata": {
    "slideshow": {
     "slide_type": "slide"
    }
   },
   "source": [
    "- Nowadays, `=` can also be used for assignment, however there are some things to be aware of..."
   ]
  },
  {
   "cell_type": "markdown",
   "metadata": {
    "slideshow": {
     "slide_type": "fragment"
    }
   },
   "source": [
    "- stylistically, `<-` is preferred over `=` for readability"
   ]
  },
  {
   "cell_type": "markdown",
   "metadata": {
    "slideshow": {
     "slide_type": "fragment"
    }
   },
   "source": [
    "- `<-` and `->` are valid in R, the latter can be useful in pipelines (more on this in data wrangling)"
   ]
  },
  {
   "cell_type": "markdown",
   "metadata": {
    "slideshow": {
     "slide_type": "fragment"
    }
   },
   "source": [
    "- `<-` and `=` have different emphasis in regards to environments"
   ]
  },
  {
   "cell_type": "markdown",
   "metadata": {
    "slideshow": {
     "slide_type": "fragment"
    }
   },
   "source": [
    "- **we expect you to use `<-` in MDS for object assignment in R** "
   ]
  },
  {
   "cell_type": "markdown",
   "metadata": {
    "slideshow": {
     "slide_type": "slide"
    }
   },
   "source": [
    "#### Assignment readability\n",
    "\n",
    "Consider this code:\n",
    "\n",
    "```\n",
    "c <- 12\n",
    "d <- 13\n",
    "```"
   ]
  },
  {
   "cell_type": "markdown",
   "metadata": {
    "slideshow": {
     "slide_type": "fragment"
    }
   },
   "source": [
    "Which equality is easier to read? \n",
    "\n",
    "```\n",
    "e = c == d\n",
    "```\n",
    "\n",
    "or\n",
    "\n",
    "```\n",
    "e <- c == d\n",
    "```"
   ]
  },
  {
   "cell_type": "markdown",
   "metadata": {
    "slideshow": {
     "slide_type": "slide"
    }
   },
   "source": [
    "#### Assignment environment\n",
    "\n",
    "What value does x hold at the end of each of these code chunks?"
   ]
  },
  {
   "cell_type": "markdown",
   "metadata": {
    "slideshow": {
     "slide_type": "fragment"
    }
   },
   "source": [
    "\n",
    "\n",
    "```median(x = 1:10)```\n",
    "\n",
    "vs\n",
    "\n",
    "```median(x <- 1:10)```"
   ]
  },
  {
   "cell_type": "markdown",
   "metadata": {
    "slideshow": {
     "slide_type": "slide"
    }
   },
   "source": [
    "Here, in the first example where `=` is used to set `x`, `x` only exists in the `median` function call, so we are returned the result from that function call, however, when we call `x` later, it does not exist and so R returns an error."
   ]
  },
  {
   "cell_type": "markdown",
   "metadata": {
    "slideshow": {
     "slide_type": "fragment"
    }
   },
   "source": [
    "```\n",
    "median(x = 1:10)\n",
    "x\n",
    "```\n",
    "\n",
    "```\n",
    "5.5\n",
    "Error in eval(expr, envir, enclos): object 'x' not found\n",
    "Traceback:\n",
    "```"
   ]
  },
  {
   "cell_type": "markdown",
   "metadata": {
    "slideshow": {
     "slide_type": "slide"
    }
   },
   "source": [
    "Here, in the second example where `<-` is used to set `x`, `x` exists in the median function call, **and** in the global environment (outside the `median` function call). So when we call `x` later, it **does** exist and so R returns the value that the name `x` is bound to."
   ]
  },
  {
   "cell_type": "markdown",
   "metadata": {
    "slideshow": {
     "slide_type": "fragment"
    }
   },
   "source": [
    "```\n",
    "median(x <- 1:10)\n",
    "x\n",
    "```\n",
    "\n",
    "\n",
    "```\n",
    "5.5\n",
    "1 2 3 4 5 6 7 8 9 10\n",
    "```"
   ]
  },
  {
   "cell_type": "markdown",
   "metadata": {
    "slideshow": {
     "slide_type": "slide"
    }
   },
   "source": [
    "#### What does assignment do in R?\n",
    "\n",
    "When you type this into R: `x <- c(1, 2, 3)`\n",
    "\n",
    "This is what R does: \n",
    "\n",
    "<img src=\"https://d33wubrfki0l68.cloudfront.net/bd90c87ac98708b1731c92900f2f53ec6a71edaf/ce375/diagrams/name-value/binding-1.png\" width=300 algin=\"left\">\n",
    "\n",
    "*Source: [Advanced R](https://adv-r.hadley.nz/) by Hadley Wickham*"
   ]
  },
  {
   "cell_type": "markdown",
   "metadata": {
    "slideshow": {
     "slide_type": "fragment"
    }
   },
   "source": [
    "What does this mean? It means that even if you don't bind a name to an object in R using ` <- `, it still exists somewhere in memory during the R session it was created in. This is typically not a problem unless your data sets are very large."
   ]
  },
  {
   "cell_type": "markdown",
   "metadata": {
    "slideshow": {
     "slide_type": "slide"
    }
   },
   "source": [
    "### A note on names\n",
    "\n",
    "#### Rules for syntactic names:\n",
    "- May use: letters, digits, `.` and `_`\n",
    "- Cannot begin with `_` or a digit\n",
    "- Cannot use reserved words (e.g., `for`, `if`, `return`)\n",
    "\n",
    "#### How to manage non-syntactic names\n",
    "- Usually come across these when reading in someone else's data\n",
    "- Backticks, \\`, can be used manage these cases (e.g., ``` `_abc` <- 1 ```)\n",
    "- If your data contains these, use R to rename things to make them syntactic (for your future sanity)"
   ]
  },
  {
   "cell_type": "markdown",
   "metadata": {
    "slideshow": {
     "slide_type": "slide"
    }
   },
   "source": [
    "### Key datatypes in R\n",
    "\n",
    "<img src=\"img/r-datatypes.png\" width=1000>\n",
    "\n",
    "*note - There are no scalars in R, they are represented by vectors of length 1.*\n",
    "\n",
    "*Source: [Advanced R](https://adv-r.hadley.nz/) by Hadley Wickham*"
   ]
  },
  {
   "cell_type": "markdown",
   "metadata": {
    "slideshow": {
     "slide_type": "notes"
    }
   },
   "source": [
    "- `NULL` is not a vector, but related and frequently functions in the role of a generic zero length vector."
   ]
  },
  {
   "cell_type": "markdown",
   "metadata": {
    "slideshow": {
     "slide_type": "slide"
    }
   },
   "source": [
    "#### What is a data frame?\n",
    "\n",
    "From a data perspective, it is a rectangle where the rows are the observations and the columns are variables:\n",
    "\n",
    "<img src=\"https://github.com/UBC-DSCI/introduction-to-datascience/blob/main/img/wrangling/data_frame_slides_cdn.004.jpeg?raw=true\" width=800>"
   ]
  },
  {
   "cell_type": "markdown",
   "metadata": {
    "slideshow": {
     "slide_type": "slide"
    }
   },
   "source": [
    "#### What is a data frame? \n",
    "\n",
    "From a computer programming perspective, in R, a data frame is a special subtype of a list object whose elements (columns) are vectors.\n",
    "\n",
    "<img src=\"https://github.com/UBC-DSCI/introduction-to-datascience/blob/main/img/wrangling/data_frame_slides_cdn.005.jpeg?raw=true\" width=800>"
   ]
  },
  {
   "cell_type": "markdown",
   "metadata": {
    "slideshow": {
     "slide_type": "fragment"
    }
   },
   "source": [
    "**Question:** What do you notice about the elements of each of the vectors in this data frame?"
   ]
  },
  {
   "cell_type": "markdown",
   "metadata": {
    "slideshow": {
     "slide_type": "slide"
    }
   },
   "source": [
    "#### What is a vector?\n",
    "\n",
    "- objects that can contain 1 or more elements\n",
    "- elements are ordered\n",
    "- must all be of the same type (e.g., double, integer, character, logical)\n",
    "\n",
    "<img src=\"https://github.com/UBC-DSCI/introduction-to-datascience/blob/main/img/wrangling/data_frame_slides_cdn.007.jpeg?raw=true\" width=800>"
   ]
  },
  {
   "cell_type": "markdown",
   "metadata": {
    "slideshow": {
     "slide_type": "slide"
    }
   },
   "source": [
    "#### How are vectors different from a list?\n",
    "<img src=\"https://github.com/UBC-DSCI/introduction-to-datascience/blob/main/img/wrangling/data_frame_slides_cdn.008.jpeg?raw=true\" width=800>"
   ]
  },
  {
   "cell_type": "markdown",
   "metadata": {
    "slideshow": {
     "slide_type": "slide"
    }
   },
   "source": [
    "#### Reminder: what do lists have to do with data frames?\n",
    "\n",
    "<img src=\"https://github.com/UBC-DSCI/introduction-to-datascience/blob/main/img/wrangling/data_frame_slides_cdn.009.jpeg?raw=true\" width=800>"
   ]
  },
  {
   "cell_type": "markdown",
   "metadata": {
    "slideshow": {
     "slide_type": "slide"
    }
   },
   "source": [
    "### A bit more about Vectors\n",
    "\n",
    "Your closest and most important friend in R\n",
    "\n",
    "<img src=\"https://media.giphy.com/media/EQCgmS4lwDS8g/giphy.gif\" width=800>"
   ]
  },
  {
   "cell_type": "markdown",
   "metadata": {
    "slideshow": {
     "slide_type": "slide"
    }
   },
   "source": [
    "#### Creating vectors and vector types"
   ]
  },
  {
   "cell_type": "code",
   "execution_count": 2,
   "metadata": {
    "slideshow": {
     "slide_type": "fragment"
    }
   },
   "outputs": [
    {
     "data": {
      "text/html": [
       "<style>\n",
       ".list-inline {list-style: none; margin:0; padding: 0}\n",
       ".list-inline>li {display: inline-block}\n",
       ".list-inline>li:not(:last-child)::after {content: \"\\00b7\"; padding: 0 .5ex}\n",
       "</style>\n",
       "<ol class=list-inline><li>'joy'</li><li>'peace'</li><li>'help'</li><li>'fun'</li><li>'sharing'</li></ol>\n"
      ],
      "text/latex": [
       "\\begin{enumerate*}\n",
       "\\item 'joy'\n",
       "\\item 'peace'\n",
       "\\item 'help'\n",
       "\\item 'fun'\n",
       "\\item 'sharing'\n",
       "\\end{enumerate*}\n"
      ],
      "text/markdown": [
       "1. 'joy'\n",
       "2. 'peace'\n",
       "3. 'help'\n",
       "4. 'fun'\n",
       "5. 'sharing'\n",
       "\n",
       "\n"
      ],
      "text/plain": [
       "[1] \"joy\"     \"peace\"   \"help\"    \"fun\"     \"sharing\""
      ]
     },
     "metadata": {},
     "output_type": "display_data"
    },
    {
     "data": {
      "text/html": [
       "'character'"
      ],
      "text/latex": [
       "'character'"
      ],
      "text/markdown": [
       "'character'"
      ],
      "text/plain": [
       "[1] \"character\""
      ]
     },
     "metadata": {},
     "output_type": "display_data"
    }
   ],
   "source": [
    "char_vec <- c(\"joy\", \"peace\", \"help\", \"fun\", \"sharing\")\n",
    "char_vec\n",
    "typeof(char_vec)"
   ]
  },
  {
   "cell_type": "code",
   "execution_count": 3,
   "metadata": {
    "slideshow": {
     "slide_type": "slide"
    }
   },
   "outputs": [
    {
     "data": {
      "text/html": [
       "<style>\n",
       ".list-inline {list-style: none; margin:0; padding: 0}\n",
       ".list-inline>li {display: inline-block}\n",
       ".list-inline>li:not(:last-child)::after {content: \"\\00b7\"; padding: 0 .5ex}\n",
       "</style>\n",
       "<ol class=list-inline><li>TRUE</li><li>TRUE</li><li>FALSE</li><li>FALSE</li><li>TRUE</li></ol>\n"
      ],
      "text/latex": [
       "\\begin{enumerate*}\n",
       "\\item TRUE\n",
       "\\item TRUE\n",
       "\\item FALSE\n",
       "\\item FALSE\n",
       "\\item TRUE\n",
       "\\end{enumerate*}\n"
      ],
      "text/markdown": [
       "1. TRUE\n",
       "2. TRUE\n",
       "3. FALSE\n",
       "4. FALSE\n",
       "5. TRUE\n",
       "\n",
       "\n"
      ],
      "text/plain": [
       "[1]  TRUE  TRUE FALSE FALSE  TRUE"
      ]
     },
     "metadata": {},
     "output_type": "display_data"
    },
    {
     "data": {
      "text/html": [
       "'logical'"
      ],
      "text/latex": [
       "'logical'"
      ],
      "text/markdown": [
       "'logical'"
      ],
      "text/plain": [
       "[1] \"logical\""
      ]
     },
     "metadata": {},
     "output_type": "display_data"
    }
   ],
   "source": [
    "log_vec <- c(TRUE, TRUE, FALSE, FALSE, TRUE)\n",
    "log_vec\n",
    "typeof(log_vec)"
   ]
  },
  {
   "cell_type": "code",
   "execution_count": 4,
   "metadata": {
    "slideshow": {
     "slide_type": "slide"
    }
   },
   "outputs": [
    {
     "data": {
      "text/html": [
       "<style>\n",
       ".list-inline {list-style: none; margin:0; padding: 0}\n",
       ".list-inline>li {display: inline-block}\n",
       ".list-inline>li:not(:last-child)::after {content: \"\\00b7\"; padding: 0 .5ex}\n",
       "</style>\n",
       "<ol class=list-inline><li>1</li><li>2</li><li>3</li><li>4</li><li>5</li></ol>\n"
      ],
      "text/latex": [
       "\\begin{enumerate*}\n",
       "\\item 1\n",
       "\\item 2\n",
       "\\item 3\n",
       "\\item 4\n",
       "\\item 5\n",
       "\\end{enumerate*}\n"
      ],
      "text/markdown": [
       "1. 1\n",
       "2. 2\n",
       "3. 3\n",
       "4. 4\n",
       "5. 5\n",
       "\n",
       "\n"
      ],
      "text/plain": [
       "[1] 1 2 3 4 5"
      ]
     },
     "metadata": {},
     "output_type": "display_data"
    },
    {
     "data": {
      "text/html": [
       "'double'"
      ],
      "text/latex": [
       "'double'"
      ],
      "text/markdown": [
       "'double'"
      ],
      "text/plain": [
       "[1] \"double\""
      ]
     },
     "metadata": {},
     "output_type": "display_data"
    }
   ],
   "source": [
    "double_vec <- c(1, 2, 3, 4, 5)\n",
    "double_vec\n",
    "typeof(double_vec)"
   ]
  },
  {
   "cell_type": "code",
   "execution_count": 5,
   "metadata": {
    "slideshow": {
     "slide_type": "slide"
    }
   },
   "outputs": [
    {
     "data": {
      "text/html": [
       "<style>\n",
       ".list-inline {list-style: none; margin:0; padding: 0}\n",
       ".list-inline>li {display: inline-block}\n",
       ".list-inline>li:not(:last-child)::after {content: \"\\00b7\"; padding: 0 .5ex}\n",
       "</style>\n",
       "<ol class=list-inline><li>1</li><li>2</li><li>3</li><li>4</li><li>5</li></ol>\n"
      ],
      "text/latex": [
       "\\begin{enumerate*}\n",
       "\\item 1\n",
       "\\item 2\n",
       "\\item 3\n",
       "\\item 4\n",
       "\\item 5\n",
       "\\end{enumerate*}\n"
      ],
      "text/markdown": [
       "1. 1\n",
       "2. 2\n",
       "3. 3\n",
       "4. 4\n",
       "5. 5\n",
       "\n",
       "\n"
      ],
      "text/plain": [
       "[1] 1 2 3 4 5"
      ]
     },
     "metadata": {},
     "output_type": "display_data"
    },
    {
     "data": {
      "text/html": [
       "'integer'"
      ],
      "text/latex": [
       "'integer'"
      ],
      "text/markdown": [
       "'integer'"
      ],
      "text/plain": [
       "[1] \"integer\""
      ]
     },
     "metadata": {},
     "output_type": "display_data"
    }
   ],
   "source": [
    "int_vec <- c(1L, 2L, 3L, 4L, 5L)\n",
    "int_vec\n",
    "typeof(int_vec)"
   ]
  },
  {
   "cell_type": "markdown",
   "metadata": {
    "slideshow": {
     "slide_type": "slide"
    }
   },
   "source": [
    "`str` is a useful command to get even more information about an object:"
   ]
  },
  {
   "cell_type": "code",
   "execution_count": 6,
   "metadata": {
    "slideshow": {
     "slide_type": "fragment"
    }
   },
   "outputs": [
    {
     "name": "stdout",
     "output_type": "stream",
     "text": [
      " int [1:5] 1 2 3 4 5\n"
     ]
    }
   ],
   "source": [
    "str(int_vec)"
   ]
  },
  {
   "cell_type": "markdown",
   "metadata": {
    "slideshow": {
     "slide_type": "slide"
    }
   },
   "source": [
    "#### What happens to vectors of mixed type?\n",
    "\n"
   ]
  },
  {
   "cell_type": "code",
   "execution_count": 7,
   "metadata": {
    "slideshow": {
     "slide_type": "fragment"
    }
   },
   "outputs": [
    {
     "data": {
      "text/html": [
       "'character'"
      ],
      "text/latex": [
       "'character'"
      ],
      "text/markdown": [
       "'character'"
      ],
      "text/plain": [
       "[1] \"character\""
      ]
     },
     "metadata": {},
     "output_type": "display_data"
    }
   ],
   "source": [
    "mixed_vec <- c(\"joy\", 5.6, TRUE, 1L, \"sharing\")\n",
    "typeof(mixed_vec)"
   ]
  },
  {
   "cell_type": "markdown",
   "metadata": {
    "slideshow": {
     "slide_type": "fragment"
    }
   },
   "source": [
    "Hierarchy for coercion:\n",
    "\n",
    "character → double → integer → logical"
   ]
  },
  {
   "cell_type": "markdown",
   "metadata": {
    "slideshow": {
     "slide_type": "slide"
    }
   },
   "source": [
    "#### Useful functions for testing type and forcing coercion:\n",
    "\n",
    "- `is.logical()`, `is.integer()`, `is.double()`, and `is.character()` returns `TRUE` or `FALSE`, depending on type of object and function used.\n",
    "- `as.logical()`, `as.integer()`,` as.double()`, or `as.character()` coerce vector to type specified by function name. "
   ]
  },
  {
   "cell_type": "markdown",
   "metadata": {
    "slideshow": {
     "slide_type": "slide"
    }
   },
   "source": [
    "#### How to subset and modify vectors\n",
    "\n",
    "<img src=\"https://media.giphy.com/media/l4pTocra1lFDomV5S/giphy.gif\" width=700>"
   ]
  },
  {
   "cell_type": "markdown",
   "metadata": {
    "slideshow": {
     "slide_type": "slide"
    }
   },
   "source": [
    "#### Subsetting \n",
    "\n",
    "- R counts from 1!!!"
   ]
  },
  {
   "cell_type": "code",
   "execution_count": 8,
   "metadata": {
    "slideshow": {
     "slide_type": "fragment"
    }
   },
   "outputs": [],
   "source": [
    "name <- c(\"T\", \"i\", \"f\", \"f\", \"a\", \"n\", \"y\")"
   ]
  },
  {
   "cell_type": "markdown",
   "metadata": {
    "slideshow": {
     "slide_type": "fragment"
    }
   },
   "source": [
    "What letter will I get in R? What would I get in Python?"
   ]
  },
  {
   "cell_type": "code",
   "execution_count": 9,
   "metadata": {
    "slideshow": {
     "slide_type": "fragment"
    }
   },
   "outputs": [
    {
     "data": {
      "text/html": [
       "'i'"
      ],
      "text/latex": [
       "'i'"
      ],
      "text/markdown": [
       "'i'"
      ],
      "text/plain": [
       "[1] \"i\""
      ]
     },
     "metadata": {},
     "output_type": "display_data"
    }
   ],
   "source": [
    "name[2]"
   ]
  },
  {
   "cell_type": "markdown",
   "metadata": {
    "slideshow": {
     "slide_type": "slide"
    }
   },
   "source": [
    "What letters will I get in R? What would I get in Python?\n",
    "\n",
    "```\n",
    "name <- c(\"T\", \"i\", \"f\", \"f\", \"a\", \"n\", \"y\")\n",
    "```"
   ]
  },
  {
   "cell_type": "code",
   "execution_count": 10,
   "metadata": {
    "slideshow": {
     "slide_type": "fragment"
    }
   },
   "outputs": [
    {
     "data": {
      "text/html": [
       "<style>\n",
       ".list-inline {list-style: none; margin:0; padding: 0}\n",
       ".list-inline>li {display: inline-block}\n",
       ".list-inline>li:not(:last-child)::after {content: \"\\00b7\"; padding: 0 .5ex}\n",
       "</style>\n",
       "<ol class=list-inline><li>'i'</li><li>'f'</li><li>'f'</li></ol>\n"
      ],
      "text/latex": [
       "\\begin{enumerate*}\n",
       "\\item 'i'\n",
       "\\item 'f'\n",
       "\\item 'f'\n",
       "\\end{enumerate*}\n"
      ],
      "text/markdown": [
       "1. 'i'\n",
       "2. 'f'\n",
       "3. 'f'\n",
       "\n",
       "\n"
      ],
      "text/plain": [
       "[1] \"i\" \"f\" \"f\""
      ]
     },
     "metadata": {},
     "output_type": "display_data"
    }
   ],
   "source": [
    "name[2:4]"
   ]
  },
  {
   "cell_type": "markdown",
   "metadata": {
    "slideshow": {
     "slide_type": "slide"
    }
   },
   "source": [
    "What letter will I get in R? What would I get in Python?\n",
    "\n",
    "```\n",
    "name <- c(\"T\", \"i\", \"f\", \"f\", \"a\", \"n\", \"y\")\n",
    "```"
   ]
  },
  {
   "cell_type": "code",
   "execution_count": 11,
   "metadata": {
    "slideshow": {
     "slide_type": "fragment"
    }
   },
   "outputs": [
    {
     "data": {
      "text/html": [
       "<style>\n",
       ".list-inline {list-style: none; margin:0; padding: 0}\n",
       ".list-inline>li {display: inline-block}\n",
       ".list-inline>li:not(:last-child)::after {content: \"\\00b7\"; padding: 0 .5ex}\n",
       "</style>\n",
       "<ol class=list-inline><li>'i'</li><li>'f'</li><li>'f'</li><li>'a'</li><li>'n'</li><li>'y'</li></ol>\n"
      ],
      "text/latex": [
       "\\begin{enumerate*}\n",
       "\\item 'i'\n",
       "\\item 'f'\n",
       "\\item 'f'\n",
       "\\item 'a'\n",
       "\\item 'n'\n",
       "\\item 'y'\n",
       "\\end{enumerate*}\n"
      ],
      "text/markdown": [
       "1. 'i'\n",
       "2. 'f'\n",
       "3. 'f'\n",
       "4. 'a'\n",
       "5. 'n'\n",
       "6. 'y'\n",
       "\n",
       "\n"
      ],
      "text/plain": [
       "[1] \"i\" \"f\" \"f\" \"a\" \"n\" \"y\""
      ]
     },
     "metadata": {},
     "output_type": "display_data"
    }
   ],
   "source": [
    "name[-1]"
   ]
  },
  {
   "cell_type": "markdown",
   "metadata": {
    "slideshow": {
     "slide_type": "slide"
    }
   },
   "source": [
    "How do I get the last element in a vector in R?\n",
    "\n",
    "```\n",
    "name <- c(\"T\", \"i\", \"f\", \"f\", \"a\", \"n\", \"y\")\n",
    "```"
   ]
  },
  {
   "cell_type": "code",
   "execution_count": 12,
   "metadata": {
    "slideshow": {
     "slide_type": "fragment"
    }
   },
   "outputs": [
    {
     "data": {
      "text/html": [
       "'y'"
      ],
      "text/latex": [
       "'y'"
      ],
      "text/markdown": [
       "'y'"
      ],
      "text/plain": [
       "[1] \"y\""
      ]
     },
     "metadata": {},
     "output_type": "display_data"
    }
   ],
   "source": [
    "name[length(name)]"
   ]
  },
  {
   "cell_type": "markdown",
   "metadata": {
    "slideshow": {
     "slide_type": "slide"
    }
   },
   "source": [
    "#### Modifing vectors\n",
    "\n",
    "We can combine the assignment symbol and subsetting to modify vectors:\n",
    "\n",
    "```\n",
    "name <- c(\"T\", \"i\", \"f\", \"f\", \"a\", \"n\", \"y\")\n",
    "```"
   ]
  },
  {
   "cell_type": "code",
   "execution_count": 13,
   "metadata": {
    "slideshow": {
     "slide_type": "fragment"
    }
   },
   "outputs": [
    {
     "data": {
      "text/html": [
       "<style>\n",
       ".list-inline {list-style: none; margin:0; padding: 0}\n",
       ".list-inline>li {display: inline-block}\n",
       ".list-inline>li:not(:last-child)::after {content: \"\\00b7\"; padding: 0 .5ex}\n",
       "</style>\n",
       "<ol class=list-inline><li>'t'</li><li>'i'</li><li>'f'</li><li>'f'</li><li>'a'</li><li>'n'</li><li>'y'</li></ol>\n"
      ],
      "text/latex": [
       "\\begin{enumerate*}\n",
       "\\item 't'\n",
       "\\item 'i'\n",
       "\\item 'f'\n",
       "\\item 'f'\n",
       "\\item 'a'\n",
       "\\item 'n'\n",
       "\\item 'y'\n",
       "\\end{enumerate*}\n"
      ],
      "text/markdown": [
       "1. 't'\n",
       "2. 'i'\n",
       "3. 'f'\n",
       "4. 'f'\n",
       "5. 'a'\n",
       "6. 'n'\n",
       "7. 'y'\n",
       "\n",
       "\n"
      ],
      "text/plain": [
       "[1] \"t\" \"i\" \"f\" \"f\" \"a\" \"n\" \"y\""
      ]
     },
     "metadata": {},
     "output_type": "display_data"
    }
   ],
   "source": [
    "name[1] <- \"t\"\n",
    "name"
   ]
  },
  {
   "cell_type": "markdown",
   "metadata": {
    "slideshow": {
     "slide_type": "slide"
    }
   },
   "source": [
    "This can be done for more than one element:"
   ]
  },
  {
   "cell_type": "code",
   "execution_count": 14,
   "metadata": {
    "slideshow": {
     "slide_type": "fragment"
    }
   },
   "outputs": [
    {
     "data": {
      "text/html": [
       "<style>\n",
       ".list-inline {list-style: none; margin:0; padding: 0}\n",
       ".list-inline>li {display: inline-block}\n",
       ".list-inline>li:not(:last-child)::after {content: \"\\00b7\"; padding: 0 .5ex}\n",
       "</style>\n",
       "<ol class=list-inline><li>'T'</li><li>'I'</li><li>'F'</li><li>'f'</li><li>'a'</li><li>'n'</li><li>'y'</li></ol>\n"
      ],
      "text/latex": [
       "\\begin{enumerate*}\n",
       "\\item 'T'\n",
       "\\item 'I'\n",
       "\\item 'F'\n",
       "\\item 'f'\n",
       "\\item 'a'\n",
       "\\item 'n'\n",
       "\\item 'y'\n",
       "\\end{enumerate*}\n"
      ],
      "text/markdown": [
       "1. 'T'\n",
       "2. 'I'\n",
       "3. 'F'\n",
       "4. 'f'\n",
       "5. 'a'\n",
       "6. 'n'\n",
       "7. 'y'\n",
       "\n",
       "\n"
      ],
      "text/plain": [
       "[1] \"T\" \"I\" \"F\" \"f\" \"a\" \"n\" \"y\""
      ]
     },
     "metadata": {},
     "output_type": "display_data"
    }
   ],
   "source": [
    "name[1:3] <- c(\"T\", \"I\", \"F\")\n",
    "name"
   ]
  },
  {
   "cell_type": "markdown",
   "metadata": {
    "slideshow": {
     "slide_type": "slide"
    }
   },
   "source": [
    "What if you ask for elements that are not there?"
   ]
  },
  {
   "cell_type": "code",
   "execution_count": 15,
   "metadata": {
    "slideshow": {
     "slide_type": "fragment"
    }
   },
   "outputs": [
    {
     "data": {
      "text/html": [
       "<style>\n",
       ".list-inline {list-style: none; margin:0; padding: 0}\n",
       ".list-inline>li {display: inline-block}\n",
       ".list-inline>li:not(:last-child)::after {content: \"\\00b7\"; padding: 0 .5ex}\n",
       "</style>\n",
       "<ol class=list-inline><li>NA</li><li>NA</li><li>NA</li><li>NA</li><li>NA</li></ol>\n"
      ],
      "text/latex": [
       "\\begin{enumerate*}\n",
       "\\item NA\n",
       "\\item NA\n",
       "\\item NA\n",
       "\\item NA\n",
       "\\item NA\n",
       "\\end{enumerate*}\n"
      ],
      "text/markdown": [
       "1. NA\n",
       "2. NA\n",
       "3. NA\n",
       "4. NA\n",
       "5. NA\n",
       "\n",
       "\n"
      ],
      "text/plain": [
       "[1] NA NA NA NA NA"
      ]
     },
     "metadata": {},
     "output_type": "display_data"
    }
   ],
   "source": [
    "name[8:12]"
   ]
  },
  {
   "cell_type": "markdown",
   "metadata": {
    "slideshow": {
     "slide_type": "slide"
    }
   },
   "source": [
    "This syntax also lets you add additional elements:"
   ]
  },
  {
   "cell_type": "code",
   "execution_count": 16,
   "metadata": {
    "slideshow": {
     "slide_type": "fragment"
    }
   },
   "outputs": [
    {
     "data": {
      "text/html": [
       "<style>\n",
       ".list-inline {list-style: none; margin:0; padding: 0}\n",
       ".list-inline>li {display: inline-block}\n",
       ".list-inline>li:not(:last-child)::after {content: \"\\00b7\"; padding: 0 .5ex}\n",
       "</style>\n",
       "<ol class=list-inline><li>'T'</li><li>'I'</li><li>'F'</li><li>'f'</li><li>'a'</li><li>'n'</li><li>'y'</li><li>'-'</li><li>'A'</li><li>'n'</li><li>'n'</li><li>'e'</li></ol>\n"
      ],
      "text/latex": [
       "\\begin{enumerate*}\n",
       "\\item 'T'\n",
       "\\item 'I'\n",
       "\\item 'F'\n",
       "\\item 'f'\n",
       "\\item 'a'\n",
       "\\item 'n'\n",
       "\\item 'y'\n",
       "\\item '-'\n",
       "\\item 'A'\n",
       "\\item 'n'\n",
       "\\item 'n'\n",
       "\\item 'e'\n",
       "\\end{enumerate*}\n"
      ],
      "text/markdown": [
       "1. 'T'\n",
       "2. 'I'\n",
       "3. 'F'\n",
       "4. 'f'\n",
       "5. 'a'\n",
       "6. 'n'\n",
       "7. 'y'\n",
       "8. '-'\n",
       "9. 'A'\n",
       "10. 'n'\n",
       "11. 'n'\n",
       "12. 'e'\n",
       "\n",
       "\n"
      ],
      "text/plain": [
       " [1] \"T\" \"I\" \"F\" \"f\" \"a\" \"n\" \"y\" \"-\" \"A\" \"n\" \"n\" \"e\""
      ]
     },
     "metadata": {},
     "output_type": "display_data"
    }
   ],
   "source": [
    "name[8:12] <- c(\"-\", \"A\", \"n\", \"n\", \"e\")\n",
    "name"
   ]
  },
  {
   "cell_type": "markdown",
   "metadata": {
    "slideshow": {
     "slide_type": "slide"
    }
   },
   "source": [
    "#### What happens when you modify a vector in R?\n",
    "\n",
    "Consider:\n",
    "\n",
    "```\n",
    "x <- c(1, 2, 3)\n",
    "y <- x\n",
    "\n",
    "y[3] <- 4\n",
    "y\n",
    "#> [1] 1 2 4\n",
    "```\n",
    "\n",
    "What is happening in R's memory for each line of code?\n"
   ]
  },
  {
   "cell_type": "markdown",
   "metadata": {
    "slideshow": {
     "slide_type": "skip"
    }
   },
   "source": [
    "|Code | R's memory representation |\n",
    "|---|---| \n",
    "| `x <- c(1, 2, 3)` | <img src=\"https://d33wubrfki0l68.cloudfront.net/bd90c87ac98708b1731c92900f2f53ec6a71edaf/ce375/diagrams/name-value/binding-1.png\" width=200 algin=\"left\"> |\n",
    "| `y <- x` | <img src=\"https://d33wubrfki0l68.cloudfront.net/bdc72c04d3135f19fb3ab13731129eb84c9170af/f0ab9/diagrams/name-value/binding-2.png\" width=200 algin=\"left\"> |\n",
    "| `y[[3]] <- 4` | <img src=\"https://d33wubrfki0l68.cloudfront.net/ef9f480effa2f1d0e401d1f94218d0cf118433c0/b56e9/diagrams/name-value/binding-3.png\" width=200 algin=\"left\"> |\n",
    "\n",
    "This is called \"copy-on-modify\".\n",
    "\n",
    "*Source: [Advanced R](https://adv-r.hadley.nz/) by Hadley Wickham*"
   ]
  },
  {
   "cell_type": "markdown",
   "metadata": {
    "slideshow": {
     "slide_type": "slide"
    }
   },
   "source": [
    "#### Why copy-on-modify\n",
    "- Since there are no scalars in R, vectors are essentially immutable\n",
    "- If you change one element of the vector, you have to copy the whole thing to update it\n",
    "\n",
    "#### Why do we care about knowing this?\n",
    "- Given that data frames are built on-top of vectors, this has implications for speed when working with large data frames"
   ]
  },
  {
   "cell_type": "markdown",
   "metadata": {
    "slideshow": {
     "slide_type": "slide"
    }
   },
   "source": [
    "#### Why vectors? \n",
    "\n",
    "Vectorized operations! "
   ]
  },
  {
   "cell_type": "code",
   "execution_count": 17,
   "metadata": {
    "slideshow": {
     "slide_type": "fragment"
    }
   },
   "outputs": [
    {
     "data": {
      "text/html": [
       "<style>\n",
       ".list-inline {list-style: none; margin:0; padding: 0}\n",
       ".list-inline>li {display: inline-block}\n",
       ".list-inline>li:not(:last-child)::after {content: \"\\00b7\"; padding: 0 .5ex}\n",
       "</style>\n",
       "<ol class=list-inline><li>2</li><li>3</li><li>4</li><li>5</li></ol>\n"
      ],
      "text/latex": [
       "\\begin{enumerate*}\n",
       "\\item 2\n",
       "\\item 3\n",
       "\\item 4\n",
       "\\item 5\n",
       "\\end{enumerate*}\n"
      ],
      "text/markdown": [
       "1. 2\n",
       "2. 3\n",
       "3. 4\n",
       "4. 5\n",
       "\n",
       "\n"
      ],
      "text/plain": [
       "[1] 2 3 4 5"
      ]
     },
     "metadata": {},
     "output_type": "display_data"
    }
   ],
   "source": [
    "c(1, 2, 3, 4) + c(1, 1, 1, 1)"
   ]
  },
  {
   "cell_type": "markdown",
   "metadata": {
    "slideshow": {
     "slide_type": "slide"
    }
   },
   "source": [
    "But watch out for vector recycling in R!\n",
    "\n",
    "This makes sense:"
   ]
  },
  {
   "cell_type": "code",
   "execution_count": 18,
   "metadata": {
    "slideshow": {
     "slide_type": "fragment"
    }
   },
   "outputs": [
    {
     "data": {
      "text/html": [
       "<style>\n",
       ".list-inline {list-style: none; margin:0; padding: 0}\n",
       ".list-inline>li {display: inline-block}\n",
       ".list-inline>li:not(:last-child)::after {content: \"\\00b7\"; padding: 0 .5ex}\n",
       "</style>\n",
       "<ol class=list-inline><li>2</li><li>3</li><li>4</li><li>5</li></ol>\n"
      ],
      "text/latex": [
       "\\begin{enumerate*}\n",
       "\\item 2\n",
       "\\item 3\n",
       "\\item 4\n",
       "\\item 5\n",
       "\\end{enumerate*}\n"
      ],
      "text/markdown": [
       "1. 2\n",
       "2. 3\n",
       "3. 4\n",
       "4. 5\n",
       "\n",
       "\n"
      ],
      "text/plain": [
       "[1] 2 3 4 5"
      ]
     },
     "metadata": {},
     "output_type": "display_data"
    }
   ],
   "source": [
    "c(1, 2, 3, 4) + c(1)"
   ]
  },
  {
   "cell_type": "markdown",
   "metadata": {
    "slideshow": {
     "slide_type": "slide"
    }
   },
   "source": [
    "but this does not!"
   ]
  },
  {
   "cell_type": "code",
   "execution_count": 19,
   "metadata": {
    "slideshow": {
     "slide_type": "fragment"
    }
   },
   "outputs": [
    {
     "data": {
      "text/html": [
       "<style>\n",
       ".list-inline {list-style: none; margin:0; padding: 0}\n",
       ".list-inline>li {display: inline-block}\n",
       ".list-inline>li:not(:last-child)::after {content: \"\\00b7\"; padding: 0 .5ex}\n",
       "</style>\n",
       "<ol class=list-inline><li>2</li><li>4</li><li>4</li><li>6</li></ol>\n"
      ],
      "text/latex": [
       "\\begin{enumerate*}\n",
       "\\item 2\n",
       "\\item 4\n",
       "\\item 4\n",
       "\\item 6\n",
       "\\end{enumerate*}\n"
      ],
      "text/markdown": [
       "1. 2\n",
       "2. 4\n",
       "3. 4\n",
       "4. 6\n",
       "\n",
       "\n"
      ],
      "text/plain": [
       "[1] 2 4 4 6"
      ]
     },
     "metadata": {},
     "output_type": "display_data"
    }
   ],
   "source": [
    "c(1, 2, 3, 4) + c(1, 2)"
   ]
  },
  {
   "cell_type": "markdown",
   "metadata": {
    "slideshow": {
     "slide_type": "slide"
    }
   },
   "source": [
    "A list of vector operators here:  [R Operators cheat sheet](https://cran.r-project.org/doc/contrib/Baggott-refcard-v2.pdf)\n",
    "\n",
    "One to watch out for, logical and (`&`) and or (`|`) operators come in both an elementwise and first element comparison form, for example:"
   ]
  },
  {
   "cell_type": "code",
   "execution_count": 20,
   "metadata": {
    "slideshow": {
     "slide_type": "fragment"
    }
   },
   "outputs": [
    {
     "data": {
      "text/html": [
       "<style>\n",
       ".list-inline {list-style: none; margin:0; padding: 0}\n",
       ".list-inline>li {display: inline-block}\n",
       ".list-inline>li:not(:last-child)::after {content: \"\\00b7\"; padding: 0 .5ex}\n",
       "</style>\n",
       "<ol class=list-inline><li>FALSE</li><li>TRUE</li><li>TRUE</li></ol>\n"
      ],
      "text/latex": [
       "\\begin{enumerate*}\n",
       "\\item FALSE\n",
       "\\item TRUE\n",
       "\\item TRUE\n",
       "\\end{enumerate*}\n"
      ],
      "text/markdown": [
       "1. FALSE\n",
       "2. TRUE\n",
       "3. TRUE\n",
       "\n",
       "\n"
      ],
      "text/plain": [
       "[1] FALSE  TRUE  TRUE"
      ]
     },
     "metadata": {},
     "output_type": "display_data"
    }
   ],
   "source": [
    "# compares each elements of each vector by position\n",
    "c(TRUE, TRUE, TRUE) & c(FALSE, TRUE, TRUE)"
   ]
  },
  {
   "cell_type": "code",
   "execution_count": 21,
   "metadata": {
    "slideshow": {
     "slide_type": "fragment"
    }
   },
   "outputs": [
    {
     "name": "stderr",
     "output_type": "stream",
     "text": [
      "Warning message in c(TRUE, TRUE, TRUE) && c(FALSE, TRUE, TRUE):\n",
      "“'length(x) = 3 > 1' in coercion to 'logical(1)'”\n",
      "Warning message in c(TRUE, TRUE, TRUE) && c(FALSE, TRUE, TRUE):\n",
      "“'length(x) = 3 > 1' in coercion to 'logical(1)'”\n"
     ]
    },
    {
     "data": {
      "text/html": [
       "FALSE"
      ],
      "text/latex": [
       "FALSE"
      ],
      "text/markdown": [
       "FALSE"
      ],
      "text/plain": [
       "[1] FALSE"
      ]
     },
     "metadata": {},
     "output_type": "display_data"
    }
   ],
   "source": [
    "# compares only the first elements of each vector\n",
    "c(TRUE, TRUE, TRUE) && c(FALSE, TRUE, TRUE)"
   ]
  },
  {
   "cell_type": "markdown",
   "metadata": {
    "slideshow": {
     "slide_type": "slide"
    }
   },
   "source": [
    "### Extending our knowledge to data frames"
   ]
  },
  {
   "cell_type": "markdown",
   "metadata": {
    "slideshow": {
     "slide_type": "fragment"
    }
   },
   "source": [
    "<img src=\"https://datasciencebook.ca/_main_files/figure-html/02-vectors-1.png?raw=true\" width=800>"
   ]
  },
  {
   "cell_type": "markdown",
   "metadata": {
    "slideshow": {
     "slide_type": "slide"
    }
   },
   "source": [
    "#### Getting to know a data frame"
   ]
  },
  {
   "cell_type": "code",
   "execution_count": 22,
   "metadata": {
    "slideshow": {
     "slide_type": "fragment"
    }
   },
   "outputs": [
    {
     "data": {
      "text/html": [
       "<table class=\"dataframe\">\n",
       "<caption>A data.frame: 6 × 11</caption>\n",
       "<thead>\n",
       "\t<tr><th></th><th scope=col>mpg</th><th scope=col>cyl</th><th scope=col>disp</th><th scope=col>hp</th><th scope=col>drat</th><th scope=col>wt</th><th scope=col>qsec</th><th scope=col>vs</th><th scope=col>am</th><th scope=col>gear</th><th scope=col>carb</th></tr>\n",
       "\t<tr><th></th><th scope=col>&lt;dbl&gt;</th><th scope=col>&lt;dbl&gt;</th><th scope=col>&lt;dbl&gt;</th><th scope=col>&lt;dbl&gt;</th><th scope=col>&lt;dbl&gt;</th><th scope=col>&lt;dbl&gt;</th><th scope=col>&lt;dbl&gt;</th><th scope=col>&lt;dbl&gt;</th><th scope=col>&lt;dbl&gt;</th><th scope=col>&lt;dbl&gt;</th><th scope=col>&lt;dbl&gt;</th></tr>\n",
       "</thead>\n",
       "<tbody>\n",
       "\t<tr><th scope=row>Mazda RX4</th><td>21.0</td><td>6</td><td>160</td><td>110</td><td>3.90</td><td>2.620</td><td>16.46</td><td>0</td><td>1</td><td>4</td><td>4</td></tr>\n",
       "\t<tr><th scope=row>Mazda RX4 Wag</th><td>21.0</td><td>6</td><td>160</td><td>110</td><td>3.90</td><td>2.875</td><td>17.02</td><td>0</td><td>1</td><td>4</td><td>4</td></tr>\n",
       "\t<tr><th scope=row>Datsun 710</th><td>22.8</td><td>4</td><td>108</td><td> 93</td><td>3.85</td><td>2.320</td><td>18.61</td><td>1</td><td>1</td><td>4</td><td>1</td></tr>\n",
       "\t<tr><th scope=row>Hornet 4 Drive</th><td>21.4</td><td>6</td><td>258</td><td>110</td><td>3.08</td><td>3.215</td><td>19.44</td><td>1</td><td>0</td><td>3</td><td>1</td></tr>\n",
       "\t<tr><th scope=row>Hornet Sportabout</th><td>18.7</td><td>8</td><td>360</td><td>175</td><td>3.15</td><td>3.440</td><td>17.02</td><td>0</td><td>0</td><td>3</td><td>2</td></tr>\n",
       "\t<tr><th scope=row>Valiant</th><td>18.1</td><td>6</td><td>225</td><td>105</td><td>2.76</td><td>3.460</td><td>20.22</td><td>1</td><td>0</td><td>3</td><td>1</td></tr>\n",
       "</tbody>\n",
       "</table>\n"
      ],
      "text/latex": [
       "A data.frame: 6 × 11\n",
       "\\begin{tabular}{r|lllllllllll}\n",
       "  & mpg & cyl & disp & hp & drat & wt & qsec & vs & am & gear & carb\\\\\n",
       "  & <dbl> & <dbl> & <dbl> & <dbl> & <dbl> & <dbl> & <dbl> & <dbl> & <dbl> & <dbl> & <dbl>\\\\\n",
       "\\hline\n",
       "\tMazda RX4 & 21.0 & 6 & 160 & 110 & 3.90 & 2.620 & 16.46 & 0 & 1 & 4 & 4\\\\\n",
       "\tMazda RX4 Wag & 21.0 & 6 & 160 & 110 & 3.90 & 2.875 & 17.02 & 0 & 1 & 4 & 4\\\\\n",
       "\tDatsun 710 & 22.8 & 4 & 108 &  93 & 3.85 & 2.320 & 18.61 & 1 & 1 & 4 & 1\\\\\n",
       "\tHornet 4 Drive & 21.4 & 6 & 258 & 110 & 3.08 & 3.215 & 19.44 & 1 & 0 & 3 & 1\\\\\n",
       "\tHornet Sportabout & 18.7 & 8 & 360 & 175 & 3.15 & 3.440 & 17.02 & 0 & 0 & 3 & 2\\\\\n",
       "\tValiant & 18.1 & 6 & 225 & 105 & 2.76 & 3.460 & 20.22 & 1 & 0 & 3 & 1\\\\\n",
       "\\end{tabular}\n"
      ],
      "text/markdown": [
       "\n",
       "A data.frame: 6 × 11\n",
       "\n",
       "| <!--/--> | mpg &lt;dbl&gt; | cyl &lt;dbl&gt; | disp &lt;dbl&gt; | hp &lt;dbl&gt; | drat &lt;dbl&gt; | wt &lt;dbl&gt; | qsec &lt;dbl&gt; | vs &lt;dbl&gt; | am &lt;dbl&gt; | gear &lt;dbl&gt; | carb &lt;dbl&gt; |\n",
       "|---|---|---|---|---|---|---|---|---|---|---|---|\n",
       "| Mazda RX4 | 21.0 | 6 | 160 | 110 | 3.90 | 2.620 | 16.46 | 0 | 1 | 4 | 4 |\n",
       "| Mazda RX4 Wag | 21.0 | 6 | 160 | 110 | 3.90 | 2.875 | 17.02 | 0 | 1 | 4 | 4 |\n",
       "| Datsun 710 | 22.8 | 4 | 108 |  93 | 3.85 | 2.320 | 18.61 | 1 | 1 | 4 | 1 |\n",
       "| Hornet 4 Drive | 21.4 | 6 | 258 | 110 | 3.08 | 3.215 | 19.44 | 1 | 0 | 3 | 1 |\n",
       "| Hornet Sportabout | 18.7 | 8 | 360 | 175 | 3.15 | 3.440 | 17.02 | 0 | 0 | 3 | 2 |\n",
       "| Valiant | 18.1 | 6 | 225 | 105 | 2.76 | 3.460 | 20.22 | 1 | 0 | 3 | 1 |\n",
       "\n"
      ],
      "text/plain": [
       "                  mpg  cyl disp hp  drat wt    qsec  vs am gear carb\n",
       "Mazda RX4         21.0 6   160  110 3.90 2.620 16.46 0  1  4    4   \n",
       "Mazda RX4 Wag     21.0 6   160  110 3.90 2.875 17.02 0  1  4    4   \n",
       "Datsun 710        22.8 4   108   93 3.85 2.320 18.61 1  1  4    1   \n",
       "Hornet 4 Drive    21.4 6   258  110 3.08 3.215 19.44 1  0  3    1   \n",
       "Hornet Sportabout 18.7 8   360  175 3.15 3.440 17.02 0  0  3    2   \n",
       "Valiant           18.1 6   225  105 2.76 3.460 20.22 1  0  3    1   "
      ]
     },
     "metadata": {},
     "output_type": "display_data"
    }
   ],
   "source": [
    "head(mtcars)"
   ]
  },
  {
   "cell_type": "code",
   "execution_count": 23,
   "metadata": {
    "slideshow": {
     "slide_type": "fragment"
    }
   },
   "outputs": [
    {
     "name": "stdout",
     "output_type": "stream",
     "text": [
      "'data.frame':\t32 obs. of  11 variables:\n",
      " $ mpg : num  21 21 22.8 21.4 18.7 18.1 14.3 24.4 22.8 19.2 ...\n",
      " $ cyl : num  6 6 4 6 8 6 8 4 4 6 ...\n",
      " $ disp: num  160 160 108 258 360 ...\n",
      " $ hp  : num  110 110 93 110 175 105 245 62 95 123 ...\n",
      " $ drat: num  3.9 3.9 3.85 3.08 3.15 2.76 3.21 3.69 3.92 3.92 ...\n",
      " $ wt  : num  2.62 2.88 2.32 3.21 3.44 ...\n",
      " $ qsec: num  16.5 17 18.6 19.4 17 ...\n",
      " $ vs  : num  0 0 1 1 0 1 0 1 1 1 ...\n",
      " $ am  : num  1 1 1 0 0 0 0 0 0 0 ...\n",
      " $ gear: num  4 4 4 3 3 3 3 4 4 4 ...\n",
      " $ carb: num  4 4 1 1 2 1 4 2 2 4 ...\n"
     ]
    }
   ],
   "source": [
    "str(mtcars)"
   ]
  },
  {
   "cell_type": "markdown",
   "metadata": {
    "slideshow": {
     "slide_type": "slide"
    }
   },
   "source": [
    "#### Subsetting and modifying data frames\n",
    "\n",
    "There are 3 operators that can be used when subsetting data frames: `[`, `$` and `[[`\n",
    "\n",
    "| Operator | Example use | What it returns |\n",
    "|----------|-------------|-----------------|\n",
    "| `[`      | `mtcars[1:10, 2:4]`     | rows 1-10 for columns 2-4 of the data frame, as a data frame |\n",
    "| `[`      | `mtcars[1:10, ]`     | rows 1-10 for all columns of the data frame, as a data frame |\n",
    "| `[`     | `mtcars[1]` | the first column of the data frame, as a data frame |\n",
    "| `[[`     | `mtcars[[1]]` | the first column of the data frame, as a vector |\n",
    "| `$`      | `mtcars$cyl` | the column the corresponds to the name that follows the `$`, as a vector | \n",
    "\n",
    "Note that `$` and `[[` remove a level of structure from the data frame object (this happens with lists too)."
   ]
  },
  {
   "cell_type": "markdown",
   "metadata": {
    "slideshow": {
     "slide_type": "slide"
    }
   },
   "source": [
    "### Other R objects\n",
    "\n",
    "We are focusing on vectors and data frames in this lecture because these are the objects you will encounter most frequently in R for data science. These subsetting (and modification) syntax also work on other objects in R, in the same way. \n",
    "\n",
    "Examples that you will encounter in the worksheet and lab are matrices and lists."
   ]
  },
  {
   "cell_type": "markdown",
   "metadata": {
    "slideshow": {
     "slide_type": "slide"
    }
   },
   "source": [
    "#### Logical indexing of data frames\n",
    "\n",
    "We can also use logical statements to filter for rows containing certain values, or values above or below a threshold. For example, if we want to filter for rows where the cylinder value in the `cyl` column is 6 in the mtcars data frame shown below:"
   ]
  },
  {
   "cell_type": "code",
   "execution_count": 24,
   "metadata": {
    "slideshow": {
     "slide_type": "fragment"
    }
   },
   "outputs": [
    {
     "data": {
      "text/html": [
       "<table class=\"dataframe\">\n",
       "<caption>A data.frame: 32 × 11</caption>\n",
       "<thead>\n",
       "\t<tr><th></th><th scope=col>mpg</th><th scope=col>cyl</th><th scope=col>disp</th><th scope=col>hp</th><th scope=col>drat</th><th scope=col>wt</th><th scope=col>qsec</th><th scope=col>vs</th><th scope=col>am</th><th scope=col>gear</th><th scope=col>carb</th></tr>\n",
       "\t<tr><th></th><th scope=col>&lt;dbl&gt;</th><th scope=col>&lt;dbl&gt;</th><th scope=col>&lt;dbl&gt;</th><th scope=col>&lt;dbl&gt;</th><th scope=col>&lt;dbl&gt;</th><th scope=col>&lt;dbl&gt;</th><th scope=col>&lt;dbl&gt;</th><th scope=col>&lt;dbl&gt;</th><th scope=col>&lt;dbl&gt;</th><th scope=col>&lt;dbl&gt;</th><th scope=col>&lt;dbl&gt;</th></tr>\n",
       "</thead>\n",
       "<tbody>\n",
       "\t<tr><th scope=row>Mazda RX4</th><td>21.0</td><td>6</td><td>160</td><td>110</td><td>3.90</td><td>2.620</td><td>16.46</td><td>0</td><td>1</td><td>4</td><td>4</td></tr>\n",
       "\t<tr><th scope=row>Mazda RX4 Wag</th><td>21.0</td><td>6</td><td>160</td><td>110</td><td>3.90</td><td>2.875</td><td>17.02</td><td>0</td><td>1</td><td>4</td><td>4</td></tr>\n",
       "\t<tr><th scope=row>Datsun 710</th><td>22.8</td><td>4</td><td>108</td><td> 93</td><td>3.85</td><td>2.320</td><td>18.61</td><td>1</td><td>1</td><td>4</td><td>1</td></tr>\n",
       "\t<tr><th scope=row>Hornet 4 Drive</th><td>21.4</td><td>6</td><td>258</td><td>110</td><td>3.08</td><td>3.215</td><td>19.44</td><td>1</td><td>0</td><td>3</td><td>1</td></tr>\n",
       "\t<tr><th scope=row>Hornet Sportabout</th><td>18.7</td><td>8</td><td>360</td><td>175</td><td>3.15</td><td>3.440</td><td>17.02</td><td>0</td><td>0</td><td>3</td><td>2</td></tr>\n",
       "\t<tr><th scope=row>⋮</th><td>⋮</td><td>⋮</td><td>⋮</td><td>⋮</td><td>⋮</td><td>⋮</td><td>⋮</td><td>⋮</td><td>⋮</td><td>⋮</td><td>⋮</td></tr>\n",
       "\t<tr><th scope=row>Lotus Europa</th><td>30.4</td><td>4</td><td> 95.1</td><td>113</td><td>3.77</td><td>1.513</td><td>16.9</td><td>1</td><td>1</td><td>5</td><td>2</td></tr>\n",
       "\t<tr><th scope=row>Ford Pantera L</th><td>15.8</td><td>8</td><td>351.0</td><td>264</td><td>4.22</td><td>3.170</td><td>14.5</td><td>0</td><td>1</td><td>5</td><td>4</td></tr>\n",
       "\t<tr><th scope=row>Ferrari Dino</th><td>19.7</td><td>6</td><td>145.0</td><td>175</td><td>3.62</td><td>2.770</td><td>15.5</td><td>0</td><td>1</td><td>5</td><td>6</td></tr>\n",
       "\t<tr><th scope=row>Maserati Bora</th><td>15.0</td><td>8</td><td>301.0</td><td>335</td><td>3.54</td><td>3.570</td><td>14.6</td><td>0</td><td>1</td><td>5</td><td>8</td></tr>\n",
       "\t<tr><th scope=row>Volvo 142E</th><td>21.4</td><td>4</td><td>121.0</td><td>109</td><td>4.11</td><td>2.780</td><td>18.6</td><td>1</td><td>1</td><td>4</td><td>2</td></tr>\n",
       "</tbody>\n",
       "</table>\n"
      ],
      "text/latex": [
       "A data.frame: 32 × 11\n",
       "\\begin{tabular}{r|lllllllllll}\n",
       "  & mpg & cyl & disp & hp & drat & wt & qsec & vs & am & gear & carb\\\\\n",
       "  & <dbl> & <dbl> & <dbl> & <dbl> & <dbl> & <dbl> & <dbl> & <dbl> & <dbl> & <dbl> & <dbl>\\\\\n",
       "\\hline\n",
       "\tMazda RX4 & 21.0 & 6 & 160 & 110 & 3.90 & 2.620 & 16.46 & 0 & 1 & 4 & 4\\\\\n",
       "\tMazda RX4 Wag & 21.0 & 6 & 160 & 110 & 3.90 & 2.875 & 17.02 & 0 & 1 & 4 & 4\\\\\n",
       "\tDatsun 710 & 22.8 & 4 & 108 &  93 & 3.85 & 2.320 & 18.61 & 1 & 1 & 4 & 1\\\\\n",
       "\tHornet 4 Drive & 21.4 & 6 & 258 & 110 & 3.08 & 3.215 & 19.44 & 1 & 0 & 3 & 1\\\\\n",
       "\tHornet Sportabout & 18.7 & 8 & 360 & 175 & 3.15 & 3.440 & 17.02 & 0 & 0 & 3 & 2\\\\\n",
       "\t⋮ & ⋮ & ⋮ & ⋮ & ⋮ & ⋮ & ⋮ & ⋮ & ⋮ & ⋮ & ⋮ & ⋮\\\\\n",
       "\tLotus Europa & 30.4 & 4 &  95.1 & 113 & 3.77 & 1.513 & 16.9 & 1 & 1 & 5 & 2\\\\\n",
       "\tFord Pantera L & 15.8 & 8 & 351.0 & 264 & 4.22 & 3.170 & 14.5 & 0 & 1 & 5 & 4\\\\\n",
       "\tFerrari Dino & 19.7 & 6 & 145.0 & 175 & 3.62 & 2.770 & 15.5 & 0 & 1 & 5 & 6\\\\\n",
       "\tMaserati Bora & 15.0 & 8 & 301.0 & 335 & 3.54 & 3.570 & 14.6 & 0 & 1 & 5 & 8\\\\\n",
       "\tVolvo 142E & 21.4 & 4 & 121.0 & 109 & 4.11 & 2.780 & 18.6 & 1 & 1 & 4 & 2\\\\\n",
       "\\end{tabular}\n"
      ],
      "text/markdown": [
       "\n",
       "A data.frame: 32 × 11\n",
       "\n",
       "| <!--/--> | mpg &lt;dbl&gt; | cyl &lt;dbl&gt; | disp &lt;dbl&gt; | hp &lt;dbl&gt; | drat &lt;dbl&gt; | wt &lt;dbl&gt; | qsec &lt;dbl&gt; | vs &lt;dbl&gt; | am &lt;dbl&gt; | gear &lt;dbl&gt; | carb &lt;dbl&gt; |\n",
       "|---|---|---|---|---|---|---|---|---|---|---|---|\n",
       "| Mazda RX4 | 21.0 | 6 | 160 | 110 | 3.90 | 2.620 | 16.46 | 0 | 1 | 4 | 4 |\n",
       "| Mazda RX4 Wag | 21.0 | 6 | 160 | 110 | 3.90 | 2.875 | 17.02 | 0 | 1 | 4 | 4 |\n",
       "| Datsun 710 | 22.8 | 4 | 108 |  93 | 3.85 | 2.320 | 18.61 | 1 | 1 | 4 | 1 |\n",
       "| Hornet 4 Drive | 21.4 | 6 | 258 | 110 | 3.08 | 3.215 | 19.44 | 1 | 0 | 3 | 1 |\n",
       "| Hornet Sportabout | 18.7 | 8 | 360 | 175 | 3.15 | 3.440 | 17.02 | 0 | 0 | 3 | 2 |\n",
       "| ⋮ | ⋮ | ⋮ | ⋮ | ⋮ | ⋮ | ⋮ | ⋮ | ⋮ | ⋮ | ⋮ | ⋮ |\n",
       "| Lotus Europa | 30.4 | 4 |  95.1 | 113 | 3.77 | 1.513 | 16.9 | 1 | 1 | 5 | 2 |\n",
       "| Ford Pantera L | 15.8 | 8 | 351.0 | 264 | 4.22 | 3.170 | 14.5 | 0 | 1 | 5 | 4 |\n",
       "| Ferrari Dino | 19.7 | 6 | 145.0 | 175 | 3.62 | 2.770 | 15.5 | 0 | 1 | 5 | 6 |\n",
       "| Maserati Bora | 15.0 | 8 | 301.0 | 335 | 3.54 | 3.570 | 14.6 | 0 | 1 | 5 | 8 |\n",
       "| Volvo 142E | 21.4 | 4 | 121.0 | 109 | 4.11 | 2.780 | 18.6 | 1 | 1 | 4 | 2 |\n",
       "\n"
      ],
      "text/plain": [
       "                  mpg  cyl disp  hp  drat wt    qsec  vs am gear carb\n",
       "Mazda RX4         21.0 6   160   110 3.90 2.620 16.46 0  1  4    4   \n",
       "Mazda RX4 Wag     21.0 6   160   110 3.90 2.875 17.02 0  1  4    4   \n",
       "Datsun 710        22.8 4   108    93 3.85 2.320 18.61 1  1  4    1   \n",
       "Hornet 4 Drive    21.4 6   258   110 3.08 3.215 19.44 1  0  3    1   \n",
       "Hornet Sportabout 18.7 8   360   175 3.15 3.440 17.02 0  0  3    2   \n",
       "⋮                 ⋮    ⋮   ⋮     ⋮   ⋮    ⋮     ⋮     ⋮  ⋮  ⋮    ⋮   \n",
       "Lotus Europa      30.4 4    95.1 113 3.77 1.513 16.9  1  1  5    2   \n",
       "Ford Pantera L    15.8 8   351.0 264 4.22 3.170 14.5  0  1  5    4   \n",
       "Ferrari Dino      19.7 6   145.0 175 3.62 2.770 15.5  0  1  5    6   \n",
       "Maserati Bora     15.0 8   301.0 335 3.54 3.570 14.6  0  1  5    8   \n",
       "Volvo 142E        21.4 4   121.0 109 4.11 2.780 18.6  1  1  4    2   "
      ]
     },
     "metadata": {},
     "output_type": "display_data"
    }
   ],
   "source": [
    "options(repr.matrix.max.rows = 10) # limit number of rows that are output\n",
    "mtcars"
   ]
  },
  {
   "cell_type": "code",
   "execution_count": 25,
   "metadata": {
    "slideshow": {
     "slide_type": "slide"
    }
   },
   "outputs": [
    {
     "data": {
      "text/html": [
       "<table class=\"dataframe\">\n",
       "<caption>A data.frame: 7 × 11</caption>\n",
       "<thead>\n",
       "\t<tr><th></th><th scope=col>mpg</th><th scope=col>cyl</th><th scope=col>disp</th><th scope=col>hp</th><th scope=col>drat</th><th scope=col>wt</th><th scope=col>qsec</th><th scope=col>vs</th><th scope=col>am</th><th scope=col>gear</th><th scope=col>carb</th></tr>\n",
       "\t<tr><th></th><th scope=col>&lt;dbl&gt;</th><th scope=col>&lt;dbl&gt;</th><th scope=col>&lt;dbl&gt;</th><th scope=col>&lt;dbl&gt;</th><th scope=col>&lt;dbl&gt;</th><th scope=col>&lt;dbl&gt;</th><th scope=col>&lt;dbl&gt;</th><th scope=col>&lt;dbl&gt;</th><th scope=col>&lt;dbl&gt;</th><th scope=col>&lt;dbl&gt;</th><th scope=col>&lt;dbl&gt;</th></tr>\n",
       "</thead>\n",
       "<tbody>\n",
       "\t<tr><th scope=row>Mazda RX4</th><td>21.0</td><td>6</td><td>160.0</td><td>110</td><td>3.90</td><td>2.620</td><td>16.46</td><td>0</td><td>1</td><td>4</td><td>4</td></tr>\n",
       "\t<tr><th scope=row>Mazda RX4 Wag</th><td>21.0</td><td>6</td><td>160.0</td><td>110</td><td>3.90</td><td>2.875</td><td>17.02</td><td>0</td><td>1</td><td>4</td><td>4</td></tr>\n",
       "\t<tr><th scope=row>Hornet 4 Drive</th><td>21.4</td><td>6</td><td>258.0</td><td>110</td><td>3.08</td><td>3.215</td><td>19.44</td><td>1</td><td>0</td><td>3</td><td>1</td></tr>\n",
       "\t<tr><th scope=row>Valiant</th><td>18.1</td><td>6</td><td>225.0</td><td>105</td><td>2.76</td><td>3.460</td><td>20.22</td><td>1</td><td>0</td><td>3</td><td>1</td></tr>\n",
       "\t<tr><th scope=row>Merc 280</th><td>19.2</td><td>6</td><td>167.6</td><td>123</td><td>3.92</td><td>3.440</td><td>18.30</td><td>1</td><td>0</td><td>4</td><td>4</td></tr>\n",
       "\t<tr><th scope=row>Merc 280C</th><td>17.8</td><td>6</td><td>167.6</td><td>123</td><td>3.92</td><td>3.440</td><td>18.90</td><td>1</td><td>0</td><td>4</td><td>4</td></tr>\n",
       "\t<tr><th scope=row>Ferrari Dino</th><td>19.7</td><td>6</td><td>145.0</td><td>175</td><td>3.62</td><td>2.770</td><td>15.50</td><td>0</td><td>1</td><td>5</td><td>6</td></tr>\n",
       "</tbody>\n",
       "</table>\n"
      ],
      "text/latex": [
       "A data.frame: 7 × 11\n",
       "\\begin{tabular}{r|lllllllllll}\n",
       "  & mpg & cyl & disp & hp & drat & wt & qsec & vs & am & gear & carb\\\\\n",
       "  & <dbl> & <dbl> & <dbl> & <dbl> & <dbl> & <dbl> & <dbl> & <dbl> & <dbl> & <dbl> & <dbl>\\\\\n",
       "\\hline\n",
       "\tMazda RX4 & 21.0 & 6 & 160.0 & 110 & 3.90 & 2.620 & 16.46 & 0 & 1 & 4 & 4\\\\\n",
       "\tMazda RX4 Wag & 21.0 & 6 & 160.0 & 110 & 3.90 & 2.875 & 17.02 & 0 & 1 & 4 & 4\\\\\n",
       "\tHornet 4 Drive & 21.4 & 6 & 258.0 & 110 & 3.08 & 3.215 & 19.44 & 1 & 0 & 3 & 1\\\\\n",
       "\tValiant & 18.1 & 6 & 225.0 & 105 & 2.76 & 3.460 & 20.22 & 1 & 0 & 3 & 1\\\\\n",
       "\tMerc 280 & 19.2 & 6 & 167.6 & 123 & 3.92 & 3.440 & 18.30 & 1 & 0 & 4 & 4\\\\\n",
       "\tMerc 280C & 17.8 & 6 & 167.6 & 123 & 3.92 & 3.440 & 18.90 & 1 & 0 & 4 & 4\\\\\n",
       "\tFerrari Dino & 19.7 & 6 & 145.0 & 175 & 3.62 & 2.770 & 15.50 & 0 & 1 & 5 & 6\\\\\n",
       "\\end{tabular}\n"
      ],
      "text/markdown": [
       "\n",
       "A data.frame: 7 × 11\n",
       "\n",
       "| <!--/--> | mpg &lt;dbl&gt; | cyl &lt;dbl&gt; | disp &lt;dbl&gt; | hp &lt;dbl&gt; | drat &lt;dbl&gt; | wt &lt;dbl&gt; | qsec &lt;dbl&gt; | vs &lt;dbl&gt; | am &lt;dbl&gt; | gear &lt;dbl&gt; | carb &lt;dbl&gt; |\n",
       "|---|---|---|---|---|---|---|---|---|---|---|---|\n",
       "| Mazda RX4 | 21.0 | 6 | 160.0 | 110 | 3.90 | 2.620 | 16.46 | 0 | 1 | 4 | 4 |\n",
       "| Mazda RX4 Wag | 21.0 | 6 | 160.0 | 110 | 3.90 | 2.875 | 17.02 | 0 | 1 | 4 | 4 |\n",
       "| Hornet 4 Drive | 21.4 | 6 | 258.0 | 110 | 3.08 | 3.215 | 19.44 | 1 | 0 | 3 | 1 |\n",
       "| Valiant | 18.1 | 6 | 225.0 | 105 | 2.76 | 3.460 | 20.22 | 1 | 0 | 3 | 1 |\n",
       "| Merc 280 | 19.2 | 6 | 167.6 | 123 | 3.92 | 3.440 | 18.30 | 1 | 0 | 4 | 4 |\n",
       "| Merc 280C | 17.8 | 6 | 167.6 | 123 | 3.92 | 3.440 | 18.90 | 1 | 0 | 4 | 4 |\n",
       "| Ferrari Dino | 19.7 | 6 | 145.0 | 175 | 3.62 | 2.770 | 15.50 | 0 | 1 | 5 | 6 |\n",
       "\n"
      ],
      "text/plain": [
       "               mpg  cyl disp  hp  drat wt    qsec  vs am gear carb\n",
       "Mazda RX4      21.0 6   160.0 110 3.90 2.620 16.46 0  1  4    4   \n",
       "Mazda RX4 Wag  21.0 6   160.0 110 3.90 2.875 17.02 0  1  4    4   \n",
       "Hornet 4 Drive 21.4 6   258.0 110 3.08 3.215 19.44 1  0  3    1   \n",
       "Valiant        18.1 6   225.0 105 2.76 3.460 20.22 1  0  3    1   \n",
       "Merc 280       19.2 6   167.6 123 3.92 3.440 18.30 1  0  4    4   \n",
       "Merc 280C      17.8 6   167.6 123 3.92 3.440 18.90 1  0  4    4   \n",
       "Ferrari Dino   19.7 6   145.0 175 3.62 2.770 15.50 0  1  5    6   "
      ]
     },
     "metadata": {},
     "output_type": "display_data"
    }
   ],
   "source": [
    "mtcars[mtcars$cyl == 6, ]"
   ]
  },
  {
   "cell_type": "markdown",
   "metadata": {
    "slideshow": {
     "slide_type": "slide"
    }
   },
   "source": [
    "Another example:"
   ]
  },
  {
   "cell_type": "code",
   "execution_count": 26,
   "metadata": {
    "slideshow": {
     "slide_type": "fragment"
    }
   },
   "outputs": [
    {
     "data": {
      "text/html": [
       "<table class=\"dataframe\">\n",
       "<caption>A data.frame: 7 × 11</caption>\n",
       "<thead>\n",
       "\t<tr><th></th><th scope=col>mpg</th><th scope=col>cyl</th><th scope=col>disp</th><th scope=col>hp</th><th scope=col>drat</th><th scope=col>wt</th><th scope=col>qsec</th><th scope=col>vs</th><th scope=col>am</th><th scope=col>gear</th><th scope=col>carb</th></tr>\n",
       "\t<tr><th></th><th scope=col>&lt;dbl&gt;</th><th scope=col>&lt;dbl&gt;</th><th scope=col>&lt;dbl&gt;</th><th scope=col>&lt;dbl&gt;</th><th scope=col>&lt;dbl&gt;</th><th scope=col>&lt;dbl&gt;</th><th scope=col>&lt;dbl&gt;</th><th scope=col>&lt;dbl&gt;</th><th scope=col>&lt;dbl&gt;</th><th scope=col>&lt;dbl&gt;</th><th scope=col>&lt;dbl&gt;</th></tr>\n",
       "</thead>\n",
       "<tbody>\n",
       "\t<tr><th scope=row>Duster 360</th><td>14.3</td><td>8</td><td>360</td><td>245</td><td>3.21</td><td>3.570</td><td>15.84</td><td>0</td><td>0</td><td>3</td><td>4</td></tr>\n",
       "\t<tr><th scope=row>Cadillac Fleetwood</th><td>10.4</td><td>8</td><td>472</td><td>205</td><td>2.93</td><td>5.250</td><td>17.98</td><td>0</td><td>0</td><td>3</td><td>4</td></tr>\n",
       "\t<tr><th scope=row>Lincoln Continental</th><td>10.4</td><td>8</td><td>460</td><td>215</td><td>3.00</td><td>5.424</td><td>17.82</td><td>0</td><td>0</td><td>3</td><td>4</td></tr>\n",
       "\t<tr><th scope=row>Chrysler Imperial</th><td>14.7</td><td>8</td><td>440</td><td>230</td><td>3.23</td><td>5.345</td><td>17.42</td><td>0</td><td>0</td><td>3</td><td>4</td></tr>\n",
       "\t<tr><th scope=row>Camaro Z28</th><td>13.3</td><td>8</td><td>350</td><td>245</td><td>3.73</td><td>3.840</td><td>15.41</td><td>0</td><td>0</td><td>3</td><td>4</td></tr>\n",
       "\t<tr><th scope=row>Ford Pantera L</th><td>15.8</td><td>8</td><td>351</td><td>264</td><td>4.22</td><td>3.170</td><td>14.50</td><td>0</td><td>1</td><td>5</td><td>4</td></tr>\n",
       "\t<tr><th scope=row>Maserati Bora</th><td>15.0</td><td>8</td><td>301</td><td>335</td><td>3.54</td><td>3.570</td><td>14.60</td><td>0</td><td>1</td><td>5</td><td>8</td></tr>\n",
       "</tbody>\n",
       "</table>\n"
      ],
      "text/latex": [
       "A data.frame: 7 × 11\n",
       "\\begin{tabular}{r|lllllllllll}\n",
       "  & mpg & cyl & disp & hp & drat & wt & qsec & vs & am & gear & carb\\\\\n",
       "  & <dbl> & <dbl> & <dbl> & <dbl> & <dbl> & <dbl> & <dbl> & <dbl> & <dbl> & <dbl> & <dbl>\\\\\n",
       "\\hline\n",
       "\tDuster 360 & 14.3 & 8 & 360 & 245 & 3.21 & 3.570 & 15.84 & 0 & 0 & 3 & 4\\\\\n",
       "\tCadillac Fleetwood & 10.4 & 8 & 472 & 205 & 2.93 & 5.250 & 17.98 & 0 & 0 & 3 & 4\\\\\n",
       "\tLincoln Continental & 10.4 & 8 & 460 & 215 & 3.00 & 5.424 & 17.82 & 0 & 0 & 3 & 4\\\\\n",
       "\tChrysler Imperial & 14.7 & 8 & 440 & 230 & 3.23 & 5.345 & 17.42 & 0 & 0 & 3 & 4\\\\\n",
       "\tCamaro Z28 & 13.3 & 8 & 350 & 245 & 3.73 & 3.840 & 15.41 & 0 & 0 & 3 & 4\\\\\n",
       "\tFord Pantera L & 15.8 & 8 & 351 & 264 & 4.22 & 3.170 & 14.50 & 0 & 1 & 5 & 4\\\\\n",
       "\tMaserati Bora & 15.0 & 8 & 301 & 335 & 3.54 & 3.570 & 14.60 & 0 & 1 & 5 & 8\\\\\n",
       "\\end{tabular}\n"
      ],
      "text/markdown": [
       "\n",
       "A data.frame: 7 × 11\n",
       "\n",
       "| <!--/--> | mpg &lt;dbl&gt; | cyl &lt;dbl&gt; | disp &lt;dbl&gt; | hp &lt;dbl&gt; | drat &lt;dbl&gt; | wt &lt;dbl&gt; | qsec &lt;dbl&gt; | vs &lt;dbl&gt; | am &lt;dbl&gt; | gear &lt;dbl&gt; | carb &lt;dbl&gt; |\n",
       "|---|---|---|---|---|---|---|---|---|---|---|---|\n",
       "| Duster 360 | 14.3 | 8 | 360 | 245 | 3.21 | 3.570 | 15.84 | 0 | 0 | 3 | 4 |\n",
       "| Cadillac Fleetwood | 10.4 | 8 | 472 | 205 | 2.93 | 5.250 | 17.98 | 0 | 0 | 3 | 4 |\n",
       "| Lincoln Continental | 10.4 | 8 | 460 | 215 | 3.00 | 5.424 | 17.82 | 0 | 0 | 3 | 4 |\n",
       "| Chrysler Imperial | 14.7 | 8 | 440 | 230 | 3.23 | 5.345 | 17.42 | 0 | 0 | 3 | 4 |\n",
       "| Camaro Z28 | 13.3 | 8 | 350 | 245 | 3.73 | 3.840 | 15.41 | 0 | 0 | 3 | 4 |\n",
       "| Ford Pantera L | 15.8 | 8 | 351 | 264 | 4.22 | 3.170 | 14.50 | 0 | 1 | 5 | 4 |\n",
       "| Maserati Bora | 15.0 | 8 | 301 | 335 | 3.54 | 3.570 | 14.60 | 0 | 1 | 5 | 8 |\n",
       "\n"
      ],
      "text/plain": [
       "                    mpg  cyl disp hp  drat wt    qsec  vs am gear carb\n",
       "Duster 360          14.3 8   360  245 3.21 3.570 15.84 0  0  3    4   \n",
       "Cadillac Fleetwood  10.4 8   472  205 2.93 5.250 17.98 0  0  3    4   \n",
       "Lincoln Continental 10.4 8   460  215 3.00 5.424 17.82 0  0  3    4   \n",
       "Chrysler Imperial   14.7 8   440  230 3.23 5.345 17.42 0  0  3    4   \n",
       "Camaro Z28          13.3 8   350  245 3.73 3.840 15.41 0  0  3    4   \n",
       "Ford Pantera L      15.8 8   351  264 4.22 3.170 14.50 0  1  5    4   \n",
       "Maserati Bora       15.0 8   301  335 3.54 3.570 14.60 0  1  5    8   "
      ]
     },
     "metadata": {},
     "output_type": "display_data"
    }
   ],
   "source": [
    "mtcars[mtcars$hp > 200, ]"
   ]
  },
  {
   "cell_type": "markdown",
   "metadata": {
    "slideshow": {
     "slide_type": "slide"
    }
   },
   "source": [
    "#### Modifing data frames\n",
    "\n",
    "Similar to vectors, we can combine the assignment symbol and subsetting to modify data frames.\n",
    "\n",
    "For example, here we create a new column called `kml`:"
   ]
  },
  {
   "cell_type": "code",
   "execution_count": 27,
   "metadata": {
    "slideshow": {
     "slide_type": "fragment"
    }
   },
   "outputs": [
    {
     "data": {
      "text/html": [
       "<table class=\"dataframe\">\n",
       "<caption>A data.frame: 6 × 12</caption>\n",
       "<thead>\n",
       "\t<tr><th></th><th scope=col>mpg</th><th scope=col>cyl</th><th scope=col>disp</th><th scope=col>hp</th><th scope=col>drat</th><th scope=col>wt</th><th scope=col>qsec</th><th scope=col>vs</th><th scope=col>am</th><th scope=col>gear</th><th scope=col>carb</th><th scope=col>kml</th></tr>\n",
       "\t<tr><th></th><th scope=col>&lt;dbl&gt;</th><th scope=col>&lt;dbl&gt;</th><th scope=col>&lt;dbl&gt;</th><th scope=col>&lt;dbl&gt;</th><th scope=col>&lt;dbl&gt;</th><th scope=col>&lt;dbl&gt;</th><th scope=col>&lt;dbl&gt;</th><th scope=col>&lt;dbl&gt;</th><th scope=col>&lt;dbl&gt;</th><th scope=col>&lt;dbl&gt;</th><th scope=col>&lt;dbl&gt;</th><th scope=col>&lt;dbl&gt;</th></tr>\n",
       "</thead>\n",
       "<tbody>\n",
       "\t<tr><th scope=row>Mazda RX4</th><td>21.0</td><td>6</td><td>160</td><td>110</td><td>3.90</td><td>2.620</td><td>16.46</td><td>0</td><td>1</td><td>4</td><td>4</td><td>8.928018</td></tr>\n",
       "\t<tr><th scope=row>Mazda RX4 Wag</th><td>21.0</td><td>6</td><td>160</td><td>110</td><td>3.90</td><td>2.875</td><td>17.02</td><td>0</td><td>1</td><td>4</td><td>4</td><td>8.928018</td></tr>\n",
       "\t<tr><th scope=row>Datsun 710</th><td>22.8</td><td>4</td><td>108</td><td> 93</td><td>3.85</td><td>2.320</td><td>18.61</td><td>1</td><td>1</td><td>4</td><td>1</td><td>9.693277</td></tr>\n",
       "\t<tr><th scope=row>Hornet 4 Drive</th><td>21.4</td><td>6</td><td>258</td><td>110</td><td>3.08</td><td>3.215</td><td>19.44</td><td>1</td><td>0</td><td>3</td><td>1</td><td>9.098075</td></tr>\n",
       "\t<tr><th scope=row>Hornet Sportabout</th><td>18.7</td><td>8</td><td>360</td><td>175</td><td>3.15</td><td>3.440</td><td>17.02</td><td>0</td><td>0</td><td>3</td><td>2</td><td>7.950187</td></tr>\n",
       "\t<tr><th scope=row>Valiant</th><td>18.1</td><td>6</td><td>225</td><td>105</td><td>2.76</td><td>3.460</td><td>20.22</td><td>1</td><td>0</td><td>3</td><td>1</td><td>7.695101</td></tr>\n",
       "</tbody>\n",
       "</table>\n"
      ],
      "text/latex": [
       "A data.frame: 6 × 12\n",
       "\\begin{tabular}{r|llllllllllll}\n",
       "  & mpg & cyl & disp & hp & drat & wt & qsec & vs & am & gear & carb & kml\\\\\n",
       "  & <dbl> & <dbl> & <dbl> & <dbl> & <dbl> & <dbl> & <dbl> & <dbl> & <dbl> & <dbl> & <dbl> & <dbl>\\\\\n",
       "\\hline\n",
       "\tMazda RX4 & 21.0 & 6 & 160 & 110 & 3.90 & 2.620 & 16.46 & 0 & 1 & 4 & 4 & 8.928018\\\\\n",
       "\tMazda RX4 Wag & 21.0 & 6 & 160 & 110 & 3.90 & 2.875 & 17.02 & 0 & 1 & 4 & 4 & 8.928018\\\\\n",
       "\tDatsun 710 & 22.8 & 4 & 108 &  93 & 3.85 & 2.320 & 18.61 & 1 & 1 & 4 & 1 & 9.693277\\\\\n",
       "\tHornet 4 Drive & 21.4 & 6 & 258 & 110 & 3.08 & 3.215 & 19.44 & 1 & 0 & 3 & 1 & 9.098075\\\\\n",
       "\tHornet Sportabout & 18.7 & 8 & 360 & 175 & 3.15 & 3.440 & 17.02 & 0 & 0 & 3 & 2 & 7.950187\\\\\n",
       "\tValiant & 18.1 & 6 & 225 & 105 & 2.76 & 3.460 & 20.22 & 1 & 0 & 3 & 1 & 7.695101\\\\\n",
       "\\end{tabular}\n"
      ],
      "text/markdown": [
       "\n",
       "A data.frame: 6 × 12\n",
       "\n",
       "| <!--/--> | mpg &lt;dbl&gt; | cyl &lt;dbl&gt; | disp &lt;dbl&gt; | hp &lt;dbl&gt; | drat &lt;dbl&gt; | wt &lt;dbl&gt; | qsec &lt;dbl&gt; | vs &lt;dbl&gt; | am &lt;dbl&gt; | gear &lt;dbl&gt; | carb &lt;dbl&gt; | kml &lt;dbl&gt; |\n",
       "|---|---|---|---|---|---|---|---|---|---|---|---|---|\n",
       "| Mazda RX4 | 21.0 | 6 | 160 | 110 | 3.90 | 2.620 | 16.46 | 0 | 1 | 4 | 4 | 8.928018 |\n",
       "| Mazda RX4 Wag | 21.0 | 6 | 160 | 110 | 3.90 | 2.875 | 17.02 | 0 | 1 | 4 | 4 | 8.928018 |\n",
       "| Datsun 710 | 22.8 | 4 | 108 |  93 | 3.85 | 2.320 | 18.61 | 1 | 1 | 4 | 1 | 9.693277 |\n",
       "| Hornet 4 Drive | 21.4 | 6 | 258 | 110 | 3.08 | 3.215 | 19.44 | 1 | 0 | 3 | 1 | 9.098075 |\n",
       "| Hornet Sportabout | 18.7 | 8 | 360 | 175 | 3.15 | 3.440 | 17.02 | 0 | 0 | 3 | 2 | 7.950187 |\n",
       "| Valiant | 18.1 | 6 | 225 | 105 | 2.76 | 3.460 | 20.22 | 1 | 0 | 3 | 1 | 7.695101 |\n",
       "\n"
      ],
      "text/plain": [
       "                  mpg  cyl disp hp  drat wt    qsec  vs am gear carb kml     \n",
       "Mazda RX4         21.0 6   160  110 3.90 2.620 16.46 0  1  4    4    8.928018\n",
       "Mazda RX4 Wag     21.0 6   160  110 3.90 2.875 17.02 0  1  4    4    8.928018\n",
       "Datsun 710        22.8 4   108   93 3.85 2.320 18.61 1  1  4    1    9.693277\n",
       "Hornet 4 Drive    21.4 6   258  110 3.08 3.215 19.44 1  0  3    1    9.098075\n",
       "Hornet Sportabout 18.7 8   360  175 3.15 3.440 17.02 0  0  3    2    7.950187\n",
       "Valiant           18.1 6   225  105 2.76 3.460 20.22 1  0  3    1    7.695101"
      ]
     },
     "metadata": {},
     "output_type": "display_data"
    }
   ],
   "source": [
    "mtcars$kml <- mtcars$mpg / 2.3521458\n",
    "head(mtcars)"
   ]
  },
  {
   "cell_type": "markdown",
   "metadata": {
    "slideshow": {
     "slide_type": "fragment"
    }
   },
   "source": [
    "The same syntax works to overwrite an existing column."
   ]
  },
  {
   "cell_type": "markdown",
   "metadata": {
    "slideshow": {
     "slide_type": "slide"
    }
   },
   "source": [
    "#### What happens when we modify an entire column? or a row?\n",
    "\n",
    "To answer this we need to look at how data frames are represented in R's memory."
   ]
  },
  {
   "cell_type": "markdown",
   "metadata": {
    "slideshow": {
     "slide_type": "slide"
    }
   },
   "source": [
    "#### How R represents data frames:\n",
    "\n",
    "- Remember that data frames are lists of vectors\n",
    "- As such, they don't store the values themselves, they store references to them:\n",
    "\n",
    "```d1 <- data.frame(x = c(1, 5, 6), y = c(2, 4, 3))```\n",
    "\n",
    "<img src=\"https://d33wubrfki0l68.cloudfront.net/80d8995999aa240ff4bc91bb6aba2c7bf72afc24/95ee6/diagrams/name-value/dataframe.png\" width=\"200\">\n",
    "\n",
    "*Source: [Advanced R](https://adv-r.hadley.nz/) by Hadley Wickham*"
   ]
  },
  {
   "cell_type": "markdown",
   "metadata": {
    "slideshow": {
     "slide_type": "slide"
    }
   },
   "source": [
    "#### How R represents data frames:\n",
    "\n",
    "If you modify a column, only that column needs to be modified; the others will still point to their original references:\n",
    "\n",
    "``` \n",
    "d2 <- d1\n",
    "d2[, 2] <- d2[, 2] * 2\n",
    "```\n",
    "\n",
    "<img src=\"https://d33wubrfki0l68.cloudfront.net/c19fd7e31bf34ceff73d0fac6e3ea22b09429e4a/23d8d/diagrams/name-value/d-modify-c.png\" width=\"250\">\n",
    "\n",
    "*Source: [Advanced R](https://adv-r.hadley.nz/) by Hadley Wickham*"
   ]
  },
  {
   "cell_type": "markdown",
   "metadata": {
    "slideshow": {
     "slide_type": "slide"
    }
   },
   "source": [
    "#### How R represents data frames:\n",
    "\n",
    "However, if you modify a row, every column is modified, which means every column must be copied:\n",
    "\n",
    "```\n",
    "d3 <- d1\n",
    "d3[1, ] <- d3[1, ] * 3\n",
    "```\n",
    "\n",
    "<img src=\"https://d33wubrfki0l68.cloudfront.net/36df61f54d1ac62e066fb814cb7ba38ea6047a74/facf8/diagrams/name-value/d-modify-r.png\" width=\"400\">\n",
    "\n",
    "*Source: [Advanced R](https://adv-r.hadley.nz/) by Hadley Wickham*"
   ]
  },
  {
   "cell_type": "markdown",
   "metadata": {
    "slideshow": {
     "slide_type": "slide"
    }
   },
   "source": [
    "#### An exception to copy-on-modify\n",
    "\n",
    "If an object has a single name bound to it, R will modify it in place:\n",
    "\n",
    "```\n",
    "v <- c(1, 2, 3)\n",
    "```\n",
    "\n",
    "<img src=\"https://d33wubrfki0l68.cloudfront.net/496ac87edf04d7e235747c3cf4a4e66deca754f2/3ac04/diagrams/name-value/v-inplace-1.png\" width=\"200\">\n",
    "\n",
    "```\n",
    "v[[3]] <- 4\n",
    "```\n",
    "\n",
    "<img src=\"https://d33wubrfki0l68.cloudfront.net/a6ef7ab337f156cdb2c21816923368383bc2e858/1f8bb/diagrams/name-value/v-inplace-2.png\" width=\"200\">\n",
    "\n",
    "\n",
    "- Hence, modify in place can be a useful optimization for speeding up code.\n",
    "- However, there are some complications that make predicting exactly when R applies this optimisation challenging (see [here](https://adv-r.hadley.nz/names-values.html#modify-in-place) for details)\n",
    "- There is one other time R will do this, we will cover this when we get to environments.\n",
    "\n",
    "*Source: [Advanced R](https://adv-r.hadley.nz/) by Hadley Wickham*"
   ]
  },
  {
   "cell_type": "markdown",
   "metadata": {
    "slideshow": {
     "slide_type": "slide"
    }
   },
   "source": [
    "### Writing readable R code\n",
    "\n",
    "- WriTing AND reading    (code) TaKes cognitive RESOURCES, & We only hAvE so MUCh! \n",
    "\n",
    "- To help free up cognitive capacity, we will follow the [tidyverse style guide](https://style.tidyverse.org/index.html)\n",
    "\n",
    "<img src=\"img/tidyverse-hex.png\" width=200>"
   ]
  },
  {
   "cell_type": "markdown",
   "metadata": {
    "slideshow": {
     "slide_type": "slide"
    }
   },
   "source": [
    "#### Sample code **not** in tidyverse style\n",
    "\n",
    "Can we spot what's wrong?"
   ]
  },
  {
   "cell_type": "markdown",
   "metadata": {
    "slideshow": {
     "slide_type": "fragment"
    }
   },
   "source": [
    "```\n",
    "library(tidyverse)\n",
    "us.2015.econ=read_csv( \"data/state_property_data.csv\")\n",
    "us.2016.vote=read_csv( \"data/2016_presidential_election_state_vote.csv\")\n",
    "stateData=left_join (us.2015.econ,us.2016.vote) %>%\n",
    "    filter(party!=\"Not Applicable\") %>%\n",
    "    mutate(meanCommuteHours=mean_commute_minutes/60)\n",
    "ggplot(stateData, aes (x=mean_commute_minutes, y=med_prop_val, color=party)) +\n",
    "    geom_point()+\n",
    "    xlab( \"Income (USD)\" )+\n",
    "    ylab(\"Median property value (USD)\")+\n",
    "    scale_colour_manual (values = c(\"blue\",\"red\"))+\n",
    "    scale_x_continuous (labels = scales::dollar_format())+\n",
    "    scale_y_continuous (labels = scales::dollar_format())\n",
    "```"
   ]
  },
  {
   "cell_type": "markdown",
   "metadata": {
    "slideshow": {
     "slide_type": "slide"
    }
   },
   "source": [
    "#### Sample code in tidyverse style"
   ]
  },
  {
   "cell_type": "markdown",
   "metadata": {
    "slideshow": {
     "slide_type": "fragment"
    }
   },
   "source": [
    "```\n",
    "library(tidyverse, quietly = TRUE)\n",
    "us_2015_econ <- read_csv(\"data/state_property_data.csv\")\n",
    "us_2016_vote <- read_csv(\"data/2016_presidential_election_state_vote.csv\")\n",
    "state_data <- left_join(us_2015_econ, us_2016_vote) %>%\n",
    "    filter(party != \"Not Applicable\") %>%\n",
    "    mutate(mean_commute_hours = mean_commute_minutes / 60)\n",
    "ggplot(state_data, aes(x = med_income, y = med_prop_val, color = party)) +\n",
    "    geom_point() +\n",
    "    xlab(\"Income (USD)\") +\n",
    "    ylab(\"Median property value (USD)\") +\n",
    "    scale_colour_manual(values = c(\"blue\", \"red\")) +\n",
    "    scale_x_continuous(labels = scales::dollar_format()) +\n",
    "    scale_y_continuous(labels = scales::dollar_format())\n",
    "```"
   ]
  },
  {
   "cell_type": "markdown",
   "metadata": {
    "slideshow": {
     "slide_type": "slide"
    }
   },
   "source": [
    "### What did we learn today?\n",
    "\n",
    "- How to get help in R\n",
    " \n",
    "- How the ` <- ` differs from `=` in R\n",
    "\n",
    "- Base R syntax for subsetting and modifying R objects\n",
    "\n",
    "- Some aspects of tidyverse code style\n"
   ]
  },
  {
   "cell_type": "markdown",
   "metadata": {
    "slideshow": {
     "slide_type": "slide"
    }
   },
   "source": [
    "## Additional resources:\n",
    "- [RStudio base R cheat sheet](https://github.com/rstudio/cheatsheets/blob/main/base-r.pdf)\n",
    "- [R Operators cheat sheet](https://cran.r-project.org/doc/contrib/Baggott-refcard-v2.pdf)"
   ]
  },
  {
   "cell_type": "markdown",
   "metadata": {
    "slideshow": {
     "slide_type": "slide"
    }
   },
   "source": [
    "## Attribution:\n",
    "- [Advanced R](https://adv-r.hadley.nz/) by Hadley Wickham\n",
    "- [Why do we use arrow as an assignment operator?](https://colinfay.me/r-assignment/) by Colin Fay"
   ]
  }
 ],
 "metadata": {
  "celltoolbar": "Slideshow",
  "kernelspec": {
   "display_name": "R",
   "language": "R",
   "name": "ir"
  },
  "language_info": {
   "codemirror_mode": "r",
   "file_extension": ".r",
   "mimetype": "text/x-r-source",
   "name": "R",
   "pygments_lexer": "r",
   "version": "4.3.1"
  }
 },
 "nbformat": 4,
 "nbformat_minor": 4
}
